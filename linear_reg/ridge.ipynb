{
 "cells": [
  {
   "cell_type": "code",
   "execution_count": 1,
   "id": "7e15b8e4",
   "metadata": {},
   "outputs": [],
   "source": [
    "import torch\n",
    "\n",
    "\n",
    "def print_config(config):\n",
    "    attrs = {}\n",
    "    attrs.update(config.__dict__)\n",
    "\n",
    "    for key, value in config.__class__.__dict__.items():\n",
    "        if not key.startswith('__') and key not in attrs:\n",
    "            attrs[key] = value\n",
    "\n",
    "    for key, value in attrs.items():\n",
    "        print(f\"{key}: {value}\")\n",
    "\n",
    "\n",
    "class Config:\n",
    "    # Model\n",
    "    model_name = \"ridge.month1.only\"\n",
    "    input_dim = 6\n",
    "    target_dim = 1\n",
    "\n",
    "    # Device & reproducibility\n",
    "    device = \"cuda\" if torch.cuda.is_available() else \"cpu\"\n",
    "    seed = 5274\n",
    "\n",
    "    # Optimization\n",
    "    optimizer_name = \"AdamW\"\n",
    "    lr = 1e-4\n",
    "    weight_decay = 1e-3\n",
    "\n",
    "    grad_accum = False\n",
    "    grad_accum_steps = 1\n",
    "    batch_size = 32  # // grad_accum_steps\n",
    "\n",
    "    # Training schedule\n",
    "    num_epochs = 150\n",
    "    scheduler_name = \"default\"\n",
    "\n",
    "    # Regularization\n",
    "    dropout = 0.0\n",
    "    drop_path_rate = 0.0\n",
    "    label_smoothing = 0.0\n",
    "\n",
    "    # Experiment tracking\n",
    "    neptune_token = \"eyJhcGlfYWRkcmVzcyI6Imh0dHBzOi8vYXBwLm5lcHR1bmUuYWkiLCJhcGlfdXJsIjoiaHR0cHM6Ly9hcHAubmVwdHVuZS5haSIsImFwaV9rZXkiOiJlOGE2YjNiZS1mZGUyLTRjYjItYTg5Yy1mZWJkZTIzNzE1NmIifQ==\"\n",
    "    with_id = \"\"\n",
    "    resume = False\n",
    "\n",
    "config = Config()"
   ]
  },
  {
   "cell_type": "code",
   "execution_count": 2,
   "id": "6e0b4917",
   "metadata": {},
   "outputs": [],
   "source": [
    "import random\n",
    "import numpy as np\n",
    "import torch\n",
    "\n",
    "def setup_reproducibility(config):\n",
    "    random.seed(config.seed)\n",
    "    np.random.seed(config.seed)\n",
    "    torch.manual_seed(config.seed)\n",
    "    if torch.cuda.is_available():\n",
    "        torch.cuda.manual_seed_all(config.seed)\n",
    "    torch.backends.cudnn.deterministic = True\n",
    "    torch.backends.cudnn.benchmark = False\n",
    "    torch.use_deterministic_algorithms(False, warn_only=True)\n",
    "    torch.set_float32_matmul_precision(\"high\")\n",
    "\n",
    "setup_reproducibility(config)"
   ]
  },
  {
   "cell_type": "code",
   "execution_count": 3,
   "id": "3a6a0954",
   "metadata": {},
   "outputs": [],
   "source": [
    "import pandas as pd\n",
    "\n",
    "path = \"/Users/arbaaz/Downloads/air_pol/ds\"\n",
    "train_path = path+\"/Train.csv\"\n",
    "test_path = path+\"/Test.csv\"\n",
    "\n",
    "train_df = pd.read_csv(train_path).drop(columns=['id'])\n",
    "train_df.dropna(inplace=True)"
   ]
  },
  {
   "cell_type": "code",
   "execution_count": 4,
   "id": "5d210b66",
   "metadata": {},
   "outputs": [
    {
     "data": {
      "text/html": [
       "<div>\n",
       "<style scoped>\n",
       "    .dataframe tbody tr th:only-of-type {\n",
       "        vertical-align: middle;\n",
       "    }\n",
       "\n",
       "    .dataframe tbody tr th {\n",
       "        vertical-align: top;\n",
       "    }\n",
       "\n",
       "    .dataframe thead th {\n",
       "        text-align: right;\n",
       "    }\n",
       "</style>\n",
       "<table border=\"1\" class=\"dataframe\">\n",
       "  <thead>\n",
       "    <tr style=\"text-align: right;\">\n",
       "      <th></th>\n",
       "      <th>latitude</th>\n",
       "      <th>longitude</th>\n",
       "      <th>day_of_year</th>\n",
       "      <th>day_of_week</th>\n",
       "      <th>hour</th>\n",
       "      <th>month</th>\n",
       "      <th>pollution_value</th>\n",
       "    </tr>\n",
       "  </thead>\n",
       "  <tbody>\n",
       "    <tr>\n",
       "      <th>0</th>\n",
       "      <td>51.491</td>\n",
       "      <td>-0.172</td>\n",
       "      <td>301</td>\n",
       "      <td>6</td>\n",
       "      <td>3</td>\n",
       "      <td>10</td>\n",
       "      <td>14.5</td>\n",
       "    </tr>\n",
       "    <tr>\n",
       "      <th>1</th>\n",
       "      <td>39.386</td>\n",
       "      <td>-121.158</td>\n",
       "      <td>254</td>\n",
       "      <td>3</td>\n",
       "      <td>21</td>\n",
       "      <td>9</td>\n",
       "      <td>34.5</td>\n",
       "    </tr>\n",
       "    <tr>\n",
       "      <th>2</th>\n",
       "      <td>51.459</td>\n",
       "      <td>0.596</td>\n",
       "      <td>301</td>\n",
       "      <td>6</td>\n",
       "      <td>3</td>\n",
       "      <td>10</td>\n",
       "      <td>10.5</td>\n",
       "    </tr>\n",
       "    <tr>\n",
       "      <th>3</th>\n",
       "      <td>35.299</td>\n",
       "      <td>-120.613</td>\n",
       "      <td>145</td>\n",
       "      <td>2</td>\n",
       "      <td>14</td>\n",
       "      <td>5</td>\n",
       "      <td>15.5</td>\n",
       "    </tr>\n",
       "    <tr>\n",
       "      <th>4</th>\n",
       "      <td>29.927</td>\n",
       "      <td>120.527</td>\n",
       "      <td>221</td>\n",
       "      <td>0</td>\n",
       "      <td>14</td>\n",
       "      <td>8</td>\n",
       "      <td>54.5</td>\n",
       "    </tr>\n",
       "  </tbody>\n",
       "</table>\n",
       "</div>"
      ],
      "text/plain": [
       "   latitude  longitude  day_of_year  day_of_week  hour  month  pollution_value\n",
       "0    51.491     -0.172          301            6     3     10             14.5\n",
       "1    39.386   -121.158          254            3    21      9             34.5\n",
       "2    51.459      0.596          301            6     3     10             10.5\n",
       "3    35.299   -120.613          145            2    14      5             15.5\n",
       "4    29.927    120.527          221            0    14      8             54.5"
      ]
     },
     "execution_count": 4,
     "metadata": {},
     "output_type": "execute_result"
    }
   ],
   "source": [
    "train_df.head()"
   ]
  },
  {
   "cell_type": "code",
   "execution_count": 5,
   "id": "61c35bed",
   "metadata": {},
   "outputs": [
    {
     "name": "stdout",
     "output_type": "stream",
     "text": [
      "Index(['latitude', 'longitude', 'day_of_year', 'day_of_week', 'hour', 'month'], dtype='object')\n",
      "pollution_value\n"
     ]
    },
    {
     "data": {
      "text/plain": [
       "((7636, 6), (7636, 1))"
      ]
     },
     "execution_count": 5,
     "metadata": {},
     "output_type": "execute_result"
    }
   ],
   "source": [
    "from sklearn.preprocessing import StandardScaler\n",
    "\n",
    "scaler = StandardScaler()\n",
    "\n",
    "input_cols = train_df.columns[:-1]\n",
    "target_col = train_df.columns[-1]\n",
    "print(input_cols)\n",
    "print(target_col)\n",
    "\n",
    "inputs = scaler.fit_transform(train_df[input_cols])\n",
    "targets = train_df[target_col].to_numpy().reshape(-1, 1)\n",
    "inputs = inputs.astype(np.float32)\n",
    "targets = targets.astype(np.float32)\n",
    "\n",
    "inputs.shape, targets.shape"
   ]
  },
  {
   "cell_type": "code",
   "execution_count": 6,
   "id": "683b6965",
   "metadata": {},
   "outputs": [
    {
     "data": {
      "text/plain": [
       "((6108, 6), (6108, 1), (1528, 6), (1528, 1))"
      ]
     },
     "execution_count": 6,
     "metadata": {},
     "output_type": "execute_result"
    }
   ],
   "source": [
    "from sklearn.model_selection import train_test_split\n",
    "\n",
    "train_inputs, eval_inputs, train_targets, eval_targets = train_test_split(\n",
    "    inputs, \n",
    "    targets,\n",
    "    random_state=config.seed, \n",
    "    train_size=0.8\n",
    ")\n",
    "\n",
    "train_inputs.shape, train_targets.shape, eval_inputs.shape, eval_targets.shape"
   ]
  },
  {
   "cell_type": "code",
   "execution_count": 7,
   "id": "7cca20ca",
   "metadata": {},
   "outputs": [
    {
     "data": {
      "text/plain": [
       "(1528, 1)"
      ]
     },
     "execution_count": 7,
     "metadata": {},
     "output_type": "execute_result"
    }
   ],
   "source": [
    "from sklearn.linear_model import Ridge\n",
    "\n",
    "model = Ridge(alpha=1.0, random_state=config.seed)\n",
    "model.fit(train_inputs, train_targets)\n",
    "preds = model.predict(eval_inputs).reshape(-1, 1)\n",
    "preds.shape"
   ]
  },
  {
   "cell_type": "code",
   "execution_count": 8,
   "id": "6f50c7dd",
   "metadata": {},
   "outputs": [
    {
     "data": {
      "text/plain": [
       "np.float64(0.544894455758783)"
      ]
     },
     "execution_count": 8,
     "metadata": {},
     "output_type": "execute_result"
    }
   ],
   "source": [
    "from sklearn.metrics import root_mean_squared_error\n",
    "\n",
    "\n",
    "def metric_fn_np(preds, targets):\n",
    "    rmse = root_mean_squared_error(preds, targets)\n",
    "    rmse = -(rmse / 100)\n",
    "    return np.exp(rmse)\n",
    "\n",
    "metric_fn_np(preds, eval_targets)"
   ]
  },
  {
   "cell_type": "code",
   "execution_count": 9,
   "id": "6f737fec",
   "metadata": {},
   "outputs": [
    {
     "data": {
      "text/plain": [
       "array([[-4.17046527,  1.17857751, -2.15887654,  1.35983274,  0.63096159,\n",
       "        -2.31938321],\n",
       "       [ 0.2906513 ,  0.97443741, -2.19641603, -0.31279658,  0.15007301,\n",
       "        -2.31938321],\n",
       "       [ 0.96783123, -1.58774267, -2.37160034, -0.31279658, -1.45288894,\n",
       "        -2.31938321],\n",
       "       ...,\n",
       "       [ 0.91355345, -0.15500964, -2.15887654,  1.35983274, -0.01022319,\n",
       "        -2.31938321],\n",
       "       [-3.32842924,  1.23696898, -2.15887654,  1.35983274,  0.15007301,\n",
       "        -2.31938321],\n",
       "       [ 0.29863003,  0.97059304, -2.19641603, -0.31279658,  0.15007301,\n",
       "        -2.31938321]], shape=(2739, 6))"
      ]
     },
     "execution_count": 9,
     "metadata": {},
     "output_type": "execute_result"
    }
   ],
   "source": [
    "test_df = pd.read_csv(test_path)\n",
    "ids = test_df[\"id\"]\n",
    "test_df = test_df.drop(columns=\"id\")\n",
    "test_data = scaler.transform(test_df)\n",
    "test_data"
   ]
  },
  {
   "cell_type": "code",
   "execution_count": 10,
   "id": "64431f2b",
   "metadata": {},
   "outputs": [
    {
     "data": {
      "text/plain": [
       "(2739,)"
      ]
     },
     "execution_count": 10,
     "metadata": {},
     "output_type": "execute_result"
    }
   ],
   "source": [
    "preds = model.predict(test_data).astype(np.float64)\n",
    "preds.shape"
   ]
  },
  {
   "cell_type": "code",
   "execution_count": 11,
   "id": "6c633630",
   "metadata": {},
   "outputs": [],
   "source": [
    "pred_df = pd.DataFrame(ids)\n",
    "pred_df[\"pollution_value\"] = preds"
   ]
  },
  {
   "cell_type": "code",
   "execution_count": 12,
   "id": "0e472377",
   "metadata": {},
   "outputs": [
    {
     "data": {
      "text/html": [
       "<div>\n",
       "<style scoped>\n",
       "    .dataframe tbody tr th:only-of-type {\n",
       "        vertical-align: middle;\n",
       "    }\n",
       "\n",
       "    .dataframe tbody tr th {\n",
       "        vertical-align: top;\n",
       "    }\n",
       "\n",
       "    .dataframe thead th {\n",
       "        text-align: right;\n",
       "    }\n",
       "</style>\n",
       "<table border=\"1\" class=\"dataframe\">\n",
       "  <thead>\n",
       "    <tr style=\"text-align: right;\">\n",
       "      <th></th>\n",
       "      <th>id</th>\n",
       "      <th>pollution_value</th>\n",
       "    </tr>\n",
       "  </thead>\n",
       "  <tbody>\n",
       "    <tr>\n",
       "      <th>0</th>\n",
       "      <td>0</td>\n",
       "      <td>38.724467</td>\n",
       "    </tr>\n",
       "    <tr>\n",
       "      <th>1</th>\n",
       "      <td>1</td>\n",
       "      <td>24.468424</td>\n",
       "    </tr>\n",
       "    <tr>\n",
       "      <th>2</th>\n",
       "      <td>2</td>\n",
       "      <td>9.863706</td>\n",
       "    </tr>\n",
       "    <tr>\n",
       "      <th>3</th>\n",
       "      <td>3</td>\n",
       "      <td>20.260076</td>\n",
       "    </tr>\n",
       "    <tr>\n",
       "      <th>4</th>\n",
       "      <td>4</td>\n",
       "      <td>23.684753</td>\n",
       "    </tr>\n",
       "  </tbody>\n",
       "</table>\n",
       "</div>"
      ],
      "text/plain": [
       "   id  pollution_value\n",
       "0   0        38.724467\n",
       "1   1        24.468424\n",
       "2   2         9.863706\n",
       "3   3        20.260076\n",
       "4   4        23.684753"
      ]
     },
     "execution_count": 12,
     "metadata": {},
     "output_type": "execute_result"
    }
   ],
   "source": [
    "pred_df.head()"
   ]
  },
  {
   "cell_type": "code",
   "execution_count": 13,
   "id": "f6c631df",
   "metadata": {},
   "outputs": [],
   "source": [
    "pred_df.to_csv(\"/Users/arbaaz/Downloads/ridge.csv\", index=False)"
   ]
  },
  {
   "cell_type": "code",
   "execution_count": null,
   "id": "877987c2",
   "metadata": {},
   "outputs": [],
   "source": []
  }
 ],
 "metadata": {
  "kernelspec": {
   "display_name": "Python 3",
   "language": "python",
   "name": "python3"
  },
  "language_info": {
   "codemirror_mode": {
    "name": "ipython",
    "version": 3
   },
   "file_extension": ".py",
   "mimetype": "text/x-python",
   "name": "python",
   "nbconvert_exporter": "python",
   "pygments_lexer": "ipython3",
   "version": "3.13.3"
  }
 },
 "nbformat": 4,
 "nbformat_minor": 5
}

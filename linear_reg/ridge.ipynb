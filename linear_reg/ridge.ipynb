{
 "cells": [
  {
   "cell_type": "code",
   "execution_count": 1,
   "id": "7e15b8e4",
   "metadata": {},
   "outputs": [],
   "source": [
    "import torch\n",
    "\n",
    "\n",
    "def print_config(config):\n",
    "    attrs = {}\n",
    "    attrs.update(config.__dict__)\n",
    "\n",
    "    for key, value in config.__class__.__dict__.items():\n",
    "        if not key.startswith('__') and key not in attrs:\n",
    "            attrs[key] = value\n",
    "\n",
    "    for key, value in attrs.items():\n",
    "        print(f\"{key}: {value}\")\n",
    "\n",
    "\n",
    "class Config:\n",
    "    # Model\n",
    "    model_name = \"ridge.month1.only\"\n",
    "    input_dim = 6\n",
    "    target_dim = 1\n",
    "\n",
    "    # Device & reproducibility\n",
    "    device = \"cuda\" if torch.cuda.is_available() else \"cpu\"\n",
    "    seed = 5274\n",
    "\n",
    "    # Optimization\n",
    "    optimizer_name = \"AdamW\"\n",
    "    lr = 1e-4\n",
    "    weight_decay = 1e-3\n",
    "\n",
    "    grad_accum = False\n",
    "    grad_accum_steps = 1\n",
    "    batch_size = 32  # // grad_accum_steps\n",
    "\n",
    "    # Training schedule\n",
    "    num_epochs = 150\n",
    "    scheduler_name = \"default\"\n",
    "\n",
    "    # Regularization\n",
    "    dropout = 0.0\n",
    "    drop_path_rate = 0.0\n",
    "    label_smoothing = 0.0\n",
    "\n",
    "    # Experiment tracking\n",
    "    neptune_token = \"eyJhcGlfYWRkcmVzcyI6Imh0dHBzOi8vYXBwLm5lcHR1bmUuYWkiLCJhcGlfdXJsIjoiaHR0cHM6Ly9hcHAubmVwdHVuZS5haSIsImFwaV9rZXkiOiJlOGE2YjNiZS1mZGUyLTRjYjItYTg5Yy1mZWJkZTIzNzE1NmIifQ==\"\n",
    "    with_id = \"\"\n",
    "    resume = False\n",
    "\n",
    "config = Config()"
   ]
  },
  {
   "cell_type": "code",
   "execution_count": 2,
   "id": "6e0b4917",
   "metadata": {},
   "outputs": [],
   "source": [
    "import random\n",
    "import numpy as np\n",
    "import torch\n",
    "\n",
    "def setup_reproducibility(config):\n",
    "    random.seed(config.seed)\n",
    "    np.random.seed(config.seed)\n",
    "    torch.manual_seed(config.seed)\n",
    "    if torch.cuda.is_available():\n",
    "        torch.cuda.manual_seed_all(config.seed)\n",
    "    torch.backends.cudnn.deterministic = True\n",
    "    torch.backends.cudnn.benchmark = False\n",
    "    torch.use_deterministic_algorithms(False, warn_only=True)\n",
    "    torch.set_float32_matmul_precision(\"high\")\n",
    "\n",
    "setup_reproducibility(config)"
   ]
  },
  {
   "cell_type": "code",
   "execution_count": 3,
   "id": "3a6a0954",
   "metadata": {},
   "outputs": [],
   "source": [
    "import pandas as pd\n",
    "\n",
    "path = \"/Users/arbaaz/Downloads/air_pol/ds\"\n",
    "train_path = path+\"/Train.csv\"\n",
    "test_path = path+\"/Test.csv\"\n",
    "\n",
    "train_df = pd.read_csv(train_path).drop(columns=['id'])\n",
    "train_df.dropna(inplace=True)\n",
    "train_df = train_df[train_df[\"month\"] == 1]"
   ]
  },
  {
   "cell_type": "code",
   "execution_count": 4,
   "id": "5d210b66",
   "metadata": {},
   "outputs": [
    {
     "data": {
      "text/html": [
       "<div>\n",
       "<style scoped>\n",
       "    .dataframe tbody tr th:only-of-type {\n",
       "        vertical-align: middle;\n",
       "    }\n",
       "\n",
       "    .dataframe tbody tr th {\n",
       "        vertical-align: top;\n",
       "    }\n",
       "\n",
       "    .dataframe thead th {\n",
       "        text-align: right;\n",
       "    }\n",
       "</style>\n",
       "<table border=\"1\" class=\"dataframe\">\n",
       "  <thead>\n",
       "    <tr style=\"text-align: right;\">\n",
       "      <th></th>\n",
       "      <th>latitude</th>\n",
       "      <th>longitude</th>\n",
       "      <th>day_of_year</th>\n",
       "      <th>day_of_week</th>\n",
       "      <th>hour</th>\n",
       "      <th>month</th>\n",
       "      <th>pollution_value</th>\n",
       "    </tr>\n",
       "  </thead>\n",
       "  <tbody>\n",
       "    <tr>\n",
       "      <th>11</th>\n",
       "      <td>50.432</td>\n",
       "      <td>7.479</td>\n",
       "      <td>29</td>\n",
       "      <td>0</td>\n",
       "      <td>22</td>\n",
       "      <td>1</td>\n",
       "      <td>26.123001</td>\n",
       "    </tr>\n",
       "    <tr>\n",
       "      <th>47</th>\n",
       "      <td>39.708</td>\n",
       "      <td>2.658</td>\n",
       "      <td>29</td>\n",
       "      <td>0</td>\n",
       "      <td>21</td>\n",
       "      <td>1</td>\n",
       "      <td>13.500000</td>\n",
       "    </tr>\n",
       "    <tr>\n",
       "      <th>49</th>\n",
       "      <td>43.607</td>\n",
       "      <td>122.269</td>\n",
       "      <td>23</td>\n",
       "      <td>3</td>\n",
       "      <td>5</td>\n",
       "      <td>1</td>\n",
       "      <td>39.500000</td>\n",
       "    </tr>\n",
       "    <tr>\n",
       "      <th>110</th>\n",
       "      <td>42.446</td>\n",
       "      <td>-83.418</td>\n",
       "      <td>19</td>\n",
       "      <td>4</td>\n",
       "      <td>17</td>\n",
       "      <td>1</td>\n",
       "      <td>19.300000</td>\n",
       "    </tr>\n",
       "    <tr>\n",
       "      <th>271</th>\n",
       "      <td>48.098</td>\n",
       "      <td>16.952</td>\n",
       "      <td>29</td>\n",
       "      <td>0</td>\n",
       "      <td>21</td>\n",
       "      <td>1</td>\n",
       "      <td>15.800000</td>\n",
       "    </tr>\n",
       "  </tbody>\n",
       "</table>\n",
       "</div>"
      ],
      "text/plain": [
       "     latitude  longitude  day_of_year  day_of_week  hour  month  \\\n",
       "11     50.432      7.479           29            0    22      1   \n",
       "47     39.708      2.658           29            0    21      1   \n",
       "49     43.607    122.269           23            3     5      1   \n",
       "110    42.446    -83.418           19            4    17      1   \n",
       "271    48.098     16.952           29            0    21      1   \n",
       "\n",
       "     pollution_value  \n",
       "11         26.123001  \n",
       "47         13.500000  \n",
       "49         39.500000  \n",
       "110        19.300000  \n",
       "271        15.800000  "
      ]
     },
     "execution_count": 4,
     "metadata": {},
     "output_type": "execute_result"
    }
   ],
   "source": [
    "train_df.head()"
   ]
  },
  {
   "cell_type": "code",
   "execution_count": 5,
   "id": "61c35bed",
   "metadata": {},
   "outputs": [
    {
     "name": "stdout",
     "output_type": "stream",
     "text": [
      "Index(['latitude', 'longitude', 'day_of_year', 'day_of_week', 'hour', 'month'], dtype='object')\n",
      "pollution_value\n"
     ]
    },
    {
     "data": {
      "text/plain": [
       "((334, 6), (334, 1))"
      ]
     },
     "execution_count": 5,
     "metadata": {},
     "output_type": "execute_result"
    }
   ],
   "source": [
    "from sklearn.preprocessing import StandardScaler\n",
    "\n",
    "scaler = StandardScaler()\n",
    "\n",
    "input_cols = train_df.columns[:-1]\n",
    "target_col = train_df.columns[-1]\n",
    "print(input_cols)\n",
    "print(target_col)\n",
    "\n",
    "inputs = scaler.fit_transform(train_df[input_cols])\n",
    "targets = train_df[target_col].to_numpy().reshape(-1, 1)\n",
    "inputs = inputs.astype(np.float32)\n",
    "targets = targets.astype(np.float32)\n",
    "\n",
    "inputs.shape, targets.shape"
   ]
  },
  {
   "cell_type": "code",
   "execution_count": 6,
   "id": "683b6965",
   "metadata": {},
   "outputs": [
    {
     "data": {
      "text/plain": [
       "((250, 6), (250, 1), (84, 6), (84, 1))"
      ]
     },
     "execution_count": 6,
     "metadata": {},
     "output_type": "execute_result"
    }
   ],
   "source": [
    "from sklearn.model_selection import train_test_split\n",
    "\n",
    "train_inputs, eval_inputs, train_targets, eval_targets = train_test_split(\n",
    "    inputs, \n",
    "    targets,\n",
    "    random_state=config.seed\n",
    ")\n",
    "\n",
    "train_inputs.shape, train_targets.shape, eval_inputs.shape, eval_targets.shape"
   ]
  },
  {
   "cell_type": "code",
   "execution_count": 7,
   "id": "7cca20ca",
   "metadata": {},
   "outputs": [
    {
     "data": {
      "text/plain": [
       "(84, 1)"
      ]
     },
     "execution_count": 7,
     "metadata": {},
     "output_type": "execute_result"
    }
   ],
   "source": [
    "from sklearn.linear_model import Ridge\n",
    "\n",
    "model = Ridge(alpha=1.0, random_state=config.seed)\n",
    "model.fit(train_inputs, train_targets)\n",
    "preds = model.predict(eval_inputs).reshape(-1, 1)\n",
    "preds.shape"
   ]
  },
  {
   "cell_type": "code",
   "execution_count": null,
   "id": "6f50c7dd",
   "metadata": {},
   "outputs": [
    {
     "data": {
      "text/plain": [
       "np.float64(0.6660068353848443)"
      ]
     },
     "execution_count": 8,
     "metadata": {},
     "output_type": "execute_result"
    }
   ],
   "source": [
    "from sklearn.metrics import root_mean_squared_error\n",
    "\n",
    "\n",
    "def metric_fn_np(preds, targets):\n",
    "    rmse = root_mean_squared_error(preds, targets)\n",
    "    rmse = -(rmse / 100)\n",
    "    return np.exp(rmse)\n",
    "\n",
    "metric_fn_np(preds, eval_targets)"
   ]
  },
  {
   "cell_type": "code",
   "execution_count": 13,
   "id": "6f737fec",
   "metadata": {},
   "outputs": [
    {
     "data": {
      "text/plain": [
       "array([[-4.56533938,  2.51524876,  1.04430853,  1.47609363, -0.1016816 ,\n",
       "         0.        ],\n",
       "       [-0.17424082,  2.18474615,  0.77343171, -0.1857556 , -0.52444078,\n",
       "         0.        ],\n",
       "       [ 0.49231064, -1.9634207 , -0.4906601 , -0.1857556 , -1.93363806,\n",
       "         0.        ],\n",
       "       ...,\n",
       "       [ 0.43888476,  0.35617256,  1.04430853,  1.47609363, -0.66536051,\n",
       "         0.        ],\n",
       "       [-3.73651925,  2.60978448,  1.04430853,  1.47609363, -0.52444078,\n",
       "         0.        ],\n",
       "       [-0.16638733,  2.17852213,  0.77343171, -0.1857556 , -0.52444078,\n",
       "         0.        ]], shape=(2739, 6))"
      ]
     },
     "execution_count": 13,
     "metadata": {},
     "output_type": "execute_result"
    }
   ],
   "source": [
    "test_df = pd.read_csv(test_path)\n",
    "ids = test_df[\"id\"]\n",
    "test_df = test_df.drop(columns=\"id\")\n",
    "test_data = scaler.transform(test_df)\n",
    "test_data"
   ]
  },
  {
   "cell_type": "code",
   "execution_count": 16,
   "id": "64431f2b",
   "metadata": {},
   "outputs": [
    {
     "data": {
      "text/plain": [
       "(2739,)"
      ]
     },
     "execution_count": 16,
     "metadata": {},
     "output_type": "execute_result"
    }
   ],
   "source": [
    "preds = model.predict(test_data).astype(np.float64)\n",
    "preds.shape"
   ]
  },
  {
   "cell_type": "code",
   "execution_count": 17,
   "id": "6c633630",
   "metadata": {},
   "outputs": [],
   "source": [
    "pred_df = pd.DataFrame(ids)\n",
    "pred_df[\"pollution_value\"] = preds"
   ]
  },
  {
   "cell_type": "code",
   "execution_count": 19,
   "id": "0e472377",
   "metadata": {},
   "outputs": [
    {
     "data": {
      "text/html": [
       "<div>\n",
       "<style scoped>\n",
       "    .dataframe tbody tr th:only-of-type {\n",
       "        vertical-align: middle;\n",
       "    }\n",
       "\n",
       "    .dataframe tbody tr th {\n",
       "        vertical-align: top;\n",
       "    }\n",
       "\n",
       "    .dataframe thead th {\n",
       "        text-align: right;\n",
       "    }\n",
       "</style>\n",
       "<table border=\"1\" class=\"dataframe\">\n",
       "  <thead>\n",
       "    <tr style=\"text-align: right;\">\n",
       "      <th></th>\n",
       "      <th>id</th>\n",
       "      <th>pollution_value</th>\n",
       "    </tr>\n",
       "  </thead>\n",
       "  <tbody>\n",
       "    <tr>\n",
       "      <th>0</th>\n",
       "      <td>0</td>\n",
       "      <td>97.301518</td>\n",
       "    </tr>\n",
       "    <tr>\n",
       "      <th>1</th>\n",
       "      <td>1</td>\n",
       "      <td>57.268826</td>\n",
       "    </tr>\n",
       "    <tr>\n",
       "      <th>2</th>\n",
       "      <td>2</td>\n",
       "      <td>33.553589</td>\n",
       "    </tr>\n",
       "    <tr>\n",
       "      <th>3</th>\n",
       "      <td>3</td>\n",
       "      <td>73.030611</td>\n",
       "    </tr>\n",
       "    <tr>\n",
       "      <th>4</th>\n",
       "      <td>4</td>\n",
       "      <td>79.278471</td>\n",
       "    </tr>\n",
       "  </tbody>\n",
       "</table>\n",
       "</div>"
      ],
      "text/plain": [
       "   id  pollution_value\n",
       "0   0        97.301518\n",
       "1   1        57.268826\n",
       "2   2        33.553589\n",
       "3   3        73.030611\n",
       "4   4        79.278471"
      ]
     },
     "execution_count": 19,
     "metadata": {},
     "output_type": "execute_result"
    }
   ],
   "source": [
    "pred_df.head()"
   ]
  },
  {
   "cell_type": "code",
   "execution_count": 21,
   "id": "f6c631df",
   "metadata": {},
   "outputs": [],
   "source": [
    "pred_df.to_csv(\"/Users/arbaaz/Downloads/ridge.month1.csv\", index=False)"
   ]
  },
  {
   "cell_type": "code",
   "execution_count": null,
   "id": "877987c2",
   "metadata": {},
   "outputs": [],
   "source": []
  }
 ],
 "metadata": {
  "kernelspec": {
   "display_name": "Python 3",
   "language": "python",
   "name": "python3"
  },
  "language_info": {
   "codemirror_mode": {
    "name": "ipython",
    "version": 3
   },
   "file_extension": ".py",
   "mimetype": "text/x-python",
   "name": "python",
   "nbconvert_exporter": "python",
   "pygments_lexer": "ipython3",
   "version": "3.13.3"
  }
 },
 "nbformat": 4,
 "nbformat_minor": 5
}

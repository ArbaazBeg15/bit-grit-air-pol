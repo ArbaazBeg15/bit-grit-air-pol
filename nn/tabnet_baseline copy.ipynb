{
  "cells": [
    {
      "cell_type": "code",
      "execution_count": 1,
      "metadata": {
        "colab": {
          "base_uri": "https://localhost:8080/"
        },
        "id": "FLS3RkozCqly",
        "outputId": "3ecc799d-bc70-4b37-957e-0305be06e07a"
      },
      "outputs": [
        {
          "name": "stdout",
          "output_type": "stream",
          "text": [
            "\u001b[2K     \u001b[90m━━━━━━━━━━━━━━━━━━━━━━━━━━━━━━━━━━━━━━━━\u001b[0m \u001b[32m23.5/23.5 MB\u001b[0m \u001b[31m59.2 MB/s\u001b[0m eta \u001b[36m0:00:00\u001b[0m\n",
            "\u001b[?25h  Preparing metadata (setup.py) ... \u001b[?25l\u001b[?25hdone\n",
            "  Preparing metadata (setup.py) ... \u001b[?25l\u001b[?25hdone\n",
            "\u001b[2K   \u001b[90m━━━━━━━━━━━━━━━━━━━━━━━━━━━━━━━━━━━━━━━━\u001b[0m \u001b[32m466.9/466.9 kB\u001b[0m \u001b[31m11.1 MB/s\u001b[0m eta \u001b[36m0:00:00\u001b[0m\n",
            "\u001b[2K   \u001b[90m━━━━━━━━━━━━━━━━━━━━━━━━━━━━━━━━━━━━━━━━\u001b[0m \u001b[32m1.6/1.6 MB\u001b[0m \u001b[31m18.7 MB/s\u001b[0m eta \u001b[36m0:00:00\u001b[0m\n",
            "\u001b[?25h  Building wheel for jupyter_contrib_nbextensions (setup.py) ... \u001b[?25l\u001b[?25hdone\n",
            "  Building wheel for jupyter_contrib_core (setup.py) ... \u001b[?25l\u001b[?25hdone\n",
            "\u001b[32m[I 16:44:44 InstallContribNbextensionsApp]\u001b[m jupyter contrib nbextension install --user\n",
            "\u001b[32m[I 16:44:44 InstallContribNbextensionsApp]\u001b[m Installing jupyter_contrib_nbextensions nbextension files to jupyter data directory\n",
            "\u001b[32m[I 16:44:44 InstallContribNbextensionsApp]\u001b[m Installing /usr/local/lib/python3.11/dist-packages/jupyter_contrib_nbextensions/nbextensions/varInspector -> varInspector\n",
            "\u001b[32m[I 16:44:44 InstallContribNbextensionsApp]\u001b[m Making directory: /root/.local/share/jupyter/nbextensions/varInspector/\n",
            "\u001b[32m[I 16:44:44 InstallContribNbextensionsApp]\u001b[m Copying: /usr/local/lib/python3.11/dist-packages/jupyter_contrib_nbextensions/nbextensions/varInspector/demo.gif -> /root/.local/share/jupyter/nbextensions/varInspector/demo.gif\n",
            "\u001b[32m[I 16:44:44 InstallContribNbextensionsApp]\u001b[m Copying: /usr/local/lib/python3.11/dist-packages/jupyter_contrib_nbextensions/nbextensions/varInspector/main.css -> /root/.local/share/jupyter/nbextensions/varInspector/main.css\n",
            "\u001b[32m[I 16:44:44 InstallContribNbextensionsApp]\u001b[m Copying: /usr/local/lib/python3.11/dist-packages/jupyter_contrib_nbextensions/nbextensions/varInspector/main.js -> /root/.local/share/jupyter/nbextensions/varInspector/main.js\n",
            "\u001b[32m[I 16:44:44 InstallContribNbextensionsApp]\u001b[m Copying: /usr/local/lib/python3.11/dist-packages/jupyter_contrib_nbextensions/nbextensions/varInspector/varInspector.yaml -> /root/.local/share/jupyter/nbextensions/varInspector/varInspector.yaml\n",
            "\u001b[32m[I 16:44:44 InstallContribNbextensionsApp]\u001b[m Copying: /usr/local/lib/python3.11/dist-packages/jupyter_contrib_nbextensions/nbextensions/varInspector/jquery.tablesorter.min.js -> /root/.local/share/jupyter/nbextensions/varInspector/jquery.tablesorter.min.js\n",
            "\u001b[32m[I 16:44:44 InstallContribNbextensionsApp]\u001b[m Copying: /usr/local/lib/python3.11/dist-packages/jupyter_contrib_nbextensions/nbextensions/varInspector/tablesorter_LICENSE.txt -> /root/.local/share/jupyter/nbextensions/varInspector/tablesorter_LICENSE.txt\n",
            "\u001b[32m[I 16:44:44 InstallContribNbextensionsApp]\u001b[m Copying: /usr/local/lib/python3.11/dist-packages/jupyter_contrib_nbextensions/nbextensions/varInspector/icon.png -> /root/.local/share/jupyter/nbextensions/varInspector/icon.png\n",
            "\u001b[32m[I 16:44:44 InstallContribNbextensionsApp]\u001b[m Copying: /usr/local/lib/python3.11/dist-packages/jupyter_contrib_nbextensions/nbextensions/varInspector/var_list.r -> /root/.local/share/jupyter/nbextensions/varInspector/var_list.r\n",
            "\u001b[32m[I 16:44:44 InstallContribNbextensionsApp]\u001b[m Copying: /usr/local/lib/python3.11/dist-packages/jupyter_contrib_nbextensions/nbextensions/varInspector/README.md -> /root/.local/share/jupyter/nbextensions/varInspector/README.md\n",
            "\u001b[32m[I 16:44:44 InstallContribNbextensionsApp]\u001b[m Copying: /usr/local/lib/python3.11/dist-packages/jupyter_contrib_nbextensions/nbextensions/varInspector/var_list.py -> /root/.local/share/jupyter/nbextensions/varInspector/var_list.py\n",
            "\u001b[32m[I 16:44:44 InstallContribNbextensionsApp]\u001b[m Making directory: /root/.local/share/jupyter/nbextensions/varInspector/__pycache__\n",
            "\u001b[32m[I 16:44:44 InstallContribNbextensionsApp]\u001b[m Copying: /usr/local/lib/python3.11/dist-packages/jupyter_contrib_nbextensions/nbextensions/varInspector/__pycache__/var_list.cpython-311.pyc -> /root/.local/share/jupyter/nbextensions/varInspector/__pycache__/var_list.cpython-311.pyc\n",
            "\u001b[32m[I 16:44:44 InstallContribNbextensionsApp]\u001b[m - Validating: \u001b[32mOK\u001b[0m\n",
            "\u001b[32m[I 16:44:44 InstallContribNbextensionsApp]\u001b[m Installing /usr/local/lib/python3.11/dist-packages/jupyter_contrib_nbextensions/nbextensions/splitcell -> splitcell\n",
            "\u001b[32m[I 16:44:44 InstallContribNbextensionsApp]\u001b[m Making directory: /root/.local/share/jupyter/nbextensions/splitcell/\n",
            "\u001b[32m[I 16:44:44 InstallContribNbextensionsApp]\u001b[m Copying: /usr/local/lib/python3.11/dist-packages/jupyter_contrib_nbextensions/nbextensions/splitcell/splitcell.yaml -> /root/.local/share/jupyter/nbextensions/splitcell/splitcell.yaml\n",
            "\u001b[32m[I 16:44:44 InstallContribNbextensionsApp]\u001b[m Copying: /usr/local/lib/python3.11/dist-packages/jupyter_contrib_nbextensions/nbextensions/splitcell/readme.md -> /root/.local/share/jupyter/nbextensions/splitcell/readme.md\n",
            "\u001b[32m[I 16:44:44 InstallContribNbextensionsApp]\u001b[m Copying: /usr/local/lib/python3.11/dist-packages/jupyter_contrib_nbextensions/nbextensions/splitcell/icon.png -> /root/.local/share/jupyter/nbextensions/splitcell/icon.png\n",
            "\u001b[32m[I 16:44:44 InstallContribNbextensionsApp]\u001b[m Copying: /usr/local/lib/python3.11/dist-packages/jupyter_contrib_nbextensions/nbextensions/splitcell/splitcell.js -> /root/.local/share/jupyter/nbextensions/splitcell/splitcell.js\n",
            "\u001b[32m[I 16:44:44 InstallContribNbextensionsApp]\u001b[m - Validating: \u001b[32mOK\u001b[0m\n",
            "\u001b[32m[I 16:44:44 InstallContribNbextensionsApp]\u001b[m Installing /usr/local/lib/python3.11/dist-packages/jupyter_contrib_nbextensions/nbextensions/runtools -> runtools\n",
            "\u001b[32m[I 16:44:44 InstallContribNbextensionsApp]\u001b[m Making directory: /root/.local/share/jupyter/nbextensions/runtools/\n",
            "\u001b[32m[I 16:44:44 InstallContribNbextensionsApp]\u001b[m Copying: /usr/local/lib/python3.11/dist-packages/jupyter_contrib_nbextensions/nbextensions/runtools/demo.gif -> /root/.local/share/jupyter/nbextensions/runtools/demo.gif\n",
            "\u001b[32m[I 16:44:44 InstallContribNbextensionsApp]\u001b[m Copying: /usr/local/lib/python3.11/dist-packages/jupyter_contrib_nbextensions/nbextensions/runtools/main.css -> /root/.local/share/jupyter/nbextensions/runtools/main.css\n",
            "\u001b[32m[I 16:44:44 InstallContribNbextensionsApp]\u001b[m Copying: /usr/local/lib/python3.11/dist-packages/jupyter_contrib_nbextensions/nbextensions/runtools/gutter.css -> /root/.local/share/jupyter/nbextensions/runtools/gutter.css\n",
            "\u001b[32m[I 16:44:44 InstallContribNbextensionsApp]\u001b[m Copying: /usr/local/lib/python3.11/dist-packages/jupyter_contrib_nbextensions/nbextensions/runtools/runtools_show_hide.png -> /root/.local/share/jupyter/nbextensions/runtools/runtools_show_hide.png\n",
            "\u001b[32m[I 16:44:44 InstallContribNbextensionsApp]\u001b[m Copying: /usr/local/lib/python3.11/dist-packages/jupyter_contrib_nbextensions/nbextensions/runtools/main.js -> /root/.local/share/jupyter/nbextensions/runtools/main.js\n",
            "\u001b[32m[I 16:44:44 InstallContribNbextensionsApp]\u001b[m Copying: /usr/local/lib/python3.11/dist-packages/jupyter_contrib_nbextensions/nbextensions/runtools/runtools_nb.png -> /root/.local/share/jupyter/nbextensions/runtools/runtools_nb.png\n",
            "\u001b[32m[I 16:44:44 InstallContribNbextensionsApp]\u001b[m Copying: /usr/local/lib/python3.11/dist-packages/jupyter_contrib_nbextensions/nbextensions/runtools/runtools.yaml -> /root/.local/share/jupyter/nbextensions/runtools/runtools.yaml\n",
            "\u001b[32m[I 16:44:44 InstallContribNbextensionsApp]\u001b[m Copying: /usr/local/lib/python3.11/dist-packages/jupyter_contrib_nbextensions/nbextensions/runtools/runtools_marker.png -> /root/.local/share/jupyter/nbextensions/runtools/runtools_marker.png\n",
            "\u001b[32m[I 16:44:44 InstallContribNbextensionsApp]\u001b[m Copying: /usr/local/lib/python3.11/dist-packages/jupyter_contrib_nbextensions/nbextensions/runtools/readme.md -> /root/.local/share/jupyter/nbextensions/runtools/readme.md\n",
            "\u001b[32m[I 16:44:44 InstallContribNbextensionsApp]\u001b[m Copying: /usr/local/lib/python3.11/dist-packages/jupyter_contrib_nbextensions/nbextensions/runtools/annotations.odg -> /root/.local/share/jupyter/nbextensions/runtools/annotations.odg\n",
            "\u001b[32m[I 16:44:44 InstallContribNbextensionsApp]\u001b[m Copying: /usr/local/lib/python3.11/dist-packages/jupyter_contrib_nbextensions/nbextensions/runtools/icon.png -> /root/.local/share/jupyter/nbextensions/runtools/icon.png\n",
            "\u001b[32m[I 16:44:44 InstallContribNbextensionsApp]\u001b[m Copying: /usr/local/lib/python3.11/dist-packages/jupyter_contrib_nbextensions/nbextensions/runtools/runtools_execute.png -> /root/.local/share/jupyter/nbextensions/runtools/runtools_execute.png\n",
            "\u001b[32m[I 16:44:44 InstallContribNbextensionsApp]\u001b[m Copying: /usr/local/lib/python3.11/dist-packages/jupyter_contrib_nbextensions/nbextensions/runtools/runtools_lock.png -> /root/.local/share/jupyter/nbextensions/runtools/runtools_lock.png\n",
            "\u001b[32m[I 16:44:44 InstallContribNbextensionsApp]\u001b[m Copying: /usr/local/lib/python3.11/dist-packages/jupyter_contrib_nbextensions/nbextensions/runtools/cellstate.js -> /root/.local/share/jupyter/nbextensions/runtools/cellstate.js\n",
            "\u001b[32m[I 16:44:44 InstallContribNbextensionsApp]\u001b[m - Validating: \u001b[32mOK\u001b[0m\n",
            "\u001b[32m[I 16:44:44 InstallContribNbextensionsApp]\u001b[m Installing /usr/local/lib/python3.11/dist-packages/jupyter_contrib_nbextensions/nbextensions/snippets_menu -> snippets_menu\n",
            "\u001b[32m[I 16:44:44 InstallContribNbextensionsApp]\u001b[m Making directory: /root/.local/share/jupyter/nbextensions/snippets_menu/\n",
            "\u001b[32m[I 16:44:44 InstallContribNbextensionsApp]\u001b[m Copying: /usr/local/lib/python3.11/dist-packages/jupyter_contrib_nbextensions/nbextensions/snippets_menu/screenshot2.png -> /root/.local/share/jupyter/nbextensions/snippets_menu/screenshot2.png\n",
            "\u001b[32m[I 16:44:44 InstallContribNbextensionsApp]\u001b[m Copying: /usr/local/lib/python3.11/dist-packages/jupyter_contrib_nbextensions/nbextensions/snippets_menu/snippets_submenu_markdown.js -> /root/.local/share/jupyter/nbextensions/snippets_menu/snippets_submenu_markdown.js\n",
            "\u001b[32m[I 16:44:44 InstallContribNbextensionsApp]\u001b[m Copying: /usr/local/lib/python3.11/dist-packages/jupyter_contrib_nbextensions/nbextensions/snippets_menu/thumbnail.png -> /root/.local/share/jupyter/nbextensions/snippets_menu/thumbnail.png\n",
            "\u001b[32m[I 16:44:44 InstallContribNbextensionsApp]\u001b[m Copying: /usr/local/lib/python3.11/dist-packages/jupyter_contrib_nbextensions/nbextensions/snippets_menu/examples_for_custom.js -> /root/.local/share/jupyter/nbextensions/snippets_menu/examples_for_custom.js\n",
            "\u001b[32m[I 16:44:44 InstallContribNbextensionsApp]\u001b[m Copying: /usr/local/lib/python3.11/dist-packages/jupyter_contrib_nbextensions/nbextensions/snippets_menu/snippets_submenu_python.js -> /root/.local/share/jupyter/nbextensions/snippets_menu/snippets_submenu_python.js\n",
            "\u001b[32m[I 16:44:44 InstallContribNbextensionsApp]\u001b[m Copying: /usr/local/lib/python3.11/dist-packages/jupyter_contrib_nbextensions/nbextensions/snippets_menu/main.js -> /root/.local/share/jupyter/nbextensions/snippets_menu/main.js\n",
            "\u001b[32m[I 16:44:44 InstallContribNbextensionsApp]\u001b[m Copying: /usr/local/lib/python3.11/dist-packages/jupyter_contrib_nbextensions/nbextensions/snippets_menu/snippets_menu.css -> /root/.local/share/jupyter/nbextensions/snippets_menu/snippets_menu.css\n",
            "\u001b[32m[I 16:44:44 InstallContribNbextensionsApp]\u001b[m Copying: /usr/local/lib/python3.11/dist-packages/jupyter_contrib_nbextensions/nbextensions/snippets_menu/readme.md -> /root/.local/share/jupyter/nbextensions/snippets_menu/readme.md\n",
            "\u001b[32m[I 16:44:44 InstallContribNbextensionsApp]\u001b[m Copying: /usr/local/lib/python3.11/dist-packages/jupyter_contrib_nbextensions/nbextensions/snippets_menu/screenshot1.png -> /root/.local/share/jupyter/nbextensions/snippets_menu/screenshot1.png\n",
            "\u001b[32m[I 16:44:44 InstallContribNbextensionsApp]\u001b[m Copying: /usr/local/lib/python3.11/dist-packages/jupyter_contrib_nbextensions/nbextensions/snippets_menu/screenshot3.png -> /root/.local/share/jupyter/nbextensions/snippets_menu/screenshot3.png\n",
            "\u001b[32m[I 16:44:44 InstallContribNbextensionsApp]\u001b[m Copying: /usr/local/lib/python3.11/dist-packages/jupyter_contrib_nbextensions/nbextensions/snippets_menu/config.yaml -> /root/.local/share/jupyter/nbextensions/snippets_menu/config.yaml\n",
            "\u001b[32m[I 16:44:44 InstallContribNbextensionsApp]\u001b[m Making directory: /root/.local/share/jupyter/nbextensions/snippets_menu/snippets_submenus_python\n",
            "\u001b[32m[I 16:44:44 InstallContribNbextensionsApp]\u001b[m Copying: /usr/local/lib/python3.11/dist-packages/jupyter_contrib_nbextensions/nbextensions/snippets_menu/snippets_submenus_python/scipy.js -> /root/.local/share/jupyter/nbextensions/snippets_menu/snippets_submenus_python/scipy.js\n",
            "\u001b[32m[I 16:44:44 InstallContribNbextensionsApp]\u001b[m Copying: /usr/local/lib/python3.11/dist-packages/jupyter_contrib_nbextensions/nbextensions/snippets_menu/snippets_submenus_python/matplotlib.js -> /root/.local/share/jupyter/nbextensions/snippets_menu/snippets_submenus_python/matplotlib.js\n",
            "\u001b[32m[I 16:44:44 InstallContribNbextensionsApp]\u001b[m Copying: /usr/local/lib/python3.11/dist-packages/jupyter_contrib_nbextensions/nbextensions/snippets_menu/snippets_submenus_python/python_regex.js -> /root/.local/share/jupyter/nbextensions/snippets_menu/snippets_submenus_python/python_regex.js\n",
            "\u001b[32m[I 16:44:44 InstallContribNbextensionsApp]\u001b[m Copying: /usr/local/lib/python3.11/dist-packages/jupyter_contrib_nbextensions/nbextensions/snippets_menu/snippets_submenus_python/scipy_constants.js -> /root/.local/share/jupyter/nbextensions/snippets_menu/snippets_submenus_python/scipy_constants.js\n",
            "\u001b[32m[I 16:44:44 InstallContribNbextensionsApp]\u001b[m Copying: /usr/local/lib/python3.11/dist-packages/jupyter_contrib_nbextensions/nbextensions/snippets_menu/snippets_submenus_python/numpy_polynomial.js -> /root/.local/share/jupyter/nbextensions/snippets_menu/snippets_submenus_python/numpy_polynomial.js\n",
            "\u001b[32m[I 16:44:44 InstallContribNbextensionsApp]\u001b[m Copying: /usr/local/lib/python3.11/dist-packages/jupyter_contrib_nbextensions/nbextensions/snippets_menu/snippets_submenus_python/sympy.js -> /root/.local/share/jupyter/nbextensions/snippets_menu/snippets_submenus_python/sympy.js\n",
            "\u001b[32m[I 16:44:44 InstallContribNbextensionsApp]\u001b[m Copying: /usr/local/lib/python3.11/dist-packages/jupyter_contrib_nbextensions/nbextensions/snippets_menu/snippets_submenus_python/numpy.js -> /root/.local/share/jupyter/nbextensions/snippets_menu/snippets_submenus_python/numpy.js\n",
            "\u001b[32m[I 16:44:44 InstallContribNbextensionsApp]\u001b[m Copying: /usr/local/lib/python3.11/dist-packages/jupyter_contrib_nbextensions/nbextensions/snippets_menu/snippets_submenus_python/numpy_ufuncs.js -> /root/.local/share/jupyter/nbextensions/snippets_menu/snippets_submenus_python/numpy_ufuncs.js\n",
            "\u001b[32m[I 16:44:44 InstallContribNbextensionsApp]\u001b[m Copying: /usr/local/lib/python3.11/dist-packages/jupyter_contrib_nbextensions/nbextensions/snippets_menu/snippets_submenus_python/pandas.js -> /root/.local/share/jupyter/nbextensions/snippets_menu/snippets_submenus_python/pandas.js\n",
            "\u001b[32m[I 16:44:44 InstallContribNbextensionsApp]\u001b[m Copying: /usr/local/lib/python3.11/dist-packages/jupyter_contrib_nbextensions/nbextensions/snippets_menu/snippets_submenus_python/python.js -> /root/.local/share/jupyter/nbextensions/snippets_menu/snippets_submenus_python/python.js\n",
            "\u001b[32m[I 16:44:44 InstallContribNbextensionsApp]\u001b[m Copying: /usr/local/lib/python3.11/dist-packages/jupyter_contrib_nbextensions/nbextensions/snippets_menu/snippets_submenus_python/scipy_special.js -> /root/.local/share/jupyter/nbextensions/snippets_menu/snippets_submenus_python/scipy_special.js\n",
            "\u001b[32m[I 16:44:44 InstallContribNbextensionsApp]\u001b[m Copying: /usr/local/lib/python3.11/dist-packages/jupyter_contrib_nbextensions/nbextensions/snippets_menu/snippets_submenus_python/numba.js -> /root/.local/share/jupyter/nbextensions/snippets_menu/snippets_submenus_python/numba.js\n",
            "\u001b[32m[I 16:44:44 InstallContribNbextensionsApp]\u001b[m Copying: /usr/local/lib/python3.11/dist-packages/jupyter_contrib_nbextensions/nbextensions/snippets_menu/snippets_submenus_python/h5py.js -> /root/.local/share/jupyter/nbextensions/snippets_menu/snippets_submenus_python/h5py.js\n",
            "\u001b[32m[I 16:44:44 InstallContribNbextensionsApp]\u001b[m Copying: /usr/local/lib/python3.11/dist-packages/jupyter_contrib_nbextensions/nbextensions/snippets_menu/snippets_submenus_python/astropy.js -> /root/.local/share/jupyter/nbextensions/snippets_menu/snippets_submenus_python/astropy.js\n",
            "\u001b[32m[I 16:44:44 InstallContribNbextensionsApp]\u001b[m Copying: /usr/local/lib/python3.11/dist-packages/jupyter_contrib_nbextensions/nbextensions/snippets_menu/snippets_submenus_python/sympy_functions.js -> /root/.local/share/jupyter/nbextensions/snippets_menu/snippets_submenus_python/sympy_functions.js\n",
            "\u001b[32m[I 16:44:44 InstallContribNbextensionsApp]\u001b[m Copying: /usr/local/lib/python3.11/dist-packages/jupyter_contrib_nbextensions/nbextensions/snippets_menu/snippets_submenus_python/sympy_assumptions.js -> /root/.local/share/jupyter/nbextensions/snippets_menu/snippets_submenus_python/sympy_assumptions.js\n",
            "\u001b[32m[I 16:44:44 InstallContribNbextensionsApp]\u001b[m - Validating: \u001b[32mOK\u001b[0m\n",
            "\u001b[32m[I 16:44:44 InstallContribNbextensionsApp]\u001b[m Installing /usr/local/lib/python3.11/dist-packages/jupyter_contrib_nbextensions/nbextensions/python-markdown -> python-markdown\n",
            "\u001b[32m[I 16:44:44 InstallContribNbextensionsApp]\u001b[m Making directory: /root/.local/share/jupyter/nbextensions/python-markdown/\n",
            "\u001b[32m[I 16:44:44 InstallContribNbextensionsApp]\u001b[m Copying: /usr/local/lib/python3.11/dist-packages/jupyter_contrib_nbextensions/nbextensions/python-markdown/python-markdown-pre.png -> /root/.local/share/jupyter/nbextensions/python-markdown/python-markdown-pre.png\n",
            "\u001b[32m[I 16:44:44 InstallContribNbextensionsApp]\u001b[m Copying: /usr/local/lib/python3.11/dist-packages/jupyter_contrib_nbextensions/nbextensions/python-markdown/main.css -> /root/.local/share/jupyter/nbextensions/python-markdown/main.css\n",
            "\u001b[32m[I 16:44:44 InstallContribNbextensionsApp]\u001b[m Copying: /usr/local/lib/python3.11/dist-packages/jupyter_contrib_nbextensions/nbextensions/python-markdown/trusted.png -> /root/.local/share/jupyter/nbextensions/python-markdown/trusted.png\n",
            "\u001b[32m[I 16:44:44 InstallContribNbextensionsApp]\u001b[m Copying: /usr/local/lib/python3.11/dist-packages/jupyter_contrib_nbextensions/nbextensions/python-markdown/main.js -> /root/.local/share/jupyter/nbextensions/python-markdown/main.js\n",
            "\u001b[32m[I 16:44:44 InstallContribNbextensionsApp]\u001b[m Copying: /usr/local/lib/python3.11/dist-packages/jupyter_contrib_nbextensions/nbextensions/python-markdown/readme.md -> /root/.local/share/jupyter/nbextensions/python-markdown/readme.md\n",
            "\u001b[32m[I 16:44:44 InstallContribNbextensionsApp]\u001b[m Copying: /usr/local/lib/python3.11/dist-packages/jupyter_contrib_nbextensions/nbextensions/python-markdown/python-markdown.yaml -> /root/.local/share/jupyter/nbextensions/python-markdown/python-markdown.yaml\n",
            "\u001b[32m[I 16:44:44 InstallContribNbextensionsApp]\u001b[m Copying: /usr/local/lib/python3.11/dist-packages/jupyter_contrib_nbextensions/nbextensions/python-markdown/untrusted.png -> /root/.local/share/jupyter/nbextensions/python-markdown/untrusted.png\n",
            "\u001b[32m[I 16:44:44 InstallContribNbextensionsApp]\u001b[m Copying: /usr/local/lib/python3.11/dist-packages/jupyter_contrib_nbextensions/nbextensions/python-markdown/python-markdown.png -> /root/.local/share/jupyter/nbextensions/python-markdown/python-markdown.png\n",
            "\u001b[32m[I 16:44:44 InstallContribNbextensionsApp]\u001b[m Copying: /usr/local/lib/python3.11/dist-packages/jupyter_contrib_nbextensions/nbextensions/python-markdown/python-markdown-post.png -> /root/.local/share/jupyter/nbextensions/python-markdown/python-markdown-post.png\n",
            "\u001b[32m[I 16:44:44 InstallContribNbextensionsApp]\u001b[m - Validating: \u001b[32mOK\u001b[0m\n",
            "\u001b[32m[I 16:44:44 InstallContribNbextensionsApp]\u001b[m Installing /usr/local/lib/python3.11/dist-packages/jupyter_contrib_nbextensions/nbextensions/hide_input -> hide_input\n",
            "\u001b[32m[I 16:44:44 InstallContribNbextensionsApp]\u001b[m Making directory: /root/.local/share/jupyter/nbextensions/hide_input/\n",
            "\u001b[32m[I 16:44:44 InstallContribNbextensionsApp]\u001b[m Copying: /usr/local/lib/python3.11/dist-packages/jupyter_contrib_nbextensions/nbextensions/hide_input/main.js -> /root/.local/share/jupyter/nbextensions/hide_input/main.js\n",
            "\u001b[32m[I 16:44:44 InstallContribNbextensionsApp]\u001b[m Copying: /usr/local/lib/python3.11/dist-packages/jupyter_contrib_nbextensions/nbextensions/hide_input/hide-input.yaml -> /root/.local/share/jupyter/nbextensions/hide_input/hide-input.yaml\n",
            "\u001b[32m[I 16:44:44 InstallContribNbextensionsApp]\u001b[m Copying: /usr/local/lib/python3.11/dist-packages/jupyter_contrib_nbextensions/nbextensions/hide_input/readme.md -> /root/.local/share/jupyter/nbextensions/hide_input/readme.md\n",
            "\u001b[32m[I 16:44:44 InstallContribNbextensionsApp]\u001b[m Copying: /usr/local/lib/python3.11/dist-packages/jupyter_contrib_nbextensions/nbextensions/hide_input/icon.png -> /root/.local/share/jupyter/nbextensions/hide_input/icon.png\n",
            "\u001b[32m[I 16:44:44 InstallContribNbextensionsApp]\u001b[m - Validating: \u001b[32mOK\u001b[0m\n",
            "\u001b[32m[I 16:44:44 InstallContribNbextensionsApp]\u001b[m Installing /usr/local/lib/python3.11/dist-packages/jupyter_contrib_nbextensions/nbextensions/execute_time -> execute_time\n",
            "\u001b[32m[I 16:44:44 InstallContribNbextensionsApp]\u001b[m Making directory: /root/.local/share/jupyter/nbextensions/execute_time/\n",
            "\u001b[32m[I 16:44:44 InstallContribNbextensionsApp]\u001b[m Copying: /usr/local/lib/python3.11/dist-packages/jupyter_contrib_nbextensions/nbextensions/execute_time/execution-timings-box.png -> /root/.local/share/jupyter/nbextensions/execute_time/execution-timings-box.png\n",
            "\u001b[32m[I 16:44:44 InstallContribNbextensionsApp]\u001b[m Copying: /usr/local/lib/python3.11/dist-packages/jupyter_contrib_nbextensions/nbextensions/execute_time/execution-timings-menu.png -> /root/.local/share/jupyter/nbextensions/execute_time/execution-timings-menu.png\n",
            "\u001b[32m[I 16:44:44 InstallContribNbextensionsApp]\u001b[m Copying: /usr/local/lib/python3.11/dist-packages/jupyter_contrib_nbextensions/nbextensions/execute_time/readme.md -> /root/.local/share/jupyter/nbextensions/execute_time/readme.md\n",
            "\u001b[32m[I 16:44:44 InstallContribNbextensionsApp]\u001b[m Copying: /usr/local/lib/python3.11/dist-packages/jupyter_contrib_nbextensions/nbextensions/execute_time/icon.png -> /root/.local/share/jupyter/nbextensions/execute_time/icon.png\n",
            "\u001b[32m[I 16:44:44 InstallContribNbextensionsApp]\u001b[m Copying: /usr/local/lib/python3.11/dist-packages/jupyter_contrib_nbextensions/nbextensions/execute_time/ExecuteTime.js -> /root/.local/share/jupyter/nbextensions/execute_time/ExecuteTime.js\n",
            "\u001b[32m[I 16:44:44 InstallContribNbextensionsApp]\u001b[m Copying: /usr/local/lib/python3.11/dist-packages/jupyter_contrib_nbextensions/nbextensions/execute_time/ExecuteTime.css -> /root/.local/share/jupyter/nbextensions/execute_time/ExecuteTime.css\n",
            "\u001b[32m[I 16:44:44 InstallContribNbextensionsApp]\u001b[m Copying: /usr/local/lib/python3.11/dist-packages/jupyter_contrib_nbextensions/nbextensions/execute_time/ExecuteTime.yaml -> /root/.local/share/jupyter/nbextensions/execute_time/ExecuteTime.yaml\n",
            "\u001b[32m[I 16:44:44 InstallContribNbextensionsApp]\u001b[m - Validating: \u001b[32mOK\u001b[0m\n",
            "\u001b[32m[I 16:44:44 InstallContribNbextensionsApp]\u001b[m Installing /usr/local/lib/python3.11/dist-packages/jupyter_contrib_nbextensions/nbextensions/hinterland -> hinterland\n",
            "\u001b[32m[I 16:44:44 InstallContribNbextensionsApp]\u001b[m Making directory: /root/.local/share/jupyter/nbextensions/hinterland/\n",
            "\u001b[32m[I 16:44:44 InstallContribNbextensionsApp]\u001b[m Copying: /usr/local/lib/python3.11/dist-packages/jupyter_contrib_nbextensions/nbextensions/hinterland/hinterland.js -> /root/.local/share/jupyter/nbextensions/hinterland/hinterland.js\n",
            "\u001b[32m[I 16:44:44 InstallContribNbextensionsApp]\u001b[m Copying: /usr/local/lib/python3.11/dist-packages/jupyter_contrib_nbextensions/nbextensions/hinterland/hinterland.yaml -> /root/.local/share/jupyter/nbextensions/hinterland/hinterland.yaml\n",
            "\u001b[32m[I 16:44:44 InstallContribNbextensionsApp]\u001b[m Copying: /usr/local/lib/python3.11/dist-packages/jupyter_contrib_nbextensions/nbextensions/hinterland/README.md -> /root/.local/share/jupyter/nbextensions/hinterland/README.md\n",
            "\u001b[32m[I 16:44:44 InstallContribNbextensionsApp]\u001b[m - Validating: \u001b[32mOK\u001b[0m\n",
            "\u001b[32m[I 16:44:44 InstallContribNbextensionsApp]\u001b[m Installing /usr/local/lib/python3.11/dist-packages/jupyter_contrib_nbextensions/nbextensions/freeze -> freeze\n",
            "\u001b[32m[I 16:44:44 InstallContribNbextensionsApp]\u001b[m Making directory: /root/.local/share/jupyter/nbextensions/freeze/\n",
            "\u001b[32m[I 16:44:44 InstallContribNbextensionsApp]\u001b[m Copying: /usr/local/lib/python3.11/dist-packages/jupyter_contrib_nbextensions/nbextensions/freeze/main.js -> /root/.local/share/jupyter/nbextensions/freeze/main.js\n",
            "\u001b[32m[I 16:44:44 InstallContribNbextensionsApp]\u001b[m Copying: /usr/local/lib/python3.11/dist-packages/jupyter_contrib_nbextensions/nbextensions/freeze/readme.md -> /root/.local/share/jupyter/nbextensions/freeze/readme.md\n",
            "\u001b[32m[I 16:44:44 InstallContribNbextensionsApp]\u001b[m Copying: /usr/local/lib/python3.11/dist-packages/jupyter_contrib_nbextensions/nbextensions/freeze/icon.png -> /root/.local/share/jupyter/nbextensions/freeze/icon.png\n",
            "\u001b[32m[I 16:44:44 InstallContribNbextensionsApp]\u001b[m Copying: /usr/local/lib/python3.11/dist-packages/jupyter_contrib_nbextensions/nbextensions/freeze/config.yaml -> /root/.local/share/jupyter/nbextensions/freeze/config.yaml\n",
            "\u001b[32m[I 16:44:44 InstallContribNbextensionsApp]\u001b[m - Validating: \u001b[32mOK\u001b[0m\n",
            "\u001b[32m[I 16:44:44 InstallContribNbextensionsApp]\u001b[m Installing /usr/local/lib/python3.11/dist-packages/jupyter_contrib_nbextensions/nbextensions/keyboard_shortcut_editor -> keyboard_shortcut_editor\n",
            "\u001b[32m[I 16:44:44 InstallContribNbextensionsApp]\u001b[m Making directory: /root/.local/share/jupyter/nbextensions/keyboard_shortcut_editor/\n",
            "\u001b[32m[I 16:44:44 InstallContribNbextensionsApp]\u001b[m Copying: /usr/local/lib/python3.11/dist-packages/jupyter_contrib_nbextensions/nbextensions/keyboard_shortcut_editor/readme_conflict.png -> /root/.local/share/jupyter/nbextensions/keyboard_shortcut_editor/readme_conflict.png\n",
            "\u001b[32m[I 16:44:44 InstallContribNbextensionsApp]\u001b[m Copying: /usr/local/lib/python3.11/dist-packages/jupyter_contrib_nbextensions/nbextensions/keyboard_shortcut_editor/readme_menu_item.png -> /root/.local/share/jupyter/nbextensions/keyboard_shortcut_editor/readme_menu_item.png\n",
            "\u001b[32m[I 16:44:44 InstallContribNbextensionsApp]\u001b[m Copying: /usr/local/lib/python3.11/dist-packages/jupyter_contrib_nbextensions/nbextensions/keyboard_shortcut_editor/main.css -> /root/.local/share/jupyter/nbextensions/keyboard_shortcut_editor/main.css\n",
            "\u001b[32m[I 16:44:44 InstallContribNbextensionsApp]\u001b[m Copying: /usr/local/lib/python3.11/dist-packages/jupyter_contrib_nbextensions/nbextensions/keyboard_shortcut_editor/readme_reset_disabled.png -> /root/.local/share/jupyter/nbextensions/keyboard_shortcut_editor/readme_reset_disabled.png\n",
            "\u001b[32m[I 16:44:44 InstallContribNbextensionsApp]\u001b[m Copying: /usr/local/lib/python3.11/dist-packages/jupyter_contrib_nbextensions/nbextensions/keyboard_shortcut_editor/main.js -> /root/.local/share/jupyter/nbextensions/keyboard_shortcut_editor/main.js\n",
            "\u001b[32m[I 16:44:44 InstallContribNbextensionsApp]\u001b[m Copying: /usr/local/lib/python3.11/dist-packages/jupyter_contrib_nbextensions/nbextensions/keyboard_shortcut_editor/readme_shortcut_editor_blank.png -> /root/.local/share/jupyter/nbextensions/keyboard_shortcut_editor/readme_shortcut_editor_blank.png\n",
            "\u001b[32m[I 16:44:44 InstallContribNbextensionsApp]\u001b[m Copying: /usr/local/lib/python3.11/dist-packages/jupyter_contrib_nbextensions/nbextensions/keyboard_shortcut_editor/readme_dropdown.png -> /root/.local/share/jupyter/nbextensions/keyboard_shortcut_editor/readme_dropdown.png\n",
            "\u001b[32m[I 16:44:44 InstallContribNbextensionsApp]\u001b[m Copying: /usr/local/lib/python3.11/dist-packages/jupyter_contrib_nbextensions/nbextensions/keyboard_shortcut_editor/readme_undefined_key.png -> /root/.local/share/jupyter/nbextensions/keyboard_shortcut_editor/readme_undefined_key.png\n",
            "\u001b[32m[I 16:44:44 InstallContribNbextensionsApp]\u001b[m Copying: /usr/local/lib/python3.11/dist-packages/jupyter_contrib_nbextensions/nbextensions/keyboard_shortcut_editor/readme_add_new_link.png -> /root/.local/share/jupyter/nbextensions/keyboard_shortcut_editor/readme_add_new_link.png\n",
            "\u001b[32m[I 16:44:44 InstallContribNbextensionsApp]\u001b[m Copying: /usr/local/lib/python3.11/dist-packages/jupyter_contrib_nbextensions/nbextensions/keyboard_shortcut_editor/readme_comma.png -> /root/.local/share/jupyter/nbextensions/keyboard_shortcut_editor/readme_comma.png\n",
            "\u001b[32m[I 16:44:44 InstallContribNbextensionsApp]\u001b[m Copying: /usr/local/lib/python3.11/dist-packages/jupyter_contrib_nbextensions/nbextensions/keyboard_shortcut_editor/icon.png -> /root/.local/share/jupyter/nbextensions/keyboard_shortcut_editor/icon.png\n",
            "\u001b[32m[I 16:44:44 InstallContribNbextensionsApp]\u001b[m Copying: /usr/local/lib/python3.11/dist-packages/jupyter_contrib_nbextensions/nbextensions/keyboard_shortcut_editor/keyboard_shortcut_editor.yaml -> /root/.local/share/jupyter/nbextensions/keyboard_shortcut_editor/keyboard_shortcut_editor.yaml\n",
            "\u001b[32m[I 16:44:44 InstallContribNbextensionsApp]\u001b[m Copying: /usr/local/lib/python3.11/dist-packages/jupyter_contrib_nbextensions/nbextensions/keyboard_shortcut_editor/readme_shortcut_editor_success.png -> /root/.local/share/jupyter/nbextensions/keyboard_shortcut_editor/readme_shortcut_editor_success.png\n",
            "\u001b[32m[I 16:44:44 InstallContribNbextensionsApp]\u001b[m Copying: /usr/local/lib/python3.11/dist-packages/jupyter_contrib_nbextensions/nbextensions/keyboard_shortcut_editor/README.md -> /root/.local/share/jupyter/nbextensions/keyboard_shortcut_editor/README.md\n",
            "\u001b[32m[I 16:44:44 InstallContribNbextensionsApp]\u001b[m Copying: /usr/local/lib/python3.11/dist-packages/jupyter_contrib_nbextensions/nbextensions/keyboard_shortcut_editor/readme_add_new_select_action.png -> /root/.local/share/jupyter/nbextensions/keyboard_shortcut_editor/readme_add_new_select_action.png\n",
            "\u001b[32m[I 16:44:44 InstallContribNbextensionsApp]\u001b[m Copying: /usr/local/lib/python3.11/dist-packages/jupyter_contrib_nbextensions/nbextensions/keyboard_shortcut_editor/kse_components.js -> /root/.local/share/jupyter/nbextensions/keyboard_shortcut_editor/kse_components.js\n",
            "\u001b[32m[I 16:44:44 InstallContribNbextensionsApp]\u001b[m Copying: /usr/local/lib/python3.11/dist-packages/jupyter_contrib_nbextensions/nbextensions/keyboard_shortcut_editor/quickhelp_shim.js -> /root/.local/share/jupyter/nbextensions/keyboard_shortcut_editor/quickhelp_shim.js\n",
            "\u001b[32m[I 16:44:44 InstallContribNbextensionsApp]\u001b[m - Validating: \u001b[32mOK\u001b[0m\n",
            "\u001b[32m[I 16:44:44 InstallContribNbextensionsApp]\u001b[m Installing /usr/local/lib/python3.11/dist-packages/jupyter_contrib_nbextensions/nbextensions/go_to_current_running_cell -> go_to_current_running_cell\n",
            "\u001b[32m[I 16:44:44 InstallContribNbextensionsApp]\u001b[m Making directory: /root/.local/share/jupyter/nbextensions/go_to_current_running_cell/\n",
            "\u001b[32m[I 16:44:44 InstallContribNbextensionsApp]\u001b[m Copying: /usr/local/lib/python3.11/dist-packages/jupyter_contrib_nbextensions/nbextensions/go_to_current_running_cell/eye.png -> /root/.local/share/jupyter/nbextensions/go_to_current_running_cell/eye.png\n",
            "\u001b[32m[I 16:44:44 InstallContribNbextensionsApp]\u001b[m Copying: /usr/local/lib/python3.11/dist-packages/jupyter_contrib_nbextensions/nbextensions/go_to_current_running_cell/jump_to_cell.gif -> /root/.local/share/jupyter/nbextensions/go_to_current_running_cell/jump_to_cell.gif\n",
            "\u001b[32m[I 16:44:44 InstallContribNbextensionsApp]\u001b[m Copying: /usr/local/lib/python3.11/dist-packages/jupyter_contrib_nbextensions/nbextensions/go_to_current_running_cell/main.js -> /root/.local/share/jupyter/nbextensions/go_to_current_running_cell/main.js\n",
            "\u001b[32m[I 16:44:44 InstallContribNbextensionsApp]\u001b[m Copying: /usr/local/lib/python3.11/dist-packages/jupyter_contrib_nbextensions/nbextensions/go_to_current_running_cell/auto_focus.gif -> /root/.local/share/jupyter/nbextensions/go_to_current_running_cell/auto_focus.gif\n",
            "\u001b[32m[I 16:44:44 InstallContribNbextensionsApp]\u001b[m Copying: /usr/local/lib/python3.11/dist-packages/jupyter_contrib_nbextensions/nbextensions/go_to_current_running_cell/go_to_current_running_cell.yaml -> /root/.local/share/jupyter/nbextensions/go_to_current_running_cell/go_to_current_running_cell.yaml\n",
            "\u001b[32m[I 16:44:44 InstallContribNbextensionsApp]\u001b[m Copying: /usr/local/lib/python3.11/dist-packages/jupyter_contrib_nbextensions/nbextensions/go_to_current_running_cell/anchor.png -> /root/.local/share/jupyter/nbextensions/go_to_current_running_cell/anchor.png\n",
            "\u001b[32m[I 16:44:44 InstallContribNbextensionsApp]\u001b[m Copying: /usr/local/lib/python3.11/dist-packages/jupyter_contrib_nbextensions/nbextensions/go_to_current_running_cell/README.md -> /root/.local/share/jupyter/nbextensions/go_to_current_running_cell/README.md\n",
            "\u001b[32m[I 16:44:44 InstallContribNbextensionsApp]\u001b[m - Validating: \u001b[32mOK\u001b[0m\n",
            "\u001b[32m[I 16:44:44 InstallContribNbextensionsApp]\u001b[m Installing /usr/local/lib/python3.11/dist-packages/jupyter_contrib_nbextensions/nbextensions/select_keymap -> select_keymap\n",
            "\u001b[32m[I 16:44:44 InstallContribNbextensionsApp]\u001b[m Making directory: /root/.local/share/jupyter/nbextensions/select_keymap/\n",
            "\u001b[32m[I 16:44:44 InstallContribNbextensionsApp]\u001b[m Copying: /usr/local/lib/python3.11/dist-packages/jupyter_contrib_nbextensions/nbextensions/select_keymap/select_keymap.yaml -> /root/.local/share/jupyter/nbextensions/select_keymap/select_keymap.yaml\n",
            "\u001b[32m[I 16:44:44 InstallContribNbextensionsApp]\u001b[m Copying: /usr/local/lib/python3.11/dist-packages/jupyter_contrib_nbextensions/nbextensions/select_keymap/main.js -> /root/.local/share/jupyter/nbextensions/select_keymap/main.js\n",
            "\u001b[32m[I 16:44:44 InstallContribNbextensionsApp]\u001b[m Copying: /usr/local/lib/python3.11/dist-packages/jupyter_contrib_nbextensions/nbextensions/select_keymap/select_keymap.png -> /root/.local/share/jupyter/nbextensions/select_keymap/select_keymap.png\n",
            "\u001b[32m[I 16:44:44 InstallContribNbextensionsApp]\u001b[m Copying: /usr/local/lib/python3.11/dist-packages/jupyter_contrib_nbextensions/nbextensions/select_keymap/README.md -> /root/.local/share/jupyter/nbextensions/select_keymap/README.md\n",
            "\u001b[32m[I 16:44:44 InstallContribNbextensionsApp]\u001b[m - Validating: \u001b[32mOK\u001b[0m\n",
            "\u001b[32m[I 16:44:44 InstallContribNbextensionsApp]\u001b[m Installing /usr/local/lib/python3.11/dist-packages/jupyter_contrib_nbextensions/nbextensions/snippets -> snippets\n",
            "\u001b[32m[I 16:44:44 InstallContribNbextensionsApp]\u001b[m Making directory: /root/.local/share/jupyter/nbextensions/snippets/\n",
            "\u001b[32m[I 16:44:44 InstallContribNbextensionsApp]\u001b[m Copying: /usr/local/lib/python3.11/dist-packages/jupyter_contrib_nbextensions/nbextensions/snippets/snippets.yaml -> /root/.local/share/jupyter/nbextensions/snippets/snippets.yaml\n",
            "\u001b[32m[I 16:44:44 InstallContribNbextensionsApp]\u001b[m Copying: /usr/local/lib/python3.11/dist-packages/jupyter_contrib_nbextensions/nbextensions/snippets/snippets.json -> /root/.local/share/jupyter/nbextensions/snippets/snippets.json\n",
            "\u001b[32m[I 16:44:44 InstallContribNbextensionsApp]\u001b[m Copying: /usr/local/lib/python3.11/dist-packages/jupyter_contrib_nbextensions/nbextensions/snippets/main.js -> /root/.local/share/jupyter/nbextensions/snippets/main.js\n",
            "\u001b[32m[I 16:44:44 InstallContribNbextensionsApp]\u001b[m Copying: /usr/local/lib/python3.11/dist-packages/jupyter_contrib_nbextensions/nbextensions/snippets/README.md -> /root/.local/share/jupyter/nbextensions/snippets/README.md\n",
            "\u001b[32m[I 16:44:44 InstallContribNbextensionsApp]\u001b[m Copying: /usr/local/lib/python3.11/dist-packages/jupyter_contrib_nbextensions/nbextensions/snippets/snippets-demo.gif -> /root/.local/share/jupyter/nbextensions/snippets/snippets-demo.gif\n",
            "\u001b[32m[I 16:44:44 InstallContribNbextensionsApp]\u001b[m - Validating: \u001b[32mOK\u001b[0m\n",
            "\u001b[32m[I 16:44:44 InstallContribNbextensionsApp]\u001b[m Installing /usr/local/lib/python3.11/dist-packages/jupyter_contrib_nbextensions/nbextensions/init_cell -> init_cell\n",
            "\u001b[32m[I 16:44:44 InstallContribNbextensionsApp]\u001b[m Making directory: /root/.local/share/jupyter/nbextensions/init_cell/\n",
            "\u001b[32m[I 16:44:44 InstallContribNbextensionsApp]\u001b[m Copying: /usr/local/lib/python3.11/dist-packages/jupyter_contrib_nbextensions/nbextensions/init_cell/cell_toolbar_menu.png -> /root/.local/share/jupyter/nbextensions/init_cell/cell_toolbar_menu.png\n",
            "\u001b[32m[I 16:44:44 InstallContribNbextensionsApp]\u001b[m Copying: /usr/local/lib/python3.11/dist-packages/jupyter_contrib_nbextensions/nbextensions/init_cell/init_cell.yaml -> /root/.local/share/jupyter/nbextensions/init_cell/init_cell.yaml\n",
            "\u001b[32m[I 16:44:44 InstallContribNbextensionsApp]\u001b[m Copying: /usr/local/lib/python3.11/dist-packages/jupyter_contrib_nbextensions/nbextensions/init_cell/main.js -> /root/.local/share/jupyter/nbextensions/init_cell/main.js\n",
            "\u001b[32m[I 16:44:44 InstallContribNbextensionsApp]\u001b[m Copying: /usr/local/lib/python3.11/dist-packages/jupyter_contrib_nbextensions/nbextensions/init_cell/icon.png -> /root/.local/share/jupyter/nbextensions/init_cell/icon.png\n",
            "\u001b[32m[I 16:44:44 InstallContribNbextensionsApp]\u001b[m Copying: /usr/local/lib/python3.11/dist-packages/jupyter_contrib_nbextensions/nbextensions/init_cell/README.md -> /root/.local/share/jupyter/nbextensions/init_cell/README.md\n",
            "\u001b[32m[I 16:44:44 InstallContribNbextensionsApp]\u001b[m - Validating: \u001b[32mOK\u001b[0m\n",
            "\u001b[32m[I 16:44:44 InstallContribNbextensionsApp]\u001b[m Installing /usr/local/lib/python3.11/dist-packages/jupyter_contrib_nbextensions/nbextensions/codemirror_mode_extensions -> codemirror_mode_extensions\n",
            "\u001b[32m[I 16:44:44 InstallContribNbextensionsApp]\u001b[m Making directory: /root/.local/share/jupyter/nbextensions/codemirror_mode_extensions/\n",
            "\u001b[32m[I 16:44:44 InstallContribNbextensionsApp]\u001b[m Copying: /usr/local/lib/python3.11/dist-packages/jupyter_contrib_nbextensions/nbextensions/codemirror_mode_extensions/main.js -> /root/.local/share/jupyter/nbextensions/codemirror_mode_extensions/main.js\n",
            "\u001b[32m[I 16:44:44 InstallContribNbextensionsApp]\u001b[m Copying: /usr/local/lib/python3.11/dist-packages/jupyter_contrib_nbextensions/nbextensions/codemirror_mode_extensions/codemirror_mode_extensions.yaml -> /root/.local/share/jupyter/nbextensions/codemirror_mode_extensions/codemirror_mode_extensions.yaml\n",
            "\u001b[32m[I 16:44:44 InstallContribNbextensionsApp]\u001b[m - Validating: \u001b[32mOK\u001b[0m\n",
            "\u001b[32m[I 16:44:44 InstallContribNbextensionsApp]\u001b[m Installing /usr/local/lib/python3.11/dist-packages/jupyter_contrib_nbextensions/nbextensions/collapsible_headings -> collapsible_headings\n",
            "\u001b[32m[I 16:44:44 InstallContribNbextensionsApp]\u001b[m Making directory: /root/.local/share/jupyter/nbextensions/collapsible_headings/\n",
            "\u001b[32m[I 16:44:44 InstallContribNbextensionsApp]\u001b[m Copying: /usr/local/lib/python3.11/dist-packages/jupyter_contrib_nbextensions/nbextensions/collapsible_headings/main.css -> /root/.local/share/jupyter/nbextensions/collapsible_headings/main.css\n",
            "\u001b[32m[I 16:44:44 InstallContribNbextensionsApp]\u001b[m Copying: /usr/local/lib/python3.11/dist-packages/jupyter_contrib_nbextensions/nbextensions/collapsible_headings/screenshot.png -> /root/.local/share/jupyter/nbextensions/collapsible_headings/screenshot.png\n",
            "\u001b[32m[I 16:44:44 InstallContribNbextensionsApp]\u001b[m Copying: /usr/local/lib/python3.11/dist-packages/jupyter_contrib_nbextensions/nbextensions/collapsible_headings/main.js -> /root/.local/share/jupyter/nbextensions/collapsible_headings/main.js\n",
            "\u001b[32m[I 16:44:44 InstallContribNbextensionsApp]\u001b[m Copying: /usr/local/lib/python3.11/dist-packages/jupyter_contrib_nbextensions/nbextensions/collapsible_headings/readme.md -> /root/.local/share/jupyter/nbextensions/collapsible_headings/readme.md\n",
            "\u001b[32m[I 16:44:44 InstallContribNbextensionsApp]\u001b[m Copying: /usr/local/lib/python3.11/dist-packages/jupyter_contrib_nbextensions/nbextensions/collapsible_headings/icon.png -> /root/.local/share/jupyter/nbextensions/collapsible_headings/icon.png\n",
            "\u001b[32m[I 16:44:44 InstallContribNbextensionsApp]\u001b[m Copying: /usr/local/lib/python3.11/dist-packages/jupyter_contrib_nbextensions/nbextensions/collapsible_headings/collapsible_headings.yaml -> /root/.local/share/jupyter/nbextensions/collapsible_headings/collapsible_headings.yaml\n",
            "\u001b[32m[I 16:44:44 InstallContribNbextensionsApp]\u001b[m - Validating: \u001b[32mOK\u001b[0m\n",
            "\u001b[32m[I 16:44:44 InstallContribNbextensionsApp]\u001b[m Installing /usr/local/lib/python3.11/dist-packages/jupyter_contrib_nbextensions/nbextensions/tree-filter -> tree-filter\n",
            "\u001b[32m[I 16:44:44 InstallContribNbextensionsApp]\u001b[m Making directory: /root/.local/share/jupyter/nbextensions/tree-filter/\n",
            "\u001b[32m[I 16:44:44 InstallContribNbextensionsApp]\u001b[m Copying: /usr/local/lib/python3.11/dist-packages/jupyter_contrib_nbextensions/nbextensions/tree-filter/demo.gif -> /root/.local/share/jupyter/nbextensions/tree-filter/demo.gif\n",
            "\u001b[32m[I 16:44:44 InstallContribNbextensionsApp]\u001b[m Copying: /usr/local/lib/python3.11/dist-packages/jupyter_contrib_nbextensions/nbextensions/tree-filter/tree-filter.yaml -> /root/.local/share/jupyter/nbextensions/tree-filter/tree-filter.yaml\n",
            "\u001b[32m[I 16:44:44 InstallContribNbextensionsApp]\u001b[m Copying: /usr/local/lib/python3.11/dist-packages/jupyter_contrib_nbextensions/nbextensions/tree-filter/readme.md -> /root/.local/share/jupyter/nbextensions/tree-filter/readme.md\n",
            "\u001b[32m[I 16:44:44 InstallContribNbextensionsApp]\u001b[m Copying: /usr/local/lib/python3.11/dist-packages/jupyter_contrib_nbextensions/nbextensions/tree-filter/index.js -> /root/.local/share/jupyter/nbextensions/tree-filter/index.js\n",
            "\u001b[32m[I 16:44:44 InstallContribNbextensionsApp]\u001b[m - Validating: \u001b[32mOK\u001b[0m\n",
            "\u001b[32m[I 16:44:44 InstallContribNbextensionsApp]\u001b[m Installing /usr/local/lib/python3.11/dist-packages/jupyter_contrib_nbextensions/nbextensions/autosavetime -> autosavetime\n",
            "\u001b[32m[I 16:44:44 InstallContribNbextensionsApp]\u001b[m Making directory: /root/.local/share/jupyter/nbextensions/autosavetime/\n",
            "\u001b[32m[I 16:44:44 InstallContribNbextensionsApp]\u001b[m Copying: /usr/local/lib/python3.11/dist-packages/jupyter_contrib_nbextensions/nbextensions/autosavetime/main.js -> /root/.local/share/jupyter/nbextensions/autosavetime/main.js\n",
            "\u001b[32m[I 16:44:44 InstallContribNbextensionsApp]\u001b[m Copying: /usr/local/lib/python3.11/dist-packages/jupyter_contrib_nbextensions/nbextensions/autosavetime/autosavetime.yaml -> /root/.local/share/jupyter/nbextensions/autosavetime/autosavetime.yaml\n",
            "\u001b[32m[I 16:44:44 InstallContribNbextensionsApp]\u001b[m Copying: /usr/local/lib/python3.11/dist-packages/jupyter_contrib_nbextensions/nbextensions/autosavetime/icon.png -> /root/.local/share/jupyter/nbextensions/autosavetime/icon.png\n",
            "\u001b[32m[I 16:44:44 InstallContribNbextensionsApp]\u001b[m Copying: /usr/local/lib/python3.11/dist-packages/jupyter_contrib_nbextensions/nbextensions/autosavetime/README.md -> /root/.local/share/jupyter/nbextensions/autosavetime/README.md\n",
            "\u001b[32m[I 16:44:44 InstallContribNbextensionsApp]\u001b[m - Validating: \u001b[32mOK\u001b[0m\n",
            "\u001b[32m[I 16:44:44 InstallContribNbextensionsApp]\u001b[m Installing /usr/local/lib/python3.11/dist-packages/jupyter_contrib_nbextensions/nbextensions/datestamper -> datestamper\n",
            "\u001b[32m[I 16:44:44 InstallContribNbextensionsApp]\u001b[m Making directory: /root/.local/share/jupyter/nbextensions/datestamper/\n",
            "\u001b[32m[I 16:44:44 InstallContribNbextensionsApp]\u001b[m Copying: /usr/local/lib/python3.11/dist-packages/jupyter_contrib_nbextensions/nbextensions/datestamper/main.yaml -> /root/.local/share/jupyter/nbextensions/datestamper/main.yaml\n",
            "\u001b[32m[I 16:44:44 InstallContribNbextensionsApp]\u001b[m Copying: /usr/local/lib/python3.11/dist-packages/jupyter_contrib_nbextensions/nbextensions/datestamper/main.js -> /root/.local/share/jupyter/nbextensions/datestamper/main.js\n",
            "\u001b[32m[I 16:44:44 InstallContribNbextensionsApp]\u001b[m Copying: /usr/local/lib/python3.11/dist-packages/jupyter_contrib_nbextensions/nbextensions/datestamper/readme.md -> /root/.local/share/jupyter/nbextensions/datestamper/readme.md\n",
            "\u001b[32m[I 16:44:44 InstallContribNbextensionsApp]\u001b[m Copying: /usr/local/lib/python3.11/dist-packages/jupyter_contrib_nbextensions/nbextensions/datestamper/icon.png -> /root/.local/share/jupyter/nbextensions/datestamper/icon.png\n",
            "\u001b[32m[I 16:44:44 InstallContribNbextensionsApp]\u001b[m - Validating: \u001b[32mOK\u001b[0m\n",
            "\u001b[32m[I 16:44:44 InstallContribNbextensionsApp]\u001b[m Installing /usr/local/lib/python3.11/dist-packages/jupyter_contrib_nbextensions/nbextensions/load_tex_macros -> load_tex_macros\n",
            "\u001b[32m[I 16:44:44 InstallContribNbextensionsApp]\u001b[m Making directory: /root/.local/share/jupyter/nbextensions/load_tex_macros/\n",
            "\u001b[32m[I 16:44:44 InstallContribNbextensionsApp]\u001b[m Copying: /usr/local/lib/python3.11/dist-packages/jupyter_contrib_nbextensions/nbextensions/load_tex_macros/main.js -> /root/.local/share/jupyter/nbextensions/load_tex_macros/main.js\n",
            "\u001b[32m[I 16:44:44 InstallContribNbextensionsApp]\u001b[m Copying: /usr/local/lib/python3.11/dist-packages/jupyter_contrib_nbextensions/nbextensions/load_tex_macros/readme.md -> /root/.local/share/jupyter/nbextensions/load_tex_macros/readme.md\n",
            "\u001b[32m[I 16:44:44 InstallContribNbextensionsApp]\u001b[m Copying: /usr/local/lib/python3.11/dist-packages/jupyter_contrib_nbextensions/nbextensions/load_tex_macros/icon.png -> /root/.local/share/jupyter/nbextensions/load_tex_macros/icon.png\n",
            "\u001b[32m[I 16:44:44 InstallContribNbextensionsApp]\u001b[m Copying: /usr/local/lib/python3.11/dist-packages/jupyter_contrib_nbextensions/nbextensions/load_tex_macros/load_tex_macros.yaml -> /root/.local/share/jupyter/nbextensions/load_tex_macros/load_tex_macros.yaml\n",
            "\u001b[32m[I 16:44:44 InstallContribNbextensionsApp]\u001b[m - Validating: \u001b[32mOK\u001b[0m\n",
            "\u001b[32m[I 16:44:44 InstallContribNbextensionsApp]\u001b[m Installing /usr/local/lib/python3.11/dist-packages/jupyter_contrib_nbextensions/nbextensions/autoscroll -> autoscroll\n",
            "\u001b[32m[I 16:44:44 InstallContribNbextensionsApp]\u001b[m Making directory: /root/.local/share/jupyter/nbextensions/autoscroll/\n",
            "\u001b[32m[I 16:44:44 InstallContribNbextensionsApp]\u001b[m Copying: /usr/local/lib/python3.11/dist-packages/jupyter_contrib_nbextensions/nbextensions/autoscroll/main.js -> /root/.local/share/jupyter/nbextensions/autoscroll/main.js\n",
            "\u001b[32m[I 16:44:44 InstallContribNbextensionsApp]\u001b[m Copying: /usr/local/lib/python3.11/dist-packages/jupyter_contrib_nbextensions/nbextensions/autoscroll/autoscroll.yaml -> /root/.local/share/jupyter/nbextensions/autoscroll/autoscroll.yaml\n",
            "\u001b[32m[I 16:44:44 InstallContribNbextensionsApp]\u001b[m Copying: /usr/local/lib/python3.11/dist-packages/jupyter_contrib_nbextensions/nbextensions/autoscroll/icon.png -> /root/.local/share/jupyter/nbextensions/autoscroll/icon.png\n",
            "\u001b[32m[I 16:44:44 InstallContribNbextensionsApp]\u001b[m Copying: /usr/local/lib/python3.11/dist-packages/jupyter_contrib_nbextensions/nbextensions/autoscroll/README.md -> /root/.local/share/jupyter/nbextensions/autoscroll/README.md\n",
            "\u001b[32m[I 16:44:44 InstallContribNbextensionsApp]\u001b[m - Validating: \u001b[32mOK\u001b[0m\n",
            "\u001b[32m[I 16:44:44 InstallContribNbextensionsApp]\u001b[m Installing /usr/local/lib/python3.11/dist-packages/jupyter_contrib_nbextensions/nbextensions/exercise2 -> exercise2\n",
            "\u001b[32m[I 16:44:44 InstallContribNbextensionsApp]\u001b[m Making directory: /root/.local/share/jupyter/nbextensions/exercise2/\n",
            "\u001b[32m[I 16:44:44 InstallContribNbextensionsApp]\u001b[m Copying: /usr/local/lib/python3.11/dist-packages/jupyter_contrib_nbextensions/nbextensions/exercise2/main.css -> /root/.local/share/jupyter/nbextensions/exercise2/main.css\n",
            "\u001b[32m[I 16:44:44 InstallContribNbextensionsApp]\u001b[m Copying: /usr/local/lib/python3.11/dist-packages/jupyter_contrib_nbextensions/nbextensions/exercise2/image.gif -> /root/.local/share/jupyter/nbextensions/exercise2/image.gif\n",
            "\u001b[32m[I 16:44:44 InstallContribNbextensionsApp]\u001b[m Copying: /usr/local/lib/python3.11/dist-packages/jupyter_contrib_nbextensions/nbextensions/exercise2/exercise2.yaml -> /root/.local/share/jupyter/nbextensions/exercise2/exercise2.yaml\n",
            "\u001b[32m[I 16:44:44 InstallContribNbextensionsApp]\u001b[m Copying: /usr/local/lib/python3.11/dist-packages/jupyter_contrib_nbextensions/nbextensions/exercise2/main.js -> /root/.local/share/jupyter/nbextensions/exercise2/main.js\n",
            "\u001b[32m[I 16:44:44 InstallContribNbextensionsApp]\u001b[m Copying: /usr/local/lib/python3.11/dist-packages/jupyter_contrib_nbextensions/nbextensions/exercise2/readme.md -> /root/.local/share/jupyter/nbextensions/exercise2/readme.md\n",
            "\u001b[32m[I 16:44:44 InstallContribNbextensionsApp]\u001b[m Copying: /usr/local/lib/python3.11/dist-packages/jupyter_contrib_nbextensions/nbextensions/exercise2/icon.png -> /root/.local/share/jupyter/nbextensions/exercise2/icon.png\n",
            "\u001b[32m[I 16:44:44 InstallContribNbextensionsApp]\u001b[m - Validating: \u001b[32mOK\u001b[0m\n",
            "\u001b[32m[I 16:44:44 InstallContribNbextensionsApp]\u001b[m Installing /usr/local/lib/python3.11/dist-packages/jupyter_contrib_nbextensions/nbextensions/execution_dependencies -> execution_dependencies\n",
            "\u001b[32m[I 16:44:44 InstallContribNbextensionsApp]\u001b[m Making directory: /root/.local/share/jupyter/nbextensions/execution_dependencies/\n",
            "\u001b[32m[I 16:44:44 InstallContribNbextensionsApp]\u001b[m Copying: /usr/local/lib/python3.11/dist-packages/jupyter_contrib_nbextensions/nbextensions/execution_dependencies/execution_dependencies.js -> /root/.local/share/jupyter/nbextensions/execution_dependencies/execution_dependencies.js\n",
            "\u001b[32m[I 16:44:44 InstallContribNbextensionsApp]\u001b[m Copying: /usr/local/lib/python3.11/dist-packages/jupyter_contrib_nbextensions/nbextensions/execution_dependencies/README.md -> /root/.local/share/jupyter/nbextensions/execution_dependencies/README.md\n",
            "\u001b[32m[I 16:44:44 InstallContribNbextensionsApp]\u001b[m Copying: /usr/local/lib/python3.11/dist-packages/jupyter_contrib_nbextensions/nbextensions/execution_dependencies/execution_dependencies.yml -> /root/.local/share/jupyter/nbextensions/execution_dependencies/execution_dependencies.yml\n",
            "\u001b[32m[I 16:44:44 InstallContribNbextensionsApp]\u001b[m - Validating: \u001b[32mOK\u001b[0m\n",
            "\u001b[32m[I 16:44:44 InstallContribNbextensionsApp]\u001b[m Installing /usr/local/lib/python3.11/dist-packages/jupyter_contrib_nbextensions/nbextensions/code_prettify -> code_prettify\n",
            "\u001b[32m[I 16:44:44 InstallContribNbextensionsApp]\u001b[m Making directory: /root/.local/share/jupyter/nbextensions/code_prettify/\n",
            "\u001b[32m[I 16:44:44 InstallContribNbextensionsApp]\u001b[m Copying: /usr/local/lib/python3.11/dist-packages/jupyter_contrib_nbextensions/nbextensions/code_prettify/2to3.yaml -> /root/.local/share/jupyter/nbextensions/code_prettify/2to3.yaml\n",
            "\u001b[32m[I 16:44:44 InstallContribNbextensionsApp]\u001b[m Copying: /usr/local/lib/python3.11/dist-packages/jupyter_contrib_nbextensions/nbextensions/code_prettify/isort.js -> /root/.local/share/jupyter/nbextensions/code_prettify/isort.js\n",
            "\u001b[32m[I 16:44:44 InstallContribNbextensionsApp]\u001b[m Copying: /usr/local/lib/python3.11/dist-packages/jupyter_contrib_nbextensions/nbextensions/code_prettify/autopep8.js -> /root/.local/share/jupyter/nbextensions/code_prettify/autopep8.js\n",
            "\u001b[32m[I 16:44:44 InstallContribNbextensionsApp]\u001b[m Copying: /usr/local/lib/python3.11/dist-packages/jupyter_contrib_nbextensions/nbextensions/code_prettify/demo-jv.gif -> /root/.local/share/jupyter/nbextensions/code_prettify/demo-jv.gif\n",
            "\u001b[32m[I 16:44:44 InstallContribNbextensionsApp]\u001b[m Copying: /usr/local/lib/python3.11/dist-packages/jupyter_contrib_nbextensions/nbextensions/code_prettify/demo-py.gif -> /root/.local/share/jupyter/nbextensions/code_prettify/demo-py.gif\n",
            "\u001b[32m[I 16:44:44 InstallContribNbextensionsApp]\u001b[m Copying: /usr/local/lib/python3.11/dist-packages/jupyter_contrib_nbextensions/nbextensions/code_prettify/demo-R.gif -> /root/.local/share/jupyter/nbextensions/code_prettify/demo-R.gif\n",
            "\u001b[32m[I 16:44:44 InstallContribNbextensionsApp]\u001b[m Copying: /usr/local/lib/python3.11/dist-packages/jupyter_contrib_nbextensions/nbextensions/code_prettify/isort.yaml -> /root/.local/share/jupyter/nbextensions/code_prettify/isort.yaml\n",
            "\u001b[32m[I 16:44:44 InstallContribNbextensionsApp]\u001b[m Copying: /usr/local/lib/python3.11/dist-packages/jupyter_contrib_nbextensions/nbextensions/code_prettify/README_isort.md -> /root/.local/share/jupyter/nbextensions/code_prettify/README_isort.md\n",
            "\u001b[32m[I 16:44:44 InstallContribNbextensionsApp]\u001b[m Copying: /usr/local/lib/python3.11/dist-packages/jupyter_contrib_nbextensions/nbextensions/code_prettify/README_autopep8.md -> /root/.local/share/jupyter/nbextensions/code_prettify/README_autopep8.md\n",
            "\u001b[32m[I 16:44:44 InstallContribNbextensionsApp]\u001b[m Copying: /usr/local/lib/python3.11/dist-packages/jupyter_contrib_nbextensions/nbextensions/code_prettify/README_code_prettify.md -> /root/.local/share/jupyter/nbextensions/code_prettify/README_code_prettify.md\n",
            "\u001b[32m[I 16:44:44 InstallContribNbextensionsApp]\u001b[m Copying: /usr/local/lib/python3.11/dist-packages/jupyter_contrib_nbextensions/nbextensions/code_prettify/autopep8.yaml -> /root/.local/share/jupyter/nbextensions/code_prettify/autopep8.yaml\n",
            "\u001b[32m[I 16:44:44 InstallContribNbextensionsApp]\u001b[m Copying: /usr/local/lib/python3.11/dist-packages/jupyter_contrib_nbextensions/nbextensions/code_prettify/code_prettify.js -> /root/.local/share/jupyter/nbextensions/code_prettify/code_prettify.js\n",
            "\u001b[32m[I 16:44:44 InstallContribNbextensionsApp]\u001b[m Copying: /usr/local/lib/python3.11/dist-packages/jupyter_contrib_nbextensions/nbextensions/code_prettify/kernel_exec_on_cell.js -> /root/.local/share/jupyter/nbextensions/code_prettify/kernel_exec_on_cell.js\n",
            "\u001b[32m[I 16:44:44 InstallContribNbextensionsApp]\u001b[m Copying: /usr/local/lib/python3.11/dist-packages/jupyter_contrib_nbextensions/nbextensions/code_prettify/2to3.js -> /root/.local/share/jupyter/nbextensions/code_prettify/2to3.js\n",
            "\u001b[32m[I 16:44:44 InstallContribNbextensionsApp]\u001b[m Copying: /usr/local/lib/python3.11/dist-packages/jupyter_contrib_nbextensions/nbextensions/code_prettify/README.md -> /root/.local/share/jupyter/nbextensions/code_prettify/README.md\n",
            "\u001b[32m[I 16:44:44 InstallContribNbextensionsApp]\u001b[m Copying: /usr/local/lib/python3.11/dist-packages/jupyter_contrib_nbextensions/nbextensions/code_prettify/README_2to3.md -> /root/.local/share/jupyter/nbextensions/code_prettify/README_2to3.md\n",
            "\u001b[32m[I 16:44:44 InstallContribNbextensionsApp]\u001b[m Copying: /usr/local/lib/python3.11/dist-packages/jupyter_contrib_nbextensions/nbextensions/code_prettify/code_prettify.yaml -> /root/.local/share/jupyter/nbextensions/code_prettify/code_prettify.yaml\n",
            "\u001b[32m[I 16:44:44 InstallContribNbextensionsApp]\u001b[m Copying: /usr/local/lib/python3.11/dist-packages/jupyter_contrib_nbextensions/nbextensions/code_prettify/demo_2to3.gif -> /root/.local/share/jupyter/nbextensions/code_prettify/demo_2to3.gif\n",
            "\u001b[32m[I 16:44:44 InstallContribNbextensionsApp]\u001b[m - Validating: \u001b[32mOK\u001b[0m\n",
            "\u001b[32m[I 16:44:44 InstallContribNbextensionsApp]\u001b[m Installing /usr/local/lib/python3.11/dist-packages/jupyter_contrib_nbextensions/nbextensions/code_prettify -> code_prettify\n",
            "\u001b[32m[I 16:44:44 InstallContribNbextensionsApp]\u001b[m Up to date: /root/.local/share/jupyter/nbextensions/code_prettify/2to3.yaml\n",
            "\u001b[32m[I 16:44:44 InstallContribNbextensionsApp]\u001b[m Up to date: /root/.local/share/jupyter/nbextensions/code_prettify/isort.js\n",
            "\u001b[32m[I 16:44:44 InstallContribNbextensionsApp]\u001b[m Up to date: /root/.local/share/jupyter/nbextensions/code_prettify/autopep8.js\n",
            "\u001b[32m[I 16:44:44 InstallContribNbextensionsApp]\u001b[m Up to date: /root/.local/share/jupyter/nbextensions/code_prettify/demo-jv.gif\n",
            "\u001b[32m[I 16:44:44 InstallContribNbextensionsApp]\u001b[m Up to date: /root/.local/share/jupyter/nbextensions/code_prettify/demo-py.gif\n",
            "\u001b[32m[I 16:44:44 InstallContribNbextensionsApp]\u001b[m Up to date: /root/.local/share/jupyter/nbextensions/code_prettify/demo-R.gif\n",
            "\u001b[32m[I 16:44:44 InstallContribNbextensionsApp]\u001b[m Up to date: /root/.local/share/jupyter/nbextensions/code_prettify/isort.yaml\n",
            "\u001b[32m[I 16:44:44 InstallContribNbextensionsApp]\u001b[m Up to date: /root/.local/share/jupyter/nbextensions/code_prettify/README_isort.md\n",
            "\u001b[32m[I 16:44:44 InstallContribNbextensionsApp]\u001b[m Up to date: /root/.local/share/jupyter/nbextensions/code_prettify/README_autopep8.md\n",
            "\u001b[32m[I 16:44:44 InstallContribNbextensionsApp]\u001b[m Up to date: /root/.local/share/jupyter/nbextensions/code_prettify/README_code_prettify.md\n",
            "\u001b[32m[I 16:44:44 InstallContribNbextensionsApp]\u001b[m Up to date: /root/.local/share/jupyter/nbextensions/code_prettify/autopep8.yaml\n",
            "\u001b[32m[I 16:44:44 InstallContribNbextensionsApp]\u001b[m Up to date: /root/.local/share/jupyter/nbextensions/code_prettify/code_prettify.js\n",
            "\u001b[32m[I 16:44:44 InstallContribNbextensionsApp]\u001b[m Up to date: /root/.local/share/jupyter/nbextensions/code_prettify/kernel_exec_on_cell.js\n",
            "\u001b[32m[I 16:44:44 InstallContribNbextensionsApp]\u001b[m Up to date: /root/.local/share/jupyter/nbextensions/code_prettify/2to3.js\n",
            "\u001b[32m[I 16:44:44 InstallContribNbextensionsApp]\u001b[m Up to date: /root/.local/share/jupyter/nbextensions/code_prettify/README.md\n",
            "\u001b[32m[I 16:44:44 InstallContribNbextensionsApp]\u001b[m Up to date: /root/.local/share/jupyter/nbextensions/code_prettify/README_2to3.md\n",
            "\u001b[32m[I 16:44:44 InstallContribNbextensionsApp]\u001b[m Up to date: /root/.local/share/jupyter/nbextensions/code_prettify/code_prettify.yaml\n",
            "\u001b[32m[I 16:44:44 InstallContribNbextensionsApp]\u001b[m Up to date: /root/.local/share/jupyter/nbextensions/code_prettify/demo_2to3.gif\n",
            "\u001b[32m[I 16:44:44 InstallContribNbextensionsApp]\u001b[m - Validating: \u001b[32mOK\u001b[0m\n",
            "\u001b[32m[I 16:44:44 InstallContribNbextensionsApp]\u001b[m Installing /usr/local/lib/python3.11/dist-packages/jupyter_contrib_nbextensions/nbextensions/code_prettify -> code_prettify\n",
            "\u001b[32m[I 16:44:44 InstallContribNbextensionsApp]\u001b[m Up to date: /root/.local/share/jupyter/nbextensions/code_prettify/2to3.yaml\n",
            "\u001b[32m[I 16:44:44 InstallContribNbextensionsApp]\u001b[m Up to date: /root/.local/share/jupyter/nbextensions/code_prettify/isort.js\n",
            "\u001b[32m[I 16:44:44 InstallContribNbextensionsApp]\u001b[m Up to date: /root/.local/share/jupyter/nbextensions/code_prettify/autopep8.js\n",
            "\u001b[32m[I 16:44:44 InstallContribNbextensionsApp]\u001b[m Up to date: /root/.local/share/jupyter/nbextensions/code_prettify/demo-jv.gif\n",
            "\u001b[32m[I 16:44:44 InstallContribNbextensionsApp]\u001b[m Up to date: /root/.local/share/jupyter/nbextensions/code_prettify/demo-py.gif\n",
            "\u001b[32m[I 16:44:44 InstallContribNbextensionsApp]\u001b[m Up to date: /root/.local/share/jupyter/nbextensions/code_prettify/demo-R.gif\n",
            "\u001b[32m[I 16:44:44 InstallContribNbextensionsApp]\u001b[m Up to date: /root/.local/share/jupyter/nbextensions/code_prettify/isort.yaml\n",
            "\u001b[32m[I 16:44:44 InstallContribNbextensionsApp]\u001b[m Up to date: /root/.local/share/jupyter/nbextensions/code_prettify/README_isort.md\n",
            "\u001b[32m[I 16:44:44 InstallContribNbextensionsApp]\u001b[m Up to date: /root/.local/share/jupyter/nbextensions/code_prettify/README_autopep8.md\n",
            "\u001b[32m[I 16:44:44 InstallContribNbextensionsApp]\u001b[m Up to date: /root/.local/share/jupyter/nbextensions/code_prettify/README_code_prettify.md\n",
            "\u001b[32m[I 16:44:44 InstallContribNbextensionsApp]\u001b[m Up to date: /root/.local/share/jupyter/nbextensions/code_prettify/autopep8.yaml\n",
            "\u001b[32m[I 16:44:44 InstallContribNbextensionsApp]\u001b[m Up to date: /root/.local/share/jupyter/nbextensions/code_prettify/code_prettify.js\n",
            "\u001b[32m[I 16:44:44 InstallContribNbextensionsApp]\u001b[m Up to date: /root/.local/share/jupyter/nbextensions/code_prettify/kernel_exec_on_cell.js\n",
            "\u001b[32m[I 16:44:44 InstallContribNbextensionsApp]\u001b[m Up to date: /root/.local/share/jupyter/nbextensions/code_prettify/2to3.js\n",
            "\u001b[32m[I 16:44:44 InstallContribNbextensionsApp]\u001b[m Up to date: /root/.local/share/jupyter/nbextensions/code_prettify/README.md\n",
            "\u001b[32m[I 16:44:44 InstallContribNbextensionsApp]\u001b[m Up to date: /root/.local/share/jupyter/nbextensions/code_prettify/README_2to3.md\n",
            "\u001b[32m[I 16:44:44 InstallContribNbextensionsApp]\u001b[m Up to date: /root/.local/share/jupyter/nbextensions/code_prettify/code_prettify.yaml\n",
            "\u001b[32m[I 16:44:44 InstallContribNbextensionsApp]\u001b[m Up to date: /root/.local/share/jupyter/nbextensions/code_prettify/demo_2to3.gif\n",
            "\u001b[32m[I 16:44:44 InstallContribNbextensionsApp]\u001b[m - Validating: \u001b[32mOK\u001b[0m\n",
            "\u001b[32m[I 16:44:44 InstallContribNbextensionsApp]\u001b[m Installing /usr/local/lib/python3.11/dist-packages/jupyter_contrib_nbextensions/nbextensions/code_prettify -> code_prettify\n",
            "\u001b[32m[I 16:44:44 InstallContribNbextensionsApp]\u001b[m Up to date: /root/.local/share/jupyter/nbextensions/code_prettify/2to3.yaml\n",
            "\u001b[32m[I 16:44:44 InstallContribNbextensionsApp]\u001b[m Up to date: /root/.local/share/jupyter/nbextensions/code_prettify/isort.js\n",
            "\u001b[32m[I 16:44:44 InstallContribNbextensionsApp]\u001b[m Up to date: /root/.local/share/jupyter/nbextensions/code_prettify/autopep8.js\n",
            "\u001b[32m[I 16:44:44 InstallContribNbextensionsApp]\u001b[m Up to date: /root/.local/share/jupyter/nbextensions/code_prettify/demo-jv.gif\n",
            "\u001b[32m[I 16:44:44 InstallContribNbextensionsApp]\u001b[m Up to date: /root/.local/share/jupyter/nbextensions/code_prettify/demo-py.gif\n",
            "\u001b[32m[I 16:44:44 InstallContribNbextensionsApp]\u001b[m Up to date: /root/.local/share/jupyter/nbextensions/code_prettify/demo-R.gif\n",
            "\u001b[32m[I 16:44:44 InstallContribNbextensionsApp]\u001b[m Up to date: /root/.local/share/jupyter/nbextensions/code_prettify/isort.yaml\n",
            "\u001b[32m[I 16:44:44 InstallContribNbextensionsApp]\u001b[m Up to date: /root/.local/share/jupyter/nbextensions/code_prettify/README_isort.md\n",
            "\u001b[32m[I 16:44:44 InstallContribNbextensionsApp]\u001b[m Up to date: /root/.local/share/jupyter/nbextensions/code_prettify/README_autopep8.md\n",
            "\u001b[32m[I 16:44:44 InstallContribNbextensionsApp]\u001b[m Up to date: /root/.local/share/jupyter/nbextensions/code_prettify/README_code_prettify.md\n",
            "\u001b[32m[I 16:44:44 InstallContribNbextensionsApp]\u001b[m Up to date: /root/.local/share/jupyter/nbextensions/code_prettify/autopep8.yaml\n",
            "\u001b[32m[I 16:44:44 InstallContribNbextensionsApp]\u001b[m Up to date: /root/.local/share/jupyter/nbextensions/code_prettify/code_prettify.js\n",
            "\u001b[32m[I 16:44:44 InstallContribNbextensionsApp]\u001b[m Up to date: /root/.local/share/jupyter/nbextensions/code_prettify/kernel_exec_on_cell.js\n",
            "\u001b[32m[I 16:44:44 InstallContribNbextensionsApp]\u001b[m Up to date: /root/.local/share/jupyter/nbextensions/code_prettify/2to3.js\n",
            "\u001b[32m[I 16:44:44 InstallContribNbextensionsApp]\u001b[m Up to date: /root/.local/share/jupyter/nbextensions/code_prettify/README.md\n",
            "\u001b[32m[I 16:44:44 InstallContribNbextensionsApp]\u001b[m Up to date: /root/.local/share/jupyter/nbextensions/code_prettify/README_2to3.md\n",
            "\u001b[32m[I 16:44:44 InstallContribNbextensionsApp]\u001b[m Up to date: /root/.local/share/jupyter/nbextensions/code_prettify/code_prettify.yaml\n",
            "\u001b[32m[I 16:44:44 InstallContribNbextensionsApp]\u001b[m Up to date: /root/.local/share/jupyter/nbextensions/code_prettify/demo_2to3.gif\n",
            "\u001b[32m[I 16:44:44 InstallContribNbextensionsApp]\u001b[m - Validating: \u001b[32mOK\u001b[0m\n",
            "\u001b[32m[I 16:44:44 InstallContribNbextensionsApp]\u001b[m Installing /usr/local/lib/python3.11/dist-packages/jupyter_contrib_nbextensions/nbextensions/skill -> skill\n",
            "\u001b[32m[I 16:44:44 InstallContribNbextensionsApp]\u001b[m Making directory: /root/.local/share/jupyter/nbextensions/skill/\n",
            "\u001b[32m[I 16:44:44 InstallContribNbextensionsApp]\u001b[m Copying: /usr/local/lib/python3.11/dist-packages/jupyter_contrib_nbextensions/nbextensions/skill/main.js -> /root/.local/share/jupyter/nbextensions/skill/main.js\n",
            "\u001b[32m[I 16:44:44 InstallContribNbextensionsApp]\u001b[m Copying: /usr/local/lib/python3.11/dist-packages/jupyter_contrib_nbextensions/nbextensions/skill/skill.js -> /root/.local/share/jupyter/nbextensions/skill/skill.js\n",
            "\u001b[32m[I 16:44:44 InstallContribNbextensionsApp]\u001b[m Copying: /usr/local/lib/python3.11/dist-packages/jupyter_contrib_nbextensions/nbextensions/skill/README.md -> /root/.local/share/jupyter/nbextensions/skill/README.md\n",
            "\u001b[32m[I 16:44:44 InstallContribNbextensionsApp]\u001b[m Copying: /usr/local/lib/python3.11/dist-packages/jupyter_contrib_nbextensions/nbextensions/skill/skill.yaml -> /root/.local/share/jupyter/nbextensions/skill/skill.yaml\n",
            "\u001b[32m[I 16:44:44 InstallContribNbextensionsApp]\u001b[m - Validating: \u001b[32mOK\u001b[0m\n",
            "\u001b[32m[I 16:44:44 InstallContribNbextensionsApp]\u001b[m Installing /usr/local/lib/python3.11/dist-packages/jupyter_contrib_nbextensions/nbextensions/scratchpad -> scratchpad\n",
            "\u001b[32m[I 16:44:44 InstallContribNbextensionsApp]\u001b[m Making directory: /root/.local/share/jupyter/nbextensions/scratchpad/\n",
            "\u001b[32m[I 16:44:44 InstallContribNbextensionsApp]\u001b[m Copying: /usr/local/lib/python3.11/dist-packages/jupyter_contrib_nbextensions/nbextensions/scratchpad/demo.gif -> /root/.local/share/jupyter/nbextensions/scratchpad/demo.gif\n",
            "\u001b[32m[I 16:44:44 InstallContribNbextensionsApp]\u001b[m Copying: /usr/local/lib/python3.11/dist-packages/jupyter_contrib_nbextensions/nbextensions/scratchpad/scratchpad.css -> /root/.local/share/jupyter/nbextensions/scratchpad/scratchpad.css\n",
            "\u001b[32m[I 16:44:44 InstallContribNbextensionsApp]\u001b[m Copying: /usr/local/lib/python3.11/dist-packages/jupyter_contrib_nbextensions/nbextensions/scratchpad/main.js -> /root/.local/share/jupyter/nbextensions/scratchpad/main.js\n",
            "\u001b[32m[I 16:44:44 InstallContribNbextensionsApp]\u001b[m Copying: /usr/local/lib/python3.11/dist-packages/jupyter_contrib_nbextensions/nbextensions/scratchpad/LICENSE -> /root/.local/share/jupyter/nbextensions/scratchpad/LICENSE\n",
            "\u001b[32m[I 16:44:44 InstallContribNbextensionsApp]\u001b[m Copying: /usr/local/lib/python3.11/dist-packages/jupyter_contrib_nbextensions/nbextensions/scratchpad/scratchpad.yaml -> /root/.local/share/jupyter/nbextensions/scratchpad/scratchpad.yaml\n",
            "\u001b[32m[I 16:44:44 InstallContribNbextensionsApp]\u001b[m Copying: /usr/local/lib/python3.11/dist-packages/jupyter_contrib_nbextensions/nbextensions/scratchpad/README.md -> /root/.local/share/jupyter/nbextensions/scratchpad/README.md\n",
            "\u001b[32m[I 16:44:44 InstallContribNbextensionsApp]\u001b[m - Validating: \u001b[32mOK\u001b[0m\n",
            "\u001b[32m[I 16:44:44 InstallContribNbextensionsApp]\u001b[m Installing /usr/local/lib/python3.11/dist-packages/jupyter_contrib_nbextensions/nbextensions/move_selected_cells -> move_selected_cells\n",
            "\u001b[32m[I 16:44:44 InstallContribNbextensionsApp]\u001b[m Making directory: /root/.local/share/jupyter/nbextensions/move_selected_cells/\n",
            "\u001b[32m[I 16:44:44 InstallContribNbextensionsApp]\u001b[m Copying: /usr/local/lib/python3.11/dist-packages/jupyter_contrib_nbextensions/nbextensions/move_selected_cells/main.js -> /root/.local/share/jupyter/nbextensions/move_selected_cells/main.js\n",
            "\u001b[32m[I 16:44:44 InstallContribNbextensionsApp]\u001b[m Copying: /usr/local/lib/python3.11/dist-packages/jupyter_contrib_nbextensions/nbextensions/move_selected_cells/README.md -> /root/.local/share/jupyter/nbextensions/move_selected_cells/README.md\n",
            "\u001b[32m[I 16:44:44 InstallContribNbextensionsApp]\u001b[m Copying: /usr/local/lib/python3.11/dist-packages/jupyter_contrib_nbextensions/nbextensions/move_selected_cells/move_selected_cells.yaml -> /root/.local/share/jupyter/nbextensions/move_selected_cells/move_selected_cells.yaml\n",
            "\u001b[32m[I 16:44:44 InstallContribNbextensionsApp]\u001b[m - Validating: \u001b[32mOK\u001b[0m\n",
            "\u001b[32m[I 16:44:44 InstallContribNbextensionsApp]\u001b[m Installing /usr/local/lib/python3.11/dist-packages/jupyter_contrib_nbextensions/nbextensions/toggle_all_line_numbers -> toggle_all_line_numbers\n",
            "\u001b[32m[I 16:44:44 InstallContribNbextensionsApp]\u001b[m Making directory: /root/.local/share/jupyter/nbextensions/toggle_all_line_numbers/\n",
            "\u001b[32m[I 16:44:44 InstallContribNbextensionsApp]\u001b[m Copying: /usr/local/lib/python3.11/dist-packages/jupyter_contrib_nbextensions/nbextensions/toggle_all_line_numbers/main.yaml -> /root/.local/share/jupyter/nbextensions/toggle_all_line_numbers/main.yaml\n",
            "\u001b[32m[I 16:44:44 InstallContribNbextensionsApp]\u001b[m Copying: /usr/local/lib/python3.11/dist-packages/jupyter_contrib_nbextensions/nbextensions/toggle_all_line_numbers/main.js -> /root/.local/share/jupyter/nbextensions/toggle_all_line_numbers/main.js\n",
            "\u001b[32m[I 16:44:44 InstallContribNbextensionsApp]\u001b[m Copying: /usr/local/lib/python3.11/dist-packages/jupyter_contrib_nbextensions/nbextensions/toggle_all_line_numbers/readme.md -> /root/.local/share/jupyter/nbextensions/toggle_all_line_numbers/readme.md\n",
            "\u001b[32m[I 16:44:44 InstallContribNbextensionsApp]\u001b[m Copying: /usr/local/lib/python3.11/dist-packages/jupyter_contrib_nbextensions/nbextensions/toggle_all_line_numbers/icon.png -> /root/.local/share/jupyter/nbextensions/toggle_all_line_numbers/icon.png\n",
            "\u001b[32m[I 16:44:44 InstallContribNbextensionsApp]\u001b[m - Validating: \u001b[32mOK\u001b[0m\n",
            "\u001b[32m[I 16:44:44 InstallContribNbextensionsApp]\u001b[m Installing /usr/local/lib/python3.11/dist-packages/jupyter_contrib_nbextensions/nbextensions/codefolding -> codefolding\n",
            "\u001b[32m[I 16:44:44 InstallContribNbextensionsApp]\u001b[m Making directory: /root/.local/share/jupyter/nbextensions/codefolding/\n",
            "\u001b[32m[I 16:44:44 InstallContribNbextensionsApp]\u001b[m Copying: /usr/local/lib/python3.11/dist-packages/jupyter_contrib_nbextensions/nbextensions/codefolding/codefolding.yaml -> /root/.local/share/jupyter/nbextensions/codefolding/codefolding.yaml\n",
            "\u001b[32m[I 16:44:44 InstallContribNbextensionsApp]\u001b[m Copying: /usr/local/lib/python3.11/dist-packages/jupyter_contrib_nbextensions/nbextensions/codefolding/magic-folded.png -> /root/.local/share/jupyter/nbextensions/codefolding/magic-folded.png\n",
            "\u001b[32m[I 16:44:44 InstallContribNbextensionsApp]\u001b[m Copying: /usr/local/lib/python3.11/dist-packages/jupyter_contrib_nbextensions/nbextensions/codefolding/firstline-fold.js -> /root/.local/share/jupyter/nbextensions/codefolding/firstline-fold.js\n",
            "\u001b[32m[I 16:44:44 InstallContribNbextensionsApp]\u001b[m Copying: /usr/local/lib/python3.11/dist-packages/jupyter_contrib_nbextensions/nbextensions/codefolding/main.js -> /root/.local/share/jupyter/nbextensions/codefolding/main.js\n",
            "\u001b[32m[I 16:44:44 InstallContribNbextensionsApp]\u001b[m Copying: /usr/local/lib/python3.11/dist-packages/jupyter_contrib_nbextensions/nbextensions/codefolding/codefolding_firstline_unfolded.png -> /root/.local/share/jupyter/nbextensions/codefolding/codefolding_firstline_unfolded.png\n",
            "\u001b[32m[I 16:44:44 InstallContribNbextensionsApp]\u001b[m Copying: /usr/local/lib/python3.11/dist-packages/jupyter_contrib_nbextensions/nbextensions/codefolding/codefolding_indent_unfolded.png -> /root/.local/share/jupyter/nbextensions/codefolding/codefolding_indent_unfolded.png\n",
            "\u001b[32m[I 16:44:44 InstallContribNbextensionsApp]\u001b[m Copying: /usr/local/lib/python3.11/dist-packages/jupyter_contrib_nbextensions/nbextensions/codefolding/codefolding_editor.png -> /root/.local/share/jupyter/nbextensions/codefolding/codefolding_editor.png\n",
            "\u001b[32m[I 16:44:44 InstallContribNbextensionsApp]\u001b[m Copying: /usr/local/lib/python3.11/dist-packages/jupyter_contrib_nbextensions/nbextensions/codefolding/codefolding_firstline_folded.png -> /root/.local/share/jupyter/nbextensions/codefolding/codefolding_firstline_folded.png\n",
            "\u001b[32m[I 16:44:44 InstallContribNbextensionsApp]\u001b[m Copying: /usr/local/lib/python3.11/dist-packages/jupyter_contrib_nbextensions/nbextensions/codefolding/readme.md -> /root/.local/share/jupyter/nbextensions/codefolding/readme.md\n",
            "\u001b[32m[I 16:44:44 InstallContribNbextensionsApp]\u001b[m Copying: /usr/local/lib/python3.11/dist-packages/jupyter_contrib_nbextensions/nbextensions/codefolding/icon.png -> /root/.local/share/jupyter/nbextensions/codefolding/icon.png\n",
            "\u001b[32m[I 16:44:44 InstallContribNbextensionsApp]\u001b[m Copying: /usr/local/lib/python3.11/dist-packages/jupyter_contrib_nbextensions/nbextensions/codefolding/edit.js -> /root/.local/share/jupyter/nbextensions/codefolding/edit.js\n",
            "\u001b[32m[I 16:44:44 InstallContribNbextensionsApp]\u001b[m Copying: /usr/local/lib/python3.11/dist-packages/jupyter_contrib_nbextensions/nbextensions/codefolding/magic-unfolded.png -> /root/.local/share/jupyter/nbextensions/codefolding/magic-unfolded.png\n",
            "\u001b[32m[I 16:44:44 InstallContribNbextensionsApp]\u001b[m Copying: /usr/local/lib/python3.11/dist-packages/jupyter_contrib_nbextensions/nbextensions/codefolding/codefolding_editor.yaml -> /root/.local/share/jupyter/nbextensions/codefolding/codefolding_editor.yaml\n",
            "\u001b[32m[I 16:44:44 InstallContribNbextensionsApp]\u001b[m Copying: /usr/local/lib/python3.11/dist-packages/jupyter_contrib_nbextensions/nbextensions/codefolding/codefolding_indent_folded_1.png -> /root/.local/share/jupyter/nbextensions/codefolding/codefolding_indent_folded_1.png\n",
            "\u001b[32m[I 16:44:44 InstallContribNbextensionsApp]\u001b[m Copying: /usr/local/lib/python3.11/dist-packages/jupyter_contrib_nbextensions/nbextensions/codefolding/foldgutter.css -> /root/.local/share/jupyter/nbextensions/codefolding/foldgutter.css\n",
            "\u001b[32m[I 16:44:44 InstallContribNbextensionsApp]\u001b[m Copying: /usr/local/lib/python3.11/dist-packages/jupyter_contrib_nbextensions/nbextensions/codefolding/codefolding_indent_folded_2.png -> /root/.local/share/jupyter/nbextensions/codefolding/codefolding_indent_folded_2.png\n",
            "\u001b[32m[I 16:44:44 InstallContribNbextensionsApp]\u001b[m Copying: /usr/local/lib/python3.11/dist-packages/jupyter_contrib_nbextensions/nbextensions/codefolding/magic-fold.js -> /root/.local/share/jupyter/nbextensions/codefolding/magic-fold.js\n",
            "\u001b[32m[I 16:44:44 InstallContribNbextensionsApp]\u001b[m Copying: /usr/local/lib/python3.11/dist-packages/jupyter_contrib_nbextensions/nbextensions/codefolding/blockcomment-fold.js -> /root/.local/share/jupyter/nbextensions/codefolding/blockcomment-fold.js\n",
            "\u001b[32m[I 16:44:44 InstallContribNbextensionsApp]\u001b[m - Validating: \u001b[32mOK\u001b[0m\n",
            "\u001b[32m[I 16:44:44 InstallContribNbextensionsApp]\u001b[m Installing /usr/local/lib/python3.11/dist-packages/jupyter_contrib_nbextensions/nbextensions/codefolding -> codefolding\n",
            "\u001b[32m[I 16:44:44 InstallContribNbextensionsApp]\u001b[m Up to date: /root/.local/share/jupyter/nbextensions/codefolding/codefolding.yaml\n",
            "\u001b[32m[I 16:44:44 InstallContribNbextensionsApp]\u001b[m Up to date: /root/.local/share/jupyter/nbextensions/codefolding/magic-folded.png\n",
            "\u001b[32m[I 16:44:44 InstallContribNbextensionsApp]\u001b[m Up to date: /root/.local/share/jupyter/nbextensions/codefolding/firstline-fold.js\n",
            "\u001b[32m[I 16:44:44 InstallContribNbextensionsApp]\u001b[m Up to date: /root/.local/share/jupyter/nbextensions/codefolding/main.js\n",
            "\u001b[32m[I 16:44:44 InstallContribNbextensionsApp]\u001b[m Up to date: /root/.local/share/jupyter/nbextensions/codefolding/codefolding_firstline_unfolded.png\n",
            "\u001b[32m[I 16:44:44 InstallContribNbextensionsApp]\u001b[m Up to date: /root/.local/share/jupyter/nbextensions/codefolding/codefolding_indent_unfolded.png\n",
            "\u001b[32m[I 16:44:44 InstallContribNbextensionsApp]\u001b[m Up to date: /root/.local/share/jupyter/nbextensions/codefolding/codefolding_editor.png\n",
            "\u001b[32m[I 16:44:44 InstallContribNbextensionsApp]\u001b[m Up to date: /root/.local/share/jupyter/nbextensions/codefolding/codefolding_firstline_folded.png\n",
            "\u001b[32m[I 16:44:44 InstallContribNbextensionsApp]\u001b[m Up to date: /root/.local/share/jupyter/nbextensions/codefolding/readme.md\n",
            "\u001b[32m[I 16:44:44 InstallContribNbextensionsApp]\u001b[m Up to date: /root/.local/share/jupyter/nbextensions/codefolding/icon.png\n",
            "\u001b[32m[I 16:44:44 InstallContribNbextensionsApp]\u001b[m Up to date: /root/.local/share/jupyter/nbextensions/codefolding/edit.js\n",
            "\u001b[32m[I 16:44:44 InstallContribNbextensionsApp]\u001b[m Up to date: /root/.local/share/jupyter/nbextensions/codefolding/magic-unfolded.png\n",
            "\u001b[32m[I 16:44:44 InstallContribNbextensionsApp]\u001b[m Up to date: /root/.local/share/jupyter/nbextensions/codefolding/codefolding_editor.yaml\n",
            "\u001b[32m[I 16:44:44 InstallContribNbextensionsApp]\u001b[m Up to date: /root/.local/share/jupyter/nbextensions/codefolding/codefolding_indent_folded_1.png\n",
            "\u001b[32m[I 16:44:44 InstallContribNbextensionsApp]\u001b[m Up to date: /root/.local/share/jupyter/nbextensions/codefolding/foldgutter.css\n",
            "\u001b[32m[I 16:44:44 InstallContribNbextensionsApp]\u001b[m Up to date: /root/.local/share/jupyter/nbextensions/codefolding/codefolding_indent_folded_2.png\n",
            "\u001b[32m[I 16:44:44 InstallContribNbextensionsApp]\u001b[m Up to date: /root/.local/share/jupyter/nbextensions/codefolding/magic-fold.js\n",
            "\u001b[32m[I 16:44:44 InstallContribNbextensionsApp]\u001b[m Up to date: /root/.local/share/jupyter/nbextensions/codefolding/blockcomment-fold.js\n",
            "\u001b[32m[I 16:44:44 InstallContribNbextensionsApp]\u001b[m - Validating: \u001b[32mOK\u001b[0m\n",
            "\u001b[32m[I 16:44:44 InstallContribNbextensionsApp]\u001b[m Installing /usr/local/lib/python3.11/dist-packages/jupyter_contrib_nbextensions/nbextensions/limit_output -> limit_output\n",
            "\u001b[32m[I 16:44:44 InstallContribNbextensionsApp]\u001b[m Making directory: /root/.local/share/jupyter/nbextensions/limit_output/\n",
            "\u001b[32m[I 16:44:44 InstallContribNbextensionsApp]\u001b[m Copying: /usr/local/lib/python3.11/dist-packages/jupyter_contrib_nbextensions/nbextensions/limit_output/main.js -> /root/.local/share/jupyter/nbextensions/limit_output/main.js\n",
            "\u001b[32m[I 16:44:44 InstallContribNbextensionsApp]\u001b[m Copying: /usr/local/lib/python3.11/dist-packages/jupyter_contrib_nbextensions/nbextensions/limit_output/limit-output.yaml -> /root/.local/share/jupyter/nbextensions/limit_output/limit-output.yaml\n",
            "\u001b[32m[I 16:44:44 InstallContribNbextensionsApp]\u001b[m Copying: /usr/local/lib/python3.11/dist-packages/jupyter_contrib_nbextensions/nbextensions/limit_output/readme.md -> /root/.local/share/jupyter/nbextensions/limit_output/readme.md\n",
            "\u001b[32m[I 16:44:44 InstallContribNbextensionsApp]\u001b[m Copying: /usr/local/lib/python3.11/dist-packages/jupyter_contrib_nbextensions/nbextensions/limit_output/icon.png -> /root/.local/share/jupyter/nbextensions/limit_output/icon.png\n",
            "\u001b[32m[I 16:44:44 InstallContribNbextensionsApp]\u001b[m - Validating: \u001b[32mOK\u001b[0m\n",
            "\u001b[32m[I 16:44:44 InstallContribNbextensionsApp]\u001b[m Installing /usr/local/lib/python3.11/dist-packages/jupyter_contrib_nbextensions/nbextensions/exercise -> exercise\n",
            "\u001b[32m[I 16:44:44 InstallContribNbextensionsApp]\u001b[m Making directory: /root/.local/share/jupyter/nbextensions/exercise/\n",
            "\u001b[32m[I 16:44:44 InstallContribNbextensionsApp]\u001b[m Copying: /usr/local/lib/python3.11/dist-packages/jupyter_contrib_nbextensions/nbextensions/exercise/history.md -> /root/.local/share/jupyter/nbextensions/exercise/history.md\n",
            "\u001b[32m[I 16:44:44 InstallContribNbextensionsApp]\u001b[m Copying: /usr/local/lib/python3.11/dist-packages/jupyter_contrib_nbextensions/nbextensions/exercise/main.css -> /root/.local/share/jupyter/nbextensions/exercise/main.css\n",
            "\u001b[32m[I 16:44:44 InstallContribNbextensionsApp]\u001b[m Copying: /usr/local/lib/python3.11/dist-packages/jupyter_contrib_nbextensions/nbextensions/exercise/image.gif -> /root/.local/share/jupyter/nbextensions/exercise/image.gif\n",
            "\u001b[32m[I 16:44:44 InstallContribNbextensionsApp]\u001b[m Copying: /usr/local/lib/python3.11/dist-packages/jupyter_contrib_nbextensions/nbextensions/exercise/main.js -> /root/.local/share/jupyter/nbextensions/exercise/main.js\n",
            "\u001b[32m[I 16:44:44 InstallContribNbextensionsApp]\u001b[m Copying: /usr/local/lib/python3.11/dist-packages/jupyter_contrib_nbextensions/nbextensions/exercise/readme.md -> /root/.local/share/jupyter/nbextensions/exercise/readme.md\n",
            "\u001b[32m[I 16:44:44 InstallContribNbextensionsApp]\u001b[m Copying: /usr/local/lib/python3.11/dist-packages/jupyter_contrib_nbextensions/nbextensions/exercise/icon.png -> /root/.local/share/jupyter/nbextensions/exercise/icon.png\n",
            "\u001b[32m[I 16:44:44 InstallContribNbextensionsApp]\u001b[m Copying: /usr/local/lib/python3.11/dist-packages/jupyter_contrib_nbextensions/nbextensions/exercise/exercise.yaml -> /root/.local/share/jupyter/nbextensions/exercise/exercise.yaml\n",
            "\u001b[32m[I 16:44:44 InstallContribNbextensionsApp]\u001b[m - Validating: \u001b[32mOK\u001b[0m\n",
            "\u001b[32m[I 16:44:44 InstallContribNbextensionsApp]\u001b[m Installing /usr/local/lib/python3.11/dist-packages/jupyter_contrib_nbextensions/nbextensions/highlighter -> highlighter\n",
            "\u001b[32m[I 16:44:44 InstallContribNbextensionsApp]\u001b[m Making directory: /root/.local/share/jupyter/nbextensions/highlighter/\n",
            "\u001b[32m[I 16:44:44 InstallContribNbextensionsApp]\u001b[m Copying: /usr/local/lib/python3.11/dist-packages/jupyter_contrib_nbextensions/nbextensions/highlighter/export_highlights.ipynb -> /root/.local/share/jupyter/nbextensions/highlighter/export_highlights.ipynb\n",
            "\u001b[32m[I 16:44:44 InstallContribNbextensionsApp]\u001b[m Copying: /usr/local/lib/python3.11/dist-packages/jupyter_contrib_nbextensions/nbextensions/highlighter/highlighter.yaml -> /root/.local/share/jupyter/nbextensions/highlighter/highlighter.yaml\n",
            "\u001b[32m[I 16:44:44 InstallContribNbextensionsApp]\u001b[m Copying: /usr/local/lib/python3.11/dist-packages/jupyter_contrib_nbextensions/nbextensions/highlighter/image.gif -> /root/.local/share/jupyter/nbextensions/highlighter/image.gif\n",
            "\u001b[32m[I 16:44:44 InstallContribNbextensionsApp]\u001b[m Copying: /usr/local/lib/python3.11/dist-packages/jupyter_contrib_nbextensions/nbextensions/highlighter/highlighter.css -> /root/.local/share/jupyter/nbextensions/highlighter/highlighter.css\n",
            "\u001b[32m[I 16:44:44 InstallContribNbextensionsApp]\u001b[m Copying: /usr/local/lib/python3.11/dist-packages/jupyter_contrib_nbextensions/nbextensions/highlighter/tst_highlights.pdf -> /root/.local/share/jupyter/nbextensions/highlighter/tst_highlights.pdf\n",
            "\u001b[32m[I 16:44:44 InstallContribNbextensionsApp]\u001b[m Copying: /usr/local/lib/python3.11/dist-packages/jupyter_contrib_nbextensions/nbextensions/highlighter/export_highlights.html -> /root/.local/share/jupyter/nbextensions/highlighter/export_highlights.html\n",
            "\u001b[32m[I 16:44:44 InstallContribNbextensionsApp]\u001b[m Copying: /usr/local/lib/python3.11/dist-packages/jupyter_contrib_nbextensions/nbextensions/highlighter/tst_highlights.html -> /root/.local/share/jupyter/nbextensions/highlighter/tst_highlights.html\n",
            "\u001b[32m[I 16:44:44 InstallContribNbextensionsApp]\u001b[m Copying: /usr/local/lib/python3.11/dist-packages/jupyter_contrib_nbextensions/nbextensions/highlighter/export_highlights.pdf -> /root/.local/share/jupyter/nbextensions/highlighter/export_highlights.pdf\n",
            "\u001b[32m[I 16:44:44 InstallContribNbextensionsApp]\u001b[m Copying: /usr/local/lib/python3.11/dist-packages/jupyter_contrib_nbextensions/nbextensions/highlighter/demo_highlighter.ipynb -> /root/.local/share/jupyter/nbextensions/highlighter/demo_highlighter.ipynb\n",
            "\u001b[32m[I 16:44:44 InstallContribNbextensionsApp]\u001b[m Copying: /usr/local/lib/python3.11/dist-packages/jupyter_contrib_nbextensions/nbextensions/highlighter/demo_highlighter.html -> /root/.local/share/jupyter/nbextensions/highlighter/demo_highlighter.html\n",
            "\u001b[32m[I 16:44:44 InstallContribNbextensionsApp]\u001b[m Copying: /usr/local/lib/python3.11/dist-packages/jupyter_contrib_nbextensions/nbextensions/highlighter/tst_highlights.ipynb -> /root/.local/share/jupyter/nbextensions/highlighter/tst_highlights.ipynb\n",
            "\u001b[32m[I 16:44:44 InstallContribNbextensionsApp]\u001b[m Copying: /usr/local/lib/python3.11/dist-packages/jupyter_contrib_nbextensions/nbextensions/highlighter/readme.md -> /root/.local/share/jupyter/nbextensions/highlighter/readme.md\n",
            "\u001b[32m[I 16:44:44 InstallContribNbextensionsApp]\u001b[m Copying: /usr/local/lib/python3.11/dist-packages/jupyter_contrib_nbextensions/nbextensions/highlighter/icon.png -> /root/.local/share/jupyter/nbextensions/highlighter/icon.png\n",
            "\u001b[32m[I 16:44:44 InstallContribNbextensionsApp]\u001b[m Copying: /usr/local/lib/python3.11/dist-packages/jupyter_contrib_nbextensions/nbextensions/highlighter/highlighter.js -> /root/.local/share/jupyter/nbextensions/highlighter/highlighter.js\n",
            "\u001b[32m[I 16:44:44 InstallContribNbextensionsApp]\u001b[m Copying: /usr/local/lib/python3.11/dist-packages/jupyter_contrib_nbextensions/nbextensions/highlighter/export_highlights.tex -> /root/.local/share/jupyter/nbextensions/highlighter/export_highlights.tex\n",
            "\u001b[32m[I 16:44:44 InstallContribNbextensionsApp]\u001b[m Copying: /usr/local/lib/python3.11/dist-packages/jupyter_contrib_nbextensions/nbextensions/highlighter/tst_highlights.tex -> /root/.local/share/jupyter/nbextensions/highlighter/tst_highlights.tex\n",
            "\u001b[32m[I 16:44:44 InstallContribNbextensionsApp]\u001b[m - Validating: \u001b[32mOK\u001b[0m\n",
            "\u001b[32m[I 16:44:44 InstallContribNbextensionsApp]\u001b[m Installing /usr/local/lib/python3.11/dist-packages/jupyter_contrib_nbextensions/nbextensions/navigation-hotkeys -> navigation-hotkeys\n",
            "\u001b[32m[I 16:44:44 InstallContribNbextensionsApp]\u001b[m Making directory: /root/.local/share/jupyter/nbextensions/navigation-hotkeys/\n",
            "\u001b[32m[I 16:44:44 InstallContribNbextensionsApp]\u001b[m Copying: /usr/local/lib/python3.11/dist-packages/jupyter_contrib_nbextensions/nbextensions/navigation-hotkeys/hotkeys.yaml -> /root/.local/share/jupyter/nbextensions/navigation-hotkeys/hotkeys.yaml\n",
            "\u001b[32m[I 16:44:44 InstallContribNbextensionsApp]\u001b[m Copying: /usr/local/lib/python3.11/dist-packages/jupyter_contrib_nbextensions/nbextensions/navigation-hotkeys/main.js -> /root/.local/share/jupyter/nbextensions/navigation-hotkeys/main.js\n",
            "\u001b[32m[I 16:44:44 InstallContribNbextensionsApp]\u001b[m Copying: /usr/local/lib/python3.11/dist-packages/jupyter_contrib_nbextensions/nbextensions/navigation-hotkeys/readme.md -> /root/.local/share/jupyter/nbextensions/navigation-hotkeys/readme.md\n",
            "\u001b[32m[I 16:44:44 InstallContribNbextensionsApp]\u001b[m Copying: /usr/local/lib/python3.11/dist-packages/jupyter_contrib_nbextensions/nbextensions/navigation-hotkeys/icon.png -> /root/.local/share/jupyter/nbextensions/navigation-hotkeys/icon.png\n",
            "\u001b[32m[I 16:44:44 InstallContribNbextensionsApp]\u001b[m - Validating: \u001b[32mOK\u001b[0m\n",
            "\u001b[32m[I 16:44:44 InstallContribNbextensionsApp]\u001b[m Installing /usr/local/lib/python3.11/dist-packages/jupyter_contrib_nbextensions/nbextensions/qtconsole -> qtconsole\n",
            "\u001b[32m[I 16:44:44 InstallContribNbextensionsApp]\u001b[m Making directory: /root/.local/share/jupyter/nbextensions/qtconsole/\n",
            "\u001b[32m[I 16:44:44 InstallContribNbextensionsApp]\u001b[m Copying: /usr/local/lib/python3.11/dist-packages/jupyter_contrib_nbextensions/nbextensions/qtconsole/qtconsole.js -> /root/.local/share/jupyter/nbextensions/qtconsole/qtconsole.js\n",
            "\u001b[32m[I 16:44:44 InstallContribNbextensionsApp]\u001b[m Copying: /usr/local/lib/python3.11/dist-packages/jupyter_contrib_nbextensions/nbextensions/qtconsole/qtconsole.yaml -> /root/.local/share/jupyter/nbextensions/qtconsole/qtconsole.yaml\n",
            "\u001b[32m[I 16:44:44 InstallContribNbextensionsApp]\u001b[m Copying: /usr/local/lib/python3.11/dist-packages/jupyter_contrib_nbextensions/nbextensions/qtconsole/README.md -> /root/.local/share/jupyter/nbextensions/qtconsole/README.md\n",
            "\u001b[32m[I 16:44:44 InstallContribNbextensionsApp]\u001b[m - Validating: \u001b[32mOK\u001b[0m\n",
            "\u001b[32m[I 16:44:44 InstallContribNbextensionsApp]\u001b[m Installing /usr/local/lib/python3.11/dist-packages/jupyter_contrib_nbextensions/nbextensions/nbTranslate -> nbTranslate\n",
            "\u001b[32m[I 16:44:44 InstallContribNbextensionsApp]\u001b[m Making directory: /root/.local/share/jupyter/nbextensions/nbTranslate/\n",
            "\u001b[32m[I 16:44:44 InstallContribNbextensionsApp]\u001b[m Copying: /usr/local/lib/python3.11/dist-packages/jupyter_contrib_nbextensions/nbextensions/nbTranslate/nbTranslate.js -> /root/.local/share/jupyter/nbextensions/nbTranslate/nbTranslate.js\n",
            "\u001b[32m[I 16:44:44 InstallContribNbextensionsApp]\u001b[m Copying: /usr/local/lib/python3.11/dist-packages/jupyter_contrib_nbextensions/nbextensions/nbTranslate/demo1.gif -> /root/.local/share/jupyter/nbextensions/nbTranslate/demo1.gif\n",
            "\u001b[32m[I 16:44:44 InstallContribNbextensionsApp]\u001b[m Copying: /usr/local/lib/python3.11/dist-packages/jupyter_contrib_nbextensions/nbextensions/nbTranslate/mutils.js -> /root/.local/share/jupyter/nbextensions/nbTranslate/mutils.js\n",
            "\u001b[32m[I 16:44:44 InstallContribNbextensionsApp]\u001b[m Copying: /usr/local/lib/python3.11/dist-packages/jupyter_contrib_nbextensions/nbextensions/nbTranslate/main.js -> /root/.local/share/jupyter/nbextensions/nbTranslate/main.js\n",
            "\u001b[32m[I 16:44:44 InstallContribNbextensionsApp]\u001b[m Copying: /usr/local/lib/python3.11/dist-packages/jupyter_contrib_nbextensions/nbextensions/nbTranslate/nbTranslate.yaml -> /root/.local/share/jupyter/nbextensions/nbTranslate/nbTranslate.yaml\n",
            "\u001b[32m[I 16:44:44 InstallContribNbextensionsApp]\u001b[m Copying: /usr/local/lib/python3.11/dist-packages/jupyter_contrib_nbextensions/nbextensions/nbTranslate/languages.js -> /root/.local/share/jupyter/nbextensions/nbTranslate/languages.js\n",
            "\u001b[32m[I 16:44:44 InstallContribNbextensionsApp]\u001b[m Copying: /usr/local/lib/python3.11/dist-packages/jupyter_contrib_nbextensions/nbextensions/nbTranslate/README.md -> /root/.local/share/jupyter/nbextensions/nbTranslate/README.md\n",
            "\u001b[32m[I 16:44:44 InstallContribNbextensionsApp]\u001b[m Copying: /usr/local/lib/python3.11/dist-packages/jupyter_contrib_nbextensions/nbextensions/nbTranslate/demo2.gif -> /root/.local/share/jupyter/nbextensions/nbTranslate/demo2.gif\n",
            "\u001b[32m[I 16:44:44 InstallContribNbextensionsApp]\u001b[m - Validating: \u001b[32mOK\u001b[0m\n",
            "\u001b[32m[I 16:44:44 InstallContribNbextensionsApp]\u001b[m Installing /usr/local/lib/python3.11/dist-packages/jupyter_contrib_nbextensions/nbextensions/hide_input_all -> hide_input_all\n",
            "\u001b[32m[I 16:44:44 InstallContribNbextensionsApp]\u001b[m Making directory: /root/.local/share/jupyter/nbextensions/hide_input_all/\n",
            "\u001b[32m[I 16:44:44 InstallContribNbextensionsApp]\u001b[m Copying: /usr/local/lib/python3.11/dist-packages/jupyter_contrib_nbextensions/nbextensions/hide_input_all/hide_input_all_hide.png -> /root/.local/share/jupyter/nbextensions/hide_input_all/hide_input_all_hide.png\n",
            "\u001b[32m[I 16:44:44 InstallContribNbextensionsApp]\u001b[m Copying: /usr/local/lib/python3.11/dist-packages/jupyter_contrib_nbextensions/nbextensions/hide_input_all/main.js -> /root/.local/share/jupyter/nbextensions/hide_input_all/main.js\n",
            "\u001b[32m[I 16:44:44 InstallContribNbextensionsApp]\u001b[m Copying: /usr/local/lib/python3.11/dist-packages/jupyter_contrib_nbextensions/nbextensions/hide_input_all/readme.md -> /root/.local/share/jupyter/nbextensions/hide_input_all/readme.md\n",
            "\u001b[32m[I 16:44:44 InstallContribNbextensionsApp]\u001b[m Copying: /usr/local/lib/python3.11/dist-packages/jupyter_contrib_nbextensions/nbextensions/hide_input_all/hide_input_all_show.png -> /root/.local/share/jupyter/nbextensions/hide_input_all/hide_input_all_show.png\n",
            "\u001b[32m[I 16:44:44 InstallContribNbextensionsApp]\u001b[m Copying: /usr/local/lib/python3.11/dist-packages/jupyter_contrib_nbextensions/nbextensions/hide_input_all/icon.png -> /root/.local/share/jupyter/nbextensions/hide_input_all/icon.png\n",
            "\u001b[32m[I 16:44:44 InstallContribNbextensionsApp]\u001b[m Copying: /usr/local/lib/python3.11/dist-packages/jupyter_contrib_nbextensions/nbextensions/hide_input_all/hide_input_all.yaml -> /root/.local/share/jupyter/nbextensions/hide_input_all/hide_input_all.yaml\n",
            "\u001b[32m[I 16:44:44 InstallContribNbextensionsApp]\u001b[m - Validating: \u001b[32mOK\u001b[0m\n",
            "\u001b[32m[I 16:44:44 InstallContribNbextensionsApp]\u001b[m Installing /usr/local/lib/python3.11/dist-packages/jupyter_contrib_nbextensions/nbextensions/addbefore -> addbefore\n",
            "\u001b[32m[I 16:44:44 InstallContribNbextensionsApp]\u001b[m Making directory: /root/.local/share/jupyter/nbextensions/addbefore/\n",
            "\u001b[32m[I 16:44:44 InstallContribNbextensionsApp]\u001b[m Copying: /usr/local/lib/python3.11/dist-packages/jupyter_contrib_nbextensions/nbextensions/addbefore/main.js -> /root/.local/share/jupyter/nbextensions/addbefore/main.js\n",
            "\u001b[32m[I 16:44:44 InstallContribNbextensionsApp]\u001b[m Copying: /usr/local/lib/python3.11/dist-packages/jupyter_contrib_nbextensions/nbextensions/addbefore/readme.md -> /root/.local/share/jupyter/nbextensions/addbefore/readme.md\n",
            "\u001b[32m[I 16:44:44 InstallContribNbextensionsApp]\u001b[m Copying: /usr/local/lib/python3.11/dist-packages/jupyter_contrib_nbextensions/nbextensions/addbefore/icon.png -> /root/.local/share/jupyter/nbextensions/addbefore/icon.png\n",
            "\u001b[32m[I 16:44:44 InstallContribNbextensionsApp]\u001b[m Copying: /usr/local/lib/python3.11/dist-packages/jupyter_contrib_nbextensions/nbextensions/addbefore/addbefore.yaml -> /root/.local/share/jupyter/nbextensions/addbefore/addbefore.yaml\n",
            "\u001b[32m[I 16:44:44 InstallContribNbextensionsApp]\u001b[m - Validating: \u001b[32mOK\u001b[0m\n",
            "\u001b[32m[I 16:44:44 InstallContribNbextensionsApp]\u001b[m Installing /usr/local/lib/python3.11/dist-packages/jupyter_contrib_nbextensions/nbextensions/toc2 -> toc2\n",
            "\u001b[32m[I 16:44:44 InstallContribNbextensionsApp]\u001b[m Making directory: /root/.local/share/jupyter/nbextensions/toc2/\n",
            "\u001b[32m[I 16:44:44 InstallContribNbextensionsApp]\u001b[m Copying: /usr/local/lib/python3.11/dist-packages/jupyter_contrib_nbextensions/nbextensions/toc2/demo.gif -> /root/.local/share/jupyter/nbextensions/toc2/demo.gif\n",
            "\u001b[32m[I 16:44:44 InstallContribNbextensionsApp]\u001b[m Copying: /usr/local/lib/python3.11/dist-packages/jupyter_contrib_nbextensions/nbextensions/toc2/toc2.yaml -> /root/.local/share/jupyter/nbextensions/toc2/toc2.yaml\n",
            "\u001b[32m[I 16:44:44 InstallContribNbextensionsApp]\u001b[m Copying: /usr/local/lib/python3.11/dist-packages/jupyter_contrib_nbextensions/nbextensions/toc2/main.css -> /root/.local/share/jupyter/nbextensions/toc2/main.css\n",
            "\u001b[32m[I 16:44:44 InstallContribNbextensionsApp]\u001b[m Copying: /usr/local/lib/python3.11/dist-packages/jupyter_contrib_nbextensions/nbextensions/toc2/demo3.gif -> /root/.local/share/jupyter/nbextensions/toc2/demo3.gif\n",
            "\u001b[32m[I 16:44:44 InstallContribNbextensionsApp]\u001b[m Copying: /usr/local/lib/python3.11/dist-packages/jupyter_contrib_nbextensions/nbextensions/toc2/main.js -> /root/.local/share/jupyter/nbextensions/toc2/main.js\n",
            "\u001b[32m[I 16:44:44 InstallContribNbextensionsApp]\u001b[m Copying: /usr/local/lib/python3.11/dist-packages/jupyter_contrib_nbextensions/nbextensions/toc2/image.png -> /root/.local/share/jupyter/nbextensions/toc2/image.png\n",
            "\u001b[32m[I 16:44:44 InstallContribNbextensionsApp]\u001b[m Copying: /usr/local/lib/python3.11/dist-packages/jupyter_contrib_nbextensions/nbextensions/toc2/toc2.js -> /root/.local/share/jupyter/nbextensions/toc2/toc2.js\n",
            "\u001b[32m[I 16:44:44 InstallContribNbextensionsApp]\u001b[m Copying: /usr/local/lib/python3.11/dist-packages/jupyter_contrib_nbextensions/nbextensions/toc2/demo_dark.png -> /root/.local/share/jupyter/nbextensions/toc2/demo_dark.png\n",
            "\u001b[32m[I 16:44:44 InstallContribNbextensionsApp]\u001b[m Copying: /usr/local/lib/python3.11/dist-packages/jupyter_contrib_nbextensions/nbextensions/toc2/icon.png -> /root/.local/share/jupyter/nbextensions/toc2/icon.png\n",
            "\u001b[32m[I 16:44:44 InstallContribNbextensionsApp]\u001b[m Copying: /usr/local/lib/python3.11/dist-packages/jupyter_contrib_nbextensions/nbextensions/toc2/README.md -> /root/.local/share/jupyter/nbextensions/toc2/README.md\n",
            "\u001b[32m[I 16:44:44 InstallContribNbextensionsApp]\u001b[m Copying: /usr/local/lib/python3.11/dist-packages/jupyter_contrib_nbextensions/nbextensions/toc2/demo2.gif -> /root/.local/share/jupyter/nbextensions/toc2/demo2.gif\n",
            "\u001b[32m[I 16:44:44 InstallContribNbextensionsApp]\u001b[m - Validating: \u001b[32mOK\u001b[0m\n",
            "\u001b[32m[I 16:44:44 InstallContribNbextensionsApp]\u001b[m Installing /usr/local/lib/python3.11/dist-packages/jupyter_contrib_nbextensions/nbextensions/equation-numbering -> equation-numbering\n",
            "\u001b[32m[I 16:44:44 InstallContribNbextensionsApp]\u001b[m Making directory: /root/.local/share/jupyter/nbextensions/equation-numbering/\n",
            "\u001b[32m[I 16:44:44 InstallContribNbextensionsApp]\u001b[m Copying: /usr/local/lib/python3.11/dist-packages/jupyter_contrib_nbextensions/nbextensions/equation-numbering/button.png -> /root/.local/share/jupyter/nbextensions/equation-numbering/button.png\n",
            "\u001b[32m[I 16:44:44 InstallContribNbextensionsApp]\u001b[m Copying: /usr/local/lib/python3.11/dist-packages/jupyter_contrib_nbextensions/nbextensions/equation-numbering/main.js -> /root/.local/share/jupyter/nbextensions/equation-numbering/main.js\n",
            "\u001b[32m[I 16:44:44 InstallContribNbextensionsApp]\u001b[m Copying: /usr/local/lib/python3.11/dist-packages/jupyter_contrib_nbextensions/nbextensions/equation-numbering/info.yaml -> /root/.local/share/jupyter/nbextensions/equation-numbering/info.yaml\n",
            "\u001b[32m[I 16:44:44 InstallContribNbextensionsApp]\u001b[m Copying: /usr/local/lib/python3.11/dist-packages/jupyter_contrib_nbextensions/nbextensions/equation-numbering/readme.md -> /root/.local/share/jupyter/nbextensions/equation-numbering/readme.md\n",
            "\u001b[32m[I 16:44:44 InstallContribNbextensionsApp]\u001b[m Copying: /usr/local/lib/python3.11/dist-packages/jupyter_contrib_nbextensions/nbextensions/equation-numbering/icon.png -> /root/.local/share/jupyter/nbextensions/equation-numbering/icon.png\n",
            "\u001b[32m[I 16:44:44 InstallContribNbextensionsApp]\u001b[m - Validating: \u001b[32mOK\u001b[0m\n",
            "\u001b[32m[I 16:44:44 InstallContribNbextensionsApp]\u001b[m Installing /usr/local/lib/python3.11/dist-packages/jupyter_contrib_nbextensions/nbextensions/gist_it -> gist_it\n",
            "\u001b[32m[I 16:44:44 InstallContribNbextensionsApp]\u001b[m Making directory: /root/.local/share/jupyter/nbextensions/gist_it/\n",
            "\u001b[32m[I 16:44:44 InstallContribNbextensionsApp]\u001b[m Copying: /usr/local/lib/python3.11/dist-packages/jupyter_contrib_nbextensions/nbextensions/gist_it/gist_it.yaml -> /root/.local/share/jupyter/nbextensions/gist_it/gist_it.yaml\n",
            "\u001b[32m[I 16:44:44 InstallContribNbextensionsApp]\u001b[m Copying: /usr/local/lib/python3.11/dist-packages/jupyter_contrib_nbextensions/nbextensions/gist_it/main.js -> /root/.local/share/jupyter/nbextensions/gist_it/main.js\n",
            "\u001b[32m[I 16:44:44 InstallContribNbextensionsApp]\u001b[m Copying: /usr/local/lib/python3.11/dist-packages/jupyter_contrib_nbextensions/nbextensions/gist_it/readme.md -> /root/.local/share/jupyter/nbextensions/gist_it/readme.md\n",
            "\u001b[32m[I 16:44:44 InstallContribNbextensionsApp]\u001b[m Copying: /usr/local/lib/python3.11/dist-packages/jupyter_contrib_nbextensions/nbextensions/gist_it/icon.png -> /root/.local/share/jupyter/nbextensions/gist_it/icon.png\n",
            "\u001b[32m[I 16:44:44 InstallContribNbextensionsApp]\u001b[m - Validating: \u001b[32mOK\u001b[0m\n",
            "\u001b[32m[I 16:44:44 InstallContribNbextensionsApp]\u001b[m Installing /usr/local/lib/python3.11/dist-packages/jupyter_contrib_nbextensions/nbextensions/zenmode -> zenmode\n",
            "\u001b[32m[I 16:44:44 InstallContribNbextensionsApp]\u001b[m Making directory: /root/.local/share/jupyter/nbextensions/zenmode/\n",
            "\u001b[32m[I 16:44:44 InstallContribNbextensionsApp]\u001b[m Copying: /usr/local/lib/python3.11/dist-packages/jupyter_contrib_nbextensions/nbextensions/zenmode/main.css -> /root/.local/share/jupyter/nbextensions/zenmode/main.css\n",
            "\u001b[32m[I 16:44:44 InstallContribNbextensionsApp]\u001b[m Copying: /usr/local/lib/python3.11/dist-packages/jupyter_contrib_nbextensions/nbextensions/zenmode/main.js -> /root/.local/share/jupyter/nbextensions/zenmode/main.js\n",
            "\u001b[32m[I 16:44:44 InstallContribNbextensionsApp]\u001b[m Copying: /usr/local/lib/python3.11/dist-packages/jupyter_contrib_nbextensions/nbextensions/zenmode/README.md -> /root/.local/share/jupyter/nbextensions/zenmode/README.md\n",
            "\u001b[32m[I 16:44:44 InstallContribNbextensionsApp]\u001b[m Copying: /usr/local/lib/python3.11/dist-packages/jupyter_contrib_nbextensions/nbextensions/zenmode/zenmode.yaml -> /root/.local/share/jupyter/nbextensions/zenmode/zenmode.yaml\n",
            "\u001b[32m[I 16:44:44 InstallContribNbextensionsApp]\u001b[m Making directory: /root/.local/share/jupyter/nbextensions/zenmode/images\n",
            "\u001b[32m[I 16:44:44 InstallContribNbextensionsApp]\u001b[m Copying: /usr/local/lib/python3.11/dist-packages/jupyter_contrib_nbextensions/nbextensions/zenmode/images/back21.jpg -> /root/.local/share/jupyter/nbextensions/zenmode/images/back21.jpg\n",
            "\u001b[32m[I 16:44:44 InstallContribNbextensionsApp]\u001b[m Copying: /usr/local/lib/python3.11/dist-packages/jupyter_contrib_nbextensions/nbextensions/zenmode/images/back11.jpg -> /root/.local/share/jupyter/nbextensions/zenmode/images/back11.jpg\n",
            "\u001b[32m[I 16:44:44 InstallContribNbextensionsApp]\u001b[m Copying: /usr/local/lib/python3.11/dist-packages/jupyter_contrib_nbextensions/nbextensions/zenmode/images/back3.jpg -> /root/.local/share/jupyter/nbextensions/zenmode/images/back3.jpg\n",
            "\u001b[32m[I 16:44:44 InstallContribNbextensionsApp]\u001b[m Copying: /usr/local/lib/python3.11/dist-packages/jupyter_contrib_nbextensions/nbextensions/zenmode/images/ipynblogo0.png -> /root/.local/share/jupyter/nbextensions/zenmode/images/ipynblogo0.png\n",
            "\u001b[32m[I 16:44:44 InstallContribNbextensionsApp]\u001b[m Copying: /usr/local/lib/python3.11/dist-packages/jupyter_contrib_nbextensions/nbextensions/zenmode/images/back1.jpg -> /root/.local/share/jupyter/nbextensions/zenmode/images/back1.jpg\n",
            "\u001b[32m[I 16:44:44 InstallContribNbextensionsApp]\u001b[m Copying: /usr/local/lib/python3.11/dist-packages/jupyter_contrib_nbextensions/nbextensions/zenmode/images/back2.jpg -> /root/.local/share/jupyter/nbextensions/zenmode/images/back2.jpg\n",
            "\u001b[32m[I 16:44:44 InstallContribNbextensionsApp]\u001b[m Copying: /usr/local/lib/python3.11/dist-packages/jupyter_contrib_nbextensions/nbextensions/zenmode/images/back12.jpg -> /root/.local/share/jupyter/nbextensions/zenmode/images/back12.jpg\n",
            "\u001b[32m[I 16:44:44 InstallContribNbextensionsApp]\u001b[m Copying: /usr/local/lib/python3.11/dist-packages/jupyter_contrib_nbextensions/nbextensions/zenmode/images/back22.jpg -> /root/.local/share/jupyter/nbextensions/zenmode/images/back22.jpg\n",
            "\u001b[32m[I 16:44:44 InstallContribNbextensionsApp]\u001b[m Copying: /usr/local/lib/python3.11/dist-packages/jupyter_contrib_nbextensions/nbextensions/zenmode/images/ipynblogo1.png -> /root/.local/share/jupyter/nbextensions/zenmode/images/ipynblogo1.png\n",
            "\u001b[32m[I 16:44:44 InstallContribNbextensionsApp]\u001b[m - Validating: \u001b[32mOK\u001b[0m\n",
            "\u001b[32m[I 16:44:44 InstallContribNbextensionsApp]\u001b[m Installing /usr/local/lib/python3.11/dist-packages/jupyter_contrib_nbextensions/nbextensions/skip-traceback -> skip-traceback\n",
            "\u001b[32m[I 16:44:44 InstallContribNbextensionsApp]\u001b[m Making directory: /root/.local/share/jupyter/nbextensions/skip-traceback/\n",
            "\u001b[32m[I 16:44:44 InstallContribNbextensionsApp]\u001b[m Copying: /usr/local/lib/python3.11/dist-packages/jupyter_contrib_nbextensions/nbextensions/skip-traceback/main.js -> /root/.local/share/jupyter/nbextensions/skip-traceback/main.js\n",
            "\u001b[32m[I 16:44:44 InstallContribNbextensionsApp]\u001b[m Copying: /usr/local/lib/python3.11/dist-packages/jupyter_contrib_nbextensions/nbextensions/skip-traceback/skip-traceback.yaml -> /root/.local/share/jupyter/nbextensions/skip-traceback/skip-traceback.yaml\n",
            "\u001b[32m[I 16:44:44 InstallContribNbextensionsApp]\u001b[m Copying: /usr/local/lib/python3.11/dist-packages/jupyter_contrib_nbextensions/nbextensions/skip-traceback/readme.md -> /root/.local/share/jupyter/nbextensions/skip-traceback/readme.md\n",
            "\u001b[32m[I 16:44:44 InstallContribNbextensionsApp]\u001b[m Copying: /usr/local/lib/python3.11/dist-packages/jupyter_contrib_nbextensions/nbextensions/skip-traceback/skip-traceback.png -> /root/.local/share/jupyter/nbextensions/skip-traceback/skip-traceback.png\n",
            "\u001b[32m[I 16:44:44 InstallContribNbextensionsApp]\u001b[m Copying: /usr/local/lib/python3.11/dist-packages/jupyter_contrib_nbextensions/nbextensions/skip-traceback/icon.png -> /root/.local/share/jupyter/nbextensions/skip-traceback/icon.png\n",
            "\u001b[32m[I 16:44:44 InstallContribNbextensionsApp]\u001b[m Copying: /usr/local/lib/python3.11/dist-packages/jupyter_contrib_nbextensions/nbextensions/skip-traceback/traceback.png -> /root/.local/share/jupyter/nbextensions/skip-traceback/traceback.png\n",
            "\u001b[32m[I 16:44:44 InstallContribNbextensionsApp]\u001b[m - Validating: \u001b[32mOK\u001b[0m\n",
            "\u001b[32m[I 16:44:44 InstallContribNbextensionsApp]\u001b[m Installing /usr/local/lib/python3.11/dist-packages/jupyter_contrib_nbextensions/nbextensions/livemdpreview -> livemdpreview\n",
            "\u001b[32m[I 16:44:44 InstallContribNbextensionsApp]\u001b[m Making directory: /root/.local/share/jupyter/nbextensions/livemdpreview/\n",
            "\u001b[32m[I 16:44:44 InstallContribNbextensionsApp]\u001b[m Copying: /usr/local/lib/python3.11/dist-packages/jupyter_contrib_nbextensions/nbextensions/livemdpreview/livemdpreview.js -> /root/.local/share/jupyter/nbextensions/livemdpreview/livemdpreview.js\n",
            "\u001b[32m[I 16:44:44 InstallContribNbextensionsApp]\u001b[m Copying: /usr/local/lib/python3.11/dist-packages/jupyter_contrib_nbextensions/nbextensions/livemdpreview/livemdpreview.yml -> /root/.local/share/jupyter/nbextensions/livemdpreview/livemdpreview.yml\n",
            "\u001b[32m[I 16:44:44 InstallContribNbextensionsApp]\u001b[m - Validating: \u001b[32mOK\u001b[0m\n",
            "\u001b[32m[I 16:44:44 InstallContribNbextensionsApp]\u001b[m Installing /usr/local/lib/python3.11/dist-packages/jupyter_contrib_nbextensions/nbextensions/scroll_down -> scroll_down\n",
            "\u001b[32m[I 16:44:44 InstallContribNbextensionsApp]\u001b[m Making directory: /root/.local/share/jupyter/nbextensions/scroll_down/\n",
            "\u001b[32m[I 16:44:44 InstallContribNbextensionsApp]\u001b[m Copying: /usr/local/lib/python3.11/dist-packages/jupyter_contrib_nbextensions/nbextensions/scroll_down/main.js -> /root/.local/share/jupyter/nbextensions/scroll_down/main.js\n",
            "\u001b[32m[I 16:44:44 InstallContribNbextensionsApp]\u001b[m Copying: /usr/local/lib/python3.11/dist-packages/jupyter_contrib_nbextensions/nbextensions/scroll_down/readme.md -> /root/.local/share/jupyter/nbextensions/scroll_down/readme.md\n",
            "\u001b[32m[I 16:44:44 InstallContribNbextensionsApp]\u001b[m Copying: /usr/local/lib/python3.11/dist-packages/jupyter_contrib_nbextensions/nbextensions/scroll_down/icon.png -> /root/.local/share/jupyter/nbextensions/scroll_down/icon.png\n",
            "\u001b[32m[I 16:44:44 InstallContribNbextensionsApp]\u001b[m Copying: /usr/local/lib/python3.11/dist-packages/jupyter_contrib_nbextensions/nbextensions/scroll_down/config.yaml -> /root/.local/share/jupyter/nbextensions/scroll_down/config.yaml\n",
            "\u001b[32m[I 16:44:44 InstallContribNbextensionsApp]\u001b[m - Validating: \u001b[32mOK\u001b[0m\n",
            "\u001b[32m[I 16:44:44 InstallContribNbextensionsApp]\u001b[m Installing /usr/local/lib/python3.11/dist-packages/jupyter_contrib_nbextensions/nbextensions/hide_header -> hide_header\n",
            "\u001b[32m[I 16:44:44 InstallContribNbextensionsApp]\u001b[m Making directory: /root/.local/share/jupyter/nbextensions/hide_header/\n",
            "\u001b[32m[I 16:44:44 InstallContribNbextensionsApp]\u001b[m Copying: /usr/local/lib/python3.11/dist-packages/jupyter_contrib_nbextensions/nbextensions/hide_header/hide_header.yaml -> /root/.local/share/jupyter/nbextensions/hide_header/hide_header.yaml\n",
            "\u001b[32m[I 16:44:44 InstallContribNbextensionsApp]\u001b[m Copying: /usr/local/lib/python3.11/dist-packages/jupyter_contrib_nbextensions/nbextensions/hide_header/main.js -> /root/.local/share/jupyter/nbextensions/hide_header/main.js\n",
            "\u001b[32m[I 16:44:44 InstallContribNbextensionsApp]\u001b[m Copying: /usr/local/lib/python3.11/dist-packages/jupyter_contrib_nbextensions/nbextensions/hide_header/README.md -> /root/.local/share/jupyter/nbextensions/hide_header/README.md\n",
            "\u001b[32m[I 16:44:44 InstallContribNbextensionsApp]\u001b[m - Validating: \u001b[32mOK\u001b[0m\n",
            "\u001b[32m[I 16:44:44 InstallContribNbextensionsApp]\u001b[m Installing /usr/local/lib/python3.11/dist-packages/jupyter_contrib_nbextensions/nbextensions/cell_filter -> cell_filter\n",
            "\u001b[32m[I 16:44:44 InstallContribNbextensionsApp]\u001b[m Making directory: /root/.local/share/jupyter/nbextensions/cell_filter/\n",
            "\u001b[32m[I 16:44:44 InstallContribNbextensionsApp]\u001b[m Copying: /usr/local/lib/python3.11/dist-packages/jupyter_contrib_nbextensions/nbextensions/cell_filter/cell_filter.js -> /root/.local/share/jupyter/nbextensions/cell_filter/cell_filter.js\n",
            "\u001b[32m[I 16:44:44 InstallContribNbextensionsApp]\u001b[m Copying: /usr/local/lib/python3.11/dist-packages/jupyter_contrib_nbextensions/nbextensions/cell_filter/README.md -> /root/.local/share/jupyter/nbextensions/cell_filter/README.md\n",
            "\u001b[32m[I 16:44:44 InstallContribNbextensionsApp]\u001b[m Copying: /usr/local/lib/python3.11/dist-packages/jupyter_contrib_nbextensions/nbextensions/cell_filter/cell_filter.yml -> /root/.local/share/jupyter/nbextensions/cell_filter/cell_filter.yml\n",
            "\u001b[32m[I 16:44:44 InstallContribNbextensionsApp]\u001b[m - Validating: \u001b[32mOK\u001b[0m\n",
            "\u001b[32m[I 16:44:44 InstallContribNbextensionsApp]\u001b[m Installing /usr/local/lib/python3.11/dist-packages/jupyter_contrib_nbextensions/nbextensions/notify -> notify\n",
            "\u001b[32m[I 16:44:44 InstallContribNbextensionsApp]\u001b[m Making directory: /root/.local/share/jupyter/nbextensions/notify/\n",
            "\u001b[32m[I 16:44:44 InstallContribNbextensionsApp]\u001b[m Copying: /usr/local/lib/python3.11/dist-packages/jupyter_contrib_nbextensions/nbextensions/notify/notify.js -> /root/.local/share/jupyter/nbextensions/notify/notify.js\n",
            "\u001b[32m[I 16:44:44 InstallContribNbextensionsApp]\u001b[m Copying: /usr/local/lib/python3.11/dist-packages/jupyter_contrib_nbextensions/nbextensions/notify/notify.mp3 -> /root/.local/share/jupyter/nbextensions/notify/notify.mp3\n",
            "\u001b[32m[I 16:44:44 InstallContribNbextensionsApp]\u001b[m Copying: /usr/local/lib/python3.11/dist-packages/jupyter_contrib_nbextensions/nbextensions/notify/readme.md -> /root/.local/share/jupyter/nbextensions/notify/readme.md\n",
            "\u001b[32m[I 16:44:44 InstallContribNbextensionsApp]\u001b[m Copying: /usr/local/lib/python3.11/dist-packages/jupyter_contrib_nbextensions/nbextensions/notify/notify.yaml -> /root/.local/share/jupyter/nbextensions/notify/notify.yaml\n",
            "\u001b[32m[I 16:44:44 InstallContribNbextensionsApp]\u001b[m Copying: /usr/local/lib/python3.11/dist-packages/jupyter_contrib_nbextensions/nbextensions/notify/notification.png -> /root/.local/share/jupyter/nbextensions/notify/notification.png\n",
            "\u001b[32m[I 16:44:44 InstallContribNbextensionsApp]\u001b[m - Validating: \u001b[32mOK\u001b[0m\n",
            "\u001b[32m[I 16:44:44 InstallContribNbextensionsApp]\u001b[m Installing /usr/local/lib/python3.11/dist-packages/jupyter_contrib_nbextensions/nbextensions/comment-uncomment -> comment-uncomment\n",
            "\u001b[32m[I 16:44:44 InstallContribNbextensionsApp]\u001b[m Making directory: /root/.local/share/jupyter/nbextensions/comment-uncomment/\n",
            "\u001b[32m[I 16:44:44 InstallContribNbextensionsApp]\u001b[m Copying: /usr/local/lib/python3.11/dist-packages/jupyter_contrib_nbextensions/nbextensions/comment-uncomment/comment-uncomment.yaml -> /root/.local/share/jupyter/nbextensions/comment-uncomment/comment-uncomment.yaml\n",
            "\u001b[32m[I 16:44:44 InstallContribNbextensionsApp]\u001b[m Copying: /usr/local/lib/python3.11/dist-packages/jupyter_contrib_nbextensions/nbextensions/comment-uncomment/main.js -> /root/.local/share/jupyter/nbextensions/comment-uncomment/main.js\n",
            "\u001b[32m[I 16:44:44 InstallContribNbextensionsApp]\u001b[m Copying: /usr/local/lib/python3.11/dist-packages/jupyter_contrib_nbextensions/nbextensions/comment-uncomment/readme.md -> /root/.local/share/jupyter/nbextensions/comment-uncomment/readme.md\n",
            "\u001b[32m[I 16:44:44 InstallContribNbextensionsApp]\u001b[m Copying: /usr/local/lib/python3.11/dist-packages/jupyter_contrib_nbextensions/nbextensions/comment-uncomment/icon.png -> /root/.local/share/jupyter/nbextensions/comment-uncomment/icon.png\n",
            "\u001b[32m[I 16:44:44 InstallContribNbextensionsApp]\u001b[m - Validating: \u001b[32mOK\u001b[0m\n",
            "\u001b[32m[I 16:44:44 InstallContribNbextensionsApp]\u001b[m Installing /usr/local/lib/python3.11/dist-packages/jupyter_contrib_nbextensions/nbextensions/ruler -> ruler\n",
            "\u001b[32m[I 16:44:44 InstallContribNbextensionsApp]\u001b[m Making directory: /root/.local/share/jupyter/nbextensions/ruler/\n",
            "\u001b[32m[I 16:44:44 InstallContribNbextensionsApp]\u001b[m Copying: /usr/local/lib/python3.11/dist-packages/jupyter_contrib_nbextensions/nbextensions/ruler/ruler.yaml -> /root/.local/share/jupyter/nbextensions/ruler/ruler.yaml\n",
            "\u001b[32m[I 16:44:44 InstallContribNbextensionsApp]\u001b[m Copying: /usr/local/lib/python3.11/dist-packages/jupyter_contrib_nbextensions/nbextensions/ruler/main.js -> /root/.local/share/jupyter/nbextensions/ruler/main.js\n",
            "\u001b[32m[I 16:44:44 InstallContribNbextensionsApp]\u001b[m Copying: /usr/local/lib/python3.11/dist-packages/jupyter_contrib_nbextensions/nbextensions/ruler/ruler_editor.yaml -> /root/.local/share/jupyter/nbextensions/ruler/ruler_editor.yaml\n",
            "\u001b[32m[I 16:44:44 InstallContribNbextensionsApp]\u001b[m Copying: /usr/local/lib/python3.11/dist-packages/jupyter_contrib_nbextensions/nbextensions/ruler/readme.md -> /root/.local/share/jupyter/nbextensions/ruler/readme.md\n",
            "\u001b[32m[I 16:44:44 InstallContribNbextensionsApp]\u001b[m Copying: /usr/local/lib/python3.11/dist-packages/jupyter_contrib_nbextensions/nbextensions/ruler/icon.png -> /root/.local/share/jupyter/nbextensions/ruler/icon.png\n",
            "\u001b[32m[I 16:44:44 InstallContribNbextensionsApp]\u001b[m Copying: /usr/local/lib/python3.11/dist-packages/jupyter_contrib_nbextensions/nbextensions/ruler/edit.js -> /root/.local/share/jupyter/nbextensions/ruler/edit.js\n",
            "\u001b[32m[I 16:44:44 InstallContribNbextensionsApp]\u001b[m - Validating: \u001b[32mOK\u001b[0m\n",
            "\u001b[32m[I 16:44:44 InstallContribNbextensionsApp]\u001b[m Installing /usr/local/lib/python3.11/dist-packages/jupyter_contrib_nbextensions/nbextensions/ruler -> ruler\n",
            "\u001b[32m[I 16:44:44 InstallContribNbextensionsApp]\u001b[m Up to date: /root/.local/share/jupyter/nbextensions/ruler/ruler.yaml\n",
            "\u001b[32m[I 16:44:44 InstallContribNbextensionsApp]\u001b[m Up to date: /root/.local/share/jupyter/nbextensions/ruler/main.js\n",
            "\u001b[32m[I 16:44:44 InstallContribNbextensionsApp]\u001b[m Up to date: /root/.local/share/jupyter/nbextensions/ruler/ruler_editor.yaml\n",
            "\u001b[32m[I 16:44:44 InstallContribNbextensionsApp]\u001b[m Up to date: /root/.local/share/jupyter/nbextensions/ruler/readme.md\n",
            "\u001b[32m[I 16:44:44 InstallContribNbextensionsApp]\u001b[m Up to date: /root/.local/share/jupyter/nbextensions/ruler/icon.png\n",
            "\u001b[32m[I 16:44:44 InstallContribNbextensionsApp]\u001b[m Up to date: /root/.local/share/jupyter/nbextensions/ruler/edit.js\n",
            "\u001b[32m[I 16:44:44 InstallContribNbextensionsApp]\u001b[m - Validating: \u001b[32mOK\u001b[0m\n",
            "\u001b[32m[I 16:44:44 InstallContribNbextensionsApp]\u001b[m Installing /usr/local/lib/python3.11/dist-packages/jupyter_contrib_nbextensions/nbextensions/help_panel -> help_panel\n",
            "\u001b[32m[I 16:44:44 InstallContribNbextensionsApp]\u001b[m Making directory: /root/.local/share/jupyter/nbextensions/help_panel/\n",
            "\u001b[32m[I 16:44:44 InstallContribNbextensionsApp]\u001b[m Copying: /usr/local/lib/python3.11/dist-packages/jupyter_contrib_nbextensions/nbextensions/help_panel/help_panel_ext_fullscreen.png -> /root/.local/share/jupyter/nbextensions/help_panel/help_panel_ext_fullscreen.png\n",
            "\u001b[32m[I 16:44:44 InstallContribNbextensionsApp]\u001b[m Copying: /usr/local/lib/python3.11/dist-packages/jupyter_contrib_nbextensions/nbextensions/help_panel/help_panel.yaml -> /root/.local/share/jupyter/nbextensions/help_panel/help_panel.yaml\n",
            "\u001b[32m[I 16:44:44 InstallContribNbextensionsApp]\u001b[m Copying: /usr/local/lib/python3.11/dist-packages/jupyter_contrib_nbextensions/nbextensions/help_panel/help_panel.js -> /root/.local/share/jupyter/nbextensions/help_panel/help_panel.js\n",
            "\u001b[32m[I 16:44:44 InstallContribNbextensionsApp]\u001b[m Copying: /usr/local/lib/python3.11/dist-packages/jupyter_contrib_nbextensions/nbextensions/help_panel/readme.md -> /root/.local/share/jupyter/nbextensions/help_panel/readme.md\n",
            "\u001b[32m[I 16:44:44 InstallContribNbextensionsApp]\u001b[m Copying: /usr/local/lib/python3.11/dist-packages/jupyter_contrib_nbextensions/nbextensions/help_panel/icon.png -> /root/.local/share/jupyter/nbextensions/help_panel/icon.png\n",
            "\u001b[32m[I 16:44:44 InstallContribNbextensionsApp]\u001b[m Copying: /usr/local/lib/python3.11/dist-packages/jupyter_contrib_nbextensions/nbextensions/help_panel/help_panel_ext.png -> /root/.local/share/jupyter/nbextensions/help_panel/help_panel_ext.png\n",
            "\u001b[32m[I 16:44:44 InstallContribNbextensionsApp]\u001b[m Copying: /usr/local/lib/python3.11/dist-packages/jupyter_contrib_nbextensions/nbextensions/help_panel/help_panel.css -> /root/.local/share/jupyter/nbextensions/help_panel/help_panel.css\n",
            "\u001b[32m[I 16:44:44 InstallContribNbextensionsApp]\u001b[m Making directory: /root/.local/share/jupyter/nbextensions/help_panel/img\n",
            "\u001b[32m[I 16:44:44 InstallContribNbextensionsApp]\u001b[m Copying: /usr/local/lib/python3.11/dist-packages/jupyter_contrib_nbextensions/nbextensions/help_panel/img/handle-v.png -> /root/.local/share/jupyter/nbextensions/help_panel/img/handle-v.png\n",
            "\u001b[32m[I 16:44:44 InstallContribNbextensionsApp]\u001b[m - Validating: \u001b[32mOK\u001b[0m\n",
            "\u001b[32m[I 16:44:44 InstallContribNbextensionsApp]\u001b[m Installing /usr/local/lib/python3.11/dist-packages/jupyter_contrib_nbextensions/nbextensions/export_embedded -> export_embedded\n",
            "\u001b[32m[I 16:44:44 InstallContribNbextensionsApp]\u001b[m Making directory: /root/.local/share/jupyter/nbextensions/export_embedded/\n",
            "\u001b[32m[I 16:44:44 InstallContribNbextensionsApp]\u001b[m Copying: /usr/local/lib/python3.11/dist-packages/jupyter_contrib_nbextensions/nbextensions/export_embedded/export_embedded.yaml -> /root/.local/share/jupyter/nbextensions/export_embedded/export_embedded.yaml\n",
            "\u001b[32m[I 16:44:44 InstallContribNbextensionsApp]\u001b[m Copying: /usr/local/lib/python3.11/dist-packages/jupyter_contrib_nbextensions/nbextensions/export_embedded/main.js -> /root/.local/share/jupyter/nbextensions/export_embedded/main.js\n",
            "\u001b[32m[I 16:44:44 InstallContribNbextensionsApp]\u001b[m Copying: /usr/local/lib/python3.11/dist-packages/jupyter_contrib_nbextensions/nbextensions/export_embedded/readme.md -> /root/.local/share/jupyter/nbextensions/export_embedded/readme.md\n",
            "\u001b[32m[I 16:44:44 InstallContribNbextensionsApp]\u001b[m Copying: /usr/local/lib/python3.11/dist-packages/jupyter_contrib_nbextensions/nbextensions/export_embedded/icon.png -> /root/.local/share/jupyter/nbextensions/export_embedded/icon.png\n",
            "\u001b[32m[I 16:44:44 InstallContribNbextensionsApp]\u001b[m - Validating: \u001b[32mOK\u001b[0m\n",
            "\u001b[32m[I 16:44:44 InstallContribNbextensionsApp]\u001b[m Installing /usr/local/lib/python3.11/dist-packages/jupyter_contrib_nbextensions/nbextensions/code_font_size -> code_font_size\n",
            "\u001b[32m[I 16:44:44 InstallContribNbextensionsApp]\u001b[m Making directory: /root/.local/share/jupyter/nbextensions/code_font_size/\n",
            "\u001b[32m[I 16:44:44 InstallContribNbextensionsApp]\u001b[m Copying: /usr/local/lib/python3.11/dist-packages/jupyter_contrib_nbextensions/nbextensions/code_font_size/code_font_size.js -> /root/.local/share/jupyter/nbextensions/code_font_size/code_font_size.js\n",
            "\u001b[32m[I 16:44:44 InstallContribNbextensionsApp]\u001b[m Copying: /usr/local/lib/python3.11/dist-packages/jupyter_contrib_nbextensions/nbextensions/code_font_size/README.md -> /root/.local/share/jupyter/nbextensions/code_font_size/README.md\n",
            "\u001b[32m[I 16:44:44 InstallContribNbextensionsApp]\u001b[m Copying: /usr/local/lib/python3.11/dist-packages/jupyter_contrib_nbextensions/nbextensions/code_font_size/code_font_size.yaml -> /root/.local/share/jupyter/nbextensions/code_font_size/code_font_size.yaml\n",
            "\u001b[32m[I 16:44:44 InstallContribNbextensionsApp]\u001b[m - Validating: \u001b[32mOK\u001b[0m\n",
            "\u001b[32m[I 16:44:44 InstallContribNbextensionsApp]\u001b[m Installing /usr/local/lib/python3.11/dist-packages/jupyter_contrib_nbextensions/nbextensions/rubberband -> rubberband\n",
            "\u001b[32m[I 16:44:44 InstallContribNbextensionsApp]\u001b[m Making directory: /root/.local/share/jupyter/nbextensions/rubberband/\n",
            "\u001b[32m[I 16:44:44 InstallContribNbextensionsApp]\u001b[m Copying: /usr/local/lib/python3.11/dist-packages/jupyter_contrib_nbextensions/nbextensions/rubberband/main.css -> /root/.local/share/jupyter/nbextensions/rubberband/main.css\n",
            "\u001b[32m[I 16:44:44 InstallContribNbextensionsApp]\u001b[m Copying: /usr/local/lib/python3.11/dist-packages/jupyter_contrib_nbextensions/nbextensions/rubberband/main.js -> /root/.local/share/jupyter/nbextensions/rubberband/main.js\n",
            "\u001b[32m[I 16:44:44 InstallContribNbextensionsApp]\u001b[m Copying: /usr/local/lib/python3.11/dist-packages/jupyter_contrib_nbextensions/nbextensions/rubberband/readme.md -> /root/.local/share/jupyter/nbextensions/rubberband/readme.md\n",
            "\u001b[32m[I 16:44:44 InstallContribNbextensionsApp]\u001b[m Copying: /usr/local/lib/python3.11/dist-packages/jupyter_contrib_nbextensions/nbextensions/rubberband/icon.png -> /root/.local/share/jupyter/nbextensions/rubberband/icon.png\n",
            "\u001b[32m[I 16:44:44 InstallContribNbextensionsApp]\u001b[m Copying: /usr/local/lib/python3.11/dist-packages/jupyter_contrib_nbextensions/nbextensions/rubberband/rubberband.yaml -> /root/.local/share/jupyter/nbextensions/rubberband/rubberband.yaml\n",
            "\u001b[32m[I 16:44:44 InstallContribNbextensionsApp]\u001b[m - Validating: \u001b[32mOK\u001b[0m\n",
            "\u001b[32m[I 16:44:44 InstallContribNbextensionsApp]\u001b[m Installing /usr/local/lib/python3.11/dist-packages/jupyter_contrib_nbextensions/nbextensions/contrib_nbextensions_help_item -> contrib_nbextensions_help_item\n",
            "\u001b[32m[I 16:44:44 InstallContribNbextensionsApp]\u001b[m Making directory: /root/.local/share/jupyter/nbextensions/contrib_nbextensions_help_item/\n",
            "\u001b[32m[I 16:44:44 InstallContribNbextensionsApp]\u001b[m Copying: /usr/local/lib/python3.11/dist-packages/jupyter_contrib_nbextensions/nbextensions/contrib_nbextensions_help_item/main.js -> /root/.local/share/jupyter/nbextensions/contrib_nbextensions_help_item/main.js\n",
            "\u001b[32m[I 16:44:44 InstallContribNbextensionsApp]\u001b[m Copying: /usr/local/lib/python3.11/dist-packages/jupyter_contrib_nbextensions/nbextensions/contrib_nbextensions_help_item/contrib_nbextensions_help_item.yaml -> /root/.local/share/jupyter/nbextensions/contrib_nbextensions_help_item/contrib_nbextensions_help_item.yaml\n",
            "\u001b[32m[I 16:44:44 InstallContribNbextensionsApp]\u001b[m Copying: /usr/local/lib/python3.11/dist-packages/jupyter_contrib_nbextensions/nbextensions/contrib_nbextensions_help_item/README.md -> /root/.local/share/jupyter/nbextensions/contrib_nbextensions_help_item/README.md\n",
            "\u001b[32m[I 16:44:44 InstallContribNbextensionsApp]\u001b[m - Validating: \u001b[32mOK\u001b[0m\n",
            "\u001b[32m[I 16:44:44 InstallContribNbextensionsApp]\u001b[m Installing /usr/local/lib/python3.11/dist-packages/jupyter_contrib_nbextensions/nbextensions/printview -> printview\n",
            "\u001b[32m[I 16:44:44 InstallContribNbextensionsApp]\u001b[m Making directory: /root/.local/share/jupyter/nbextensions/printview/\n",
            "\u001b[32m[I 16:44:44 InstallContribNbextensionsApp]\u001b[m Copying: /usr/local/lib/python3.11/dist-packages/jupyter_contrib_nbextensions/nbextensions/printview/printview.yaml -> /root/.local/share/jupyter/nbextensions/printview/printview.yaml\n",
            "\u001b[32m[I 16:44:44 InstallContribNbextensionsApp]\u001b[m Copying: /usr/local/lib/python3.11/dist-packages/jupyter_contrib_nbextensions/nbextensions/printview/main.js -> /root/.local/share/jupyter/nbextensions/printview/main.js\n",
            "\u001b[32m[I 16:44:44 InstallContribNbextensionsApp]\u001b[m Copying: /usr/local/lib/python3.11/dist-packages/jupyter_contrib_nbextensions/nbextensions/printview/printview-button.png -> /root/.local/share/jupyter/nbextensions/printview/printview-button.png\n",
            "\u001b[32m[I 16:44:44 InstallContribNbextensionsApp]\u001b[m Copying: /usr/local/lib/python3.11/dist-packages/jupyter_contrib_nbextensions/nbextensions/printview/readme.md -> /root/.local/share/jupyter/nbextensions/printview/readme.md\n",
            "\u001b[32m[I 16:44:44 InstallContribNbextensionsApp]\u001b[m Copying: /usr/local/lib/python3.11/dist-packages/jupyter_contrib_nbextensions/nbextensions/printview/icon.png -> /root/.local/share/jupyter/nbextensions/printview/icon.png\n",
            "\u001b[32m[I 16:44:44 InstallContribNbextensionsApp]\u001b[m - Validating: \u001b[32mOK\u001b[0m\n",
            "\u001b[32m[I 16:44:44 InstallContribNbextensionsApp]\u001b[m Installing /usr/local/lib/python3.11/dist-packages/jupyter_contrib_nbextensions/nbextensions/table_beautifier -> table_beautifier\n",
            "\u001b[32m[I 16:44:44 InstallContribNbextensionsApp]\u001b[m Making directory: /root/.local/share/jupyter/nbextensions/table_beautifier/\n",
            "\u001b[32m[I 16:44:44 InstallContribNbextensionsApp]\u001b[m Copying: /usr/local/lib/python3.11/dist-packages/jupyter_contrib_nbextensions/nbextensions/table_beautifier/main.css -> /root/.local/share/jupyter/nbextensions/table_beautifier/main.css\n",
            "\u001b[32m[I 16:44:44 InstallContribNbextensionsApp]\u001b[m Copying: /usr/local/lib/python3.11/dist-packages/jupyter_contrib_nbextensions/nbextensions/table_beautifier/main.js -> /root/.local/share/jupyter/nbextensions/table_beautifier/main.js\n",
            "\u001b[32m[I 16:44:44 InstallContribNbextensionsApp]\u001b[m Copying: /usr/local/lib/python3.11/dist-packages/jupyter_contrib_nbextensions/nbextensions/table_beautifier/table_beautifier.yaml -> /root/.local/share/jupyter/nbextensions/table_beautifier/table_beautifier.yaml\n",
            "\u001b[32m[I 16:44:44 InstallContribNbextensionsApp]\u001b[m Copying: /usr/local/lib/python3.11/dist-packages/jupyter_contrib_nbextensions/nbextensions/table_beautifier/README.md -> /root/.local/share/jupyter/nbextensions/table_beautifier/README.md\n",
            "\u001b[32m[I 16:44:44 InstallContribNbextensionsApp]\u001b[m - Validating: \u001b[32mOK\u001b[0m\n",
            "\u001b[32m[I 16:44:44 InstallContribNbextensionsApp]\u001b[m Installing /usr/local/lib/python3.11/dist-packages/jupyter_contrib_nbextensions/nbextensions/spellchecker -> spellchecker\n",
            "\u001b[32m[I 16:44:44 InstallContribNbextensionsApp]\u001b[m Making directory: /root/.local/share/jupyter/nbextensions/spellchecker/\n",
            "\u001b[32m[I 16:44:44 InstallContribNbextensionsApp]\u001b[m Copying: /usr/local/lib/python3.11/dist-packages/jupyter_contrib_nbextensions/nbextensions/spellchecker/main.css -> /root/.local/share/jupyter/nbextensions/spellchecker/main.css\n",
            "\u001b[32m[I 16:44:44 InstallContribNbextensionsApp]\u001b[m Copying: /usr/local/lib/python3.11/dist-packages/jupyter_contrib_nbextensions/nbextensions/spellchecker/screenshot.png -> /root/.local/share/jupyter/nbextensions/spellchecker/screenshot.png\n",
            "\u001b[32m[I 16:44:44 InstallContribNbextensionsApp]\u001b[m Copying: /usr/local/lib/python3.11/dist-packages/jupyter_contrib_nbextensions/nbextensions/spellchecker/main.js -> /root/.local/share/jupyter/nbextensions/spellchecker/main.js\n",
            "\u001b[32m[I 16:44:44 InstallContribNbextensionsApp]\u001b[m Copying: /usr/local/lib/python3.11/dist-packages/jupyter_contrib_nbextensions/nbextensions/spellchecker/download_new_dict.py -> /root/.local/share/jupyter/nbextensions/spellchecker/download_new_dict.py\n",
            "\u001b[32m[I 16:44:44 InstallContribNbextensionsApp]\u001b[m Copying: /usr/local/lib/python3.11/dist-packages/jupyter_contrib_nbextensions/nbextensions/spellchecker/config.yaml -> /root/.local/share/jupyter/nbextensions/spellchecker/config.yaml\n",
            "\u001b[32m[I 16:44:44 InstallContribNbextensionsApp]\u001b[m Copying: /usr/local/lib/python3.11/dist-packages/jupyter_contrib_nbextensions/nbextensions/spellchecker/README.md -> /root/.local/share/jupyter/nbextensions/spellchecker/README.md\n",
            "\u001b[32m[I 16:44:44 InstallContribNbextensionsApp]\u001b[m Making directory: /root/.local/share/jupyter/nbextensions/spellchecker/__pycache__\n",
            "\u001b[32m[I 16:44:44 InstallContribNbextensionsApp]\u001b[m Copying: /usr/local/lib/python3.11/dist-packages/jupyter_contrib_nbextensions/nbextensions/spellchecker/__pycache__/download_new_dict.cpython-311.pyc -> /root/.local/share/jupyter/nbextensions/spellchecker/__pycache__/download_new_dict.cpython-311.pyc\n",
            "\u001b[32m[I 16:44:44 InstallContribNbextensionsApp]\u001b[m Making directory: /root/.local/share/jupyter/nbextensions/spellchecker/typo\n",
            "\u001b[32m[I 16:44:44 InstallContribNbextensionsApp]\u001b[m Copying: /usr/local/lib/python3.11/dist-packages/jupyter_contrib_nbextensions/nbextensions/spellchecker/typo/typo.js -> /root/.local/share/jupyter/nbextensions/spellchecker/typo/typo.js\n",
            "\u001b[32m[I 16:44:44 InstallContribNbextensionsApp]\u001b[m Copying: /usr/local/lib/python3.11/dist-packages/jupyter_contrib_nbextensions/nbextensions/spellchecker/typo/LICENSE.txt -> /root/.local/share/jupyter/nbextensions/spellchecker/typo/LICENSE.txt\n",
            "\u001b[32m[I 16:44:44 InstallContribNbextensionsApp]\u001b[m - Validating: \u001b[32mOK\u001b[0m\n",
            "\u001b[32m[I 16:44:44 InstallContribNbextensionsApp]\u001b[m Installing /usr/local/lib/python3.11/dist-packages/jupyter_highlight_selected_word/static/highlight_selected_word -> highlight_selected_word\n",
            "\u001b[32m[I 16:44:44 InstallContribNbextensionsApp]\u001b[m Making directory: /root/.local/share/jupyter/nbextensions/highlight_selected_word/\n",
            "\u001b[32m[I 16:44:44 InstallContribNbextensionsApp]\u001b[m Copying: /usr/local/lib/python3.11/dist-packages/jupyter_highlight_selected_word/static/highlight_selected_word/configurator.yaml -> /root/.local/share/jupyter/nbextensions/highlight_selected_word/configurator.yaml\n",
            "\u001b[32m[I 16:44:44 InstallContribNbextensionsApp]\u001b[m Copying: /usr/local/lib/python3.11/dist-packages/jupyter_highlight_selected_word/static/highlight_selected_word/main.js -> /root/.local/share/jupyter/nbextensions/highlight_selected_word/main.js\n",
            "\u001b[32m[I 16:44:44 InstallContribNbextensionsApp]\u001b[m Copying: /usr/local/lib/python3.11/dist-packages/jupyter_highlight_selected_word/static/highlight_selected_word/README.md -> /root/.local/share/jupyter/nbextensions/highlight_selected_word/README.md\n",
            "\u001b[32m[I 16:44:44 InstallContribNbextensionsApp]\u001b[m - Validating: \u001b[32mOK\u001b[0m\n",
            "\u001b[32m[I 16:44:44 InstallContribNbextensionsApp]\u001b[m Installing jupyter_contrib_nbextensions items to config in /root/.jupyter\n",
            "Enabling: jupyter_nbextensions_configurator\n",
            "- Writing config: /root/.jupyter\n",
            "    - Validating...\n",
            "      jupyter_nbextensions_configurator 0.6.4 \u001b[32mOK\u001b[0m\n",
            "Enabling notebook nbextension nbextensions_configurator/config_menu/main...\n",
            "Enabling tree nbextension nbextensions_configurator/tree_tab/main...\n",
            "\u001b[32m[I 16:44:44 InstallContribNbextensionsApp]\u001b[m Enabling notebook extension contrib_nbextensions_help_item/main...\n",
            "\u001b[32m[I 16:44:44 InstallContribNbextensionsApp]\u001b[m       - Validating: \u001b[32mOK\u001b[0m\n",
            "\u001b[32m[I 16:44:44 InstallContribNbextensionsApp]\u001b[m - Editing config: /root/.jupyter/jupyter_nbconvert_config.json\n",
            "\u001b[32m[I 16:44:44 InstallContribNbextensionsApp]\u001b[m --  Configuring nbconvert template path\n",
            "\u001b[32m[I 16:44:44 InstallContribNbextensionsApp]\u001b[m --  Configuring nbconvert preprocessors\n",
            "\u001b[32m[I 16:44:44 InstallContribNbextensionsApp]\u001b[m - Writing config: /root/.jupyter/jupyter_nbconvert_config.json\n",
            "\u001b[32m[I 16:44:44 InstallContribNbextensionsApp]\u001b[m --  Writing updated config file /root/.jupyter/jupyter_nbconvert_config.json\n",
            "Enabling notebook extension hinterland/hinterland...\n",
            "Paths used for configuration of notebook: \n",
            "    \t/root/.jupyter/nbconfig/notebook.json\n",
            "Paths used for configuration of notebook: \n",
            "    \t\n",
            "      - Validating: \u001b[32mOK\u001b[0m\n",
            "Paths used for configuration of notebook: \n",
            "    \t/root/.jupyter/nbconfig/notebook.json\n"
          ]
        }
      ],
      "source": [
        "!pip install -q jupyter_contrib_nbextensions\n",
        "!jupyter contrib nbextension install --user\n",
        "!jupyter nbextension enable hinterland/hinterland"
      ]
    },
    {
      "cell_type": "code",
      "execution_count": null,
      "metadata": {},
      "outputs": [
        {
          "ename": "FileNotFoundError",
          "evalue": "[Errno 2] No such file or directory: 'your_notebook.ipynb'",
          "output_type": "error",
          "traceback": [
            "\u001b[31m---------------------------------------------------------------------------\u001b[39m",
            "\u001b[31mAttributeError\u001b[39m                            Traceback (most recent call last)",
            "\u001b[36mFile \u001b[39m\u001b[32m~/Library/Python/3.13/lib/python/site-packages/nbformat/__init__.py:169\u001b[39m, in \u001b[36mread\u001b[39m\u001b[34m(fp, as_version, capture_validation_error, **kwargs)\u001b[39m\n\u001b[32m    168\u001b[39m \u001b[38;5;28;01mtry\u001b[39;00m:\n\u001b[32m--> \u001b[39m\u001b[32m169\u001b[39m     buf = \u001b[43mfp\u001b[49m\u001b[43m.\u001b[49m\u001b[43mread\u001b[49m()\n\u001b[32m    170\u001b[39m \u001b[38;5;28;01mexcept\u001b[39;00m \u001b[38;5;167;01mAttributeError\u001b[39;00m:\n",
            "\u001b[31mAttributeError\u001b[39m: 'str' object has no attribute 'read'",
            "\nDuring handling of the above exception, another exception occurred:\n",
            "\u001b[31mFileNotFoundError\u001b[39m                         Traceback (most recent call last)",
            "\u001b[36mCell\u001b[39m\u001b[36m \u001b[39m\u001b[32mIn[4]\u001b[39m\u001b[32m, line 4\u001b[39m\n\u001b[32m      1\u001b[39m \u001b[38;5;28;01mimport\u001b[39;00m\u001b[38;5;250m \u001b[39m\u001b[34;01mnbformat\u001b[39;00m\n\u001b[32m      3\u001b[39m \u001b[38;5;66;03m# Load your notebook\u001b[39;00m\n\u001b[32m----> \u001b[39m\u001b[32m4\u001b[39m nb = \u001b[43mnbformat\u001b[49m\u001b[43m.\u001b[49m\u001b[43mread\u001b[49m\u001b[43m(\u001b[49m\u001b[33;43m\"\u001b[39;49m\u001b[33;43myour_notebook.ipynb\u001b[39;49m\u001b[33;43m\"\u001b[39;49m\u001b[43m,\u001b[49m\u001b[43m \u001b[49m\u001b[43mas_version\u001b[49m\u001b[43m=\u001b[49m\u001b[43mnbformat\u001b[49m\u001b[43m.\u001b[49m\u001b[43mNO_CONVERT\u001b[49m\u001b[43m)\u001b[49m\n\u001b[32m      6\u001b[39m \u001b[38;5;66;03m# Remove problematic metadata\u001b[39;00m\n\u001b[32m      7\u001b[39m \u001b[38;5;28;01mif\u001b[39;00m \u001b[33m\"\u001b[39m\u001b[33mwidgets\u001b[39m\u001b[33m\"\u001b[39m \u001b[38;5;129;01min\u001b[39;00m nb[\u001b[33m\"\u001b[39m\u001b[33mmetadata\u001b[39m\u001b[33m\"\u001b[39m]:\n",
            "\u001b[36mFile \u001b[39m\u001b[32m~/Library/Python/3.13/lib/python/site-packages/nbformat/__init__.py:171\u001b[39m, in \u001b[36mread\u001b[39m\u001b[34m(fp, as_version, capture_validation_error, **kwargs)\u001b[39m\n\u001b[32m    169\u001b[39m     buf = fp.read()\n\u001b[32m    170\u001b[39m \u001b[38;5;28;01mexcept\u001b[39;00m \u001b[38;5;167;01mAttributeError\u001b[39;00m:\n\u001b[32m--> \u001b[39m\u001b[32m171\u001b[39m     \u001b[38;5;28;01mwith\u001b[39;00m \u001b[38;5;28;43mopen\u001b[39;49m\u001b[43m(\u001b[49m\u001b[43mfp\u001b[49m\u001b[43m,\u001b[49m\u001b[43m \u001b[49m\u001b[43mencoding\u001b[49m\u001b[43m=\u001b[49m\u001b[33;43m\"\u001b[39;49m\u001b[33;43mutf8\u001b[39;49m\u001b[33;43m\"\u001b[39;49m\u001b[43m)\u001b[49m \u001b[38;5;28;01mas\u001b[39;00m f:  \u001b[38;5;66;03m# noqa: PTH123\u001b[39;00m\n\u001b[32m    172\u001b[39m         \u001b[38;5;28;01mreturn\u001b[39;00m reads(f.read(), as_version, capture_validation_error, **kwargs)\n\u001b[32m    174\u001b[39m \u001b[38;5;28;01mreturn\u001b[39;00m reads(buf, as_version, capture_validation_error, **kwargs)\n",
            "\u001b[31mFileNotFoundError\u001b[39m: [Errno 2] No such file or directory: 'your_notebook.ipynb'"
          ]
        }
      ],
      "source": [
        "import nbformat\n",
        "\n",
        "# Load your notebook\n",
        "nb = nbformat.read(\"/Users/arbaaz/downloads/air_pol/tabnet_baseline.ipynb\", as_version=nbformat.NO_CONVERT)\n",
        "\n",
        "# Remove problematic metadata\n",
        "if \"widgets\" in nb[\"metadata\"]:\n",
        "    del nb[\"metadata\"][\"widgets\"]\n",
        "\n",
        "# Save the cleaned notebook\n",
        "nbformat.write(nb, \"/Users/arbaaz/downloads/air_pol/tabnet_baseline.ipynb\")\n"
      ]
    },
    {
      "cell_type": "code",
      "execution_count": 1,
      "metadata": {
        "colab": {
          "base_uri": "https://localhost:8080/",
          "height": 83,
          "referenced_widgets": [
            "d1c27921fa3542149d44f4dd60ee8d9a",
            "078547a9924348b99f581176091fcb92",
            "01abb5378d9245c1ac795fbd06921b30",
            "382c560166da441cbb46702f0dd9ba85",
            "15d4174eeb224d8b8821f9922fc94aeb",
            "bf74cefdf6b0418e81b747ad0a5596d5",
            "11aa2d00474747e7a5978371bc4a5ae3",
            "34c44f51b03249958ec5655cd52136b7",
            "2436ce83586e438fafa1cf86b98b1935",
            "04b983a1ec9545b1bfb9e2797df08f0e",
            "b5010def162348309f5528ccbc1638cc",
            "99211a16a32c4826a4754a19a8f1ecff",
            "fa4102cbeaef408a99796001c12bde8f",
            "b2edece489ff44ad9b20e13661ea09c4",
            "8eff405c7d2749ab85e31f156d7fdd95",
            "8b4e00bbdbf046c893b4f8b9d52dfe43",
            "662208306ed24327aed296cf6fbc6b9c",
            "7b78548bb93c4b5084cdc54933467123",
            "2d2b01babc4c4a07bdd2d8c841334cb9",
            "0e579a5b4f404e46be6580ad33563f03",
            "29fe75374abb4fd9bb36a72a7d37b402",
            "ddeac9eacd7140d58a4661afa44a7fd0",
            "13c13312acb445d595f9eb8a92f28a9e"
          ]
        },
        "id": "WaHyXLdgATqk",
        "outputId": "f4b95f30-76af-4c63-87e9-53804694c1f1"
      },
      "outputs": [
        {
          "data": {
            "application/vnd.jupyter.widget-view+json": {
              "model_id": "3f022fa0ecda47578f8c2e9c59ecde38",
              "version_major": 2,
              "version_minor": 0
            },
            "text/plain": [
              "VBox(children=(HTML(value='<center> <img\\nsrc=https://www.kaggle.com/static/images/site-logo.png\\nalt=\\'Kaggle…"
            ]
          },
          "metadata": {},
          "output_type": "display_data"
        }
      ],
      "source": [
        "# IMPORTANT: SOME KAGGLE DATA SOURCES ARE PRIVATE\n",
        "# RUN THIS CELL IN ORDER TO IMPORT YOUR KAGGLE DATA SOURCES.\n",
        "import kagglehub\n",
        "kagglehub.login()"
      ]
    },
    {
      "cell_type": "code",
      "execution_count": 2,
      "metadata": {},
      "outputs": [
        {
          "name": "stdout",
          "output_type": "stream",
          "text": [
            "\u001b[2K     \u001b[90m━━━━━━━━━━━━━━━━━━━━━━━━━━━━━━━━━━━━━━━━\u001b[0m \u001b[32m63.9/63.9 kB\u001b[0m \u001b[31m2.0 MB/s\u001b[0m eta \u001b[36m0:00:00\u001b[0m\n",
            "\u001b[?25h  Preparing metadata (setup.py) ... \u001b[?25l\u001b[?25hdone\n",
            "\u001b[2K   \u001b[90m━━━━━━━━━━━━━━━━━━━━━━━━━━━━━━━━━━━━━━━━\u001b[0m \u001b[32m44.5/44.5 kB\u001b[0m \u001b[31m2.0 MB/s\u001b[0m eta \u001b[36m0:00:00\u001b[0m\n",
            "\u001b[2K   \u001b[90m━━━━━━━━━━━━━━━━━━━━━━━━━━━━━━━━━━━━━━━━\u001b[0m \u001b[32m9.7/9.7 MB\u001b[0m \u001b[31m73.7 MB/s\u001b[0m eta \u001b[36m0:00:00\u001b[0m:00:01\u001b[0m0:01\u001b[0m\n",
            "\u001b[2K   \u001b[90m━━━━━━━━━━━━━━━━━━━━━━━━━━━━━━━━━━━━━━━━\u001b[0m \u001b[32m487.9/487.9 kB\u001b[0m \u001b[31m23.7 MB/s\u001b[0m eta \u001b[36m0:00:00\u001b[0m\n",
            "\u001b[2K   \u001b[90m━━━━━━━━━━━━━━━━━━━━━━━━━━━━━━━━━━━━━━━━\u001b[0m \u001b[32m363.4/363.4 MB\u001b[0m \u001b[31m4.3 MB/s\u001b[0m eta \u001b[36m0:00:00\u001b[0m:00:01\u001b[0m00:01\u001b[0m\n",
            "\u001b[2K   \u001b[90m━━━━━━━━━━━━━━━━━━━━━━━━━━━━━━━━━━━━━━━━\u001b[0m \u001b[32m13.8/13.8 MB\u001b[0m \u001b[31m29.0 MB/s\u001b[0m eta \u001b[36m0:00:00\u001b[0m00:01\u001b[0m00:01\u001b[0m\n",
            "\u001b[2K   \u001b[90m━━━━━━━━━━━━━━━━━━━━━━━━━━━━━━━━━━━━━━━━\u001b[0m \u001b[32m24.6/24.6 MB\u001b[0m \u001b[31m20.5 MB/s\u001b[0m eta \u001b[36m0:00:00\u001b[0m00:01\u001b[0m00:01\u001b[0m\n",
            "\u001b[2K   \u001b[90m━━━━━━━━━━━━━━━━━━━━━━━━━━━━━━━━━━━━━━━━\u001b[0m \u001b[32m883.7/883.7 kB\u001b[0m \u001b[31m17.9 MB/s\u001b[0m eta \u001b[36m0:00:00\u001b[0m00:01\u001b[0m\n",
            "\u001b[2K   \u001b[90m━━━━━━━━━━━━━━━━━━━━━━━━━━━━━━━━━━━━━━━━\u001b[0m \u001b[32m664.8/664.8 MB\u001b[0m \u001b[31m2.0 MB/s\u001b[0m eta \u001b[36m0:00:00\u001b[0m:00:01\u001b[0m00:01\u001b[0m\n",
            "\u001b[2K   \u001b[90m━━━━━━━━━━━━━━━━━━━━━━━━━━━━━━━━━━━━━━━━\u001b[0m \u001b[32m211.5/211.5 MB\u001b[0m \u001b[31m6.3 MB/s\u001b[0m eta \u001b[36m0:00:00\u001b[0m:00:01\u001b[0m00:01\u001b[0m\n",
            "\u001b[2K   \u001b[90m━━━━━━━━━━━━━━━━━━━━━━━━━━━━━━━━━━━━━━━━\u001b[0m \u001b[32m56.3/56.3 MB\u001b[0m \u001b[31m13.6 MB/s\u001b[0m eta \u001b[36m0:00:00\u001b[0m00:01\u001b[0m00:01\u001b[0m\n",
            "\u001b[2K   \u001b[90m━━━━━━━━━━━━━━━━━━━━━━━━━━━━━━━━━━━━━━━━\u001b[0m \u001b[32m127.9/127.9 MB\u001b[0m \u001b[31m9.9 MB/s\u001b[0m eta \u001b[36m0:00:00\u001b[0m:00:01\u001b[0m00:01\u001b[0m\n",
            "\u001b[2K   \u001b[90m━━━━━━━━━━━━━━━━━━━━━━━━━━━━━━━━━━━━━━━━\u001b[0m \u001b[32m207.5/207.5 MB\u001b[0m \u001b[31m5.8 MB/s\u001b[0m eta \u001b[36m0:00:00\u001b[0m:00:01\u001b[0m00:01\u001b[0m\n",
            "\u001b[2K   \u001b[90m━━━━━━━━━━━━━━━━━━━━━━━━━━━━━━━━━━━━━━━━\u001b[0m \u001b[32m21.1/21.1 MB\u001b[0m \u001b[31m20.7 MB/s\u001b[0m eta \u001b[36m0:00:00\u001b[0m00:01\u001b[0m00:01\u001b[0m\n",
            "\u001b[?25h  Building wheel for bravado-core (setup.py) ... \u001b[?25l\u001b[?25hdone\n",
            "\u001b[31mERROR: pip's dependency resolver does not currently take into account all the packages that are installed. This behaviour is the source of the following dependency conflicts.\n",
            "category-encoders 2.7.0 requires scikit-learn<1.6.0,>=1.0.0, but you have scikit-learn 1.7.1 which is incompatible.\n",
            "cesium 0.12.4 requires numpy<3.0,>=2.0, but you have numpy 1.26.4 which is incompatible.\n",
            "sklearn-compat 0.1.3 requires scikit-learn<1.7,>=1.2, but you have scikit-learn 1.7.1 which is incompatible.\u001b[0m\u001b[31m\n",
            "\u001b[0mNote: you may need to restart the kernel to use updated packages.\n"
          ]
        }
      ],
      "source": [
        "pip install -qU pytorch-tabnet scikit-learn neptune"
      ]
    },
    {
      "cell_type": "code",
      "execution_count": 2,
      "metadata": {},
      "outputs": [
        {
          "name": "stdout",
          "output_type": "stream",
          "text": [
            "Fri Aug  1 06:00:14 2025       \n",
            "+-----------------------------------------------------------------------------------------+\n",
            "| NVIDIA-SMI 560.35.03              Driver Version: 560.35.03      CUDA Version: 12.6     |\n",
            "|-----------------------------------------+------------------------+----------------------+\n",
            "| GPU  Name                 Persistence-M | Bus-Id          Disp.A | Volatile Uncorr. ECC |\n",
            "| Fan  Temp   Perf          Pwr:Usage/Cap |           Memory-Usage | GPU-Util  Compute M. |\n",
            "|                                         |                        |               MIG M. |\n",
            "|=========================================+========================+======================|\n",
            "|   0  Tesla T4                       Off |   00000000:00:04.0 Off |                    0 |\n",
            "| N/A   36C    P8             10W /   70W |       1MiB /  15360MiB |      0%      Default |\n",
            "|                                         |                        |                  N/A |\n",
            "+-----------------------------------------+------------------------+----------------------+\n",
            "|   1  Tesla T4                       Off |   00000000:00:05.0 Off |                    0 |\n",
            "| N/A   33C    P8              9W /   70W |       1MiB /  15360MiB |      0%      Default |\n",
            "|                                         |                        |                  N/A |\n",
            "+-----------------------------------------+------------------------+----------------------+\n",
            "                                                                                         \n",
            "+-----------------------------------------------------------------------------------------+\n",
            "| Processes:                                                                              |\n",
            "|  GPU   GI   CI        PID   Type   Process name                              GPU Memory |\n",
            "|        ID   ID                                                               Usage      |\n",
            "|=========================================================================================|\n",
            "|  No running processes found                                                             |\n",
            "+-----------------------------------------------------------------------------------------+\n"
          ]
        }
      ],
      "source": [
        "!nvidia-smi"
      ]
    },
    {
      "cell_type": "code",
      "execution_count": 1,
      "metadata": {
        "colab": {
          "base_uri": "https://localhost:8080/"
        },
        "id": "uIRC5lQ7ATqo",
        "outputId": "9c148d05-f75a-4eca-93e7-e4d83f659538"
      },
      "outputs": [
        {
          "name": "stdout",
          "output_type": "stream",
          "text": [
            "Data source import complete.\n"
          ]
        }
      ],
      "source": [
        "# IMPORTANT: RUN THIS CELL IN ORDER TO IMPORT YOUR KAGGLE DATA SOURCES,\n",
        "# THEN FEEL FREE TO DELETE THIS CELL.\n",
        "# NOTE: THIS NOTEBOOK ENVIRONMENT DIFFERS FROM KAGGLE'S PYTHON\n",
        "# ENVIRONMENT SO THERE MAY BE MISSING LIBRARIES USED BY YOUR\n",
        "# NOTEBOOK.\n",
        "import kagglehub\n",
        "\n",
        "\n",
        "arbaazbeg_bitgrit_air_pollution_path = kagglehub.dataset_download('arbaazbeg/bitgrit-air-pollution')\n",
        "print('Data source import complete.')"
      ]
    },
    {
      "cell_type": "code",
      "execution_count": 2,
      "metadata": {
        "execution": {
          "iopub.execute_input": "2025-07-29T16:16:17.330571Z",
          "iopub.status.busy": "2025-07-29T16:16:17.330204Z",
          "iopub.status.idle": "2025-07-29T16:16:17.349444Z",
          "shell.execute_reply": "2025-07-29T16:16:17.348454Z",
          "shell.execute_reply.started": "2025-07-29T16:16:17.330534Z"
        },
        "id": "0G0ez0UGATqp",
        "trusted": true
      },
      "outputs": [],
      "source": [
        "import torch\n",
        "\n",
        "\n",
        "def print_config(config):\n",
        "    attrs = {}\n",
        "    attrs.update(config.__dict__)\n",
        "\n",
        "    for key, value in config.__class__.__dict__.items():\n",
        "        if not key.startswith('__') and key not in attrs:\n",
        "            attrs[key] = value\n",
        "\n",
        "    for key, value in attrs.items():\n",
        "        print(f\"{key}: {value}\")\n",
        "\n",
        "\n",
        "class Config:\n",
        "    # Model\n",
        "    model_name = \"tabnet.100ep.wd.1e3.150ep.dy.mean.std.fixed.test\"\n",
        "    input_dim = 6\n",
        "    target_dim = 1\n",
        "\n",
        "    # Device & reproducibility\n",
        "    device = \"cuda\" if torch.cuda.is_available() else \"cpu\"\n",
        "    seed = 5274\n",
        "\n",
        "    # Optimization\n",
        "    optimizer_name = \"AdamW\"\n",
        "    lr = 1e-4\n",
        "    weight_decay = 1e-3\n",
        "\n",
        "    grad_accum = False\n",
        "    grad_accum_steps = 1\n",
        "    batch_size = 32  # // grad_accum_steps\n",
        "\n",
        "    # Training schedule\n",
        "    num_epochs = 150\n",
        "    scheduler_name = \"default\"\n",
        "\n",
        "    # Regularization\n",
        "    dropout = 0.0\n",
        "    drop_path_rate = 0.0\n",
        "    label_smoothing = 0.0\n",
        "\n",
        "    # Experiment tracking\n",
        "    neptune_token = \"eyJhcGlfYWRkcmVzcyI6Imh0dHBzOi8vYXBwLm5lcHR1bmUuYWkiLCJhcGlfdXJsIjoiaHR0cHM6Ly9hcHAubmVwdHVuZS5haSIsImFwaV9rZXkiOiJlOGE2YjNiZS1mZGUyLTRjYjItYTg5Yy1mZWJkZTIzNzE1NmIifQ==\"\n",
        "    with_id = \"\"\n",
        "    resume = False\n",
        "\n",
        "config = Config()"
      ]
    },
    {
      "cell_type": "code",
      "execution_count": 3,
      "metadata": {},
      "outputs": [],
      "source": [
        "import random\n",
        "import numpy as np\n",
        "import torch\n",
        "\n",
        "def setup_reproducibility(config):\n",
        "    random.seed(config.seed)\n",
        "    np.random.seed(config.seed)\n",
        "    torch.manual_seed(config.seed)\n",
        "    if torch.cuda.is_available():\n",
        "        torch.cuda.manual_seed_all(config.seed)\n",
        "    torch.backends.cudnn.deterministic = True\n",
        "    torch.backends.cudnn.benchmark = False\n",
        "    torch.use_deterministic_algorithms(False, warn_only=True)\n",
        "    torch.set_float32_matmul_precision(\"high\")\n",
        "\n",
        "setup_reproducibility(config)"
      ]
    },
    {
      "cell_type": "code",
      "execution_count": 4,
      "metadata": {},
      "outputs": [],
      "source": [
        "import pandas as pd\n",
        "from sklearn.preprocessing import StandardScaler\n",
        "from sklearn.model_selection import train_test_split\n",
        "\n",
        "\n",
        "def load_and_scale_data(path, SEED):\n",
        "    data = pd.read_csv(path).drop(columns=['id'])\n",
        "    data.dropna(inplace=True)\n",
        "    data = data.to_numpy()#.astype(np.float32)\n",
        "    \n",
        "    inputs = data[:, :-1]\n",
        "    targets = data[:, -1].reshape(-1, 1)\n",
        "    \n",
        "    scaler = StandardScaler()\n",
        "    inputs = scaler.fit_transform(inputs)\n",
        "    \n",
        "    train_inputs, eval_inputs, train_targets, eval_targets = train_test_split(\n",
        "        inputs, \n",
        "        targets, \n",
        "        train_size=0.8, \n",
        "        random_state=SEED, \n",
        "        shuffle=True\n",
        "    )\n",
        "\n",
        "    return (\n",
        "        train_inputs.astype(np.float32),\n",
        "        train_targets.astype(np.float32),\n",
        "        eval_inputs.astype(np.float32),\n",
        "        eval_targets.astype(np.float32)\n",
        "    )\n",
        "\n",
        "path = arbaazbeg_bitgrit_air_pollution_path+\"/train.csv\"\n",
        "data = load_and_scale_data(path, config.seed)"
      ]
    },
    {
      "cell_type": "code",
      "execution_count": 5,
      "metadata": {},
      "outputs": [],
      "source": [
        "from torch.utils.data import Dataset\n",
        "\n",
        "\n",
        "class TabularDataset(Dataset):\n",
        "    def __init__(self, inputs, targets):\n",
        "        self.inputs = inputs\n",
        "        self.targets = targets\n",
        "        assert len(self.inputs) == len(self.targets), \"len not eq\"\n",
        "\n",
        "    def __len__(self):\n",
        "        return len(self.inputs)\n",
        "\n",
        "    def __getitem__(self, index):\n",
        "        return self.inputs[index], self.targets[index]\n",
        "\n",
        "train_ds = TabularDataset(data[0], data[1])\n",
        "eval_ds = TabularDataset(data[2], data[3])    "
      ]
    },
    {
      "cell_type": "code",
      "execution_count": 6,
      "metadata": {},
      "outputs": [],
      "source": [
        "from torch.utils.data import DataLoader\n",
        "\n",
        "\n",
        "def build_loader(\n",
        "    SEED,\n",
        "    ds,\n",
        "    train=True,\n",
        "    batch_size=16,\n",
        "    shuffle=False,\n",
        "    num_workers=4,\n",
        "    drop_last=True,\n",
        "    pin_memory=True,\n",
        "    persistent_workers=False,\n",
        "):\n",
        "    def seed_worker(worker_id):\n",
        "        worker_seed = torch.initial_seed() % 2**32\n",
        "        np.random.seed(worker_seed)\n",
        "        random.seed(worker_seed)\n",
        "\n",
        "    generator = torch.Generator()\n",
        "    generator.manual_seed(SEED if train else SEED+1)\n",
        "\n",
        "    return DataLoader(\n",
        "        ds,\n",
        "        batch_size=batch_size,\n",
        "        shuffle=shuffle,\n",
        "        num_workers=num_workers,\n",
        "        pin_memory=pin_memory,\n",
        "        drop_last=drop_last,\n",
        "        persistent_workers=persistent_workers,\n",
        "        worker_init_fn=seed_worker,\n",
        "        generator=generator,\n",
        "        #sampler=DistributedSampler(\n",
        "        #    train_ds,\n",
        "        #    shuffle=True,\n",
        "        #    drop_last=True,\n",
        "        #    seed=config.seed\n",
        "        #)\n",
        "    )\n",
        "    \n",
        "    \n",
        "train_dl = build_loader(\n",
        "    config.seed,\n",
        "    train_ds,\n",
        "    train=True,\n",
        "    batch_size=config.batch_size,\n",
        "    shuffle=True,\n",
        "    num_workers=0,\n",
        "    drop_last=True,\n",
        "    pin_memory=True,\n",
        "    persistent_workers=False,\n",
        ")\n",
        "\n",
        "eval_dl = build_loader(\n",
        "    config.seed,\n",
        "    eval_ds,\n",
        "    train=False,\n",
        "    batch_size=config.batch_size,\n",
        "    shuffle=False,\n",
        "    num_workers=0,\n",
        "    drop_last=True,\n",
        "    pin_memory=True,\n",
        "    persistent_workers=False,\n",
        ")"
      ]
    },
    {
      "cell_type": "code",
      "execution_count": 7,
      "metadata": {},
      "outputs": [],
      "source": [
        "import torch.nn as nn\n",
        "from pytorch_tabnet.tab_network import TabNet\n",
        "from pytorch_tabnet.utils import create_group_matrix\n",
        "\n",
        "\n",
        "class Model(nn.Module):\n",
        "    def __init__(self):\n",
        "        super().__init__()\n",
        "        \n",
        "        grp_list = [[i] for i in range(6)]\n",
        "        group_matrix = create_group_matrix(\n",
        "            grp_list,\n",
        "            config.input_dim,\n",
        "        ).to(config.device)\n",
        "\n",
        "        self.backbone = TabNet(\n",
        "            input_dim=config.input_dim,\n",
        "            output_dim=config.target_dim,\n",
        "            group_attention_matrix=group_matrix\n",
        "        ).to(config.device)\n",
        "\n",
        "        self.mean = nn.Parameter(torch.tensor(22.13579559326172))\n",
        "        self.std = nn.Parameter(torch.tensor(42.34627151489258))\n",
        "\n",
        "    def forward(self, x):\n",
        "        x = self.backbone(x)[0]\n",
        "        return (x * self.std) + self.mean\n",
        "        \n",
        "model = Model().to(config.device)       \n",
        "        \n",
        "optimizer = torch.optim.AdamW(\n",
        "    model.parameters(),\n",
        "    lr=config.lr,\n",
        "    weight_decay=config.weight_decay,\n",
        "    fused=True\n",
        ")"
      ]
    },
    {
      "cell_type": "code",
      "execution_count": 8,
      "metadata": {},
      "outputs": [],
      "source": [
        "from transformers import get_cosine_schedule_with_warmup\n",
        "\n",
        "\n",
        "total_training_steps = (len(train_dl)) * config.num_epochs\n",
        "warmup_steps = int(total_training_steps * 0.05)\n",
        "\n",
        "scheduler = get_cosine_schedule_with_warmup(\n",
        "    optimizer=optimizer,\n",
        "    num_warmup_steps=warmup_steps,\n",
        "    num_training_steps=total_training_steps\n",
        ")"
      ]
    },
    {
      "cell_type": "code",
      "execution_count": 9,
      "metadata": {},
      "outputs": [],
      "source": [
        "from collections import OrderedDict\n",
        "\n",
        "\n",
        "def remove_orig_mod(state_dict):\n",
        "    new_state_dict = OrderedDict()\n",
        "    prefix = \"_orig_mod.\"\n",
        "    for key, value in state_dict.items():\n",
        "        if key.startswith(prefix):\n",
        "            new_key = key[len(prefix):]\n",
        "        else:\n",
        "            new_key = key\n",
        "        new_state_dict[new_key] = value\n",
        "    return new_state_dict"
      ]
    },
    {
      "cell_type": "code",
      "execution_count": 10,
      "metadata": {},
      "outputs": [
        {
          "name": "stderr",
          "output_type": "stream",
          "text": [
            "[neptune] [warning] NeptuneWarning: By default, these monitoring options are disabled in interactive sessions: 'capture_stdout', 'capture_stderr', 'capture_traceback', 'capture_hardware_metrics'. You can set them to 'True' when initializing the run and the monitoring will continue until you call run.stop() or the kernel stops. NOTE: To track the source files, pass their paths to the 'source_code' argument. For help, see: https://docs-legacy.neptune.ai/logging/source_code/\n"
          ]
        },
        {
          "name": "stdout",
          "output_type": "stream",
          "text": [
            "[neptune] [info   ] Neptune initialized. Open in the app: https://app.neptune.ai/arbaaz/bitgrit-air-pollution-1/e/BIT-26\n"
          ]
        }
      ],
      "source": [
        "import neptune\n",
        "\n",
        "def setup_neptune(config):\n",
        "    if not config.resume:\n",
        "        neptune_run = neptune.init_run(\n",
        "            project=\"arbaaz/bitgrit-air-pollution-1\",\n",
        "            name=config.model_name,\n",
        "            api_token=config.neptune_token\n",
        "        )\n",
        "\n",
        "        neptune_run[\"h_parameters\"] = {\n",
        "            \"model_name\": config.model_name,\n",
        "            \"optimizer_name\": config.optimizer_name,\n",
        "            \"learning_rate\": config.lr,\n",
        "            \"scheduler_name\": config.scheduler_name,\n",
        "            \"weight_decay\": config.weight_decay,\n",
        "            \"dropout\": config.dropout,\n",
        "            \"label_smoothing\": config.label_smoothing,\n",
        "            \"num_epochs\": config.num_epochs,\n",
        "            \"batch_size\": config.batch_size,\n",
        "            \"grad_accum_steps\": config.grad_accum_steps,\n",
        "        }\n",
        "    else:\n",
        "        neptune_run = neptune.init_run(\n",
        "            project=\"arbaaz/onward-speed-and-structure\",\n",
        "            with_id=config.with_id,\n",
        "            api_token=config.neptune_token\n",
        "        )\n",
        "\n",
        "    return neptune_run\n",
        "\n",
        "neptune_run = setup_neptune(config)    "
      ]
    },
    {
      "cell_type": "code",
      "execution_count": 11,
      "metadata": {},
      "outputs": [],
      "source": [
        "import os\n",
        "import torch.nn.functional as F\n",
        "from sklearn.metrics import root_mean_squared_error\n",
        "    \n",
        "\n",
        "def loss_fn(preds, targets):\n",
        "    return F.mse_loss(preds, targets)\n",
        "\n",
        "\n",
        "def metric_fn(preds, targets):\n",
        "    mse = F.mse_loss(preds, targets)\n",
        "    rmse = -(torch.sqrt(mse) / 100)\n",
        "    return torch.exp(rmse)\n",
        "\n",
        "\n",
        "def metric_fn_np(preds, targets):\n",
        "    rmse = root_mean_squared_error(preds, targets)\n",
        "    rmse = -(rmse / 100)\n",
        "    return np.exp(rmse)"
      ]
    },
    {
      "cell_type": "code",
      "execution_count": 12,
      "metadata": {},
      "outputs": [],
      "source": [
        "from tqdm.auto import tqdm\n",
        "            \n",
        "\n",
        "def return_logits(model, inputs):\n",
        "    return  model(inputs)\n",
        "\n",
        "\n",
        "def train_step(model, inputs, targets):\n",
        "    with torch.autocast(device_type=config.device, dtype=torch.float16, cache_enabled=True):\n",
        "        logits = return_logits(model, inputs)\n",
        "        mse = loss_fn(logits, targets)\n",
        "        rmse = metric_fn(logits, targets)\n",
        "    return mse, rmse\n",
        "\n",
        "\n",
        "def eval_step(model, inputs, targets):\n",
        "    with torch.inference_mode():\n",
        "        with torch.autocast(device_type=config.device, dtype=torch.float16, cache_enabled=True):\n",
        "            logits = return_logits(model, inputs)\n",
        "            mse = loss_fn(logits, targets)\n",
        "            rmse = metric_fn(logits, targets)\n",
        "    return mse, rmse\n",
        "\n",
        "\n",
        "def inference_step(model, inputs):\n",
        "    model.eval() # FIX THIS \n",
        "    with torch.inference_mode():\n",
        "        with torch.autocast(device_type=config.device, dtype=torch.float16, cache_enabled=True):\n",
        "            logits = return_logits(model, inputs)\n",
        "    return logits\n",
        "    \n",
        "\n",
        "def backward_step(loss, optimizer, scaler, scheduler):\n",
        "    scaler.scale(loss).backward()\n",
        "    scaler.step(optimizer)\n",
        "    scaler.update()\n",
        "    optimizer.zero_grad()\n",
        "    scheduler.step()\n",
        "          \n",
        "    \n",
        "def reduce_outputs(outputs):\n",
        "    data = {}\n",
        "    for key in outputs[0].keys():\n",
        "        if outputs[0][key].dim() == 0:\n",
        "            value = torch.stack([x[key] for x in outputs]).mean().item()\n",
        "            data[key] = value\n",
        "    return data\n",
        "\n",
        "\n",
        "def save_ckpt(model, metadata, ckpt_path):\n",
        "    data = {\"state_dict\": model.state_dict()}\n",
        "    for k, v in metadata.items():\n",
        "        data[k] = v\n",
        "    torch.save(data, ckpt_path)\n",
        "\n",
        "\n",
        "def log_and_print(neptune_run, data, log=True, print=True):\n",
        "    if log:\n",
        "        for key, value in data.items():\n",
        "            neptune_run[key].append(value)\n",
        "        \n",
        "    if print:\n",
        "        tqdm.write((\n",
        "            f\"Epoch: {data['epoch']}, \"\n",
        "            f\"train/mse: {data['train/mse']:.4f}, \"\n",
        "            f\"eval/mse: {data['eval/mse']:.4f}, \"\n",
        "            f\"train/rmse: {data['train/rmse']:.4f}, \"\n",
        "            f\"eval/rmse: {data['eval/rmse']:.4f}, \"\n",
        "        ))"
      ]
    },
    {
      "cell_type": "code",
      "execution_count": 13,
      "metadata": {},
      "outputs": [],
      "source": [
        "def train_one_epoch(\n",
        "    model, \n",
        "    optimizer,\n",
        "    scaler,  \n",
        "    scheduler,\n",
        "    train_dl,\n",
        "    epoch,\n",
        "    num_epochs,\n",
        "    resume_epoch,\n",
        "    resume, \n",
        "    log_lr_on_step,\n",
        "    neptune_run\n",
        "):\n",
        "    model.train()\n",
        "    pbar = tqdm(\n",
        "        train_dl,\n",
        "        desc=f\"Epoch: {epoch}/{num_epochs}\",\n",
        "        leave=False,\n",
        "        dynamic_ncols=True,\n",
        "        colour=\"red\",\n",
        "        position=1,\n",
        "    )\n",
        "    outputs = []\n",
        "\n",
        "    for index, (inputs, targets) in enumerate(pbar):\n",
        "        if resume and epoch < resume_epoch:\n",
        "            continue\n",
        "        \n",
        "        inputs = inputs.to(config.device, non_blocking=True)\n",
        "        targets = targets.to(config.device, non_blocking=True)\n",
        "    \n",
        "        mse, rmse = train_step(model, inputs, targets)\n",
        "        backward_step(mse, optimizer, scaler, scheduler)\n",
        "\n",
        "        outputs.append({\n",
        "            \"train/mse\": mse.detach().cpu(),\n",
        "            \"train/rmse\": rmse.detach().cpu(),\n",
        "        })\n",
        "\n",
        "        if log_lr_on_step:\n",
        "            log_and_print(\n",
        "                neptune_run,\n",
        "                data={\"STEP/lr\": scheduler.get_last_lr()[0]}, \n",
        "                log=True, \n",
        "                print=False\n",
        "            )\n",
        "            \n",
        "    return outputs\n",
        "            \n",
        "            \n",
        "def evaluate(model, eval_dl):\n",
        "    model.eval()\n",
        "    pbar = tqdm(\n",
        "        eval_dl,\n",
        "        desc=f\"Evaluating\",\n",
        "        leave=False,\n",
        "        dynamic_ncols=True,\n",
        "        colour=\"blue\",\n",
        "        position=1,\n",
        "    )\n",
        "    outputs = []\n",
        "    \n",
        "    for inputs, targets in pbar:\n",
        "        inputs = inputs.to(config.device, non_blocking=True)\n",
        "        targets = targets.to(config.device, non_blocking=True)\n",
        "        mse, rmse = eval_step(model, inputs, targets)\n",
        "        \n",
        "        outputs.append({\n",
        "            \"eval/mse\": mse.detach().cpu(),\n",
        "            \"eval/rmse\": rmse.detach().cpu(),\n",
        "        })\n",
        "        \n",
        "    return outputs"
      ]
    },
    {
      "cell_type": "code",
      "execution_count": 14,
      "metadata": {},
      "outputs": [
        {
          "data": {
            "application/vnd.jupyter.widget-view+json": {
              "model_id": "5194cf79e2c64114a4b68acd56844ace",
              "version_major": 2,
              "version_minor": 0
            },
            "text/plain": [
              "  0%|          | 0/150 [00:00<?, ?it/s]"
            ]
          },
          "metadata": {},
          "output_type": "display_data"
        },
        {
          "data": {
            "application/vnd.jupyter.widget-view+json": {
              "model_id": "086b526ea59840c7824baac5da3f689e",
              "version_major": 2,
              "version_minor": 0
            },
            "text/plain": [
              "Epoch: 0/150:   0%|          | 0/190 [00:00<?, ?it/s]"
            ]
          },
          "metadata": {},
          "output_type": "display_data"
        },
        {
          "data": {
            "application/vnd.jupyter.widget-view+json": {
              "model_id": "eb3806498b1d4647b7185fd661df7ce4",
              "version_major": 2,
              "version_minor": 0
            },
            "text/plain": [
              "Evaluating:   0%|          | 0/47 [00:00<?, ?it/s]"
            ]
          },
          "metadata": {},
          "output_type": "display_data"
        },
        {
          "name": "stdout",
          "output_type": "stream",
          "text": [
            "Epoch: 0, train/mse: 2333.0344, eval/mse: 4449.4849, train/rmse: 0.6915, eval/rmse: 0.6170, \n"
          ]
        },
        {
          "data": {
            "application/vnd.jupyter.widget-view+json": {
              "model_id": "9f3fb3e69bed4d0eba89e6e7886652dc",
              "version_major": 2,
              "version_minor": 0
            },
            "text/plain": [
              "Epoch: 1/150:   0%|          | 0/190 [00:00<?, ?it/s]"
            ]
          },
          "metadata": {},
          "output_type": "display_data"
        },
        {
          "data": {
            "application/vnd.jupyter.widget-view+json": {
              "model_id": "beb3be8abc724d0c8cf9e441ae6b4e56",
              "version_major": 2,
              "version_minor": 0
            },
            "text/plain": [
              "Evaluating:   0%|          | 0/47 [00:00<?, ?it/s]"
            ]
          },
          "metadata": {},
          "output_type": "display_data"
        },
        {
          "name": "stdout",
          "output_type": "stream",
          "text": [
            "Epoch: 1, train/mse: 2340.0432, eval/mse: 4275.4268, train/rmse: 0.6846, eval/rmse: 0.6310, \n"
          ]
        },
        {
          "data": {
            "application/vnd.jupyter.widget-view+json": {
              "model_id": "476efd7fe624486d9fd86ea83041cbcf",
              "version_major": 2,
              "version_minor": 0
            },
            "text/plain": [
              "Epoch: 2/150:   0%|          | 0/190 [00:00<?, ?it/s]"
            ]
          },
          "metadata": {},
          "output_type": "display_data"
        },
        {
          "data": {
            "application/vnd.jupyter.widget-view+json": {
              "model_id": "15e0a3d6bab3411999080251929843b2",
              "version_major": 2,
              "version_minor": 0
            },
            "text/plain": [
              "Evaluating:   0%|          | 0/47 [00:00<?, ?it/s]"
            ]
          },
          "metadata": {},
          "output_type": "display_data"
        },
        {
          "name": "stdout",
          "output_type": "stream",
          "text": [
            "Epoch: 2, train/mse: 2240.0491, eval/mse: 4256.2490, train/rmse: 0.6960, eval/rmse: 0.6359, \n"
          ]
        },
        {
          "data": {
            "application/vnd.jupyter.widget-view+json": {
              "model_id": "936d0f017b344532911eda335289ad04",
              "version_major": 2,
              "version_minor": 0
            },
            "text/plain": [
              "Epoch: 3/150:   0%|          | 0/190 [00:00<?, ?it/s]"
            ]
          },
          "metadata": {},
          "output_type": "display_data"
        },
        {
          "data": {
            "application/vnd.jupyter.widget-view+json": {
              "model_id": "12e7da03a61f496eaa952ecaf2649ea6",
              "version_major": 2,
              "version_minor": 0
            },
            "text/plain": [
              "Evaluating:   0%|          | 0/47 [00:00<?, ?it/s]"
            ]
          },
          "metadata": {},
          "output_type": "display_data"
        },
        {
          "name": "stdout",
          "output_type": "stream",
          "text": [
            "Epoch: 3, train/mse: 2182.0613, eval/mse: 4247.5479, train/rmse: 0.7058, eval/rmse: 0.6390, \n"
          ]
        },
        {
          "data": {
            "application/vnd.jupyter.widget-view+json": {
              "model_id": "a4b77a19d8554827a183b4598bd3e799",
              "version_major": 2,
              "version_minor": 0
            },
            "text/plain": [
              "Epoch: 4/150:   0%|          | 0/190 [00:00<?, ?it/s]"
            ]
          },
          "metadata": {},
          "output_type": "display_data"
        },
        {
          "data": {
            "application/vnd.jupyter.widget-view+json": {
              "model_id": "033c5696ce5f4e06ac5d9722638fab3d",
              "version_major": 2,
              "version_minor": 0
            },
            "text/plain": [
              "Evaluating:   0%|          | 0/47 [00:00<?, ?it/s]"
            ]
          },
          "metadata": {},
          "output_type": "display_data"
        },
        {
          "name": "stdout",
          "output_type": "stream",
          "text": [
            "Epoch: 4, train/mse: 2088.7693, eval/mse: 4166.2075, train/rmse: 0.7090, eval/rmse: 0.6445, \n"
          ]
        },
        {
          "data": {
            "application/vnd.jupyter.widget-view+json": {
              "model_id": "5c6f72ac2c174a36a1b21949325d6bb6",
              "version_major": 2,
              "version_minor": 0
            },
            "text/plain": [
              "Epoch: 5/150:   0%|          | 0/190 [00:00<?, ?it/s]"
            ]
          },
          "metadata": {},
          "output_type": "display_data"
        },
        {
          "data": {
            "application/vnd.jupyter.widget-view+json": {
              "model_id": "f53ed747f453494f9125baf05a25cab2",
              "version_major": 2,
              "version_minor": 0
            },
            "text/plain": [
              "Evaluating:   0%|          | 0/47 [00:00<?, ?it/s]"
            ]
          },
          "metadata": {},
          "output_type": "display_data"
        },
        {
          "name": "stdout",
          "output_type": "stream",
          "text": [
            "Epoch: 5, train/mse: 2089.5173, eval/mse: 4106.4507, train/rmse: 0.7184, eval/rmse: 0.6525, \n"
          ]
        },
        {
          "data": {
            "application/vnd.jupyter.widget-view+json": {
              "model_id": "ce1c37be731f4196a4406deda42b66b5",
              "version_major": 2,
              "version_minor": 0
            },
            "text/plain": [
              "Epoch: 6/150:   0%|          | 0/190 [00:00<?, ?it/s]"
            ]
          },
          "metadata": {},
          "output_type": "display_data"
        },
        {
          "data": {
            "application/vnd.jupyter.widget-view+json": {
              "model_id": "6d10747e8a1f47a4a32c5b2d1fbbbd6f",
              "version_major": 2,
              "version_minor": 0
            },
            "text/plain": [
              "Evaluating:   0%|          | 0/47 [00:00<?, ?it/s]"
            ]
          },
          "metadata": {},
          "output_type": "display_data"
        },
        {
          "name": "stdout",
          "output_type": "stream",
          "text": [
            "Epoch: 6, train/mse: 2018.4891, eval/mse: 3987.1929, train/rmse: 0.7191, eval/rmse: 0.6639, \n"
          ]
        },
        {
          "data": {
            "application/vnd.jupyter.widget-view+json": {
              "model_id": "fdf4f8cd1280438a8d13fed3b66f2e36",
              "version_major": 2,
              "version_minor": 0
            },
            "text/plain": [
              "Epoch: 7/150:   0%|          | 0/190 [00:00<?, ?it/s]"
            ]
          },
          "metadata": {},
          "output_type": "display_data"
        },
        {
          "data": {
            "application/vnd.jupyter.widget-view+json": {
              "model_id": "164418b397cd4499967f202c8b526b4a",
              "version_major": 2,
              "version_minor": 0
            },
            "text/plain": [
              "Evaluating:   0%|          | 0/47 [00:00<?, ?it/s]"
            ]
          },
          "metadata": {},
          "output_type": "display_data"
        },
        {
          "name": "stdout",
          "output_type": "stream",
          "text": [
            "Epoch: 7, train/mse: 1953.8500, eval/mse: 4008.5508, train/rmse: 0.7300, eval/rmse: 0.6623, \n"
          ]
        },
        {
          "data": {
            "application/vnd.jupyter.widget-view+json": {
              "model_id": "6debbf10fdd740c0b1ca528a814a665e",
              "version_major": 2,
              "version_minor": 0
            },
            "text/plain": [
              "Epoch: 8/150:   0%|          | 0/190 [00:00<?, ?it/s]"
            ]
          },
          "metadata": {},
          "output_type": "display_data"
        },
        {
          "data": {
            "application/vnd.jupyter.widget-view+json": {
              "model_id": "7fc6a605c68d480a9a1420edc87e3ff0",
              "version_major": 2,
              "version_minor": 0
            },
            "text/plain": [
              "Evaluating:   0%|          | 0/47 [00:00<?, ?it/s]"
            ]
          },
          "metadata": {},
          "output_type": "display_data"
        },
        {
          "name": "stdout",
          "output_type": "stream",
          "text": [
            "Epoch: 8, train/mse: 1917.2467, eval/mse: 4027.7205, train/rmse: 0.7341, eval/rmse: 0.6629, \n"
          ]
        },
        {
          "data": {
            "application/vnd.jupyter.widget-view+json": {
              "model_id": "b16aedd20126446290a1b86aa33392ad",
              "version_major": 2,
              "version_minor": 0
            },
            "text/plain": [
              "Epoch: 9/150:   0%|          | 0/190 [00:00<?, ?it/s]"
            ]
          },
          "metadata": {},
          "output_type": "display_data"
        },
        {
          "data": {
            "application/vnd.jupyter.widget-view+json": {
              "model_id": "f86b99cac635436ca7f550968a4dd3d0",
              "version_major": 2,
              "version_minor": 0
            },
            "text/plain": [
              "Evaluating:   0%|          | 0/47 [00:00<?, ?it/s]"
            ]
          },
          "metadata": {},
          "output_type": "display_data"
        },
        {
          "name": "stdout",
          "output_type": "stream",
          "text": [
            "Epoch: 9, train/mse: 1887.6523, eval/mse: 3851.9207, train/rmse: 0.7397, eval/rmse: 0.6775, \n"
          ]
        },
        {
          "data": {
            "application/vnd.jupyter.widget-view+json": {
              "model_id": "1b8f6fc7c5184e279147cda7b8964456",
              "version_major": 2,
              "version_minor": 0
            },
            "text/plain": [
              "Epoch: 10/150:   0%|          | 0/190 [00:00<?, ?it/s]"
            ]
          },
          "metadata": {},
          "output_type": "display_data"
        },
        {
          "data": {
            "application/vnd.jupyter.widget-view+json": {
              "model_id": "8194a32fe2384e4ba6a4dbd96c939554",
              "version_major": 2,
              "version_minor": 0
            },
            "text/plain": [
              "Evaluating:   0%|          | 0/47 [00:00<?, ?it/s]"
            ]
          },
          "metadata": {},
          "output_type": "display_data"
        },
        {
          "name": "stdout",
          "output_type": "stream",
          "text": [
            "Epoch: 10, train/mse: 1856.7699, eval/mse: 3770.2961, train/rmse: 0.7426, eval/rmse: 0.6844, \n"
          ]
        },
        {
          "data": {
            "application/vnd.jupyter.widget-view+json": {
              "model_id": "9e4580eb58a24de3966aa5d3e86cea7d",
              "version_major": 2,
              "version_minor": 0
            },
            "text/plain": [
              "Epoch: 11/150:   0%|          | 0/190 [00:00<?, ?it/s]"
            ]
          },
          "metadata": {},
          "output_type": "display_data"
        },
        {
          "data": {
            "application/vnd.jupyter.widget-view+json": {
              "model_id": "243e8de05d2046aeb8d0e324615f014c",
              "version_major": 2,
              "version_minor": 0
            },
            "text/plain": [
              "Evaluating:   0%|          | 0/47 [00:00<?, ?it/s]"
            ]
          },
          "metadata": {},
          "output_type": "display_data"
        },
        {
          "name": "stdout",
          "output_type": "stream",
          "text": [
            "Epoch: 11, train/mse: 1825.9109, eval/mse: 3741.7371, train/rmse: 0.7452, eval/rmse: 0.6884, \n"
          ]
        },
        {
          "data": {
            "application/vnd.jupyter.widget-view+json": {
              "model_id": "d69ea225935c4416ac344dd270b789d2",
              "version_major": 2,
              "version_minor": 0
            },
            "text/plain": [
              "Epoch: 12/150:   0%|          | 0/190 [00:00<?, ?it/s]"
            ]
          },
          "metadata": {},
          "output_type": "display_data"
        },
        {
          "data": {
            "application/vnd.jupyter.widget-view+json": {
              "model_id": "9445ba73fd294ec49d3333227a68d794",
              "version_major": 2,
              "version_minor": 0
            },
            "text/plain": [
              "Evaluating:   0%|          | 0/47 [00:00<?, ?it/s]"
            ]
          },
          "metadata": {},
          "output_type": "display_data"
        },
        {
          "name": "stdout",
          "output_type": "stream",
          "text": [
            "Epoch: 12, train/mse: 1817.9446, eval/mse: 3791.2935, train/rmse: 0.7450, eval/rmse: 0.6848, \n"
          ]
        },
        {
          "data": {
            "application/vnd.jupyter.widget-view+json": {
              "model_id": "f9f163ba02cd4b85b9ee86dee55fbc30",
              "version_major": 2,
              "version_minor": 0
            },
            "text/plain": [
              "Epoch: 13/150:   0%|          | 0/190 [00:00<?, ?it/s]"
            ]
          },
          "metadata": {},
          "output_type": "display_data"
        },
        {
          "data": {
            "application/vnd.jupyter.widget-view+json": {
              "model_id": "9fdd5e158e10422599b7022279ecc4e9",
              "version_major": 2,
              "version_minor": 0
            },
            "text/plain": [
              "Evaluating:   0%|          | 0/47 [00:00<?, ?it/s]"
            ]
          },
          "metadata": {},
          "output_type": "display_data"
        },
        {
          "name": "stdout",
          "output_type": "stream",
          "text": [
            "Epoch: 13, train/mse: 1808.5824, eval/mse: 3742.7874, train/rmse: 0.7514, eval/rmse: 0.6892, \n"
          ]
        },
        {
          "data": {
            "application/vnd.jupyter.widget-view+json": {
              "model_id": "4caa61e34a8843b19896a3453fc9a127",
              "version_major": 2,
              "version_minor": 0
            },
            "text/plain": [
              "Epoch: 14/150:   0%|          | 0/190 [00:00<?, ?it/s]"
            ]
          },
          "metadata": {},
          "output_type": "display_data"
        },
        {
          "data": {
            "application/vnd.jupyter.widget-view+json": {
              "model_id": "25b584ebb1fe433286f5df7f5a2ed1f3",
              "version_major": 2,
              "version_minor": 0
            },
            "text/plain": [
              "Evaluating:   0%|          | 0/47 [00:00<?, ?it/s]"
            ]
          },
          "metadata": {},
          "output_type": "display_data"
        },
        {
          "name": "stdout",
          "output_type": "stream",
          "text": [
            "Epoch: 14, train/mse: 1823.1571, eval/mse: 3735.6624, train/rmse: 0.7483, eval/rmse: 0.6891, \n"
          ]
        },
        {
          "data": {
            "application/vnd.jupyter.widget-view+json": {
              "model_id": "e172139fcc154426a058d80ec2be19ef",
              "version_major": 2,
              "version_minor": 0
            },
            "text/plain": [
              "Epoch: 15/150:   0%|          | 0/190 [00:00<?, ?it/s]"
            ]
          },
          "metadata": {},
          "output_type": "display_data"
        },
        {
          "data": {
            "application/vnd.jupyter.widget-view+json": {
              "model_id": "222daac00fef46f8983bbf5b245cc936",
              "version_major": 2,
              "version_minor": 0
            },
            "text/plain": [
              "Evaluating:   0%|          | 0/47 [00:00<?, ?it/s]"
            ]
          },
          "metadata": {},
          "output_type": "display_data"
        },
        {
          "name": "stdout",
          "output_type": "stream",
          "text": [
            "Epoch: 15, train/mse: 1791.4944, eval/mse: 3716.1262, train/rmse: 0.7477, eval/rmse: 0.6929, \n"
          ]
        },
        {
          "data": {
            "application/vnd.jupyter.widget-view+json": {
              "model_id": "e05b3b8e6fe94fc9b6860382f611f7c3",
              "version_major": 2,
              "version_minor": 0
            },
            "text/plain": [
              "Epoch: 16/150:   0%|          | 0/190 [00:00<?, ?it/s]"
            ]
          },
          "metadata": {},
          "output_type": "display_data"
        },
        {
          "data": {
            "application/vnd.jupyter.widget-view+json": {
              "model_id": "cd931c348af94616b5eb1a8a36c4a1cf",
              "version_major": 2,
              "version_minor": 0
            },
            "text/plain": [
              "Evaluating:   0%|          | 0/47 [00:00<?, ?it/s]"
            ]
          },
          "metadata": {},
          "output_type": "display_data"
        },
        {
          "name": "stdout",
          "output_type": "stream",
          "text": [
            "Epoch: 16, train/mse: 1772.4315, eval/mse: 3736.8684, train/rmse: 0.7525, eval/rmse: 0.6907, \n"
          ]
        },
        {
          "data": {
            "application/vnd.jupyter.widget-view+json": {
              "model_id": "f664654d9be34d259ac6072381662d60",
              "version_major": 2,
              "version_minor": 0
            },
            "text/plain": [
              "Epoch: 17/150:   0%|          | 0/190 [00:00<?, ?it/s]"
            ]
          },
          "metadata": {},
          "output_type": "display_data"
        },
        {
          "data": {
            "application/vnd.jupyter.widget-view+json": {
              "model_id": "bd066eaa9863410bbfa8b8118be98fef",
              "version_major": 2,
              "version_minor": 0
            },
            "text/plain": [
              "Evaluating:   0%|          | 0/47 [00:00<?, ?it/s]"
            ]
          },
          "metadata": {},
          "output_type": "display_data"
        },
        {
          "name": "stdout",
          "output_type": "stream",
          "text": [
            "Epoch: 17, train/mse: 1794.6526, eval/mse: 3699.8430, train/rmse: 0.7516, eval/rmse: 0.6944, \n"
          ]
        },
        {
          "data": {
            "application/vnd.jupyter.widget-view+json": {
              "model_id": "f1ca6954c43347f7b97c6e537d729976",
              "version_major": 2,
              "version_minor": 0
            },
            "text/plain": [
              "Epoch: 18/150:   0%|          | 0/190 [00:00<?, ?it/s]"
            ]
          },
          "metadata": {},
          "output_type": "display_data"
        },
        {
          "data": {
            "application/vnd.jupyter.widget-view+json": {
              "model_id": "37e793218b5f43a487a002f4ee833fab",
              "version_major": 2,
              "version_minor": 0
            },
            "text/plain": [
              "Evaluating:   0%|          | 0/47 [00:00<?, ?it/s]"
            ]
          },
          "metadata": {},
          "output_type": "display_data"
        },
        {
          "name": "stdout",
          "output_type": "stream",
          "text": [
            "Epoch: 18, train/mse: 1748.8442, eval/mse: 3643.0247, train/rmse: 0.7543, eval/rmse: 0.6974, \n"
          ]
        },
        {
          "data": {
            "application/vnd.jupyter.widget-view+json": {
              "model_id": "2a7d1e5b516e4b7581f057e29ae04516",
              "version_major": 2,
              "version_minor": 0
            },
            "text/plain": [
              "Epoch: 19/150:   0%|          | 0/190 [00:00<?, ?it/s]"
            ]
          },
          "metadata": {},
          "output_type": "display_data"
        },
        {
          "data": {
            "application/vnd.jupyter.widget-view+json": {
              "model_id": "a68882b526e94c9cbb8672708b55e129",
              "version_major": 2,
              "version_minor": 0
            },
            "text/plain": [
              "Evaluating:   0%|          | 0/47 [00:00<?, ?it/s]"
            ]
          },
          "metadata": {},
          "output_type": "display_data"
        },
        {
          "name": "stdout",
          "output_type": "stream",
          "text": [
            "Epoch: 19, train/mse: 1762.6204, eval/mse: 3667.6331, train/rmse: 0.7568, eval/rmse: 0.6966, \n"
          ]
        },
        {
          "data": {
            "application/vnd.jupyter.widget-view+json": {
              "model_id": "effc1d6b1991456cb154c2a8f9be2dc6",
              "version_major": 2,
              "version_minor": 0
            },
            "text/plain": [
              "Epoch: 20/150:   0%|          | 0/190 [00:00<?, ?it/s]"
            ]
          },
          "metadata": {},
          "output_type": "display_data"
        },
        {
          "data": {
            "application/vnd.jupyter.widget-view+json": {
              "model_id": "b52658e2ebd64cb29c1d1c52798f9791",
              "version_major": 2,
              "version_minor": 0
            },
            "text/plain": [
              "Evaluating:   0%|          | 0/47 [00:00<?, ?it/s]"
            ]
          },
          "metadata": {},
          "output_type": "display_data"
        },
        {
          "name": "stdout",
          "output_type": "stream",
          "text": [
            "Epoch: 20, train/mse: 1743.3651, eval/mse: 3655.0718, train/rmse: 0.7571, eval/rmse: 0.6975, \n"
          ]
        },
        {
          "data": {
            "application/vnd.jupyter.widget-view+json": {
              "model_id": "6fdd9ffec45742c59e64c1095211c149",
              "version_major": 2,
              "version_minor": 0
            },
            "text/plain": [
              "Epoch: 21/150:   0%|          | 0/190 [00:00<?, ?it/s]"
            ]
          },
          "metadata": {},
          "output_type": "display_data"
        },
        {
          "data": {
            "application/vnd.jupyter.widget-view+json": {
              "model_id": "b537e32cdaf447fdbb8f38f395814c4f",
              "version_major": 2,
              "version_minor": 0
            },
            "text/plain": [
              "Evaluating:   0%|          | 0/47 [00:00<?, ?it/s]"
            ]
          },
          "metadata": {},
          "output_type": "display_data"
        },
        {
          "name": "stdout",
          "output_type": "stream",
          "text": [
            "Epoch: 21, train/mse: 1784.1815, eval/mse: 3663.3972, train/rmse: 0.7539, eval/rmse: 0.6973, \n"
          ]
        },
        {
          "data": {
            "application/vnd.jupyter.widget-view+json": {
              "model_id": "fa677fd5f2b14c02ad9b1358e70034d8",
              "version_major": 2,
              "version_minor": 0
            },
            "text/plain": [
              "Epoch: 22/150:   0%|          | 0/190 [00:00<?, ?it/s]"
            ]
          },
          "metadata": {},
          "output_type": "display_data"
        },
        {
          "data": {
            "application/vnd.jupyter.widget-view+json": {
              "model_id": "70f8f17db68248d68f93f4d37ed42649",
              "version_major": 2,
              "version_minor": 0
            },
            "text/plain": [
              "Evaluating:   0%|          | 0/47 [00:00<?, ?it/s]"
            ]
          },
          "metadata": {},
          "output_type": "display_data"
        },
        {
          "name": "stdout",
          "output_type": "stream",
          "text": [
            "Epoch: 22, train/mse: 1758.8990, eval/mse: 3667.7463, train/rmse: 0.7531, eval/rmse: 0.6962, \n"
          ]
        },
        {
          "data": {
            "application/vnd.jupyter.widget-view+json": {
              "model_id": "78a5e7b7db754bb4966413c3d896ffbe",
              "version_major": 2,
              "version_minor": 0
            },
            "text/plain": [
              "Epoch: 23/150:   0%|          | 0/190 [00:00<?, ?it/s]"
            ]
          },
          "metadata": {},
          "output_type": "display_data"
        },
        {
          "data": {
            "application/vnd.jupyter.widget-view+json": {
              "model_id": "1f6d72950bc94457b61108e7ea626368",
              "version_major": 2,
              "version_minor": 0
            },
            "text/plain": [
              "Evaluating:   0%|          | 0/47 [00:00<?, ?it/s]"
            ]
          },
          "metadata": {},
          "output_type": "display_data"
        },
        {
          "name": "stdout",
          "output_type": "stream",
          "text": [
            "Epoch: 23, train/mse: 1760.7979, eval/mse: 3627.9734, train/rmse: 0.7546, eval/rmse: 0.6997, \n"
          ]
        },
        {
          "data": {
            "application/vnd.jupyter.widget-view+json": {
              "model_id": "1340765651ba4cd98ac160eb7d6546e8",
              "version_major": 2,
              "version_minor": 0
            },
            "text/plain": [
              "Epoch: 24/150:   0%|          | 0/190 [00:00<?, ?it/s]"
            ]
          },
          "metadata": {},
          "output_type": "display_data"
        },
        {
          "data": {
            "application/vnd.jupyter.widget-view+json": {
              "model_id": "3d94d9431849465583a38c4c6765bb00",
              "version_major": 2,
              "version_minor": 0
            },
            "text/plain": [
              "Evaluating:   0%|          | 0/47 [00:00<?, ?it/s]"
            ]
          },
          "metadata": {},
          "output_type": "display_data"
        },
        {
          "name": "stdout",
          "output_type": "stream",
          "text": [
            "Epoch: 24, train/mse: 1723.6870, eval/mse: 3649.9971, train/rmse: 0.7556, eval/rmse: 0.6975, \n"
          ]
        },
        {
          "data": {
            "application/vnd.jupyter.widget-view+json": {
              "model_id": "9f290c200ee44dbb9462687a0966d81a",
              "version_major": 2,
              "version_minor": 0
            },
            "text/plain": [
              "Epoch: 25/150:   0%|          | 0/190 [00:00<?, ?it/s]"
            ]
          },
          "metadata": {},
          "output_type": "display_data"
        },
        {
          "data": {
            "application/vnd.jupyter.widget-view+json": {
              "model_id": "27f0da89d9ad4998b970cb1b8ab23048",
              "version_major": 2,
              "version_minor": 0
            },
            "text/plain": [
              "Evaluating:   0%|          | 0/47 [00:00<?, ?it/s]"
            ]
          },
          "metadata": {},
          "output_type": "display_data"
        },
        {
          "name": "stdout",
          "output_type": "stream",
          "text": [
            "Epoch: 25, train/mse: 1575.3396, eval/mse: 3668.7563, train/rmse: 0.7590, eval/rmse: 0.6975, \n"
          ]
        },
        {
          "data": {
            "application/vnd.jupyter.widget-view+json": {
              "model_id": "7e04460a1f1d49e69a635a9ca09a1613",
              "version_major": 2,
              "version_minor": 0
            },
            "text/plain": [
              "Epoch: 26/150:   0%|          | 0/190 [00:00<?, ?it/s]"
            ]
          },
          "metadata": {},
          "output_type": "display_data"
        },
        {
          "data": {
            "application/vnd.jupyter.widget-view+json": {
              "model_id": "0dfe6c726f25407a908432c527b6e4a5",
              "version_major": 2,
              "version_minor": 0
            },
            "text/plain": [
              "Evaluating:   0%|          | 0/47 [00:00<?, ?it/s]"
            ]
          },
          "metadata": {},
          "output_type": "display_data"
        },
        {
          "name": "stdout",
          "output_type": "stream",
          "text": [
            "Epoch: 26, train/mse: 1747.7319, eval/mse: 3646.9502, train/rmse: 0.7580, eval/rmse: 0.7010, \n"
          ]
        },
        {
          "data": {
            "application/vnd.jupyter.widget-view+json": {
              "model_id": "3492657c177a4ad685af5257363b3ae1",
              "version_major": 2,
              "version_minor": 0
            },
            "text/plain": [
              "Epoch: 27/150:   0%|          | 0/190 [00:00<?, ?it/s]"
            ]
          },
          "metadata": {},
          "output_type": "display_data"
        },
        {
          "data": {
            "application/vnd.jupyter.widget-view+json": {
              "model_id": "6ac5163e89c94d74954b45f4aed3009d",
              "version_major": 2,
              "version_minor": 0
            },
            "text/plain": [
              "Evaluating:   0%|          | 0/47 [00:00<?, ?it/s]"
            ]
          },
          "metadata": {},
          "output_type": "display_data"
        },
        {
          "name": "stdout",
          "output_type": "stream",
          "text": [
            "Epoch: 27, train/mse: 1710.5284, eval/mse: 3654.8030, train/rmse: 0.7601, eval/rmse: 0.6997, \n"
          ]
        },
        {
          "data": {
            "application/vnd.jupyter.widget-view+json": {
              "model_id": "49c3b27bf46b496ab9f78cf325c52177",
              "version_major": 2,
              "version_minor": 0
            },
            "text/plain": [
              "Epoch: 28/150:   0%|          | 0/190 [00:00<?, ?it/s]"
            ]
          },
          "metadata": {},
          "output_type": "display_data"
        },
        {
          "data": {
            "application/vnd.jupyter.widget-view+json": {
              "model_id": "43c93a46c33d4e0288c9030af39c662d",
              "version_major": 2,
              "version_minor": 0
            },
            "text/plain": [
              "Evaluating:   0%|          | 0/47 [00:00<?, ?it/s]"
            ]
          },
          "metadata": {},
          "output_type": "display_data"
        },
        {
          "name": "stdout",
          "output_type": "stream",
          "text": [
            "Epoch: 28, train/mse: 1689.3938, eval/mse: 3655.5591, train/rmse: 0.7610, eval/rmse: 0.7006, \n"
          ]
        },
        {
          "data": {
            "application/vnd.jupyter.widget-view+json": {
              "model_id": "4e22a5bef6ad458c833f3f3dfa71e395",
              "version_major": 2,
              "version_minor": 0
            },
            "text/plain": [
              "Epoch: 29/150:   0%|          | 0/190 [00:00<?, ?it/s]"
            ]
          },
          "metadata": {},
          "output_type": "display_data"
        },
        {
          "data": {
            "application/vnd.jupyter.widget-view+json": {
              "model_id": "0fb6d0b560fa44beadc05ba145c3ffd0",
              "version_major": 2,
              "version_minor": 0
            },
            "text/plain": [
              "Evaluating:   0%|          | 0/47 [00:00<?, ?it/s]"
            ]
          },
          "metadata": {},
          "output_type": "display_data"
        },
        {
          "name": "stdout",
          "output_type": "stream",
          "text": [
            "Epoch: 29, train/mse: 1715.6095, eval/mse: 3668.3887, train/rmse: 0.7548, eval/rmse: 0.6995, \n"
          ]
        },
        {
          "data": {
            "application/vnd.jupyter.widget-view+json": {
              "model_id": "a1455fbd92d94df4b2354023b7c637c3",
              "version_major": 2,
              "version_minor": 0
            },
            "text/plain": [
              "Epoch: 30/150:   0%|          | 0/190 [00:00<?, ?it/s]"
            ]
          },
          "metadata": {},
          "output_type": "display_data"
        },
        {
          "data": {
            "application/vnd.jupyter.widget-view+json": {
              "model_id": "caf31c420f2646808fdb4450a76f01d2",
              "version_major": 2,
              "version_minor": 0
            },
            "text/plain": [
              "Evaluating:   0%|          | 0/47 [00:00<?, ?it/s]"
            ]
          },
          "metadata": {},
          "output_type": "display_data"
        },
        {
          "name": "stdout",
          "output_type": "stream",
          "text": [
            "Epoch: 30, train/mse: 1706.7773, eval/mse: 3641.1755, train/rmse: 0.7615, eval/rmse: 0.7018, \n"
          ]
        },
        {
          "data": {
            "application/vnd.jupyter.widget-view+json": {
              "model_id": "cffd4f00942f4977b6046e46e412191f",
              "version_major": 2,
              "version_minor": 0
            },
            "text/plain": [
              "Epoch: 31/150:   0%|          | 0/190 [00:00<?, ?it/s]"
            ]
          },
          "metadata": {},
          "output_type": "display_data"
        },
        {
          "data": {
            "application/vnd.jupyter.widget-view+json": {
              "model_id": "0e85743e04be4514815572824c506398",
              "version_major": 2,
              "version_minor": 0
            },
            "text/plain": [
              "Evaluating:   0%|          | 0/47 [00:00<?, ?it/s]"
            ]
          },
          "metadata": {},
          "output_type": "display_data"
        },
        {
          "name": "stdout",
          "output_type": "stream",
          "text": [
            "Epoch: 31, train/mse: 1539.0911, eval/mse: 3641.3774, train/rmse: 0.7641, eval/rmse: 0.7019, \n"
          ]
        },
        {
          "data": {
            "application/vnd.jupyter.widget-view+json": {
              "model_id": "784b2bf7235f456da44080c6d4d2743f",
              "version_major": 2,
              "version_minor": 0
            },
            "text/plain": [
              "Epoch: 32/150:   0%|          | 0/190 [00:00<?, ?it/s]"
            ]
          },
          "metadata": {},
          "output_type": "display_data"
        },
        {
          "data": {
            "application/vnd.jupyter.widget-view+json": {
              "model_id": "e9657675db26407981e6dea4553b9854",
              "version_major": 2,
              "version_minor": 0
            },
            "text/plain": [
              "Evaluating:   0%|          | 0/47 [00:00<?, ?it/s]"
            ]
          },
          "metadata": {},
          "output_type": "display_data"
        },
        {
          "name": "stdout",
          "output_type": "stream",
          "text": [
            "Epoch: 32, train/mse: 1702.2080, eval/mse: 3622.2278, train/rmse: 0.7607, eval/rmse: 0.7036, \n"
          ]
        },
        {
          "data": {
            "application/vnd.jupyter.widget-view+json": {
              "model_id": "a85a8accf299426db26cea5044ca8ddb",
              "version_major": 2,
              "version_minor": 0
            },
            "text/plain": [
              "Epoch: 33/150:   0%|          | 0/190 [00:00<?, ?it/s]"
            ]
          },
          "metadata": {},
          "output_type": "display_data"
        },
        {
          "data": {
            "application/vnd.jupyter.widget-view+json": {
              "model_id": "5cc9cc71f0024e8e9361bad853cac6df",
              "version_major": 2,
              "version_minor": 0
            },
            "text/plain": [
              "Evaluating:   0%|          | 0/47 [00:00<?, ?it/s]"
            ]
          },
          "metadata": {},
          "output_type": "display_data"
        },
        {
          "name": "stdout",
          "output_type": "stream",
          "text": [
            "Epoch: 33, train/mse: 1683.0911, eval/mse: 3602.4231, train/rmse: 0.7622, eval/rmse: 0.7050, \n"
          ]
        },
        {
          "data": {
            "application/vnd.jupyter.widget-view+json": {
              "model_id": "2866e396d590433eab2b589d56dfba2e",
              "version_major": 2,
              "version_minor": 0
            },
            "text/plain": [
              "Epoch: 34/150:   0%|          | 0/190 [00:00<?, ?it/s]"
            ]
          },
          "metadata": {},
          "output_type": "display_data"
        },
        {
          "data": {
            "application/vnd.jupyter.widget-view+json": {
              "model_id": "2ebd1be6b7cc4dc1be269a74829a6e70",
              "version_major": 2,
              "version_minor": 0
            },
            "text/plain": [
              "Evaluating:   0%|          | 0/47 [00:00<?, ?it/s]"
            ]
          },
          "metadata": {},
          "output_type": "display_data"
        },
        {
          "name": "stdout",
          "output_type": "stream",
          "text": [
            "Epoch: 34, train/mse: 1658.6552, eval/mse: 3611.6130, train/rmse: 0.7632, eval/rmse: 0.7043, \n"
          ]
        },
        {
          "data": {
            "application/vnd.jupyter.widget-view+json": {
              "model_id": "bf2f990626f84598897815abe9c52c33",
              "version_major": 2,
              "version_minor": 0
            },
            "text/plain": [
              "Epoch: 35/150:   0%|          | 0/190 [00:00<?, ?it/s]"
            ]
          },
          "metadata": {},
          "output_type": "display_data"
        },
        {
          "data": {
            "application/vnd.jupyter.widget-view+json": {
              "model_id": "e5a18401a21a4164ab449ebb3f701dcd",
              "version_major": 2,
              "version_minor": 0
            },
            "text/plain": [
              "Evaluating:   0%|          | 0/47 [00:00<?, ?it/s]"
            ]
          },
          "metadata": {},
          "output_type": "display_data"
        },
        {
          "name": "stdout",
          "output_type": "stream",
          "text": [
            "Epoch: 35, train/mse: 1681.5616, eval/mse: 3624.7107, train/rmse: 0.7626, eval/rmse: 0.7042, \n"
          ]
        },
        {
          "data": {
            "application/vnd.jupyter.widget-view+json": {
              "model_id": "4bc0015e9ad044da9173786bd5493348",
              "version_major": 2,
              "version_minor": 0
            },
            "text/plain": [
              "Epoch: 36/150:   0%|          | 0/190 [00:00<?, ?it/s]"
            ]
          },
          "metadata": {},
          "output_type": "display_data"
        },
        {
          "data": {
            "application/vnd.jupyter.widget-view+json": {
              "model_id": "a44019d7178941769d308b59dc59c915",
              "version_major": 2,
              "version_minor": 0
            },
            "text/plain": [
              "Evaluating:   0%|          | 0/47 [00:00<?, ?it/s]"
            ]
          },
          "metadata": {},
          "output_type": "display_data"
        },
        {
          "name": "stdout",
          "output_type": "stream",
          "text": [
            "Epoch: 36, train/mse: 1715.8292, eval/mse: 3626.8623, train/rmse: 0.7586, eval/rmse: 0.7036, \n"
          ]
        },
        {
          "data": {
            "application/vnd.jupyter.widget-view+json": {
              "model_id": "5a37e4b5e02345e389004de0fbffbeb1",
              "version_major": 2,
              "version_minor": 0
            },
            "text/plain": [
              "Epoch: 37/150:   0%|          | 0/190 [00:00<?, ?it/s]"
            ]
          },
          "metadata": {},
          "output_type": "display_data"
        },
        {
          "data": {
            "application/vnd.jupyter.widget-view+json": {
              "model_id": "2fe2fe4d32e744a98ba06a40ddbb90a9",
              "version_major": 2,
              "version_minor": 0
            },
            "text/plain": [
              "Evaluating:   0%|          | 0/47 [00:00<?, ?it/s]"
            ]
          },
          "metadata": {},
          "output_type": "display_data"
        },
        {
          "name": "stdout",
          "output_type": "stream",
          "text": [
            "Epoch: 37, train/mse: 1671.0128, eval/mse: 3625.6404, train/rmse: 0.7614, eval/rmse: 0.7044, \n"
          ]
        },
        {
          "data": {
            "application/vnd.jupyter.widget-view+json": {
              "model_id": "3a678c6fd5c24b74af0e18a01ed91803",
              "version_major": 2,
              "version_minor": 0
            },
            "text/plain": [
              "Epoch: 38/150:   0%|          | 0/190 [00:00<?, ?it/s]"
            ]
          },
          "metadata": {},
          "output_type": "display_data"
        },
        {
          "data": {
            "application/vnd.jupyter.widget-view+json": {
              "model_id": "87dbeeee5ff041efbb0ab926197ad6bd",
              "version_major": 2,
              "version_minor": 0
            },
            "text/plain": [
              "Evaluating:   0%|          | 0/47 [00:00<?, ?it/s]"
            ]
          },
          "metadata": {},
          "output_type": "display_data"
        },
        {
          "name": "stdout",
          "output_type": "stream",
          "text": [
            "Epoch: 38, train/mse: 1507.9352, eval/mse: 3590.4893, train/rmse: 0.7690, eval/rmse: 0.7067, \n"
          ]
        },
        {
          "data": {
            "application/vnd.jupyter.widget-view+json": {
              "model_id": "237c224485624eebbe2092dd3f56d6d7",
              "version_major": 2,
              "version_minor": 0
            },
            "text/plain": [
              "Epoch: 39/150:   0%|          | 0/190 [00:00<?, ?it/s]"
            ]
          },
          "metadata": {},
          "output_type": "display_data"
        },
        {
          "data": {
            "application/vnd.jupyter.widget-view+json": {
              "model_id": "a01148ee200b4e7d95a65b65c1b6181a",
              "version_major": 2,
              "version_minor": 0
            },
            "text/plain": [
              "Evaluating:   0%|          | 0/47 [00:00<?, ?it/s]"
            ]
          },
          "metadata": {},
          "output_type": "display_data"
        },
        {
          "name": "stdout",
          "output_type": "stream",
          "text": [
            "Epoch: 39, train/mse: 1676.9816, eval/mse: 3619.3567, train/rmse: 0.7631, eval/rmse: 0.7047, \n"
          ]
        },
        {
          "data": {
            "application/vnd.jupyter.widget-view+json": {
              "model_id": "bf2423d73a22443c9017923f7eacf747",
              "version_major": 2,
              "version_minor": 0
            },
            "text/plain": [
              "Epoch: 40/150:   0%|          | 0/190 [00:00<?, ?it/s]"
            ]
          },
          "metadata": {},
          "output_type": "display_data"
        },
        {
          "data": {
            "application/vnd.jupyter.widget-view+json": {
              "model_id": "8353aae088ae434c85a1e5a4e56fa449",
              "version_major": 2,
              "version_minor": 0
            },
            "text/plain": [
              "Evaluating:   0%|          | 0/47 [00:00<?, ?it/s]"
            ]
          },
          "metadata": {},
          "output_type": "display_data"
        },
        {
          "name": "stdout",
          "output_type": "stream",
          "text": [
            "Epoch: 40, train/mse: 1624.2434, eval/mse: 3588.7512, train/rmse: 0.7631, eval/rmse: 0.7082, \n"
          ]
        },
        {
          "data": {
            "application/vnd.jupyter.widget-view+json": {
              "model_id": "a8d3ff1b46ce42308727b96c2bfbfb18",
              "version_major": 2,
              "version_minor": 0
            },
            "text/plain": [
              "Epoch: 41/150:   0%|          | 0/190 [00:00<?, ?it/s]"
            ]
          },
          "metadata": {},
          "output_type": "display_data"
        },
        {
          "data": {
            "application/vnd.jupyter.widget-view+json": {
              "model_id": "889b6eab28d248f798ee99d9474abfb6",
              "version_major": 2,
              "version_minor": 0
            },
            "text/plain": [
              "Evaluating:   0%|          | 0/47 [00:00<?, ?it/s]"
            ]
          },
          "metadata": {},
          "output_type": "display_data"
        },
        {
          "name": "stdout",
          "output_type": "stream",
          "text": [
            "Epoch: 41, train/mse: 1671.0221, eval/mse: 3590.3870, train/rmse: 0.7628, eval/rmse: 0.7081, \n"
          ]
        },
        {
          "data": {
            "application/vnd.jupyter.widget-view+json": {
              "model_id": "aac3d7d941534fbda94e2bd397fe4fac",
              "version_major": 2,
              "version_minor": 0
            },
            "text/plain": [
              "Epoch: 42/150:   0%|          | 0/190 [00:00<?, ?it/s]"
            ]
          },
          "metadata": {},
          "output_type": "display_data"
        },
        {
          "data": {
            "application/vnd.jupyter.widget-view+json": {
              "model_id": "6da5a5a33d2f4f9785e944d9599fe8a1",
              "version_major": 2,
              "version_minor": 0
            },
            "text/plain": [
              "Evaluating:   0%|          | 0/47 [00:00<?, ?it/s]"
            ]
          },
          "metadata": {},
          "output_type": "display_data"
        },
        {
          "name": "stdout",
          "output_type": "stream",
          "text": [
            "Epoch: 42, train/mse: 1655.7036, eval/mse: 3579.5728, train/rmse: 0.7666, eval/rmse: 0.7087, \n"
          ]
        },
        {
          "data": {
            "application/vnd.jupyter.widget-view+json": {
              "model_id": "5248b4e12d124d9fbeb890f50750eef5",
              "version_major": 2,
              "version_minor": 0
            },
            "text/plain": [
              "Epoch: 43/150:   0%|          | 0/190 [00:00<?, ?it/s]"
            ]
          },
          "metadata": {},
          "output_type": "display_data"
        },
        {
          "data": {
            "application/vnd.jupyter.widget-view+json": {
              "model_id": "ac44be4de382463c8560bbfa455b2a98",
              "version_major": 2,
              "version_minor": 0
            },
            "text/plain": [
              "Evaluating:   0%|          | 0/47 [00:00<?, ?it/s]"
            ]
          },
          "metadata": {},
          "output_type": "display_data"
        },
        {
          "name": "stdout",
          "output_type": "stream",
          "text": [
            "Epoch: 43, train/mse: 1663.1018, eval/mse: 3567.9255, train/rmse: 0.7632, eval/rmse: 0.7114, \n"
          ]
        },
        {
          "data": {
            "application/vnd.jupyter.widget-view+json": {
              "model_id": "96870e0fa9014119b1e9cbd96af4a819",
              "version_major": 2,
              "version_minor": 0
            },
            "text/plain": [
              "Epoch: 44/150:   0%|          | 0/190 [00:00<?, ?it/s]"
            ]
          },
          "metadata": {},
          "output_type": "display_data"
        },
        {
          "data": {
            "application/vnd.jupyter.widget-view+json": {
              "model_id": "c48a1110d6a54dd9bd567235fb324049",
              "version_major": 2,
              "version_minor": 0
            },
            "text/plain": [
              "Evaluating:   0%|          | 0/47 [00:00<?, ?it/s]"
            ]
          },
          "metadata": {},
          "output_type": "display_data"
        },
        {
          "name": "stdout",
          "output_type": "stream",
          "text": [
            "Epoch: 44, train/mse: 1662.0510, eval/mse: 3574.8774, train/rmse: 0.7660, eval/rmse: 0.7101, \n"
          ]
        },
        {
          "data": {
            "application/vnd.jupyter.widget-view+json": {
              "model_id": "e2d4df42c6194183949e044f08e8c2cf",
              "version_major": 2,
              "version_minor": 0
            },
            "text/plain": [
              "Epoch: 45/150:   0%|          | 0/190 [00:00<?, ?it/s]"
            ]
          },
          "metadata": {},
          "output_type": "display_data"
        },
        {
          "data": {
            "application/vnd.jupyter.widget-view+json": {
              "model_id": "9b85659e20da4e48ab3f5e10513ff781",
              "version_major": 2,
              "version_minor": 0
            },
            "text/plain": [
              "Evaluating:   0%|          | 0/47 [00:00<?, ?it/s]"
            ]
          },
          "metadata": {},
          "output_type": "display_data"
        },
        {
          "name": "stdout",
          "output_type": "stream",
          "text": [
            "Epoch: 45, train/mse: 1647.3787, eval/mse: 3547.2512, train/rmse: 0.7633, eval/rmse: 0.7123, \n"
          ]
        },
        {
          "data": {
            "application/vnd.jupyter.widget-view+json": {
              "model_id": "038e7b15fd2a44f9baeb1f05a4566481",
              "version_major": 2,
              "version_minor": 0
            },
            "text/plain": [
              "Epoch: 46/150:   0%|          | 0/190 [00:00<?, ?it/s]"
            ]
          },
          "metadata": {},
          "output_type": "display_data"
        },
        {
          "data": {
            "application/vnd.jupyter.widget-view+json": {
              "model_id": "997a6bb7b1874040b8edadff82eeff97",
              "version_major": 2,
              "version_minor": 0
            },
            "text/plain": [
              "Evaluating:   0%|          | 0/47 [00:00<?, ?it/s]"
            ]
          },
          "metadata": {},
          "output_type": "display_data"
        },
        {
          "name": "stdout",
          "output_type": "stream",
          "text": [
            "Epoch: 46, train/mse: 1656.8921, eval/mse: 3540.6018, train/rmse: 0.7669, eval/rmse: 0.7131, \n"
          ]
        },
        {
          "data": {
            "application/vnd.jupyter.widget-view+json": {
              "model_id": "4ae10212d67a48e5b2b3018bdc3b2153",
              "version_major": 2,
              "version_minor": 0
            },
            "text/plain": [
              "Epoch: 47/150:   0%|          | 0/190 [00:00<?, ?it/s]"
            ]
          },
          "metadata": {},
          "output_type": "display_data"
        },
        {
          "data": {
            "application/vnd.jupyter.widget-view+json": {
              "model_id": "8a3b88bc86cd40b9b1bc062b23fa75f4",
              "version_major": 2,
              "version_minor": 0
            },
            "text/plain": [
              "Evaluating:   0%|          | 0/47 [00:00<?, ?it/s]"
            ]
          },
          "metadata": {},
          "output_type": "display_data"
        },
        {
          "name": "stdout",
          "output_type": "stream",
          "text": [
            "Epoch: 47, train/mse: 1655.6531, eval/mse: 3550.4326, train/rmse: 0.7638, eval/rmse: 0.7124, \n"
          ]
        },
        {
          "data": {
            "application/vnd.jupyter.widget-view+json": {
              "model_id": "018c7d507cfb42cc8179b1dbcfb60024",
              "version_major": 2,
              "version_minor": 0
            },
            "text/plain": [
              "Epoch: 48/150:   0%|          | 0/190 [00:00<?, ?it/s]"
            ]
          },
          "metadata": {},
          "output_type": "display_data"
        },
        {
          "data": {
            "application/vnd.jupyter.widget-view+json": {
              "model_id": "5ee7946a6266443985ecf2a2bab6bd72",
              "version_major": 2,
              "version_minor": 0
            },
            "text/plain": [
              "Evaluating:   0%|          | 0/47 [00:00<?, ?it/s]"
            ]
          },
          "metadata": {},
          "output_type": "display_data"
        },
        {
          "name": "stdout",
          "output_type": "stream",
          "text": [
            "Epoch: 48, train/mse: 1642.8867, eval/mse: 3513.9778, train/rmse: 0.7704, eval/rmse: 0.7155, \n"
          ]
        },
        {
          "data": {
            "application/vnd.jupyter.widget-view+json": {
              "model_id": "aa9d35db0a8a46f5b88a5de72c8bfb38",
              "version_major": 2,
              "version_minor": 0
            },
            "text/plain": [
              "Epoch: 49/150:   0%|          | 0/190 [00:00<?, ?it/s]"
            ]
          },
          "metadata": {},
          "output_type": "display_data"
        },
        {
          "data": {
            "application/vnd.jupyter.widget-view+json": {
              "model_id": "f210afae7dd3455a9ba48f02eddb33bd",
              "version_major": 2,
              "version_minor": 0
            },
            "text/plain": [
              "Evaluating:   0%|          | 0/47 [00:00<?, ?it/s]"
            ]
          },
          "metadata": {},
          "output_type": "display_data"
        },
        {
          "name": "stdout",
          "output_type": "stream",
          "text": [
            "Epoch: 49, train/mse: 1654.3333, eval/mse: 3535.8325, train/rmse: 0.7634, eval/rmse: 0.7129, \n"
          ]
        },
        {
          "data": {
            "application/vnd.jupyter.widget-view+json": {
              "model_id": "839607e0d29c4980808d0d116eaeed0f",
              "version_major": 2,
              "version_minor": 0
            },
            "text/plain": [
              "Epoch: 50/150:   0%|          | 0/190 [00:00<?, ?it/s]"
            ]
          },
          "metadata": {},
          "output_type": "display_data"
        },
        {
          "data": {
            "application/vnd.jupyter.widget-view+json": {
              "model_id": "d5abf3c0750541b38eeacb253ea2116c",
              "version_major": 2,
              "version_minor": 0
            },
            "text/plain": [
              "Evaluating:   0%|          | 0/47 [00:00<?, ?it/s]"
            ]
          },
          "metadata": {},
          "output_type": "display_data"
        },
        {
          "name": "stdout",
          "output_type": "stream",
          "text": [
            "Epoch: 50, train/mse: 1665.8270, eval/mse: 3535.7148, train/rmse: 0.7673, eval/rmse: 0.7130, \n"
          ]
        },
        {
          "data": {
            "application/vnd.jupyter.widget-view+json": {
              "model_id": "1bc208e4205b47d68cd3df9db3eab48d",
              "version_major": 2,
              "version_minor": 0
            },
            "text/plain": [
              "Epoch: 51/150:   0%|          | 0/190 [00:00<?, ?it/s]"
            ]
          },
          "metadata": {},
          "output_type": "display_data"
        },
        {
          "data": {
            "application/vnd.jupyter.widget-view+json": {
              "model_id": "589d6884ccad4d76937f2a871456d71d",
              "version_major": 2,
              "version_minor": 0
            },
            "text/plain": [
              "Evaluating:   0%|          | 0/47 [00:00<?, ?it/s]"
            ]
          },
          "metadata": {},
          "output_type": "display_data"
        },
        {
          "name": "stdout",
          "output_type": "stream",
          "text": [
            "Epoch: 51, train/mse: 1635.3523, eval/mse: 3527.9294, train/rmse: 0.7651, eval/rmse: 0.7142, \n"
          ]
        },
        {
          "data": {
            "application/vnd.jupyter.widget-view+json": {
              "model_id": "1eccbdce054e438d989cf92d594d81a6",
              "version_major": 2,
              "version_minor": 0
            },
            "text/plain": [
              "Epoch: 52/150:   0%|          | 0/190 [00:00<?, ?it/s]"
            ]
          },
          "metadata": {},
          "output_type": "display_data"
        },
        {
          "data": {
            "application/vnd.jupyter.widget-view+json": {
              "model_id": "0575125535e04715b0b5fca2c194eac5",
              "version_major": 2,
              "version_minor": 0
            },
            "text/plain": [
              "Evaluating:   0%|          | 0/47 [00:00<?, ?it/s]"
            ]
          },
          "metadata": {},
          "output_type": "display_data"
        },
        {
          "name": "stdout",
          "output_type": "stream",
          "text": [
            "Epoch: 52, train/mse: 1651.6694, eval/mse: 3519.5347, train/rmse: 0.7652, eval/rmse: 0.7142, \n"
          ]
        },
        {
          "data": {
            "application/vnd.jupyter.widget-view+json": {
              "model_id": "7ffd88dce0de4bd7a9c7a12bb85882f3",
              "version_major": 2,
              "version_minor": 0
            },
            "text/plain": [
              "Epoch: 53/150:   0%|          | 0/190 [00:00<?, ?it/s]"
            ]
          },
          "metadata": {},
          "output_type": "display_data"
        },
        {
          "data": {
            "application/vnd.jupyter.widget-view+json": {
              "model_id": "880c5ecad6734fe39200f6f129deb7d8",
              "version_major": 2,
              "version_minor": 0
            },
            "text/plain": [
              "Evaluating:   0%|          | 0/47 [00:00<?, ?it/s]"
            ]
          },
          "metadata": {},
          "output_type": "display_data"
        },
        {
          "name": "stdout",
          "output_type": "stream",
          "text": [
            "Epoch: 53, train/mse: 1658.9749, eval/mse: 3532.4375, train/rmse: 0.7663, eval/rmse: 0.7135, \n"
          ]
        },
        {
          "data": {
            "application/vnd.jupyter.widget-view+json": {
              "model_id": "d5377cc26b8a4e28b830991de1e40de1",
              "version_major": 2,
              "version_minor": 0
            },
            "text/plain": [
              "Epoch: 54/150:   0%|          | 0/190 [00:00<?, ?it/s]"
            ]
          },
          "metadata": {},
          "output_type": "display_data"
        },
        {
          "data": {
            "application/vnd.jupyter.widget-view+json": {
              "model_id": "e7705532f7394dab9300a86f33169b39",
              "version_major": 2,
              "version_minor": 0
            },
            "text/plain": [
              "Evaluating:   0%|          | 0/47 [00:00<?, ?it/s]"
            ]
          },
          "metadata": {},
          "output_type": "display_data"
        },
        {
          "name": "stdout",
          "output_type": "stream",
          "text": [
            "Epoch: 54, train/mse: 1639.9940, eval/mse: 3512.1184, train/rmse: 0.7656, eval/rmse: 0.7139, \n"
          ]
        },
        {
          "data": {
            "application/vnd.jupyter.widget-view+json": {
              "model_id": "240b13ced17048049203eab4c313449f",
              "version_major": 2,
              "version_minor": 0
            },
            "text/plain": [
              "Epoch: 55/150:   0%|          | 0/190 [00:00<?, ?it/s]"
            ]
          },
          "metadata": {},
          "output_type": "display_data"
        },
        {
          "data": {
            "application/vnd.jupyter.widget-view+json": {
              "model_id": "3036db836275418082fdd3fb61915abd",
              "version_major": 2,
              "version_minor": 0
            },
            "text/plain": [
              "Evaluating:   0%|          | 0/47 [00:00<?, ?it/s]"
            ]
          },
          "metadata": {},
          "output_type": "display_data"
        },
        {
          "name": "stdout",
          "output_type": "stream",
          "text": [
            "Epoch: 55, train/mse: 1652.2925, eval/mse: 3534.0828, train/rmse: 0.7683, eval/rmse: 0.7130, \n"
          ]
        },
        {
          "data": {
            "application/vnd.jupyter.widget-view+json": {
              "model_id": "0a200a536e2f4128809e8042626f69e3",
              "version_major": 2,
              "version_minor": 0
            },
            "text/plain": [
              "Epoch: 56/150:   0%|          | 0/190 [00:00<?, ?it/s]"
            ]
          },
          "metadata": {},
          "output_type": "display_data"
        },
        {
          "data": {
            "application/vnd.jupyter.widget-view+json": {
              "model_id": "d7aca855a7e64fc49be92fd41293662b",
              "version_major": 2,
              "version_minor": 0
            },
            "text/plain": [
              "Evaluating:   0%|          | 0/47 [00:00<?, ?it/s]"
            ]
          },
          "metadata": {},
          "output_type": "display_data"
        },
        {
          "name": "stdout",
          "output_type": "stream",
          "text": [
            "Epoch: 56, train/mse: 1647.4467, eval/mse: 3524.5479, train/rmse: 0.7650, eval/rmse: 0.7131, \n"
          ]
        },
        {
          "data": {
            "application/vnd.jupyter.widget-view+json": {
              "model_id": "01286560392e4748a713ef368de15751",
              "version_major": 2,
              "version_minor": 0
            },
            "text/plain": [
              "Epoch: 57/150:   0%|          | 0/190 [00:00<?, ?it/s]"
            ]
          },
          "metadata": {},
          "output_type": "display_data"
        },
        {
          "data": {
            "application/vnd.jupyter.widget-view+json": {
              "model_id": "c2b162384fb342788f04ed056268e53d",
              "version_major": 2,
              "version_minor": 0
            },
            "text/plain": [
              "Evaluating:   0%|          | 0/47 [00:00<?, ?it/s]"
            ]
          },
          "metadata": {},
          "output_type": "display_data"
        },
        {
          "name": "stdout",
          "output_type": "stream",
          "text": [
            "Epoch: 57, train/mse: 1638.2633, eval/mse: 3529.5073, train/rmse: 0.7681, eval/rmse: 0.7128, \n"
          ]
        },
        {
          "data": {
            "application/vnd.jupyter.widget-view+json": {
              "model_id": "8265404d396945b2996598fd6ed872b6",
              "version_major": 2,
              "version_minor": 0
            },
            "text/plain": [
              "Epoch: 58/150:   0%|          | 0/190 [00:00<?, ?it/s]"
            ]
          },
          "metadata": {},
          "output_type": "display_data"
        },
        {
          "data": {
            "application/vnd.jupyter.widget-view+json": {
              "model_id": "4ba2076eae34432997a9f1d0f266ca59",
              "version_major": 2,
              "version_minor": 0
            },
            "text/plain": [
              "Evaluating:   0%|          | 0/47 [00:00<?, ?it/s]"
            ]
          },
          "metadata": {},
          "output_type": "display_data"
        },
        {
          "name": "stdout",
          "output_type": "stream",
          "text": [
            "Epoch: 58, train/mse: 1641.6643, eval/mse: 3515.1975, train/rmse: 0.7626, eval/rmse: 0.7138, \n"
          ]
        },
        {
          "data": {
            "application/vnd.jupyter.widget-view+json": {
              "model_id": "7af4b79539bb481d80707b9a3b9716b7",
              "version_major": 2,
              "version_minor": 0
            },
            "text/plain": [
              "Epoch: 59/150:   0%|          | 0/190 [00:00<?, ?it/s]"
            ]
          },
          "metadata": {},
          "output_type": "display_data"
        },
        {
          "data": {
            "application/vnd.jupyter.widget-view+json": {
              "model_id": "ab68f23243764d88972494b36a00d983",
              "version_major": 2,
              "version_minor": 0
            },
            "text/plain": [
              "Evaluating:   0%|          | 0/47 [00:00<?, ?it/s]"
            ]
          },
          "metadata": {},
          "output_type": "display_data"
        },
        {
          "name": "stdout",
          "output_type": "stream",
          "text": [
            "Epoch: 59, train/mse: 1649.3318, eval/mse: 3514.3005, train/rmse: 0.7670, eval/rmse: 0.7142, \n"
          ]
        },
        {
          "data": {
            "application/vnd.jupyter.widget-view+json": {
              "model_id": "dfb3baa7d9234c0d8dd95552fbcfaa44",
              "version_major": 2,
              "version_minor": 0
            },
            "text/plain": [
              "Epoch: 60/150:   0%|          | 0/190 [00:00<?, ?it/s]"
            ]
          },
          "metadata": {},
          "output_type": "display_data"
        },
        {
          "data": {
            "application/vnd.jupyter.widget-view+json": {
              "model_id": "d022974469bd4a87bfcbaba31dcb2c49",
              "version_major": 2,
              "version_minor": 0
            },
            "text/plain": [
              "Evaluating:   0%|          | 0/47 [00:00<?, ?it/s]"
            ]
          },
          "metadata": {},
          "output_type": "display_data"
        },
        {
          "name": "stdout",
          "output_type": "stream",
          "text": [
            "Epoch: 60, train/mse: 1636.8689, eval/mse: 3497.0662, train/rmse: 0.7690, eval/rmse: 0.7159, \n"
          ]
        },
        {
          "data": {
            "application/vnd.jupyter.widget-view+json": {
              "model_id": "4a020f5927e047a1a390f33d74be8299",
              "version_major": 2,
              "version_minor": 0
            },
            "text/plain": [
              "Epoch: 61/150:   0%|          | 0/190 [00:00<?, ?it/s]"
            ]
          },
          "metadata": {},
          "output_type": "display_data"
        },
        {
          "data": {
            "application/vnd.jupyter.widget-view+json": {
              "model_id": "8ed558af526b4e0d9d6d4346b202832e",
              "version_major": 2,
              "version_minor": 0
            },
            "text/plain": [
              "Evaluating:   0%|          | 0/47 [00:00<?, ?it/s]"
            ]
          },
          "metadata": {},
          "output_type": "display_data"
        },
        {
          "name": "stdout",
          "output_type": "stream",
          "text": [
            "Epoch: 61, train/mse: 1658.7461, eval/mse: 3501.5242, train/rmse: 0.7649, eval/rmse: 0.7155, \n"
          ]
        },
        {
          "data": {
            "application/vnd.jupyter.widget-view+json": {
              "model_id": "c07b92e26697449d8db731096903e729",
              "version_major": 2,
              "version_minor": 0
            },
            "text/plain": [
              "Epoch: 62/150:   0%|          | 0/190 [00:00<?, ?it/s]"
            ]
          },
          "metadata": {},
          "output_type": "display_data"
        },
        {
          "data": {
            "application/vnd.jupyter.widget-view+json": {
              "model_id": "3bacbfee3d274bc185abf2dfdc01eae1",
              "version_major": 2,
              "version_minor": 0
            },
            "text/plain": [
              "Evaluating:   0%|          | 0/47 [00:00<?, ?it/s]"
            ]
          },
          "metadata": {},
          "output_type": "display_data"
        },
        {
          "name": "stdout",
          "output_type": "stream",
          "text": [
            "Epoch: 62, train/mse: 1602.7227, eval/mse: 3511.8364, train/rmse: 0.7692, eval/rmse: 0.7142, \n"
          ]
        },
        {
          "data": {
            "application/vnd.jupyter.widget-view+json": {
              "model_id": "70b6dc4e5bcc4c378f50f6ffbfe87ec1",
              "version_major": 2,
              "version_minor": 0
            },
            "text/plain": [
              "Epoch: 63/150:   0%|          | 0/190 [00:00<?, ?it/s]"
            ]
          },
          "metadata": {},
          "output_type": "display_data"
        },
        {
          "data": {
            "application/vnd.jupyter.widget-view+json": {
              "model_id": "b64d6f77a80540d78d8969aa24018928",
              "version_major": 2,
              "version_minor": 0
            },
            "text/plain": [
              "Evaluating:   0%|          | 0/47 [00:00<?, ?it/s]"
            ]
          },
          "metadata": {},
          "output_type": "display_data"
        },
        {
          "name": "stdout",
          "output_type": "stream",
          "text": [
            "Epoch: 63, train/mse: 1624.6232, eval/mse: 3504.4685, train/rmse: 0.7654, eval/rmse: 0.7150, \n"
          ]
        },
        {
          "data": {
            "application/vnd.jupyter.widget-view+json": {
              "model_id": "6d4dda94da4a40e995cdadceea60a4ff",
              "version_major": 2,
              "version_minor": 0
            },
            "text/plain": [
              "Epoch: 64/150:   0%|          | 0/190 [00:00<?, ?it/s]"
            ]
          },
          "metadata": {},
          "output_type": "display_data"
        },
        {
          "data": {
            "application/vnd.jupyter.widget-view+json": {
              "model_id": "035a3b98aa15429e8aa6c3780117f1d3",
              "version_major": 2,
              "version_minor": 0
            },
            "text/plain": [
              "Evaluating:   0%|          | 0/47 [00:00<?, ?it/s]"
            ]
          },
          "metadata": {},
          "output_type": "display_data"
        },
        {
          "name": "stdout",
          "output_type": "stream",
          "text": [
            "Epoch: 64, train/mse: 1629.0956, eval/mse: 3509.6882, train/rmse: 0.7706, eval/rmse: 0.7157, \n"
          ]
        },
        {
          "data": {
            "application/vnd.jupyter.widget-view+json": {
              "model_id": "67a54646015b4343a6ddf00071a78c8a",
              "version_major": 2,
              "version_minor": 0
            },
            "text/plain": [
              "Epoch: 65/150:   0%|          | 0/190 [00:00<?, ?it/s]"
            ]
          },
          "metadata": {},
          "output_type": "display_data"
        },
        {
          "data": {
            "application/vnd.jupyter.widget-view+json": {
              "model_id": "6975ee7aee334cb29cd52e544075e0ee",
              "version_major": 2,
              "version_minor": 0
            },
            "text/plain": [
              "Evaluating:   0%|          | 0/47 [00:00<?, ?it/s]"
            ]
          },
          "metadata": {},
          "output_type": "display_data"
        },
        {
          "name": "stdout",
          "output_type": "stream",
          "text": [
            "Epoch: 65, train/mse: 1649.5319, eval/mse: 3506.5815, train/rmse: 0.7665, eval/rmse: 0.7149, \n"
          ]
        },
        {
          "data": {
            "application/vnd.jupyter.widget-view+json": {
              "model_id": "452cd0b2993544068fca8b4b9474486b",
              "version_major": 2,
              "version_minor": 0
            },
            "text/plain": [
              "Epoch: 66/150:   0%|          | 0/190 [00:00<?, ?it/s]"
            ]
          },
          "metadata": {},
          "output_type": "display_data"
        },
        {
          "data": {
            "application/vnd.jupyter.widget-view+json": {
              "model_id": "13d620ce3a1549b298f26c140068e5e5",
              "version_major": 2,
              "version_minor": 0
            },
            "text/plain": [
              "Evaluating:   0%|          | 0/47 [00:00<?, ?it/s]"
            ]
          },
          "metadata": {},
          "output_type": "display_data"
        },
        {
          "name": "stdout",
          "output_type": "stream",
          "text": [
            "Epoch: 66, train/mse: 1597.4355, eval/mse: 3511.3391, train/rmse: 0.7705, eval/rmse: 0.7140, \n"
          ]
        },
        {
          "data": {
            "application/vnd.jupyter.widget-view+json": {
              "model_id": "fb0f40d7d3554cfda47f0efeba3e94c9",
              "version_major": 2,
              "version_minor": 0
            },
            "text/plain": [
              "Epoch: 67/150:   0%|          | 0/190 [00:00<?, ?it/s]"
            ]
          },
          "metadata": {},
          "output_type": "display_data"
        },
        {
          "data": {
            "application/vnd.jupyter.widget-view+json": {
              "model_id": "63894730e6d745b8a25034fd77b09a4b",
              "version_major": 2,
              "version_minor": 0
            },
            "text/plain": [
              "Evaluating:   0%|          | 0/47 [00:00<?, ?it/s]"
            ]
          },
          "metadata": {},
          "output_type": "display_data"
        },
        {
          "name": "stdout",
          "output_type": "stream",
          "text": [
            "Epoch: 67, train/mse: 1615.8594, eval/mse: 3494.9138, train/rmse: 0.7674, eval/rmse: 0.7161, \n"
          ]
        },
        {
          "data": {
            "application/vnd.jupyter.widget-view+json": {
              "model_id": "582d1260ad474625b3de38d6ab655966",
              "version_major": 2,
              "version_minor": 0
            },
            "text/plain": [
              "Epoch: 68/150:   0%|          | 0/190 [00:00<?, ?it/s]"
            ]
          },
          "metadata": {},
          "output_type": "display_data"
        },
        {
          "data": {
            "application/vnd.jupyter.widget-view+json": {
              "model_id": "04d0b4948d334570bce7c0a6323369f3",
              "version_major": 2,
              "version_minor": 0
            },
            "text/plain": [
              "Evaluating:   0%|          | 0/47 [00:00<?, ?it/s]"
            ]
          },
          "metadata": {},
          "output_type": "display_data"
        },
        {
          "name": "stdout",
          "output_type": "stream",
          "text": [
            "Epoch: 68, train/mse: 1638.3855, eval/mse: 3502.6204, train/rmse: 0.7689, eval/rmse: 0.7156, \n"
          ]
        },
        {
          "data": {
            "application/vnd.jupyter.widget-view+json": {
              "model_id": "e61671c0843b41548f3973535d8cd48e",
              "version_major": 2,
              "version_minor": 0
            },
            "text/plain": [
              "Epoch: 69/150:   0%|          | 0/190 [00:00<?, ?it/s]"
            ]
          },
          "metadata": {},
          "output_type": "display_data"
        },
        {
          "data": {
            "application/vnd.jupyter.widget-view+json": {
              "model_id": "c5d89f976c6b46338258b2f229c1b70c",
              "version_major": 2,
              "version_minor": 0
            },
            "text/plain": [
              "Evaluating:   0%|          | 0/47 [00:00<?, ?it/s]"
            ]
          },
          "metadata": {},
          "output_type": "display_data"
        },
        {
          "name": "stdout",
          "output_type": "stream",
          "text": [
            "Epoch: 69, train/mse: 1606.7786, eval/mse: 3480.1748, train/rmse: 0.7658, eval/rmse: 0.7173, \n"
          ]
        },
        {
          "data": {
            "application/vnd.jupyter.widget-view+json": {
              "model_id": "056e814e062a42c9855df0df29fce552",
              "version_major": 2,
              "version_minor": 0
            },
            "text/plain": [
              "Epoch: 70/150:   0%|          | 0/190 [00:00<?, ?it/s]"
            ]
          },
          "metadata": {},
          "output_type": "display_data"
        },
        {
          "data": {
            "application/vnd.jupyter.widget-view+json": {
              "model_id": "cca740327eb14f1baa94249b8cba5846",
              "version_major": 2,
              "version_minor": 0
            },
            "text/plain": [
              "Evaluating:   0%|          | 0/47 [00:00<?, ?it/s]"
            ]
          },
          "metadata": {},
          "output_type": "display_data"
        },
        {
          "name": "stdout",
          "output_type": "stream",
          "text": [
            "Epoch: 70, train/mse: 1606.4512, eval/mse: 3483.9226, train/rmse: 0.7675, eval/rmse: 0.7171, \n"
          ]
        },
        {
          "data": {
            "application/vnd.jupyter.widget-view+json": {
              "model_id": "802450286c9b4d179014535676a8bcc5",
              "version_major": 2,
              "version_minor": 0
            },
            "text/plain": [
              "Epoch: 71/150:   0%|          | 0/190 [00:00<?, ?it/s]"
            ]
          },
          "metadata": {},
          "output_type": "display_data"
        },
        {
          "data": {
            "application/vnd.jupyter.widget-view+json": {
              "model_id": "e14e9a43086f44558b18297106718193",
              "version_major": 2,
              "version_minor": 0
            },
            "text/plain": [
              "Evaluating:   0%|          | 0/47 [00:00<?, ?it/s]"
            ]
          },
          "metadata": {},
          "output_type": "display_data"
        },
        {
          "name": "stdout",
          "output_type": "stream",
          "text": [
            "Epoch: 71, train/mse: 1636.8129, eval/mse: 3497.2305, train/rmse: 0.7672, eval/rmse: 0.7153, \n"
          ]
        },
        {
          "data": {
            "application/vnd.jupyter.widget-view+json": {
              "model_id": "727b674209534f7098bc669fc034aa27",
              "version_major": 2,
              "version_minor": 0
            },
            "text/plain": [
              "Epoch: 72/150:   0%|          | 0/190 [00:00<?, ?it/s]"
            ]
          },
          "metadata": {},
          "output_type": "display_data"
        },
        {
          "data": {
            "application/vnd.jupyter.widget-view+json": {
              "model_id": "01e45bd2584045c8818fffea8172ef06",
              "version_major": 2,
              "version_minor": 0
            },
            "text/plain": [
              "Evaluating:   0%|          | 0/47 [00:00<?, ?it/s]"
            ]
          },
          "metadata": {},
          "output_type": "display_data"
        },
        {
          "name": "stdout",
          "output_type": "stream",
          "text": [
            "Epoch: 72, train/mse: 1626.3348, eval/mse: 3493.2261, train/rmse: 0.7668, eval/rmse: 0.7158, \n"
          ]
        },
        {
          "data": {
            "application/vnd.jupyter.widget-view+json": {
              "model_id": "0bf4b29fc3b04cba8c3db917ad139614",
              "version_major": 2,
              "version_minor": 0
            },
            "text/plain": [
              "Epoch: 73/150:   0%|          | 0/190 [00:00<?, ?it/s]"
            ]
          },
          "metadata": {},
          "output_type": "display_data"
        },
        {
          "data": {
            "application/vnd.jupyter.widget-view+json": {
              "model_id": "8335f98945aa42c9bcf7cb895387cefe",
              "version_major": 2,
              "version_minor": 0
            },
            "text/plain": [
              "Evaluating:   0%|          | 0/47 [00:00<?, ?it/s]"
            ]
          },
          "metadata": {},
          "output_type": "display_data"
        },
        {
          "name": "stdout",
          "output_type": "stream",
          "text": [
            "Epoch: 73, train/mse: 1615.6393, eval/mse: 3495.3062, train/rmse: 0.7693, eval/rmse: 0.7155, \n"
          ]
        },
        {
          "data": {
            "application/vnd.jupyter.widget-view+json": {
              "model_id": "8c83bcc59fcc4af4b9e96012b43c3603",
              "version_major": 2,
              "version_minor": 0
            },
            "text/plain": [
              "Epoch: 74/150:   0%|          | 0/190 [00:00<?, ?it/s]"
            ]
          },
          "metadata": {},
          "output_type": "display_data"
        },
        {
          "data": {
            "application/vnd.jupyter.widget-view+json": {
              "model_id": "05bed58908824ac1801dcfef2f8ad384",
              "version_major": 2,
              "version_minor": 0
            },
            "text/plain": [
              "Evaluating:   0%|          | 0/47 [00:00<?, ?it/s]"
            ]
          },
          "metadata": {},
          "output_type": "display_data"
        },
        {
          "name": "stdout",
          "output_type": "stream",
          "text": [
            "Epoch: 74, train/mse: 1627.4281, eval/mse: 3479.8013, train/rmse: 0.7669, eval/rmse: 0.7165, \n"
          ]
        },
        {
          "data": {
            "application/vnd.jupyter.widget-view+json": {
              "model_id": "4da491bade1f42ac80097717885c9c47",
              "version_major": 2,
              "version_minor": 0
            },
            "text/plain": [
              "Epoch: 75/150:   0%|          | 0/190 [00:00<?, ?it/s]"
            ]
          },
          "metadata": {},
          "output_type": "display_data"
        },
        {
          "data": {
            "application/vnd.jupyter.widget-view+json": {
              "model_id": "d7f72ea8ff884233835ed4e317416a32",
              "version_major": 2,
              "version_minor": 0
            },
            "text/plain": [
              "Evaluating:   0%|          | 0/47 [00:00<?, ?it/s]"
            ]
          },
          "metadata": {},
          "output_type": "display_data"
        },
        {
          "name": "stdout",
          "output_type": "stream",
          "text": [
            "Epoch: 75, train/mse: 1624.8148, eval/mse: 3465.7961, train/rmse: 0.7662, eval/rmse: 0.7190, \n"
          ]
        },
        {
          "data": {
            "application/vnd.jupyter.widget-view+json": {
              "model_id": "9d4d6c6c9734489d8a88d6377eb85284",
              "version_major": 2,
              "version_minor": 0
            },
            "text/plain": [
              "Epoch: 76/150:   0%|          | 0/190 [00:00<?, ?it/s]"
            ]
          },
          "metadata": {},
          "output_type": "display_data"
        },
        {
          "data": {
            "application/vnd.jupyter.widget-view+json": {
              "model_id": "a7e01297ae1a4cbb8ea2566e5a979ea9",
              "version_major": 2,
              "version_minor": 0
            },
            "text/plain": [
              "Evaluating:   0%|          | 0/47 [00:00<?, ?it/s]"
            ]
          },
          "metadata": {},
          "output_type": "display_data"
        },
        {
          "name": "stdout",
          "output_type": "stream",
          "text": [
            "Epoch: 76, train/mse: 1622.8486, eval/mse: 3474.2354, train/rmse: 0.7713, eval/rmse: 0.7187, \n"
          ]
        },
        {
          "data": {
            "application/vnd.jupyter.widget-view+json": {
              "model_id": "259f8ce6c2534996a1a010cc252ddd63",
              "version_major": 2,
              "version_minor": 0
            },
            "text/plain": [
              "Epoch: 77/150:   0%|          | 0/190 [00:00<?, ?it/s]"
            ]
          },
          "metadata": {},
          "output_type": "display_data"
        },
        {
          "data": {
            "application/vnd.jupyter.widget-view+json": {
              "model_id": "3e396aa092a243e393b62f8961eb9689",
              "version_major": 2,
              "version_minor": 0
            },
            "text/plain": [
              "Evaluating:   0%|          | 0/47 [00:00<?, ?it/s]"
            ]
          },
          "metadata": {},
          "output_type": "display_data"
        },
        {
          "name": "stdout",
          "output_type": "stream",
          "text": [
            "Epoch: 77, train/mse: 1595.4144, eval/mse: 3452.7307, train/rmse: 0.7698, eval/rmse: 0.7193, \n"
          ]
        },
        {
          "data": {
            "application/vnd.jupyter.widget-view+json": {
              "model_id": "faf848cb0aab44c5b396a7c56ec794e2",
              "version_major": 2,
              "version_minor": 0
            },
            "text/plain": [
              "Epoch: 78/150:   0%|          | 0/190 [00:00<?, ?it/s]"
            ]
          },
          "metadata": {},
          "output_type": "display_data"
        },
        {
          "data": {
            "application/vnd.jupyter.widget-view+json": {
              "model_id": "75f888b26e3e462cbe52f6be3fd2dae1",
              "version_major": 2,
              "version_minor": 0
            },
            "text/plain": [
              "Evaluating:   0%|          | 0/47 [00:00<?, ?it/s]"
            ]
          },
          "metadata": {},
          "output_type": "display_data"
        },
        {
          "name": "stdout",
          "output_type": "stream",
          "text": [
            "Epoch: 78, train/mse: 1632.3237, eval/mse: 3466.4456, train/rmse: 0.7689, eval/rmse: 0.7185, \n"
          ]
        },
        {
          "data": {
            "application/vnd.jupyter.widget-view+json": {
              "model_id": "602f4e3b4d304dfa967cc95846baac7a",
              "version_major": 2,
              "version_minor": 0
            },
            "text/plain": [
              "Epoch: 79/150:   0%|          | 0/190 [00:00<?, ?it/s]"
            ]
          },
          "metadata": {},
          "output_type": "display_data"
        },
        {
          "data": {
            "application/vnd.jupyter.widget-view+json": {
              "model_id": "881fa04d1448442cae1285066d0df3c8",
              "version_major": 2,
              "version_minor": 0
            },
            "text/plain": [
              "Evaluating:   0%|          | 0/47 [00:00<?, ?it/s]"
            ]
          },
          "metadata": {},
          "output_type": "display_data"
        },
        {
          "name": "stdout",
          "output_type": "stream",
          "text": [
            "Epoch: 79, train/mse: 1441.6010, eval/mse: 3477.3630, train/rmse: 0.7721, eval/rmse: 0.7187, \n"
          ]
        },
        {
          "data": {
            "application/vnd.jupyter.widget-view+json": {
              "model_id": "787ab494f1e645dba9c2f204c9e3b18e",
              "version_major": 2,
              "version_minor": 0
            },
            "text/plain": [
              "Epoch: 80/150:   0%|          | 0/190 [00:00<?, ?it/s]"
            ]
          },
          "metadata": {},
          "output_type": "display_data"
        },
        {
          "data": {
            "application/vnd.jupyter.widget-view+json": {
              "model_id": "effde478a9ed4c418c6f767f58a48c8e",
              "version_major": 2,
              "version_minor": 0
            },
            "text/plain": [
              "Evaluating:   0%|          | 0/47 [00:00<?, ?it/s]"
            ]
          },
          "metadata": {},
          "output_type": "display_data"
        },
        {
          "name": "stdout",
          "output_type": "stream",
          "text": [
            "Epoch: 80, train/mse: 1592.9991, eval/mse: 3475.3269, train/rmse: 0.7704, eval/rmse: 0.7180, \n"
          ]
        },
        {
          "data": {
            "application/vnd.jupyter.widget-view+json": {
              "model_id": "08ec0aaf33ac40fca47c0a7d661d6d39",
              "version_major": 2,
              "version_minor": 0
            },
            "text/plain": [
              "Epoch: 81/150:   0%|          | 0/190 [00:00<?, ?it/s]"
            ]
          },
          "metadata": {},
          "output_type": "display_data"
        },
        {
          "data": {
            "application/vnd.jupyter.widget-view+json": {
              "model_id": "4c023c30c5e344bcbc798ab37c443dfa",
              "version_major": 2,
              "version_minor": 0
            },
            "text/plain": [
              "Evaluating:   0%|          | 0/47 [00:00<?, ?it/s]"
            ]
          },
          "metadata": {},
          "output_type": "display_data"
        },
        {
          "name": "stdout",
          "output_type": "stream",
          "text": [
            "Epoch: 81, train/mse: 1627.3760, eval/mse: 3493.9282, train/rmse: 0.7675, eval/rmse: 0.7159, \n"
          ]
        },
        {
          "data": {
            "application/vnd.jupyter.widget-view+json": {
              "model_id": "fcd163c16a4d4b7f8a2f1979caf4fd46",
              "version_major": 2,
              "version_minor": 0
            },
            "text/plain": [
              "Epoch: 82/150:   0%|          | 0/190 [00:00<?, ?it/s]"
            ]
          },
          "metadata": {},
          "output_type": "display_data"
        },
        {
          "data": {
            "application/vnd.jupyter.widget-view+json": {
              "model_id": "12e058f4bd1e4819b2148d7a314903be",
              "version_major": 2,
              "version_minor": 0
            },
            "text/plain": [
              "Evaluating:   0%|          | 0/47 [00:00<?, ?it/s]"
            ]
          },
          "metadata": {},
          "output_type": "display_data"
        },
        {
          "name": "stdout",
          "output_type": "stream",
          "text": [
            "Epoch: 82, train/mse: 1599.1654, eval/mse: 3478.6731, train/rmse: 0.7734, eval/rmse: 0.7177, \n"
          ]
        },
        {
          "data": {
            "application/vnd.jupyter.widget-view+json": {
              "model_id": "8b962f10dbe7435fbf8eebdfdcb7835b",
              "version_major": 2,
              "version_minor": 0
            },
            "text/plain": [
              "Epoch: 83/150:   0%|          | 0/190 [00:00<?, ?it/s]"
            ]
          },
          "metadata": {},
          "output_type": "display_data"
        },
        {
          "data": {
            "application/vnd.jupyter.widget-view+json": {
              "model_id": "8ad24ce2541e45e095f32e24b346cd83",
              "version_major": 2,
              "version_minor": 0
            },
            "text/plain": [
              "Evaluating:   0%|          | 0/47 [00:00<?, ?it/s]"
            ]
          },
          "metadata": {},
          "output_type": "display_data"
        },
        {
          "name": "stdout",
          "output_type": "stream",
          "text": [
            "Epoch: 83, train/mse: 1607.3513, eval/mse: 3473.7632, train/rmse: 0.7726, eval/rmse: 0.7191, \n"
          ]
        },
        {
          "data": {
            "application/vnd.jupyter.widget-view+json": {
              "model_id": "5d83791b2eb84fa794c49f5f4d93d5a6",
              "version_major": 2,
              "version_minor": 0
            },
            "text/plain": [
              "Epoch: 84/150:   0%|          | 0/190 [00:00<?, ?it/s]"
            ]
          },
          "metadata": {},
          "output_type": "display_data"
        },
        {
          "data": {
            "application/vnd.jupyter.widget-view+json": {
              "model_id": "896436c6d61d46e5a8eda10fc9aff5c5",
              "version_major": 2,
              "version_minor": 0
            },
            "text/plain": [
              "Evaluating:   0%|          | 0/47 [00:00<?, ?it/s]"
            ]
          },
          "metadata": {},
          "output_type": "display_data"
        },
        {
          "name": "stdout",
          "output_type": "stream",
          "text": [
            "Epoch: 84, train/mse: 1647.0380, eval/mse: 3463.9329, train/rmse: 0.7671, eval/rmse: 0.7194, \n"
          ]
        },
        {
          "data": {
            "application/vnd.jupyter.widget-view+json": {
              "model_id": "2462bb16adac4f99b795821956fd6d12",
              "version_major": 2,
              "version_minor": 0
            },
            "text/plain": [
              "Epoch: 85/150:   0%|          | 0/190 [00:00<?, ?it/s]"
            ]
          },
          "metadata": {},
          "output_type": "display_data"
        },
        {
          "data": {
            "application/vnd.jupyter.widget-view+json": {
              "model_id": "6b32a3995ff74a3bb92c53be51b8f851",
              "version_major": 2,
              "version_minor": 0
            },
            "text/plain": [
              "Evaluating:   0%|          | 0/47 [00:00<?, ?it/s]"
            ]
          },
          "metadata": {},
          "output_type": "display_data"
        },
        {
          "name": "stdout",
          "output_type": "stream",
          "text": [
            "Epoch: 85, train/mse: 1618.5601, eval/mse: 3490.9304, train/rmse: 0.7677, eval/rmse: 0.7159, \n"
          ]
        },
        {
          "data": {
            "application/vnd.jupyter.widget-view+json": {
              "model_id": "b99ae846f8374e1f99d884d9427a9e71",
              "version_major": 2,
              "version_minor": 0
            },
            "text/plain": [
              "Epoch: 86/150:   0%|          | 0/190 [00:00<?, ?it/s]"
            ]
          },
          "metadata": {},
          "output_type": "display_data"
        },
        {
          "data": {
            "application/vnd.jupyter.widget-view+json": {
              "model_id": "35e1573a662940b896eff5be9e839855",
              "version_major": 2,
              "version_minor": 0
            },
            "text/plain": [
              "Evaluating:   0%|          | 0/47 [00:00<?, ?it/s]"
            ]
          },
          "metadata": {},
          "output_type": "display_data"
        },
        {
          "name": "stdout",
          "output_type": "stream",
          "text": [
            "Epoch: 86, train/mse: 1616.3485, eval/mse: 3479.2078, train/rmse: 0.7692, eval/rmse: 0.7174, \n"
          ]
        },
        {
          "data": {
            "application/vnd.jupyter.widget-view+json": {
              "model_id": "8d762265f052416c9180613f7cc03f6f",
              "version_major": 2,
              "version_minor": 0
            },
            "text/plain": [
              "Epoch: 87/150:   0%|          | 0/190 [00:00<?, ?it/s]"
            ]
          },
          "metadata": {},
          "output_type": "display_data"
        },
        {
          "data": {
            "application/vnd.jupyter.widget-view+json": {
              "model_id": "28589724dd97411da6f93294d78d2fb3",
              "version_major": 2,
              "version_minor": 0
            },
            "text/plain": [
              "Evaluating:   0%|          | 0/47 [00:00<?, ?it/s]"
            ]
          },
          "metadata": {},
          "output_type": "display_data"
        },
        {
          "name": "stdout",
          "output_type": "stream",
          "text": [
            "Epoch: 87, train/mse: 1601.7378, eval/mse: 3468.9990, train/rmse: 0.7720, eval/rmse: 0.7184, \n"
          ]
        },
        {
          "data": {
            "application/vnd.jupyter.widget-view+json": {
              "model_id": "44a630e0b06d4a5da5182dc5c53dcb1d",
              "version_major": 2,
              "version_minor": 0
            },
            "text/plain": [
              "Epoch: 88/150:   0%|          | 0/190 [00:00<?, ?it/s]"
            ]
          },
          "metadata": {},
          "output_type": "display_data"
        },
        {
          "data": {
            "application/vnd.jupyter.widget-view+json": {
              "model_id": "f7f8446e70bb4f14bb890bd9825501a2",
              "version_major": 2,
              "version_minor": 0
            },
            "text/plain": [
              "Evaluating:   0%|          | 0/47 [00:00<?, ?it/s]"
            ]
          },
          "metadata": {},
          "output_type": "display_data"
        },
        {
          "name": "stdout",
          "output_type": "stream",
          "text": [
            "Epoch: 88, train/mse: 1607.9115, eval/mse: 3489.8096, train/rmse: 0.7687, eval/rmse: 0.7167, \n"
          ]
        },
        {
          "data": {
            "application/vnd.jupyter.widget-view+json": {
              "model_id": "2f366c08f75c46529e3919f1f0e6b49b",
              "version_major": 2,
              "version_minor": 0
            },
            "text/plain": [
              "Epoch: 89/150:   0%|          | 0/190 [00:00<?, ?it/s]"
            ]
          },
          "metadata": {},
          "output_type": "display_data"
        },
        {
          "data": {
            "application/vnd.jupyter.widget-view+json": {
              "model_id": "443e56c918fb441a916ec3ca54d01c7e",
              "version_major": 2,
              "version_minor": 0
            },
            "text/plain": [
              "Evaluating:   0%|          | 0/47 [00:00<?, ?it/s]"
            ]
          },
          "metadata": {},
          "output_type": "display_data"
        },
        {
          "name": "stdout",
          "output_type": "stream",
          "text": [
            "Epoch: 89, train/mse: 1633.7106, eval/mse: 3466.5405, train/rmse: 0.7682, eval/rmse: 0.7194, \n"
          ]
        },
        {
          "data": {
            "application/vnd.jupyter.widget-view+json": {
              "model_id": "1112b90e665640b994f2cc21c19d85d8",
              "version_major": 2,
              "version_minor": 0
            },
            "text/plain": [
              "Epoch: 90/150:   0%|          | 0/190 [00:00<?, ?it/s]"
            ]
          },
          "metadata": {},
          "output_type": "display_data"
        },
        {
          "data": {
            "application/vnd.jupyter.widget-view+json": {
              "model_id": "950f742f13754c7fb61141eadafd88c2",
              "version_major": 2,
              "version_minor": 0
            },
            "text/plain": [
              "Evaluating:   0%|          | 0/47 [00:00<?, ?it/s]"
            ]
          },
          "metadata": {},
          "output_type": "display_data"
        },
        {
          "name": "stdout",
          "output_type": "stream",
          "text": [
            "Epoch: 90, train/mse: 1604.8958, eval/mse: 3456.9504, train/rmse: 0.7685, eval/rmse: 0.7201, \n"
          ]
        },
        {
          "data": {
            "application/vnd.jupyter.widget-view+json": {
              "model_id": "96626da57efe454ab0dfdcb7e44738bb",
              "version_major": 2,
              "version_minor": 0
            },
            "text/plain": [
              "Epoch: 91/150:   0%|          | 0/190 [00:00<?, ?it/s]"
            ]
          },
          "metadata": {},
          "output_type": "display_data"
        },
        {
          "data": {
            "application/vnd.jupyter.widget-view+json": {
              "model_id": "7eba8868dfda4d4993a444dd844b4064",
              "version_major": 2,
              "version_minor": 0
            },
            "text/plain": [
              "Evaluating:   0%|          | 0/47 [00:00<?, ?it/s]"
            ]
          },
          "metadata": {},
          "output_type": "display_data"
        },
        {
          "name": "stdout",
          "output_type": "stream",
          "text": [
            "Epoch: 91, train/mse: 1619.6283, eval/mse: 3441.0903, train/rmse: 0.7684, eval/rmse: 0.7215, \n"
          ]
        },
        {
          "data": {
            "application/vnd.jupyter.widget-view+json": {
              "model_id": "8096d426501b47728381ce0cd439c358",
              "version_major": 2,
              "version_minor": 0
            },
            "text/plain": [
              "Epoch: 92/150:   0%|          | 0/190 [00:00<?, ?it/s]"
            ]
          },
          "metadata": {},
          "output_type": "display_data"
        },
        {
          "data": {
            "application/vnd.jupyter.widget-view+json": {
              "model_id": "567bd53525734db8ba3cb5ca4b381626",
              "version_major": 2,
              "version_minor": 0
            },
            "text/plain": [
              "Evaluating:   0%|          | 0/47 [00:00<?, ?it/s]"
            ]
          },
          "metadata": {},
          "output_type": "display_data"
        },
        {
          "name": "stdout",
          "output_type": "stream",
          "text": [
            "Epoch: 92, train/mse: 1604.8451, eval/mse: 3456.6023, train/rmse: 0.7694, eval/rmse: 0.7200, \n"
          ]
        },
        {
          "data": {
            "application/vnd.jupyter.widget-view+json": {
              "model_id": "9d624385593a41b1a0cd657578155ca0",
              "version_major": 2,
              "version_minor": 0
            },
            "text/plain": [
              "Epoch: 93/150:   0%|          | 0/190 [00:00<?, ?it/s]"
            ]
          },
          "metadata": {},
          "output_type": "display_data"
        },
        {
          "data": {
            "application/vnd.jupyter.widget-view+json": {
              "model_id": "2371d8cf856842ac886d9958a952f1b3",
              "version_major": 2,
              "version_minor": 0
            },
            "text/plain": [
              "Evaluating:   0%|          | 0/47 [00:00<?, ?it/s]"
            ]
          },
          "metadata": {},
          "output_type": "display_data"
        },
        {
          "name": "stdout",
          "output_type": "stream",
          "text": [
            "Epoch: 93, train/mse: 1607.8575, eval/mse: 3450.1055, train/rmse: 0.7714, eval/rmse: 0.7211, \n"
          ]
        },
        {
          "data": {
            "application/vnd.jupyter.widget-view+json": {
              "model_id": "2d6bafd8ca8f4c71b055679c244e6285",
              "version_major": 2,
              "version_minor": 0
            },
            "text/plain": [
              "Epoch: 94/150:   0%|          | 0/190 [00:00<?, ?it/s]"
            ]
          },
          "metadata": {},
          "output_type": "display_data"
        },
        {
          "data": {
            "application/vnd.jupyter.widget-view+json": {
              "model_id": "4905b997d08a4a7bb199de1336bc7c1e",
              "version_major": 2,
              "version_minor": 0
            },
            "text/plain": [
              "Evaluating:   0%|          | 0/47 [00:00<?, ?it/s]"
            ]
          },
          "metadata": {},
          "output_type": "display_data"
        },
        {
          "name": "stdout",
          "output_type": "stream",
          "text": [
            "Epoch: 94, train/mse: 1621.1400, eval/mse: 3446.2546, train/rmse: 0.7749, eval/rmse: 0.7208, \n"
          ]
        },
        {
          "data": {
            "application/vnd.jupyter.widget-view+json": {
              "model_id": "2a580757ebf2402f886ed39695a96835",
              "version_major": 2,
              "version_minor": 0
            },
            "text/plain": [
              "Epoch: 95/150:   0%|          | 0/190 [00:00<?, ?it/s]"
            ]
          },
          "metadata": {},
          "output_type": "display_data"
        },
        {
          "data": {
            "application/vnd.jupyter.widget-view+json": {
              "model_id": "3a125bf150364c7daf0734473c79296e",
              "version_major": 2,
              "version_minor": 0
            },
            "text/plain": [
              "Evaluating:   0%|          | 0/47 [00:00<?, ?it/s]"
            ]
          },
          "metadata": {},
          "output_type": "display_data"
        },
        {
          "name": "stdout",
          "output_type": "stream",
          "text": [
            "Epoch: 95, train/mse: 1608.6697, eval/mse: 3449.6418, train/rmse: 0.7714, eval/rmse: 0.7204, \n"
          ]
        },
        {
          "data": {
            "application/vnd.jupyter.widget-view+json": {
              "model_id": "71b42fd13a1a409d9d3ca952bf9d6a5e",
              "version_major": 2,
              "version_minor": 0
            },
            "text/plain": [
              "Epoch: 96/150:   0%|          | 0/190 [00:00<?, ?it/s]"
            ]
          },
          "metadata": {},
          "output_type": "display_data"
        },
        {
          "data": {
            "application/vnd.jupyter.widget-view+json": {
              "model_id": "555078a2a49c40db9e99bef1dc2f4cfc",
              "version_major": 2,
              "version_minor": 0
            },
            "text/plain": [
              "Evaluating:   0%|          | 0/47 [00:00<?, ?it/s]"
            ]
          },
          "metadata": {},
          "output_type": "display_data"
        },
        {
          "name": "stdout",
          "output_type": "stream",
          "text": [
            "Epoch: 96, train/mse: 1590.2207, eval/mse: 3430.7778, train/rmse: 0.7711, eval/rmse: 0.7223, \n"
          ]
        },
        {
          "data": {
            "application/vnd.jupyter.widget-view+json": {
              "model_id": "5b9044678a9b43a3a239d51097320121",
              "version_major": 2,
              "version_minor": 0
            },
            "text/plain": [
              "Epoch: 97/150:   0%|          | 0/190 [00:00<?, ?it/s]"
            ]
          },
          "metadata": {},
          "output_type": "display_data"
        },
        {
          "data": {
            "application/vnd.jupyter.widget-view+json": {
              "model_id": "a89b08498ca542f6a63efc5a1dcfad09",
              "version_major": 2,
              "version_minor": 0
            },
            "text/plain": [
              "Evaluating:   0%|          | 0/47 [00:00<?, ?it/s]"
            ]
          },
          "metadata": {},
          "output_type": "display_data"
        },
        {
          "name": "stdout",
          "output_type": "stream",
          "text": [
            "Epoch: 97, train/mse: 1611.8339, eval/mse: 3438.7461, train/rmse: 0.7732, eval/rmse: 0.7217, \n"
          ]
        },
        {
          "data": {
            "application/vnd.jupyter.widget-view+json": {
              "model_id": "8ebce600b12b4fd6be2e5c784ba7d0fb",
              "version_major": 2,
              "version_minor": 0
            },
            "text/plain": [
              "Epoch: 98/150:   0%|          | 0/190 [00:00<?, ?it/s]"
            ]
          },
          "metadata": {},
          "output_type": "display_data"
        },
        {
          "data": {
            "application/vnd.jupyter.widget-view+json": {
              "model_id": "83a91e42242e41419581b4c03bbdcadb",
              "version_major": 2,
              "version_minor": 0
            },
            "text/plain": [
              "Evaluating:   0%|          | 0/47 [00:00<?, ?it/s]"
            ]
          },
          "metadata": {},
          "output_type": "display_data"
        },
        {
          "name": "stdout",
          "output_type": "stream",
          "text": [
            "Epoch: 98, train/mse: 1572.5986, eval/mse: 3428.7427, train/rmse: 0.7703, eval/rmse: 0.7226, \n"
          ]
        },
        {
          "data": {
            "application/vnd.jupyter.widget-view+json": {
              "model_id": "954bba38beaa4eaaa3d68ea8bf617fe5",
              "version_major": 2,
              "version_minor": 0
            },
            "text/plain": [
              "Epoch: 99/150:   0%|          | 0/190 [00:00<?, ?it/s]"
            ]
          },
          "metadata": {},
          "output_type": "display_data"
        },
        {
          "data": {
            "application/vnd.jupyter.widget-view+json": {
              "model_id": "13707334d7a74b5a9b8c6fcb4ee1f901",
              "version_major": 2,
              "version_minor": 0
            },
            "text/plain": [
              "Evaluating:   0%|          | 0/47 [00:00<?, ?it/s]"
            ]
          },
          "metadata": {},
          "output_type": "display_data"
        },
        {
          "name": "stdout",
          "output_type": "stream",
          "text": [
            "Epoch: 99, train/mse: 1601.3799, eval/mse: 3444.8142, train/rmse: 0.7707, eval/rmse: 0.7208, \n"
          ]
        },
        {
          "data": {
            "application/vnd.jupyter.widget-view+json": {
              "model_id": "e7d1927379834841a74dea36f16880e7",
              "version_major": 2,
              "version_minor": 0
            },
            "text/plain": [
              "Epoch: 100/150:   0%|          | 0/190 [00:00<?, ?it/s]"
            ]
          },
          "metadata": {},
          "output_type": "display_data"
        },
        {
          "data": {
            "application/vnd.jupyter.widget-view+json": {
              "model_id": "5f0bb04361bc40eba55f2379be26dba2",
              "version_major": 2,
              "version_minor": 0
            },
            "text/plain": [
              "Evaluating:   0%|          | 0/47 [00:00<?, ?it/s]"
            ]
          },
          "metadata": {},
          "output_type": "display_data"
        },
        {
          "name": "stdout",
          "output_type": "stream",
          "text": [
            "Epoch: 100, train/mse: 1529.7698, eval/mse: 3439.6985, train/rmse: 0.7721, eval/rmse: 0.7208, \n"
          ]
        },
        {
          "data": {
            "application/vnd.jupyter.widget-view+json": {
              "model_id": "e8d05700749d4ec685f8ba2e89563019",
              "version_major": 2,
              "version_minor": 0
            },
            "text/plain": [
              "Epoch: 101/150:   0%|          | 0/190 [00:00<?, ?it/s]"
            ]
          },
          "metadata": {},
          "output_type": "display_data"
        },
        {
          "data": {
            "application/vnd.jupyter.widget-view+json": {
              "model_id": "0fd634ca25e8470c9809d0dfc1075303",
              "version_major": 2,
              "version_minor": 0
            },
            "text/plain": [
              "Evaluating:   0%|          | 0/47 [00:00<?, ?it/s]"
            ]
          },
          "metadata": {},
          "output_type": "display_data"
        },
        {
          "name": "stdout",
          "output_type": "stream",
          "text": [
            "Epoch: 101, train/mse: 1599.3507, eval/mse: 3433.7141, train/rmse: 0.7722, eval/rmse: 0.7220, \n"
          ]
        },
        {
          "data": {
            "application/vnd.jupyter.widget-view+json": {
              "model_id": "3ccf3d1039c542c9a7fc47feeaef83ab",
              "version_major": 2,
              "version_minor": 0
            },
            "text/plain": [
              "Epoch: 102/150:   0%|          | 0/190 [00:00<?, ?it/s]"
            ]
          },
          "metadata": {},
          "output_type": "display_data"
        },
        {
          "data": {
            "application/vnd.jupyter.widget-view+json": {
              "model_id": "430fa55f99ec478d941f089bd884f82c",
              "version_major": 2,
              "version_minor": 0
            },
            "text/plain": [
              "Evaluating:   0%|          | 0/47 [00:00<?, ?it/s]"
            ]
          },
          "metadata": {},
          "output_type": "display_data"
        },
        {
          "name": "stdout",
          "output_type": "stream",
          "text": [
            "Epoch: 102, train/mse: 1589.7235, eval/mse: 3433.8877, train/rmse: 0.7709, eval/rmse: 0.7221, \n"
          ]
        },
        {
          "data": {
            "application/vnd.jupyter.widget-view+json": {
              "model_id": "35062baef1ca47228ec741b167744a12",
              "version_major": 2,
              "version_minor": 0
            },
            "text/plain": [
              "Epoch: 103/150:   0%|          | 0/190 [00:00<?, ?it/s]"
            ]
          },
          "metadata": {},
          "output_type": "display_data"
        },
        {
          "data": {
            "application/vnd.jupyter.widget-view+json": {
              "model_id": "7a8bf50738b84c25814c42a1fb6358b4",
              "version_major": 2,
              "version_minor": 0
            },
            "text/plain": [
              "Evaluating:   0%|          | 0/47 [00:00<?, ?it/s]"
            ]
          },
          "metadata": {},
          "output_type": "display_data"
        },
        {
          "name": "stdout",
          "output_type": "stream",
          "text": [
            "Epoch: 103, train/mse: 1616.5204, eval/mse: 3432.9038, train/rmse: 0.7695, eval/rmse: 0.7220, \n"
          ]
        },
        {
          "data": {
            "application/vnd.jupyter.widget-view+json": {
              "model_id": "830afa6330574dba8b5aebc3d42dc0d3",
              "version_major": 2,
              "version_minor": 0
            },
            "text/plain": [
              "Epoch: 104/150:   0%|          | 0/190 [00:00<?, ?it/s]"
            ]
          },
          "metadata": {},
          "output_type": "display_data"
        },
        {
          "data": {
            "application/vnd.jupyter.widget-view+json": {
              "model_id": "9f5431a755ee48ca9668a2761d29f8ab",
              "version_major": 2,
              "version_minor": 0
            },
            "text/plain": [
              "Evaluating:   0%|          | 0/47 [00:00<?, ?it/s]"
            ]
          },
          "metadata": {},
          "output_type": "display_data"
        },
        {
          "name": "stdout",
          "output_type": "stream",
          "text": [
            "Epoch: 104, train/mse: 1598.8969, eval/mse: 3432.8967, train/rmse: 0.7695, eval/rmse: 0.7219, \n"
          ]
        },
        {
          "data": {
            "application/vnd.jupyter.widget-view+json": {
              "model_id": "5096d7a4e5c547399fe033dd243e5e5c",
              "version_major": 2,
              "version_minor": 0
            },
            "text/plain": [
              "Epoch: 105/150:   0%|          | 0/190 [00:00<?, ?it/s]"
            ]
          },
          "metadata": {},
          "output_type": "display_data"
        },
        {
          "data": {
            "application/vnd.jupyter.widget-view+json": {
              "model_id": "62f9568522b04cbcbc5309f7812f8d27",
              "version_major": 2,
              "version_minor": 0
            },
            "text/plain": [
              "Evaluating:   0%|          | 0/47 [00:00<?, ?it/s]"
            ]
          },
          "metadata": {},
          "output_type": "display_data"
        },
        {
          "name": "stdout",
          "output_type": "stream",
          "text": [
            "Epoch: 105, train/mse: 1626.5459, eval/mse: 3430.0898, train/rmse: 0.7719, eval/rmse: 0.7214, \n"
          ]
        },
        {
          "data": {
            "application/vnd.jupyter.widget-view+json": {
              "model_id": "7b1b378881114724b3d29f698fc5a49a",
              "version_major": 2,
              "version_minor": 0
            },
            "text/plain": [
              "Epoch: 106/150:   0%|          | 0/190 [00:00<?, ?it/s]"
            ]
          },
          "metadata": {},
          "output_type": "display_data"
        },
        {
          "data": {
            "application/vnd.jupyter.widget-view+json": {
              "model_id": "cb946cb649e34dd294fe73a3236626c4",
              "version_major": 2,
              "version_minor": 0
            },
            "text/plain": [
              "Evaluating:   0%|          | 0/47 [00:00<?, ?it/s]"
            ]
          },
          "metadata": {},
          "output_type": "display_data"
        },
        {
          "name": "stdout",
          "output_type": "stream",
          "text": [
            "Epoch: 106, train/mse: 1584.8335, eval/mse: 3423.9653, train/rmse: 0.7720, eval/rmse: 0.7225, \n"
          ]
        },
        {
          "data": {
            "application/vnd.jupyter.widget-view+json": {
              "model_id": "d231d952fc6948e7920be58606c804e2",
              "version_major": 2,
              "version_minor": 0
            },
            "text/plain": [
              "Epoch: 107/150:   0%|          | 0/190 [00:00<?, ?it/s]"
            ]
          },
          "metadata": {},
          "output_type": "display_data"
        },
        {
          "data": {
            "application/vnd.jupyter.widget-view+json": {
              "model_id": "90dcce74185b4225995319e2f6ae2aaa",
              "version_major": 2,
              "version_minor": 0
            },
            "text/plain": [
              "Evaluating:   0%|          | 0/47 [00:00<?, ?it/s]"
            ]
          },
          "metadata": {},
          "output_type": "display_data"
        },
        {
          "name": "stdout",
          "output_type": "stream",
          "text": [
            "Epoch: 107, train/mse: 1609.7856, eval/mse: 3419.6240, train/rmse: 0.7677, eval/rmse: 0.7236, \n"
          ]
        },
        {
          "data": {
            "application/vnd.jupyter.widget-view+json": {
              "model_id": "6c0c59ca625b459eaef1665f25e1a28b",
              "version_major": 2,
              "version_minor": 0
            },
            "text/plain": [
              "Epoch: 108/150:   0%|          | 0/190 [00:00<?, ?it/s]"
            ]
          },
          "metadata": {},
          "output_type": "display_data"
        },
        {
          "data": {
            "application/vnd.jupyter.widget-view+json": {
              "model_id": "38dc55b64d3c4c66a272ee041faa31f9",
              "version_major": 2,
              "version_minor": 0
            },
            "text/plain": [
              "Evaluating:   0%|          | 0/47 [00:00<?, ?it/s]"
            ]
          },
          "metadata": {},
          "output_type": "display_data"
        },
        {
          "name": "stdout",
          "output_type": "stream",
          "text": [
            "Epoch: 108, train/mse: 1585.2487, eval/mse: 3409.8547, train/rmse: 0.7729, eval/rmse: 0.7237, \n"
          ]
        },
        {
          "data": {
            "application/vnd.jupyter.widget-view+json": {
              "model_id": "d3b20208cd194f6d9f97d87c1df2c79b",
              "version_major": 2,
              "version_minor": 0
            },
            "text/plain": [
              "Epoch: 109/150:   0%|          | 0/190 [00:00<?, ?it/s]"
            ]
          },
          "metadata": {},
          "output_type": "display_data"
        },
        {
          "data": {
            "application/vnd.jupyter.widget-view+json": {
              "model_id": "233de3aa92a947dca39178fe19bfb4e8",
              "version_major": 2,
              "version_minor": 0
            },
            "text/plain": [
              "Evaluating:   0%|          | 0/47 [00:00<?, ?it/s]"
            ]
          },
          "metadata": {},
          "output_type": "display_data"
        },
        {
          "name": "stdout",
          "output_type": "stream",
          "text": [
            "Epoch: 109, train/mse: 1574.4961, eval/mse: 3395.5737, train/rmse: 0.7754, eval/rmse: 0.7251, \n"
          ]
        },
        {
          "data": {
            "application/vnd.jupyter.widget-view+json": {
              "model_id": "b604ed3bd36f4e408e188e1c5efd3a94",
              "version_major": 2,
              "version_minor": 0
            },
            "text/plain": [
              "Epoch: 110/150:   0%|          | 0/190 [00:00<?, ?it/s]"
            ]
          },
          "metadata": {},
          "output_type": "display_data"
        },
        {
          "data": {
            "application/vnd.jupyter.widget-view+json": {
              "model_id": "deac97eb47d247dcb8968a1be5df23ed",
              "version_major": 2,
              "version_minor": 0
            },
            "text/plain": [
              "Evaluating:   0%|          | 0/47 [00:00<?, ?it/s]"
            ]
          },
          "metadata": {},
          "output_type": "display_data"
        },
        {
          "name": "stdout",
          "output_type": "stream",
          "text": [
            "Epoch: 110, train/mse: 1575.1514, eval/mse: 3416.4165, train/rmse: 0.7721, eval/rmse: 0.7234, \n"
          ]
        },
        {
          "data": {
            "application/vnd.jupyter.widget-view+json": {
              "model_id": "273c4b0808db4857804d8c133edd0232",
              "version_major": 2,
              "version_minor": 0
            },
            "text/plain": [
              "Epoch: 111/150:   0%|          | 0/190 [00:00<?, ?it/s]"
            ]
          },
          "metadata": {},
          "output_type": "display_data"
        },
        {
          "data": {
            "application/vnd.jupyter.widget-view+json": {
              "model_id": "2bb8e7c4a170414394a1f6bc245d8571",
              "version_major": 2,
              "version_minor": 0
            },
            "text/plain": [
              "Evaluating:   0%|          | 0/47 [00:00<?, ?it/s]"
            ]
          },
          "metadata": {},
          "output_type": "display_data"
        },
        {
          "name": "stdout",
          "output_type": "stream",
          "text": [
            "Epoch: 111, train/mse: 1575.8698, eval/mse: 3413.8354, train/rmse: 0.7718, eval/rmse: 0.7240, \n"
          ]
        },
        {
          "data": {
            "application/vnd.jupyter.widget-view+json": {
              "model_id": "ac5c6d6e5a884a249e359d7b9e42d030",
              "version_major": 2,
              "version_minor": 0
            },
            "text/plain": [
              "Epoch: 112/150:   0%|          | 0/190 [00:00<?, ?it/s]"
            ]
          },
          "metadata": {},
          "output_type": "display_data"
        },
        {
          "data": {
            "application/vnd.jupyter.widget-view+json": {
              "model_id": "054b89081b9c4e0e8ff2c43d0d0465ef",
              "version_major": 2,
              "version_minor": 0
            },
            "text/plain": [
              "Evaluating:   0%|          | 0/47 [00:00<?, ?it/s]"
            ]
          },
          "metadata": {},
          "output_type": "display_data"
        },
        {
          "name": "stdout",
          "output_type": "stream",
          "text": [
            "Epoch: 112, train/mse: 1579.6326, eval/mse: 3404.3311, train/rmse: 0.7724, eval/rmse: 0.7244, \n"
          ]
        },
        {
          "data": {
            "application/vnd.jupyter.widget-view+json": {
              "model_id": "d4cecbc6090742499b2141a9de883089",
              "version_major": 2,
              "version_minor": 0
            },
            "text/plain": [
              "Epoch: 113/150:   0%|          | 0/190 [00:00<?, ?it/s]"
            ]
          },
          "metadata": {},
          "output_type": "display_data"
        },
        {
          "data": {
            "application/vnd.jupyter.widget-view+json": {
              "model_id": "6a58d26994d94146a7b9d50115f4cd02",
              "version_major": 2,
              "version_minor": 0
            },
            "text/plain": [
              "Evaluating:   0%|          | 0/47 [00:00<?, ?it/s]"
            ]
          },
          "metadata": {},
          "output_type": "display_data"
        },
        {
          "name": "stdout",
          "output_type": "stream",
          "text": [
            "Epoch: 113, train/mse: 1593.6653, eval/mse: 3418.1868, train/rmse: 0.7673, eval/rmse: 0.7228, \n"
          ]
        },
        {
          "data": {
            "application/vnd.jupyter.widget-view+json": {
              "model_id": "a70fd7187d3546ea8c131e25100c6e8b",
              "version_major": 2,
              "version_minor": 0
            },
            "text/plain": [
              "Epoch: 114/150:   0%|          | 0/190 [00:00<?, ?it/s]"
            ]
          },
          "metadata": {},
          "output_type": "display_data"
        },
        {
          "data": {
            "application/vnd.jupyter.widget-view+json": {
              "model_id": "0c9f692c81094ba4904042ef23cd6959",
              "version_major": 2,
              "version_minor": 0
            },
            "text/plain": [
              "Evaluating:   0%|          | 0/47 [00:00<?, ?it/s]"
            ]
          },
          "metadata": {},
          "output_type": "display_data"
        },
        {
          "name": "stdout",
          "output_type": "stream",
          "text": [
            "Epoch: 114, train/mse: 1582.4707, eval/mse: 3388.8352, train/rmse: 0.7701, eval/rmse: 0.7253, \n"
          ]
        },
        {
          "data": {
            "application/vnd.jupyter.widget-view+json": {
              "model_id": "f756bde1a0e340cf8a91d385494b62da",
              "version_major": 2,
              "version_minor": 0
            },
            "text/plain": [
              "Epoch: 115/150:   0%|          | 0/190 [00:00<?, ?it/s]"
            ]
          },
          "metadata": {},
          "output_type": "display_data"
        },
        {
          "data": {
            "application/vnd.jupyter.widget-view+json": {
              "model_id": "633e37fd6d0e4c46b9325e0d9eee4f53",
              "version_major": 2,
              "version_minor": 0
            },
            "text/plain": [
              "Evaluating:   0%|          | 0/47 [00:00<?, ?it/s]"
            ]
          },
          "metadata": {},
          "output_type": "display_data"
        },
        {
          "name": "stdout",
          "output_type": "stream",
          "text": [
            "Epoch: 115, train/mse: 1611.2478, eval/mse: 3391.8271, train/rmse: 0.7684, eval/rmse: 0.7259, \n"
          ]
        },
        {
          "data": {
            "application/vnd.jupyter.widget-view+json": {
              "model_id": "0126db3dc2564e20b414f972fe6b1878",
              "version_major": 2,
              "version_minor": 0
            },
            "text/plain": [
              "Epoch: 116/150:   0%|          | 0/190 [00:00<?, ?it/s]"
            ]
          },
          "metadata": {},
          "output_type": "display_data"
        },
        {
          "data": {
            "application/vnd.jupyter.widget-view+json": {
              "model_id": "74d6cecbe51446ccac7b0d4d9902a88f",
              "version_major": 2,
              "version_minor": 0
            },
            "text/plain": [
              "Evaluating:   0%|          | 0/47 [00:00<?, ?it/s]"
            ]
          },
          "metadata": {},
          "output_type": "display_data"
        },
        {
          "name": "stdout",
          "output_type": "stream",
          "text": [
            "Epoch: 116, train/mse: 1582.9014, eval/mse: 3391.8311, train/rmse: 0.7708, eval/rmse: 0.7253, \n"
          ]
        },
        {
          "data": {
            "application/vnd.jupyter.widget-view+json": {
              "model_id": "18bb3fdd8e084af09b47447c9bdff80e",
              "version_major": 2,
              "version_minor": 0
            },
            "text/plain": [
              "Epoch: 117/150:   0%|          | 0/190 [00:00<?, ?it/s]"
            ]
          },
          "metadata": {},
          "output_type": "display_data"
        },
        {
          "data": {
            "application/vnd.jupyter.widget-view+json": {
              "model_id": "123277ab3ba44f8e9f1ded8b17d09294",
              "version_major": 2,
              "version_minor": 0
            },
            "text/plain": [
              "Evaluating:   0%|          | 0/47 [00:00<?, ?it/s]"
            ]
          },
          "metadata": {},
          "output_type": "display_data"
        },
        {
          "name": "stdout",
          "output_type": "stream",
          "text": [
            "Epoch: 117, train/mse: 1593.6609, eval/mse: 3404.7317, train/rmse: 0.7710, eval/rmse: 0.7244, \n"
          ]
        },
        {
          "data": {
            "application/vnd.jupyter.widget-view+json": {
              "model_id": "fe19947859654dfda4f72989109e2eee",
              "version_major": 2,
              "version_minor": 0
            },
            "text/plain": [
              "Epoch: 118/150:   0%|          | 0/190 [00:00<?, ?it/s]"
            ]
          },
          "metadata": {},
          "output_type": "display_data"
        },
        {
          "data": {
            "application/vnd.jupyter.widget-view+json": {
              "model_id": "0cb3490560cc49a3b852386b1fa29637",
              "version_major": 2,
              "version_minor": 0
            },
            "text/plain": [
              "Evaluating:   0%|          | 0/47 [00:00<?, ?it/s]"
            ]
          },
          "metadata": {},
          "output_type": "display_data"
        },
        {
          "name": "stdout",
          "output_type": "stream",
          "text": [
            "Epoch: 118, train/mse: 1589.7343, eval/mse: 3417.0872, train/rmse: 0.7718, eval/rmse: 0.7237, \n"
          ]
        },
        {
          "data": {
            "application/vnd.jupyter.widget-view+json": {
              "model_id": "3895148e7722466e918604308bcbf5bd",
              "version_major": 2,
              "version_minor": 0
            },
            "text/plain": [
              "Epoch: 119/150:   0%|          | 0/190 [00:00<?, ?it/s]"
            ]
          },
          "metadata": {},
          "output_type": "display_data"
        },
        {
          "data": {
            "application/vnd.jupyter.widget-view+json": {
              "model_id": "2faf5d9af6924dc5825f28e8ecc5ae25",
              "version_major": 2,
              "version_minor": 0
            },
            "text/plain": [
              "Evaluating:   0%|          | 0/47 [00:00<?, ?it/s]"
            ]
          },
          "metadata": {},
          "output_type": "display_data"
        },
        {
          "name": "stdout",
          "output_type": "stream",
          "text": [
            "Epoch: 119, train/mse: 1590.5636, eval/mse: 3394.0830, train/rmse: 0.7733, eval/rmse: 0.7260, \n"
          ]
        },
        {
          "data": {
            "application/vnd.jupyter.widget-view+json": {
              "model_id": "5d0abb9a025e4a0ea8827f39a4f824a2",
              "version_major": 2,
              "version_minor": 0
            },
            "text/plain": [
              "Epoch: 120/150:   0%|          | 0/190 [00:00<?, ?it/s]"
            ]
          },
          "metadata": {},
          "output_type": "display_data"
        },
        {
          "data": {
            "application/vnd.jupyter.widget-view+json": {
              "model_id": "a5caba1a6f6345bb96911f4247c728c0",
              "version_major": 2,
              "version_minor": 0
            },
            "text/plain": [
              "Evaluating:   0%|          | 0/47 [00:00<?, ?it/s]"
            ]
          },
          "metadata": {},
          "output_type": "display_data"
        },
        {
          "name": "stdout",
          "output_type": "stream",
          "text": [
            "Epoch: 120, train/mse: 1597.9507, eval/mse: 3394.6716, train/rmse: 0.7729, eval/rmse: 0.7254, \n"
          ]
        },
        {
          "data": {
            "application/vnd.jupyter.widget-view+json": {
              "model_id": "b4cb63bb15244a62bc580866e61e0579",
              "version_major": 2,
              "version_minor": 0
            },
            "text/plain": [
              "Epoch: 121/150:   0%|          | 0/190 [00:00<?, ?it/s]"
            ]
          },
          "metadata": {},
          "output_type": "display_data"
        },
        {
          "data": {
            "application/vnd.jupyter.widget-view+json": {
              "model_id": "9064f965bbd04d4cbdc785ef56be2204",
              "version_major": 2,
              "version_minor": 0
            },
            "text/plain": [
              "Evaluating:   0%|          | 0/47 [00:00<?, ?it/s]"
            ]
          },
          "metadata": {},
          "output_type": "display_data"
        },
        {
          "name": "stdout",
          "output_type": "stream",
          "text": [
            "Epoch: 121, train/mse: 1601.3986, eval/mse: 3396.9634, train/rmse: 0.7728, eval/rmse: 0.7250, \n"
          ]
        },
        {
          "data": {
            "application/vnd.jupyter.widget-view+json": {
              "model_id": "00cab9a1718644c8a5fe64e2bd6e3537",
              "version_major": 2,
              "version_minor": 0
            },
            "text/plain": [
              "Epoch: 122/150:   0%|          | 0/190 [00:00<?, ?it/s]"
            ]
          },
          "metadata": {},
          "output_type": "display_data"
        },
        {
          "data": {
            "application/vnd.jupyter.widget-view+json": {
              "model_id": "368317d60641491e86f95a60f4e000c4",
              "version_major": 2,
              "version_minor": 0
            },
            "text/plain": [
              "Evaluating:   0%|          | 0/47 [00:00<?, ?it/s]"
            ]
          },
          "metadata": {},
          "output_type": "display_data"
        },
        {
          "name": "stdout",
          "output_type": "stream",
          "text": [
            "Epoch: 122, train/mse: 1569.1685, eval/mse: 3404.6082, train/rmse: 0.7724, eval/rmse: 0.7241, \n"
          ]
        },
        {
          "data": {
            "application/vnd.jupyter.widget-view+json": {
              "model_id": "1b5f15ada70d46e6a881401ff53ac68b",
              "version_major": 2,
              "version_minor": 0
            },
            "text/plain": [
              "Epoch: 123/150:   0%|          | 0/190 [00:00<?, ?it/s]"
            ]
          },
          "metadata": {},
          "output_type": "display_data"
        },
        {
          "data": {
            "application/vnd.jupyter.widget-view+json": {
              "model_id": "ec9f88d93c4748b1bb3ddcf67884f2ce",
              "version_major": 2,
              "version_minor": 0
            },
            "text/plain": [
              "Evaluating:   0%|          | 0/47 [00:00<?, ?it/s]"
            ]
          },
          "metadata": {},
          "output_type": "display_data"
        },
        {
          "name": "stdout",
          "output_type": "stream",
          "text": [
            "Epoch: 123, train/mse: 1599.9318, eval/mse: 3406.7197, train/rmse: 0.7692, eval/rmse: 0.7241, \n"
          ]
        },
        {
          "data": {
            "application/vnd.jupyter.widget-view+json": {
              "model_id": "a7cc32de01a14db4976ee4ca8d9befee",
              "version_major": 2,
              "version_minor": 0
            },
            "text/plain": [
              "Epoch: 124/150:   0%|          | 0/190 [00:00<?, ?it/s]"
            ]
          },
          "metadata": {},
          "output_type": "display_data"
        },
        {
          "data": {
            "application/vnd.jupyter.widget-view+json": {
              "model_id": "0970d97234a547979887296cbc013472",
              "version_major": 2,
              "version_minor": 0
            },
            "text/plain": [
              "Evaluating:   0%|          | 0/47 [00:00<?, ?it/s]"
            ]
          },
          "metadata": {},
          "output_type": "display_data"
        },
        {
          "name": "stdout",
          "output_type": "stream",
          "text": [
            "Epoch: 124, train/mse: 1602.6967, eval/mse: 3379.9194, train/rmse: 0.7690, eval/rmse: 0.7267, \n"
          ]
        },
        {
          "data": {
            "application/vnd.jupyter.widget-view+json": {
              "model_id": "53b29d6e51a34971874f5c9b2beab202",
              "version_major": 2,
              "version_minor": 0
            },
            "text/plain": [
              "Epoch: 125/150:   0%|          | 0/190 [00:00<?, ?it/s]"
            ]
          },
          "metadata": {},
          "output_type": "display_data"
        },
        {
          "data": {
            "application/vnd.jupyter.widget-view+json": {
              "model_id": "dbcc492927b246abad26ea9cf3e5dec7",
              "version_major": 2,
              "version_minor": 0
            },
            "text/plain": [
              "Evaluating:   0%|          | 0/47 [00:00<?, ?it/s]"
            ]
          },
          "metadata": {},
          "output_type": "display_data"
        },
        {
          "name": "stdout",
          "output_type": "stream",
          "text": [
            "Epoch: 125, train/mse: 1593.5392, eval/mse: 3415.0872, train/rmse: 0.7719, eval/rmse: 0.7236, \n"
          ]
        },
        {
          "data": {
            "application/vnd.jupyter.widget-view+json": {
              "model_id": "03e94909ee6247379b7535317a25e337",
              "version_major": 2,
              "version_minor": 0
            },
            "text/plain": [
              "Epoch: 126/150:   0%|          | 0/190 [00:00<?, ?it/s]"
            ]
          },
          "metadata": {},
          "output_type": "display_data"
        },
        {
          "data": {
            "application/vnd.jupyter.widget-view+json": {
              "model_id": "0f37577206704e42aaed2253478f8226",
              "version_major": 2,
              "version_minor": 0
            },
            "text/plain": [
              "Evaluating:   0%|          | 0/47 [00:00<?, ?it/s]"
            ]
          },
          "metadata": {},
          "output_type": "display_data"
        },
        {
          "name": "stdout",
          "output_type": "stream",
          "text": [
            "Epoch: 126, train/mse: 1591.3210, eval/mse: 3407.7852, train/rmse: 0.7695, eval/rmse: 0.7245, \n"
          ]
        },
        {
          "data": {
            "application/vnd.jupyter.widget-view+json": {
              "model_id": "bd3a73a58f24436c906158ecf245c2bf",
              "version_major": 2,
              "version_minor": 0
            },
            "text/plain": [
              "Epoch: 127/150:   0%|          | 0/190 [00:00<?, ?it/s]"
            ]
          },
          "metadata": {},
          "output_type": "display_data"
        },
        {
          "data": {
            "application/vnd.jupyter.widget-view+json": {
              "model_id": "4e1deb59f33d4932ba3aa99f8f9cae32",
              "version_major": 2,
              "version_minor": 0
            },
            "text/plain": [
              "Evaluating:   0%|          | 0/47 [00:00<?, ?it/s]"
            ]
          },
          "metadata": {},
          "output_type": "display_data"
        },
        {
          "name": "stdout",
          "output_type": "stream",
          "text": [
            "Epoch: 127, train/mse: 1565.5243, eval/mse: 3410.8491, train/rmse: 0.7689, eval/rmse: 0.7249, \n"
          ]
        },
        {
          "data": {
            "application/vnd.jupyter.widget-view+json": {
              "model_id": "62889e2c31864c3ab58eb1d37489db77",
              "version_major": 2,
              "version_minor": 0
            },
            "text/plain": [
              "Epoch: 128/150:   0%|          | 0/190 [00:00<?, ?it/s]"
            ]
          },
          "metadata": {},
          "output_type": "display_data"
        },
        {
          "data": {
            "application/vnd.jupyter.widget-view+json": {
              "model_id": "8334cf5bf792455ba0dbef6fbfbfbb44",
              "version_major": 2,
              "version_minor": 0
            },
            "text/plain": [
              "Evaluating:   0%|          | 0/47 [00:00<?, ?it/s]"
            ]
          },
          "metadata": {},
          "output_type": "display_data"
        },
        {
          "name": "stdout",
          "output_type": "stream",
          "text": [
            "Epoch: 128, train/mse: 1614.1176, eval/mse: 3395.6882, train/rmse: 0.7688, eval/rmse: 0.7254, \n"
          ]
        },
        {
          "data": {
            "application/vnd.jupyter.widget-view+json": {
              "model_id": "04f1232272854406a67f479c786dea1b",
              "version_major": 2,
              "version_minor": 0
            },
            "text/plain": [
              "Epoch: 129/150:   0%|          | 0/190 [00:00<?, ?it/s]"
            ]
          },
          "metadata": {},
          "output_type": "display_data"
        },
        {
          "data": {
            "application/vnd.jupyter.widget-view+json": {
              "model_id": "ad42714ca9e84a239288608d4d64629d",
              "version_major": 2,
              "version_minor": 0
            },
            "text/plain": [
              "Evaluating:   0%|          | 0/47 [00:00<?, ?it/s]"
            ]
          },
          "metadata": {},
          "output_type": "display_data"
        },
        {
          "name": "stdout",
          "output_type": "stream",
          "text": [
            "Epoch: 129, train/mse: 1574.2083, eval/mse: 3406.3872, train/rmse: 0.7732, eval/rmse: 0.7242, \n"
          ]
        },
        {
          "data": {
            "application/vnd.jupyter.widget-view+json": {
              "model_id": "242459220e23467185da7c0cebf41f2b",
              "version_major": 2,
              "version_minor": 0
            },
            "text/plain": [
              "Epoch: 130/150:   0%|          | 0/190 [00:00<?, ?it/s]"
            ]
          },
          "metadata": {},
          "output_type": "display_data"
        },
        {
          "data": {
            "application/vnd.jupyter.widget-view+json": {
              "model_id": "b1afb752e5c940eeac3d6016b680ec0c",
              "version_major": 2,
              "version_minor": 0
            },
            "text/plain": [
              "Evaluating:   0%|          | 0/47 [00:00<?, ?it/s]"
            ]
          },
          "metadata": {},
          "output_type": "display_data"
        },
        {
          "name": "stdout",
          "output_type": "stream",
          "text": [
            "Epoch: 130, train/mse: 1605.0253, eval/mse: 3397.2114, train/rmse: 0.7664, eval/rmse: 0.7248, \n"
          ]
        },
        {
          "data": {
            "application/vnd.jupyter.widget-view+json": {
              "model_id": "064f566815c34551af88601561356ca6",
              "version_major": 2,
              "version_minor": 0
            },
            "text/plain": [
              "Epoch: 131/150:   0%|          | 0/190 [00:00<?, ?it/s]"
            ]
          },
          "metadata": {},
          "output_type": "display_data"
        },
        {
          "data": {
            "application/vnd.jupyter.widget-view+json": {
              "model_id": "eacad06087214155aa3fecca7e7281cd",
              "version_major": 2,
              "version_minor": 0
            },
            "text/plain": [
              "Evaluating:   0%|          | 0/47 [00:00<?, ?it/s]"
            ]
          },
          "metadata": {},
          "output_type": "display_data"
        },
        {
          "name": "stdout",
          "output_type": "stream",
          "text": [
            "Epoch: 131, train/mse: 1601.2352, eval/mse: 3404.3225, train/rmse: 0.7710, eval/rmse: 0.7249, \n"
          ]
        },
        {
          "data": {
            "application/vnd.jupyter.widget-view+json": {
              "model_id": "f876e1d1f8ec4a9c8533afb73edf81bc",
              "version_major": 2,
              "version_minor": 0
            },
            "text/plain": [
              "Epoch: 132/150:   0%|          | 0/190 [00:00<?, ?it/s]"
            ]
          },
          "metadata": {},
          "output_type": "display_data"
        },
        {
          "data": {
            "application/vnd.jupyter.widget-view+json": {
              "model_id": "9a96111932844d6992999f08713fd877",
              "version_major": 2,
              "version_minor": 0
            },
            "text/plain": [
              "Evaluating:   0%|          | 0/47 [00:00<?, ?it/s]"
            ]
          },
          "metadata": {},
          "output_type": "display_data"
        },
        {
          "name": "stdout",
          "output_type": "stream",
          "text": [
            "Epoch: 132, train/mse: 1621.0138, eval/mse: 3401.1882, train/rmse: 0.7699, eval/rmse: 0.7252, \n"
          ]
        },
        {
          "data": {
            "application/vnd.jupyter.widget-view+json": {
              "model_id": "e35d1052f9ca4103b805e4c824a066ce",
              "version_major": 2,
              "version_minor": 0
            },
            "text/plain": [
              "Epoch: 133/150:   0%|          | 0/190 [00:00<?, ?it/s]"
            ]
          },
          "metadata": {},
          "output_type": "display_data"
        },
        {
          "data": {
            "application/vnd.jupyter.widget-view+json": {
              "model_id": "8fd72a6c78914716a693713a80b57dd4",
              "version_major": 2,
              "version_minor": 0
            },
            "text/plain": [
              "Evaluating:   0%|          | 0/47 [00:00<?, ?it/s]"
            ]
          },
          "metadata": {},
          "output_type": "display_data"
        },
        {
          "name": "stdout",
          "output_type": "stream",
          "text": [
            "Epoch: 133, train/mse: 1632.0327, eval/mse: 3383.9236, train/rmse: 0.7703, eval/rmse: 0.7264, \n"
          ]
        },
        {
          "data": {
            "application/vnd.jupyter.widget-view+json": {
              "model_id": "c498eef7212b43a2ba783694c2096aac",
              "version_major": 2,
              "version_minor": 0
            },
            "text/plain": [
              "Epoch: 134/150:   0%|          | 0/190 [00:00<?, ?it/s]"
            ]
          },
          "metadata": {},
          "output_type": "display_data"
        },
        {
          "data": {
            "application/vnd.jupyter.widget-view+json": {
              "model_id": "0a9d9af7d4ed42f9972df153d1e27162",
              "version_major": 2,
              "version_minor": 0
            },
            "text/plain": [
              "Evaluating:   0%|          | 0/47 [00:00<?, ?it/s]"
            ]
          },
          "metadata": {},
          "output_type": "display_data"
        },
        {
          "name": "stdout",
          "output_type": "stream",
          "text": [
            "Epoch: 134, train/mse: 1586.4982, eval/mse: 3393.9624, train/rmse: 0.7698, eval/rmse: 0.7255, \n"
          ]
        },
        {
          "data": {
            "application/vnd.jupyter.widget-view+json": {
              "model_id": "e6ab53fb18b14cb29dc933515ca96005",
              "version_major": 2,
              "version_minor": 0
            },
            "text/plain": [
              "Epoch: 135/150:   0%|          | 0/190 [00:00<?, ?it/s]"
            ]
          },
          "metadata": {},
          "output_type": "display_data"
        },
        {
          "data": {
            "application/vnd.jupyter.widget-view+json": {
              "model_id": "42128ceca4cc40af92bde7d5f0d58d2b",
              "version_major": 2,
              "version_minor": 0
            },
            "text/plain": [
              "Evaluating:   0%|          | 0/47 [00:00<?, ?it/s]"
            ]
          },
          "metadata": {},
          "output_type": "display_data"
        },
        {
          "name": "stdout",
          "output_type": "stream",
          "text": [
            "Epoch: 135, train/mse: 1591.5565, eval/mse: 3377.5540, train/rmse: 0.7721, eval/rmse: 0.7264, \n"
          ]
        },
        {
          "data": {
            "application/vnd.jupyter.widget-view+json": {
              "model_id": "71c5dc267fbc46219b4b42301198b4e5",
              "version_major": 2,
              "version_minor": 0
            },
            "text/plain": [
              "Epoch: 136/150:   0%|          | 0/190 [00:00<?, ?it/s]"
            ]
          },
          "metadata": {},
          "output_type": "display_data"
        },
        {
          "data": {
            "application/vnd.jupyter.widget-view+json": {
              "model_id": "0b9538f319f247b29f168d1d4d31d047",
              "version_major": 2,
              "version_minor": 0
            },
            "text/plain": [
              "Evaluating:   0%|          | 0/47 [00:00<?, ?it/s]"
            ]
          },
          "metadata": {},
          "output_type": "display_data"
        },
        {
          "name": "stdout",
          "output_type": "stream",
          "text": [
            "Epoch: 136, train/mse: 1585.8411, eval/mse: 3398.8943, train/rmse: 0.7740, eval/rmse: 0.7251, \n"
          ]
        },
        {
          "data": {
            "application/vnd.jupyter.widget-view+json": {
              "model_id": "e9645cc5873f49cf8b9c4603546e1ad7",
              "version_major": 2,
              "version_minor": 0
            },
            "text/plain": [
              "Epoch: 137/150:   0%|          | 0/190 [00:00<?, ?it/s]"
            ]
          },
          "metadata": {},
          "output_type": "display_data"
        },
        {
          "data": {
            "application/vnd.jupyter.widget-view+json": {
              "model_id": "f6e7168ff9bb469eb8cad4cc26427df9",
              "version_major": 2,
              "version_minor": 0
            },
            "text/plain": [
              "Evaluating:   0%|          | 0/47 [00:00<?, ?it/s]"
            ]
          },
          "metadata": {},
          "output_type": "display_data"
        },
        {
          "name": "stdout",
          "output_type": "stream",
          "text": [
            "Epoch: 137, train/mse: 1587.1866, eval/mse: 3406.0049, train/rmse: 0.7707, eval/rmse: 0.7248, \n"
          ]
        },
        {
          "data": {
            "application/vnd.jupyter.widget-view+json": {
              "model_id": "0f36c45e47e7464586fd7cef36aa43cb",
              "version_major": 2,
              "version_minor": 0
            },
            "text/plain": [
              "Epoch: 138/150:   0%|          | 0/190 [00:00<?, ?it/s]"
            ]
          },
          "metadata": {},
          "output_type": "display_data"
        },
        {
          "data": {
            "application/vnd.jupyter.widget-view+json": {
              "model_id": "22cb2f0d569046ada48169c9f59792cd",
              "version_major": 2,
              "version_minor": 0
            },
            "text/plain": [
              "Evaluating:   0%|          | 0/47 [00:00<?, ?it/s]"
            ]
          },
          "metadata": {},
          "output_type": "display_data"
        },
        {
          "name": "stdout",
          "output_type": "stream",
          "text": [
            "Epoch: 138, train/mse: 1590.8630, eval/mse: 3403.4639, train/rmse: 0.7717, eval/rmse: 0.7244, \n"
          ]
        },
        {
          "data": {
            "application/vnd.jupyter.widget-view+json": {
              "model_id": "c06c1ec409c34c01a95805ce5fa48e48",
              "version_major": 2,
              "version_minor": 0
            },
            "text/plain": [
              "Epoch: 139/150:   0%|          | 0/190 [00:00<?, ?it/s]"
            ]
          },
          "metadata": {},
          "output_type": "display_data"
        },
        {
          "data": {
            "application/vnd.jupyter.widget-view+json": {
              "model_id": "c905120d683a42829a4c412afe381d49",
              "version_major": 2,
              "version_minor": 0
            },
            "text/plain": [
              "Evaluating:   0%|          | 0/47 [00:00<?, ?it/s]"
            ]
          },
          "metadata": {},
          "output_type": "display_data"
        },
        {
          "name": "stdout",
          "output_type": "stream",
          "text": [
            "Epoch: 139, train/mse: 1586.5946, eval/mse: 3393.4482, train/rmse: 0.7733, eval/rmse: 0.7259, \n"
          ]
        },
        {
          "data": {
            "application/vnd.jupyter.widget-view+json": {
              "model_id": "5a42a7f5983e48cc837d98ac946baa90",
              "version_major": 2,
              "version_minor": 0
            },
            "text/plain": [
              "Epoch: 140/150:   0%|          | 0/190 [00:00<?, ?it/s]"
            ]
          },
          "metadata": {},
          "output_type": "display_data"
        },
        {
          "data": {
            "application/vnd.jupyter.widget-view+json": {
              "model_id": "25c41499855542a981cc45cdd8d341e7",
              "version_major": 2,
              "version_minor": 0
            },
            "text/plain": [
              "Evaluating:   0%|          | 0/47 [00:00<?, ?it/s]"
            ]
          },
          "metadata": {},
          "output_type": "display_data"
        },
        {
          "name": "stdout",
          "output_type": "stream",
          "text": [
            "Epoch: 140, train/mse: 1595.2224, eval/mse: 3393.9482, train/rmse: 0.7734, eval/rmse: 0.7254, \n"
          ]
        },
        {
          "data": {
            "application/vnd.jupyter.widget-view+json": {
              "model_id": "ffca9e165d754c65a2e18c6bd808666a",
              "version_major": 2,
              "version_minor": 0
            },
            "text/plain": [
              "Epoch: 141/150:   0%|          | 0/190 [00:00<?, ?it/s]"
            ]
          },
          "metadata": {},
          "output_type": "display_data"
        },
        {
          "data": {
            "application/vnd.jupyter.widget-view+json": {
              "model_id": "b36477ead3a2430c825d859ccec21cb0",
              "version_major": 2,
              "version_minor": 0
            },
            "text/plain": [
              "Evaluating:   0%|          | 0/47 [00:00<?, ?it/s]"
            ]
          },
          "metadata": {},
          "output_type": "display_data"
        },
        {
          "name": "stdout",
          "output_type": "stream",
          "text": [
            "Epoch: 141, train/mse: 1617.8944, eval/mse: 3390.6238, train/rmse: 0.7739, eval/rmse: 0.7256, \n"
          ]
        },
        {
          "data": {
            "application/vnd.jupyter.widget-view+json": {
              "model_id": "25540bef699e4655972697ce3f9752d6",
              "version_major": 2,
              "version_minor": 0
            },
            "text/plain": [
              "Epoch: 142/150:   0%|          | 0/190 [00:00<?, ?it/s]"
            ]
          },
          "metadata": {},
          "output_type": "display_data"
        },
        {
          "data": {
            "application/vnd.jupyter.widget-view+json": {
              "model_id": "5000d30b4778488a810c4c1b5123941c",
              "version_major": 2,
              "version_minor": 0
            },
            "text/plain": [
              "Evaluating:   0%|          | 0/47 [00:00<?, ?it/s]"
            ]
          },
          "metadata": {},
          "output_type": "display_data"
        },
        {
          "name": "stdout",
          "output_type": "stream",
          "text": [
            "Epoch: 142, train/mse: 1605.5278, eval/mse: 3406.2571, train/rmse: 0.7703, eval/rmse: 0.7243, \n"
          ]
        },
        {
          "data": {
            "application/vnd.jupyter.widget-view+json": {
              "model_id": "3d49bc438c6b4bb2890e4df0785d1f9b",
              "version_major": 2,
              "version_minor": 0
            },
            "text/plain": [
              "Epoch: 143/150:   0%|          | 0/190 [00:00<?, ?it/s]"
            ]
          },
          "metadata": {},
          "output_type": "display_data"
        },
        {
          "data": {
            "application/vnd.jupyter.widget-view+json": {
              "model_id": "e95d9655b7d24aea93101771e8042cb5",
              "version_major": 2,
              "version_minor": 0
            },
            "text/plain": [
              "Evaluating:   0%|          | 0/47 [00:00<?, ?it/s]"
            ]
          },
          "metadata": {},
          "output_type": "display_data"
        },
        {
          "name": "stdout",
          "output_type": "stream",
          "text": [
            "Epoch: 143, train/mse: 1610.1320, eval/mse: 3401.4175, train/rmse: 0.7690, eval/rmse: 0.7245, \n"
          ]
        },
        {
          "data": {
            "application/vnd.jupyter.widget-view+json": {
              "model_id": "bfa8eecddf5642bfae273521440d16cd",
              "version_major": 2,
              "version_minor": 0
            },
            "text/plain": [
              "Epoch: 144/150:   0%|          | 0/190 [00:00<?, ?it/s]"
            ]
          },
          "metadata": {},
          "output_type": "display_data"
        },
        {
          "data": {
            "application/vnd.jupyter.widget-view+json": {
              "model_id": "bf90a5bd6ea94679a6d20495a688295c",
              "version_major": 2,
              "version_minor": 0
            },
            "text/plain": [
              "Evaluating:   0%|          | 0/47 [00:00<?, ?it/s]"
            ]
          },
          "metadata": {},
          "output_type": "display_data"
        },
        {
          "name": "stdout",
          "output_type": "stream",
          "text": [
            "Epoch: 144, train/mse: 1591.6676, eval/mse: 3404.2424, train/rmse: 0.7750, eval/rmse: 0.7241, \n"
          ]
        },
        {
          "data": {
            "application/vnd.jupyter.widget-view+json": {
              "model_id": "ec2af53a134945b998221e463b9f94d0",
              "version_major": 2,
              "version_minor": 0
            },
            "text/plain": [
              "Epoch: 145/150:   0%|          | 0/190 [00:00<?, ?it/s]"
            ]
          },
          "metadata": {},
          "output_type": "display_data"
        },
        {
          "data": {
            "application/vnd.jupyter.widget-view+json": {
              "model_id": "01ed5a80188c449e847ec965dc03a170",
              "version_major": 2,
              "version_minor": 0
            },
            "text/plain": [
              "Evaluating:   0%|          | 0/47 [00:00<?, ?it/s]"
            ]
          },
          "metadata": {},
          "output_type": "display_data"
        },
        {
          "name": "stdout",
          "output_type": "stream",
          "text": [
            "Epoch: 145, train/mse: 1592.1832, eval/mse: 3388.0591, train/rmse: 0.7701, eval/rmse: 0.7258, \n"
          ]
        },
        {
          "data": {
            "application/vnd.jupyter.widget-view+json": {
              "model_id": "4b7cb93a402b44b28281c7e99f95cb48",
              "version_major": 2,
              "version_minor": 0
            },
            "text/plain": [
              "Epoch: 146/150:   0%|          | 0/190 [00:00<?, ?it/s]"
            ]
          },
          "metadata": {},
          "output_type": "display_data"
        },
        {
          "data": {
            "application/vnd.jupyter.widget-view+json": {
              "model_id": "818d46560d584ddb935905744d72845a",
              "version_major": 2,
              "version_minor": 0
            },
            "text/plain": [
              "Evaluating:   0%|          | 0/47 [00:00<?, ?it/s]"
            ]
          },
          "metadata": {},
          "output_type": "display_data"
        },
        {
          "name": "stdout",
          "output_type": "stream",
          "text": [
            "Epoch: 146, train/mse: 1560.7358, eval/mse: 3391.8674, train/rmse: 0.7725, eval/rmse: 0.7259, \n"
          ]
        },
        {
          "data": {
            "application/vnd.jupyter.widget-view+json": {
              "model_id": "8114cb749102422bb6aa0db7bbc14126",
              "version_major": 2,
              "version_minor": 0
            },
            "text/plain": [
              "Epoch: 147/150:   0%|          | 0/190 [00:00<?, ?it/s]"
            ]
          },
          "metadata": {},
          "output_type": "display_data"
        },
        {
          "data": {
            "application/vnd.jupyter.widget-view+json": {
              "model_id": "68808ff0186b43feb6959633051092dc",
              "version_major": 2,
              "version_minor": 0
            },
            "text/plain": [
              "Evaluating:   0%|          | 0/47 [00:00<?, ?it/s]"
            ]
          },
          "metadata": {},
          "output_type": "display_data"
        },
        {
          "name": "stdout",
          "output_type": "stream",
          "text": [
            "Epoch: 147, train/mse: 1570.8770, eval/mse: 3393.9053, train/rmse: 0.7766, eval/rmse: 0.7257, \n"
          ]
        },
        {
          "data": {
            "application/vnd.jupyter.widget-view+json": {
              "model_id": "28676701895c44caac1745bdc78d3910",
              "version_major": 2,
              "version_minor": 0
            },
            "text/plain": [
              "Epoch: 148/150:   0%|          | 0/190 [00:00<?, ?it/s]"
            ]
          },
          "metadata": {},
          "output_type": "display_data"
        },
        {
          "data": {
            "application/vnd.jupyter.widget-view+json": {
              "model_id": "07163ffc785e497bae518f3d815f8296",
              "version_major": 2,
              "version_minor": 0
            },
            "text/plain": [
              "Evaluating:   0%|          | 0/47 [00:00<?, ?it/s]"
            ]
          },
          "metadata": {},
          "output_type": "display_data"
        },
        {
          "name": "stdout",
          "output_type": "stream",
          "text": [
            "Epoch: 148, train/mse: 1599.5543, eval/mse: 3389.7498, train/rmse: 0.7751, eval/rmse: 0.7257, \n"
          ]
        },
        {
          "data": {
            "application/vnd.jupyter.widget-view+json": {
              "model_id": "bb9aa9492f2a4cd6977108284b81a68f",
              "version_major": 2,
              "version_minor": 0
            },
            "text/plain": [
              "Epoch: 149/150:   0%|          | 0/190 [00:00<?, ?it/s]"
            ]
          },
          "metadata": {},
          "output_type": "display_data"
        },
        {
          "data": {
            "application/vnd.jupyter.widget-view+json": {
              "model_id": "378b7180853a49109208134f198c23b6",
              "version_major": 2,
              "version_minor": 0
            },
            "text/plain": [
              "Evaluating:   0%|          | 0/47 [00:00<?, ?it/s]"
            ]
          },
          "metadata": {},
          "output_type": "display_data"
        },
        {
          "name": "stdout",
          "output_type": "stream",
          "text": [
            "Epoch: 149, train/mse: 1616.8711, eval/mse: 3398.7922, train/rmse: 0.7716, eval/rmse: 0.7254, \n",
            "[neptune] [info   ] Shutting down background jobs, please wait a moment...\n",
            "[neptune] [info   ] Done!\n",
            "[neptune] [info   ] Waiting for the remaining 5 operations to synchronize with Neptune. Do not kill this process.\n",
            "[neptune] [info   ] All 5 operations synced, thanks for waiting!\n",
            "[neptune] [info   ] Explore the metadata in the Neptune app: https://app.neptune.ai/arbaaz/bitgrit-air-pollution-1/e/BIT-26/metadata\n"
          ]
        }
      ],
      "source": [
        "def train(\n",
        "    model, \n",
        "    optimizer, \n",
        "    scheduler, \n",
        "    train_dl,\n",
        "    eval_dl, \n",
        "    num_epochs, \n",
        "    resume_epoch,\n",
        "    resume,\n",
        "    log_lr_on_step,\n",
        "    neptune_run\n",
        "):\n",
        "    os.makedirs(\"/ckpts\", exist_ok=True)\n",
        "    train_outputs = []\n",
        "    eval_outputs = []\n",
        "    RMSE = float('-inf')\n",
        "    \n",
        "    scaler = torch.GradScaler()\n",
        "    pbar = tqdm(range(0, num_epochs), position=0, colour=\"green\")\n",
        "    \n",
        "    for epoch in pbar:\n",
        "        train_outputs = train_one_epoch(\n",
        "            model,\n",
        "            optimizer, \n",
        "            scaler, \n",
        "            scheduler, \n",
        "            train_dl,\n",
        "            epoch,\n",
        "            num_epochs,\n",
        "            resume_epoch,\n",
        "            resume,\n",
        "            log_lr_on_step,\n",
        "            neptune_run\n",
        "        )\n",
        "        eval_outputs = evaluate(model, eval_dl)\n",
        "        \n",
        "        train_outputs = reduce_outputs(train_outputs)\n",
        "        eval_outputs = reduce_outputs(eval_outputs)\n",
        "        \n",
        "        outputs = train_outputs | eval_outputs\n",
        "        outputs[\"epoch\"] = epoch\n",
        "        log_and_print(neptune_run, outputs)\n",
        "\n",
        "        if outputs[\"eval/rmse\"] > RMSE:\n",
        "            RMSE = outputs[\"eval/rmse\"]\n",
        "            metadata = {\n",
        "                \"train_rmse\": outputs[\"train/rmse\"],\n",
        "                \"eval_rmse\": RMSE,\n",
        "                \"epoch\": epoch\n",
        "            }\n",
        "            save_ckpt(model, metadata, f\"/ckpts/{config.model_name}.pt\")\n",
        "            \n",
        "    neptune_run.stop()\n",
        "   \n",
        "try:\n",
        "    train(\n",
        "        model, \n",
        "        optimizer, \n",
        "        scheduler, \n",
        "        train_dl,\n",
        "        eval_dl, \n",
        "        num_epochs=config.num_epochs, \n",
        "        resume_epoch=0,\n",
        "        resume=config.resume,\n",
        "        log_lr_on_step=True,\n",
        "        neptune_run=neptune_run\n",
        "    )\n",
        "except Exception:\n",
        "    pass  # Silently ignore any errors\n",
        "finally:\n",
        "    neptune_run.stop()"
      ]
    },
    {
      "cell_type": "code",
      "execution_count": 20,
      "metadata": {},
      "outputs": [
        {
          "data": {
            "text/html": [
              "<div>\n",
              "<style scoped>\n",
              "    .dataframe tbody tr th:only-of-type {\n",
              "        vertical-align: middle;\n",
              "    }\n",
              "\n",
              "    .dataframe tbody tr th {\n",
              "        vertical-align: top;\n",
              "    }\n",
              "\n",
              "    .dataframe thead th {\n",
              "        text-align: right;\n",
              "    }\n",
              "</style>\n",
              "<table border=\"1\" class=\"dataframe\">\n",
              "  <thead>\n",
              "    <tr style=\"text-align: right;\">\n",
              "      <th></th>\n",
              "      <th>latitude</th>\n",
              "      <th>longitude</th>\n",
              "      <th>day_of_year</th>\n",
              "      <th>day_of_week</th>\n",
              "      <th>hour</th>\n",
              "      <th>month</th>\n",
              "    </tr>\n",
              "  </thead>\n",
              "  <tbody>\n",
              "    <tr>\n",
              "      <th>0</th>\n",
              "      <td>-42.343</td>\n",
              "      <td>147.372</td>\n",
              "      <td>31</td>\n",
              "      <td>4</td>\n",
              "      <td>15</td>\n",
              "      <td>1</td>\n",
              "    </tr>\n",
              "    <tr>\n",
              "      <th>1</th>\n",
              "      <td>37.053</td>\n",
              "      <td>127.406</td>\n",
              "      <td>28</td>\n",
              "      <td>1</td>\n",
              "      <td>12</td>\n",
              "      <td>1</td>\n",
              "    </tr>\n",
              "    <tr>\n",
              "      <th>2</th>\n",
              "      <td>49.105</td>\n",
              "      <td>-123.189</td>\n",
              "      <td>14</td>\n",
              "      <td>1</td>\n",
              "      <td>2</td>\n",
              "      <td>1</td>\n",
              "    </tr>\n",
              "    <tr>\n",
              "      <th>3</th>\n",
              "      <td>42.014</td>\n",
              "      <td>12.774</td>\n",
              "      <td>10</td>\n",
              "      <td>4</td>\n",
              "      <td>3</td>\n",
              "      <td>1</td>\n",
              "    </tr>\n",
              "    <tr>\n",
              "      <th>4</th>\n",
              "      <td>47.778</td>\n",
              "      <td>13.002</td>\n",
              "      <td>31</td>\n",
              "      <td>4</td>\n",
              "      <td>11</td>\n",
              "      <td>1</td>\n",
              "    </tr>\n",
              "    <tr>\n",
              "      <th>...</th>\n",
              "      <td>...</td>\n",
              "      <td>...</td>\n",
              "      <td>...</td>\n",
              "      <td>...</td>\n",
              "      <td>...</td>\n",
              "      <td>...</td>\n",
              "    </tr>\n",
              "    <tr>\n",
              "      <th>2734</th>\n",
              "      <td>37.216</td>\n",
              "      <td>126.748</td>\n",
              "      <td>28</td>\n",
              "      <td>1</td>\n",
              "      <td>12</td>\n",
              "      <td>1</td>\n",
              "    </tr>\n",
              "    <tr>\n",
              "      <th>2735</th>\n",
              "      <td>48.368</td>\n",
              "      <td>14.338</td>\n",
              "      <td>31</td>\n",
              "      <td>4</td>\n",
              "      <td>11</td>\n",
              "      <td>1</td>\n",
              "    </tr>\n",
              "    <tr>\n",
              "      <th>2736</th>\n",
              "      <td>48.139</td>\n",
              "      <td>16.940</td>\n",
              "      <td>31</td>\n",
              "      <td>4</td>\n",
              "      <td>11</td>\n",
              "      <td>1</td>\n",
              "    </tr>\n",
              "    <tr>\n",
              "      <th>2737</th>\n",
              "      <td>-27.357</td>\n",
              "      <td>153.083</td>\n",
              "      <td>31</td>\n",
              "      <td>4</td>\n",
              "      <td>12</td>\n",
              "      <td>1</td>\n",
              "    </tr>\n",
              "    <tr>\n",
              "      <th>2738</th>\n",
              "      <td>37.195</td>\n",
              "      <td>127.030</td>\n",
              "      <td>28</td>\n",
              "      <td>1</td>\n",
              "      <td>12</td>\n",
              "      <td>1</td>\n",
              "    </tr>\n",
              "  </tbody>\n",
              "</table>\n",
              "<p>2739 rows × 6 columns</p>\n",
              "</div>"
            ],
            "text/plain": [
              "      latitude  longitude  day_of_year  day_of_week  hour  month\n",
              "0      -42.343    147.372           31            4    15      1\n",
              "1       37.053    127.406           28            1    12      1\n",
              "2       49.105   -123.189           14            1     2      1\n",
              "3       42.014     12.774           10            4     3      1\n",
              "4       47.778     13.002           31            4    11      1\n",
              "...        ...        ...          ...          ...   ...    ...\n",
              "2734    37.216    126.748           28            1    12      1\n",
              "2735    48.368     14.338           31            4    11      1\n",
              "2736    48.139     16.940           31            4    11      1\n",
              "2737   -27.357    153.083           31            4    12      1\n",
              "2738    37.195    127.030           28            1    12      1\n",
              "\n",
              "[2739 rows x 6 columns]"
            ]
          },
          "execution_count": 20,
          "metadata": {},
          "output_type": "execute_result"
        }
      ],
      "source": [
        "import pandas as pd\n",
        "\n",
        "path_test = arbaazbeg_bitgrit_air_pollution_path+\"/test.csv\"\n",
        "test = pd.read_csv(path_test)\n",
        "ids = test[\"id\"]\n",
        "test = test.drop(columns=['id'])\n",
        "test"
      ]
    },
    {
      "cell_type": "code",
      "execution_count": 21,
      "metadata": {},
      "outputs": [
        {
          "data": {
            "text/plain": [
              "torch.Size([2739, 6])"
            ]
          },
          "execution_count": 21,
          "metadata": {},
          "output_type": "execute_result"
        }
      ],
      "source": [
        "from sklearn.preprocessing import StandardScaler\n",
        "\n",
        "scaler_test = StandardScaler()\n",
        "test = scaler_test.fit_transform(test)\n",
        "test = torch.tensor(test).float()\n",
        "test.shape"
      ]
    },
    {
      "cell_type": "code",
      "execution_count": 22,
      "metadata": {},
      "outputs": [
        {
          "data": {
            "text/plain": [
              "['best_model.pt']"
            ]
          },
          "execution_count": 22,
          "metadata": {},
          "output_type": "execute_result"
        }
      ],
      "source": [
        "import os\n",
        "\n",
        "os.listdir(\"/ckpts/\")"
      ]
    },
    {
      "cell_type": "code",
      "execution_count": 23,
      "metadata": {},
      "outputs": [
        {
          "data": {
            "text/plain": [
              "(0.7675681710243225, 0.7372439503669739, 134)"
            ]
          },
          "execution_count": 23,
          "metadata": {},
          "output_type": "execute_result"
        }
      ],
      "source": [
        "ckpt_path = \"/ckpts/best_model.pt\"\n",
        "ckpt = torch.load(ckpt_path)\n",
        "ckpt[\"train_rmse\"], ckpt[\"eval_rmse\"], ckpt[\"epoch\"]"
      ]
    },
    {
      "cell_type": "code",
      "execution_count": 24,
      "metadata": {},
      "outputs": [
        {
          "data": {
            "text/plain": [
              "<All keys matched successfully>"
            ]
          },
          "execution_count": 24,
          "metadata": {},
          "output_type": "execute_result"
        }
      ],
      "source": [
        "model.load_state_dict(ckpt[\"state_dict\"])\n",
        "#[param.device for param in model.parameters()]"
      ]
    },
    {
      "cell_type": "code",
      "execution_count": 28,
      "metadata": {},
      "outputs": [
        {
          "data": {
            "text/plain": [
              "torch.Size([2739, 1])"
            ]
          },
          "execution_count": 28,
          "metadata": {},
          "output_type": "execute_result"
        }
      ],
      "source": [
        "test = test.cuda()\n",
        "logits = inference_step(model, inputs=test)\n",
        "logits.shape"
      ]
    },
    {
      "cell_type": "code",
      "execution_count": 29,
      "metadata": {},
      "outputs": [
        {
          "data": {
            "text/plain": [
              "(2739, 1)"
            ]
          },
          "execution_count": 29,
          "metadata": {},
          "output_type": "execute_result"
        }
      ],
      "source": [
        "logits_ = logits.cpu().detach().double().numpy()\n",
        "logits_.shape"
      ]
    },
    {
      "cell_type": "code",
      "execution_count": 30,
      "metadata": {},
      "outputs": [
        {
          "data": {
            "text/plain": [
              "(True, 5)"
            ]
          },
          "execution_count": 30,
          "metadata": {},
          "output_type": "execute_result"
        }
      ],
      "source": [
        "(logits_ < 0).any(), (logits_ < 0).sum()"
      ]
    },
    {
      "cell_type": "code",
      "execution_count": 31,
      "metadata": {},
      "outputs": [
        {
          "data": {
            "text/plain": [
              "(17.81210067542899, 10.417715405108407)"
            ]
          },
          "execution_count": 31,
          "metadata": {},
          "output_type": "execute_result"
        }
      ],
      "source": [
        "logits_.mean(), logits_.std()"
      ]
    },
    {
      "cell_type": "code",
      "execution_count": 32,
      "metadata": {},
      "outputs": [
        {
          "data": {
            "text/html": [
              "<div>\n",
              "<style scoped>\n",
              "    .dataframe tbody tr th:only-of-type {\n",
              "        vertical-align: middle;\n",
              "    }\n",
              "\n",
              "    .dataframe tbody tr th {\n",
              "        vertical-align: top;\n",
              "    }\n",
              "\n",
              "    .dataframe thead th {\n",
              "        text-align: right;\n",
              "    }\n",
              "</style>\n",
              "<table border=\"1\" class=\"dataframe\">\n",
              "  <thead>\n",
              "    <tr style=\"text-align: right;\">\n",
              "      <th></th>\n",
              "      <th>id</th>\n",
              "    </tr>\n",
              "  </thead>\n",
              "  <tbody>\n",
              "    <tr>\n",
              "      <th>0</th>\n",
              "      <td>0</td>\n",
              "    </tr>\n",
              "    <tr>\n",
              "      <th>1</th>\n",
              "      <td>1</td>\n",
              "    </tr>\n",
              "    <tr>\n",
              "      <th>2</th>\n",
              "      <td>2</td>\n",
              "    </tr>\n",
              "    <tr>\n",
              "      <th>3</th>\n",
              "      <td>3</td>\n",
              "    </tr>\n",
              "    <tr>\n",
              "      <th>4</th>\n",
              "      <td>4</td>\n",
              "    </tr>\n",
              "    <tr>\n",
              "      <th>...</th>\n",
              "      <td>...</td>\n",
              "    </tr>\n",
              "    <tr>\n",
              "      <th>2734</th>\n",
              "      <td>2734</td>\n",
              "    </tr>\n",
              "    <tr>\n",
              "      <th>2735</th>\n",
              "      <td>2735</td>\n",
              "    </tr>\n",
              "    <tr>\n",
              "      <th>2736</th>\n",
              "      <td>2736</td>\n",
              "    </tr>\n",
              "    <tr>\n",
              "      <th>2737</th>\n",
              "      <td>2737</td>\n",
              "    </tr>\n",
              "    <tr>\n",
              "      <th>2738</th>\n",
              "      <td>2738</td>\n",
              "    </tr>\n",
              "  </tbody>\n",
              "</table>\n",
              "<p>2739 rows × 1 columns</p>\n",
              "</div>"
            ],
            "text/plain": [
              "        id\n",
              "0        0\n",
              "1        1\n",
              "2        2\n",
              "3        3\n",
              "4        4\n",
              "...    ...\n",
              "2734  2734\n",
              "2735  2735\n",
              "2736  2736\n",
              "2737  2737\n",
              "2738  2738\n",
              "\n",
              "[2739 rows x 1 columns]"
            ]
          },
          "execution_count": 32,
          "metadata": {},
          "output_type": "execute_result"
        }
      ],
      "source": [
        "df_pred = pd.DataFrame(ids)\n",
        "df_pred"
      ]
    },
    {
      "cell_type": "code",
      "execution_count": 33,
      "metadata": {},
      "outputs": [
        {
          "data": {
            "text/html": [
              "<div>\n",
              "<style scoped>\n",
              "    .dataframe tbody tr th:only-of-type {\n",
              "        vertical-align: middle;\n",
              "    }\n",
              "\n",
              "    .dataframe tbody tr th {\n",
              "        vertical-align: top;\n",
              "    }\n",
              "\n",
              "    .dataframe thead th {\n",
              "        text-align: right;\n",
              "    }\n",
              "</style>\n",
              "<table border=\"1\" class=\"dataframe\">\n",
              "  <thead>\n",
              "    <tr style=\"text-align: right;\">\n",
              "      <th></th>\n",
              "      <th>id</th>\n",
              "      <th>pollution_value</th>\n",
              "    </tr>\n",
              "  </thead>\n",
              "  <tbody>\n",
              "    <tr>\n",
              "      <th>0</th>\n",
              "      <td>0</td>\n",
              "      <td>29.312500</td>\n",
              "    </tr>\n",
              "    <tr>\n",
              "      <th>1</th>\n",
              "      <td>1</td>\n",
              "      <td>24.593750</td>\n",
              "    </tr>\n",
              "    <tr>\n",
              "      <th>2</th>\n",
              "      <td>2</td>\n",
              "      <td>17.203125</td>\n",
              "    </tr>\n",
              "    <tr>\n",
              "      <th>3</th>\n",
              "      <td>3</td>\n",
              "      <td>33.968750</td>\n",
              "    </tr>\n",
              "    <tr>\n",
              "      <th>4</th>\n",
              "      <td>4</td>\n",
              "      <td>11.703125</td>\n",
              "    </tr>\n",
              "    <tr>\n",
              "      <th>...</th>\n",
              "      <td>...</td>\n",
              "      <td>...</td>\n",
              "    </tr>\n",
              "    <tr>\n",
              "      <th>2734</th>\n",
              "      <td>2734</td>\n",
              "      <td>24.609375</td>\n",
              "    </tr>\n",
              "    <tr>\n",
              "      <th>2735</th>\n",
              "      <td>2735</td>\n",
              "      <td>11.664062</td>\n",
              "    </tr>\n",
              "    <tr>\n",
              "      <th>2736</th>\n",
              "      <td>2736</td>\n",
              "      <td>11.507812</td>\n",
              "    </tr>\n",
              "    <tr>\n",
              "      <th>2737</th>\n",
              "      <td>2737</td>\n",
              "      <td>18.703125</td>\n",
              "    </tr>\n",
              "    <tr>\n",
              "      <th>2738</th>\n",
              "      <td>2738</td>\n",
              "      <td>24.625000</td>\n",
              "    </tr>\n",
              "  </tbody>\n",
              "</table>\n",
              "<p>2739 rows × 2 columns</p>\n",
              "</div>"
            ],
            "text/plain": [
              "        id  pollution_value\n",
              "0        0        29.312500\n",
              "1        1        24.593750\n",
              "2        2        17.203125\n",
              "3        3        33.968750\n",
              "4        4        11.703125\n",
              "...    ...              ...\n",
              "2734  2734        24.609375\n",
              "2735  2735        11.664062\n",
              "2736  2736        11.507812\n",
              "2737  2737        18.703125\n",
              "2738  2738        24.625000\n",
              "\n",
              "[2739 rows x 2 columns]"
            ]
          },
          "execution_count": 33,
          "metadata": {},
          "output_type": "execute_result"
        }
      ],
      "source": [
        "df_pred[\"pollution_value\"] = logits_\n",
        "df_pred"
      ]
    },
    {
      "cell_type": "code",
      "execution_count": 34,
      "metadata": {},
      "outputs": [
        {
          "data": {
            "text/plain": [
              "'tabnet.100ep.wd.1e3.150ep.dy.mean.std.fixed'"
            ]
          },
          "execution_count": 34,
          "metadata": {},
          "output_type": "execute_result"
        }
      ],
      "source": [
        "#config.model_name = \"tabnet.100ep.wd.1e3.150ep.relu.fixed\"\n",
        "config.model_name"
      ]
    },
    {
      "cell_type": "code",
      "execution_count": 35,
      "metadata": {},
      "outputs": [],
      "source": [
        "df_pred.to_csv(f\"{config.model_name}.csv\", index=False)"
      ]
    },
    {
      "cell_type": "code",
      "execution_count": null,
      "metadata": {},
      "outputs": [],
      "source": []
    }
  ],
  "metadata": {
    "colab": {
      "name": "air-pol-nn-0",
      "provenance": []
    },
    "kaggle": {
      "accelerator": "none",
      "dataSources": [
        {
          "datasetId": 7955958,
          "sourceId": 12596385,
          "sourceType": "datasetVersion"
        }
      ],
      "dockerImageVersionId": 31089,
      "isGpuEnabled": false,
      "isInternetEnabled": true,
      "language": "python",
      "sourceType": "notebook"
    },
    "kernelspec": {
      "display_name": "Python 3",
      "language": "python",
      "name": "python3"
    },
    "language_info": {
      "codemirror_mode": {
        "name": "ipython",
        "version": 3
      },
      "file_extension": ".py",
      "mimetype": "text/x-python",
      "name": "python",
      "nbconvert_exporter": "python",
      "pygments_lexer": "ipython3",
      "version": "3.13.3"
    },
    "widgets": {
      "application/vnd.jupyter.widget-state+json": {
        "01abb5378d9245c1ac795fbd06921b30": {
          "model_module": "@jupyter-widgets/controls",
          "model_module_version": "1.5.0",
          "model_name": "TextModel",
          "state": {
            "_dom_classes": [],
            "_model_module": "@jupyter-widgets/controls",
            "_model_module_version": "1.5.0",
            "_model_name": "TextModel",
            "_view_count": null,
            "_view_module": "@jupyter-widgets/controls",
            "_view_module_version": "1.5.0",
            "_view_name": "TextView",
            "continuous_update": true,
            "description": "Username:",
            "description_tooltip": null,
            "disabled": false,
            "layout": "IPY_MODEL_04b983a1ec9545b1bfb9e2797df08f0e",
            "placeholder": "​",
            "style": "IPY_MODEL_b5010def162348309f5528ccbc1638cc",
            "value": "arbaazbeg"
          }
        },
        "04b983a1ec9545b1bfb9e2797df08f0e": {
          "model_module": "@jupyter-widgets/base",
          "model_module_version": "1.2.0",
          "model_name": "LayoutModel",
          "state": {
            "_model_module": "@jupyter-widgets/base",
            "_model_module_version": "1.2.0",
            "_model_name": "LayoutModel",
            "_view_count": null,
            "_view_module": "@jupyter-widgets/base",
            "_view_module_version": "1.2.0",
            "_view_name": "LayoutView",
            "align_content": null,
            "align_items": null,
            "align_self": null,
            "border": null,
            "bottom": null,
            "display": null,
            "flex": null,
            "flex_flow": null,
            "grid_area": null,
            "grid_auto_columns": null,
            "grid_auto_flow": null,
            "grid_auto_rows": null,
            "grid_column": null,
            "grid_gap": null,
            "grid_row": null,
            "grid_template_areas": null,
            "grid_template_columns": null,
            "grid_template_rows": null,
            "height": null,
            "justify_content": null,
            "justify_items": null,
            "left": null,
            "margin": null,
            "max_height": null,
            "max_width": null,
            "min_height": null,
            "min_width": null,
            "object_fit": null,
            "object_position": null,
            "order": null,
            "overflow": null,
            "overflow_x": null,
            "overflow_y": null,
            "padding": null,
            "right": null,
            "top": null,
            "visibility": null,
            "width": null
          }
        },
        "078547a9924348b99f581176091fcb92": {
          "model_module": "@jupyter-widgets/controls",
          "model_module_version": "1.5.0",
          "model_name": "HTMLModel",
          "state": {
            "_dom_classes": [],
            "_model_module": "@jupyter-widgets/controls",
            "_model_module_version": "1.5.0",
            "_model_name": "HTMLModel",
            "_view_count": null,
            "_view_module": "@jupyter-widgets/controls",
            "_view_module_version": "1.5.0",
            "_view_name": "HTMLView",
            "description": "",
            "description_tooltip": null,
            "layout": "IPY_MODEL_34c44f51b03249958ec5655cd52136b7",
            "placeholder": "​",
            "style": "IPY_MODEL_2436ce83586e438fafa1cf86b98b1935",
            "value": "<center> <img\nsrc=https://www.kaggle.com/static/images/site-logo.png\nalt='Kaggle'> <br> Create an API token from <a\nhref=\"https://www.kaggle.com/settings/account\" target=\"_blank\">your Kaggle\nsettings page</a> and paste it below along with your Kaggle username. <br> </center>"
          }
        },
        "0e579a5b4f404e46be6580ad33563f03": {
          "model_module": "@jupyter-widgets/controls",
          "model_module_version": "1.5.0",
          "model_name": "DescriptionStyleModel",
          "state": {
            "_model_module": "@jupyter-widgets/controls",
            "_model_module_version": "1.5.0",
            "_model_name": "DescriptionStyleModel",
            "_view_count": null,
            "_view_module": "@jupyter-widgets/base",
            "_view_module_version": "1.2.0",
            "_view_name": "StyleView",
            "description_width": ""
          }
        },
        "11aa2d00474747e7a5978371bc4a5ae3": {
          "model_module": "@jupyter-widgets/base",
          "model_module_version": "1.2.0",
          "model_name": "LayoutModel",
          "state": {
            "_model_module": "@jupyter-widgets/base",
            "_model_module_version": "1.2.0",
            "_model_name": "LayoutModel",
            "_view_count": null,
            "_view_module": "@jupyter-widgets/base",
            "_view_module_version": "1.2.0",
            "_view_name": "LayoutView",
            "align_content": null,
            "align_items": "center",
            "align_self": null,
            "border": null,
            "bottom": null,
            "display": "flex",
            "flex": null,
            "flex_flow": "column",
            "grid_area": null,
            "grid_auto_columns": null,
            "grid_auto_flow": null,
            "grid_auto_rows": null,
            "grid_column": null,
            "grid_gap": null,
            "grid_row": null,
            "grid_template_areas": null,
            "grid_template_columns": null,
            "grid_template_rows": null,
            "height": null,
            "justify_content": null,
            "justify_items": null,
            "left": null,
            "margin": null,
            "max_height": null,
            "max_width": null,
            "min_height": null,
            "min_width": null,
            "object_fit": null,
            "object_position": null,
            "order": null,
            "overflow": null,
            "overflow_x": null,
            "overflow_y": null,
            "padding": null,
            "right": null,
            "top": null,
            "visibility": null,
            "width": "50%"
          }
        },
        "13c13312acb445d595f9eb8a92f28a9e": {
          "model_module": "@jupyter-widgets/controls",
          "model_module_version": "1.5.0",
          "model_name": "DescriptionStyleModel",
          "state": {
            "_model_module": "@jupyter-widgets/controls",
            "_model_module_version": "1.5.0",
            "_model_name": "DescriptionStyleModel",
            "_view_count": null,
            "_view_module": "@jupyter-widgets/base",
            "_view_module_version": "1.2.0",
            "_view_name": "StyleView",
            "description_width": ""
          }
        },
        "15d4174eeb224d8b8821f9922fc94aeb": {
          "model_module": "@jupyter-widgets/controls",
          "model_module_version": "1.5.0",
          "model_name": "ButtonModel",
          "state": {
            "_dom_classes": [],
            "_model_module": "@jupyter-widgets/controls",
            "_model_module_version": "1.5.0",
            "_model_name": "ButtonModel",
            "_view_count": null,
            "_view_module": "@jupyter-widgets/controls",
            "_view_module_version": "1.5.0",
            "_view_name": "ButtonView",
            "button_style": "",
            "description": "Login",
            "disabled": false,
            "icon": "",
            "layout": "IPY_MODEL_b2edece489ff44ad9b20e13661ea09c4",
            "style": "IPY_MODEL_8eff405c7d2749ab85e31f156d7fdd95",
            "tooltip": ""
          }
        },
        "2436ce83586e438fafa1cf86b98b1935": {
          "model_module": "@jupyter-widgets/controls",
          "model_module_version": "1.5.0",
          "model_name": "DescriptionStyleModel",
          "state": {
            "_model_module": "@jupyter-widgets/controls",
            "_model_module_version": "1.5.0",
            "_model_name": "DescriptionStyleModel",
            "_view_count": null,
            "_view_module": "@jupyter-widgets/base",
            "_view_module_version": "1.2.0",
            "_view_name": "StyleView",
            "description_width": ""
          }
        },
        "29fe75374abb4fd9bb36a72a7d37b402": {
          "model_module": "@jupyter-widgets/controls",
          "model_module_version": "1.5.0",
          "model_name": "LabelModel",
          "state": {
            "_dom_classes": [],
            "_model_module": "@jupyter-widgets/controls",
            "_model_module_version": "1.5.0",
            "_model_name": "LabelModel",
            "_view_count": null,
            "_view_module": "@jupyter-widgets/controls",
            "_view_module_version": "1.5.0",
            "_view_name": "LabelView",
            "description": "",
            "description_tooltip": null,
            "layout": "IPY_MODEL_ddeac9eacd7140d58a4661afa44a7fd0",
            "placeholder": "​",
            "style": "IPY_MODEL_13c13312acb445d595f9eb8a92f28a9e",
            "value": "Kaggle credentials successfully validated."
          }
        },
        "2d2b01babc4c4a07bdd2d8c841334cb9": {
          "model_module": "@jupyter-widgets/base",
          "model_module_version": "1.2.0",
          "model_name": "LayoutModel",
          "state": {
            "_model_module": "@jupyter-widgets/base",
            "_model_module_version": "1.2.0",
            "_model_name": "LayoutModel",
            "_view_count": null,
            "_view_module": "@jupyter-widgets/base",
            "_view_module_version": "1.2.0",
            "_view_name": "LayoutView",
            "align_content": null,
            "align_items": null,
            "align_self": null,
            "border": null,
            "bottom": null,
            "display": null,
            "flex": null,
            "flex_flow": null,
            "grid_area": null,
            "grid_auto_columns": null,
            "grid_auto_flow": null,
            "grid_auto_rows": null,
            "grid_column": null,
            "grid_gap": null,
            "grid_row": null,
            "grid_template_areas": null,
            "grid_template_columns": null,
            "grid_template_rows": null,
            "height": null,
            "justify_content": null,
            "justify_items": null,
            "left": null,
            "margin": null,
            "max_height": null,
            "max_width": null,
            "min_height": null,
            "min_width": null,
            "object_fit": null,
            "object_position": null,
            "order": null,
            "overflow": null,
            "overflow_x": null,
            "overflow_y": null,
            "padding": null,
            "right": null,
            "top": null,
            "visibility": null,
            "width": null
          }
        },
        "34c44f51b03249958ec5655cd52136b7": {
          "model_module": "@jupyter-widgets/base",
          "model_module_version": "1.2.0",
          "model_name": "LayoutModel",
          "state": {
            "_model_module": "@jupyter-widgets/base",
            "_model_module_version": "1.2.0",
            "_model_name": "LayoutModel",
            "_view_count": null,
            "_view_module": "@jupyter-widgets/base",
            "_view_module_version": "1.2.0",
            "_view_name": "LayoutView",
            "align_content": null,
            "align_items": null,
            "align_self": null,
            "border": null,
            "bottom": null,
            "display": null,
            "flex": null,
            "flex_flow": null,
            "grid_area": null,
            "grid_auto_columns": null,
            "grid_auto_flow": null,
            "grid_auto_rows": null,
            "grid_column": null,
            "grid_gap": null,
            "grid_row": null,
            "grid_template_areas": null,
            "grid_template_columns": null,
            "grid_template_rows": null,
            "height": null,
            "justify_content": null,
            "justify_items": null,
            "left": null,
            "margin": null,
            "max_height": null,
            "max_width": null,
            "min_height": null,
            "min_width": null,
            "object_fit": null,
            "object_position": null,
            "order": null,
            "overflow": null,
            "overflow_x": null,
            "overflow_y": null,
            "padding": null,
            "right": null,
            "top": null,
            "visibility": null,
            "width": null
          }
        },
        "382c560166da441cbb46702f0dd9ba85": {
          "model_module": "@jupyter-widgets/controls",
          "model_module_version": "1.5.0",
          "model_name": "PasswordModel",
          "state": {
            "_dom_classes": [],
            "_model_module": "@jupyter-widgets/controls",
            "_model_module_version": "1.5.0",
            "_model_name": "PasswordModel",
            "_view_count": null,
            "_view_module": "@jupyter-widgets/controls",
            "_view_module_version": "1.5.0",
            "_view_name": "PasswordView",
            "continuous_update": true,
            "description": "Token:",
            "description_tooltip": null,
            "disabled": false,
            "layout": "IPY_MODEL_99211a16a32c4826a4754a19a8f1ecff",
            "placeholder": "​",
            "style": "IPY_MODEL_fa4102cbeaef408a99796001c12bde8f",
            "value": ""
          }
        },
        "662208306ed24327aed296cf6fbc6b9c": {
          "model_module": "@jupyter-widgets/controls",
          "model_module_version": "1.5.0",
          "model_name": "DescriptionStyleModel",
          "state": {
            "_model_module": "@jupyter-widgets/controls",
            "_model_module_version": "1.5.0",
            "_model_name": "DescriptionStyleModel",
            "_view_count": null,
            "_view_module": "@jupyter-widgets/base",
            "_view_module_version": "1.2.0",
            "_view_name": "StyleView",
            "description_width": ""
          }
        },
        "7b78548bb93c4b5084cdc54933467123": {
          "model_module": "@jupyter-widgets/controls",
          "model_module_version": "1.5.0",
          "model_name": "LabelModel",
          "state": {
            "_dom_classes": [],
            "_model_module": "@jupyter-widgets/controls",
            "_model_module_version": "1.5.0",
            "_model_name": "LabelModel",
            "_view_count": null,
            "_view_module": "@jupyter-widgets/controls",
            "_view_module_version": "1.5.0",
            "_view_name": "LabelView",
            "description": "",
            "description_tooltip": null,
            "layout": "IPY_MODEL_2d2b01babc4c4a07bdd2d8c841334cb9",
            "placeholder": "​",
            "style": "IPY_MODEL_0e579a5b4f404e46be6580ad33563f03",
            "value": "Connecting..."
          }
        },
        "8b4e00bbdbf046c893b4f8b9d52dfe43": {
          "model_module": "@jupyter-widgets/base",
          "model_module_version": "1.2.0",
          "model_name": "LayoutModel",
          "state": {
            "_model_module": "@jupyter-widgets/base",
            "_model_module_version": "1.2.0",
            "_model_name": "LayoutModel",
            "_view_count": null,
            "_view_module": "@jupyter-widgets/base",
            "_view_module_version": "1.2.0",
            "_view_name": "LayoutView",
            "align_content": null,
            "align_items": null,
            "align_self": null,
            "border": null,
            "bottom": null,
            "display": null,
            "flex": null,
            "flex_flow": null,
            "grid_area": null,
            "grid_auto_columns": null,
            "grid_auto_flow": null,
            "grid_auto_rows": null,
            "grid_column": null,
            "grid_gap": null,
            "grid_row": null,
            "grid_template_areas": null,
            "grid_template_columns": null,
            "grid_template_rows": null,
            "height": null,
            "justify_content": null,
            "justify_items": null,
            "left": null,
            "margin": null,
            "max_height": null,
            "max_width": null,
            "min_height": null,
            "min_width": null,
            "object_fit": null,
            "object_position": null,
            "order": null,
            "overflow": null,
            "overflow_x": null,
            "overflow_y": null,
            "padding": null,
            "right": null,
            "top": null,
            "visibility": null,
            "width": null
          }
        },
        "8eff405c7d2749ab85e31f156d7fdd95": {
          "model_module": "@jupyter-widgets/controls",
          "model_module_version": "1.5.0",
          "model_name": "ButtonStyleModel",
          "state": {
            "_model_module": "@jupyter-widgets/controls",
            "_model_module_version": "1.5.0",
            "_model_name": "ButtonStyleModel",
            "_view_count": null,
            "_view_module": "@jupyter-widgets/base",
            "_view_module_version": "1.2.0",
            "_view_name": "StyleView",
            "button_color": null,
            "font_weight": ""
          }
        },
        "99211a16a32c4826a4754a19a8f1ecff": {
          "model_module": "@jupyter-widgets/base",
          "model_module_version": "1.2.0",
          "model_name": "LayoutModel",
          "state": {
            "_model_module": "@jupyter-widgets/base",
            "_model_module_version": "1.2.0",
            "_model_name": "LayoutModel",
            "_view_count": null,
            "_view_module": "@jupyter-widgets/base",
            "_view_module_version": "1.2.0",
            "_view_name": "LayoutView",
            "align_content": null,
            "align_items": null,
            "align_self": null,
            "border": null,
            "bottom": null,
            "display": null,
            "flex": null,
            "flex_flow": null,
            "grid_area": null,
            "grid_auto_columns": null,
            "grid_auto_flow": null,
            "grid_auto_rows": null,
            "grid_column": null,
            "grid_gap": null,
            "grid_row": null,
            "grid_template_areas": null,
            "grid_template_columns": null,
            "grid_template_rows": null,
            "height": null,
            "justify_content": null,
            "justify_items": null,
            "left": null,
            "margin": null,
            "max_height": null,
            "max_width": null,
            "min_height": null,
            "min_width": null,
            "object_fit": null,
            "object_position": null,
            "order": null,
            "overflow": null,
            "overflow_x": null,
            "overflow_y": null,
            "padding": null,
            "right": null,
            "top": null,
            "visibility": null,
            "width": null
          }
        },
        "b2edece489ff44ad9b20e13661ea09c4": {
          "model_module": "@jupyter-widgets/base",
          "model_module_version": "1.2.0",
          "model_name": "LayoutModel",
          "state": {
            "_model_module": "@jupyter-widgets/base",
            "_model_module_version": "1.2.0",
            "_model_name": "LayoutModel",
            "_view_count": null,
            "_view_module": "@jupyter-widgets/base",
            "_view_module_version": "1.2.0",
            "_view_name": "LayoutView",
            "align_content": null,
            "align_items": null,
            "align_self": null,
            "border": null,
            "bottom": null,
            "display": null,
            "flex": null,
            "flex_flow": null,
            "grid_area": null,
            "grid_auto_columns": null,
            "grid_auto_flow": null,
            "grid_auto_rows": null,
            "grid_column": null,
            "grid_gap": null,
            "grid_row": null,
            "grid_template_areas": null,
            "grid_template_columns": null,
            "grid_template_rows": null,
            "height": null,
            "justify_content": null,
            "justify_items": null,
            "left": null,
            "margin": null,
            "max_height": null,
            "max_width": null,
            "min_height": null,
            "min_width": null,
            "object_fit": null,
            "object_position": null,
            "order": null,
            "overflow": null,
            "overflow_x": null,
            "overflow_y": null,
            "padding": null,
            "right": null,
            "top": null,
            "visibility": null,
            "width": null
          }
        },
        "b5010def162348309f5528ccbc1638cc": {
          "model_module": "@jupyter-widgets/controls",
          "model_module_version": "1.5.0",
          "model_name": "DescriptionStyleModel",
          "state": {
            "_model_module": "@jupyter-widgets/controls",
            "_model_module_version": "1.5.0",
            "_model_name": "DescriptionStyleModel",
            "_view_count": null,
            "_view_module": "@jupyter-widgets/base",
            "_view_module_version": "1.2.0",
            "_view_name": "StyleView",
            "description_width": ""
          }
        },
        "bf74cefdf6b0418e81b747ad0a5596d5": {
          "model_module": "@jupyter-widgets/controls",
          "model_module_version": "1.5.0",
          "model_name": "HTMLModel",
          "state": {
            "_dom_classes": [],
            "_model_module": "@jupyter-widgets/controls",
            "_model_module_version": "1.5.0",
            "_model_name": "HTMLModel",
            "_view_count": null,
            "_view_module": "@jupyter-widgets/controls",
            "_view_module_version": "1.5.0",
            "_view_name": "HTMLView",
            "description": "",
            "description_tooltip": null,
            "layout": "IPY_MODEL_8b4e00bbdbf046c893b4f8b9d52dfe43",
            "placeholder": "​",
            "style": "IPY_MODEL_662208306ed24327aed296cf6fbc6b9c",
            "value": "\n<b>Thank You</b></center>"
          }
        },
        "d1c27921fa3542149d44f4dd60ee8d9a": {
          "model_module": "@jupyter-widgets/controls",
          "model_module_version": "1.5.0",
          "model_name": "VBoxModel",
          "state": {
            "_dom_classes": [],
            "_model_module": "@jupyter-widgets/controls",
            "_model_module_version": "1.5.0",
            "_model_name": "VBoxModel",
            "_view_count": null,
            "_view_module": "@jupyter-widgets/controls",
            "_view_module_version": "1.5.0",
            "_view_name": "VBoxView",
            "box_style": "",
            "children": [
              "IPY_MODEL_29fe75374abb4fd9bb36a72a7d37b402"
            ],
            "layout": "IPY_MODEL_11aa2d00474747e7a5978371bc4a5ae3"
          }
        },
        "ddeac9eacd7140d58a4661afa44a7fd0": {
          "model_module": "@jupyter-widgets/base",
          "model_module_version": "1.2.0",
          "model_name": "LayoutModel",
          "state": {
            "_model_module": "@jupyter-widgets/base",
            "_model_module_version": "1.2.0",
            "_model_name": "LayoutModel",
            "_view_count": null,
            "_view_module": "@jupyter-widgets/base",
            "_view_module_version": "1.2.0",
            "_view_name": "LayoutView",
            "align_content": null,
            "align_items": null,
            "align_self": null,
            "border": null,
            "bottom": null,
            "display": null,
            "flex": null,
            "flex_flow": null,
            "grid_area": null,
            "grid_auto_columns": null,
            "grid_auto_flow": null,
            "grid_auto_rows": null,
            "grid_column": null,
            "grid_gap": null,
            "grid_row": null,
            "grid_template_areas": null,
            "grid_template_columns": null,
            "grid_template_rows": null,
            "height": null,
            "justify_content": null,
            "justify_items": null,
            "left": null,
            "margin": null,
            "max_height": null,
            "max_width": null,
            "min_height": null,
            "min_width": null,
            "object_fit": null,
            "object_position": null,
            "order": null,
            "overflow": null,
            "overflow_x": null,
            "overflow_y": null,
            "padding": null,
            "right": null,
            "top": null,
            "visibility": null,
            "width": null
          }
        },
        "fa4102cbeaef408a99796001c12bde8f": {
          "model_module": "@jupyter-widgets/controls",
          "model_module_version": "1.5.0",
          "model_name": "DescriptionStyleModel",
          "state": {
            "_model_module": "@jupyter-widgets/controls",
            "_model_module_version": "1.5.0",
            "_model_name": "DescriptionStyleModel",
            "_view_count": null,
            "_view_module": "@jupyter-widgets/base",
            "_view_module_version": "1.2.0",
            "_view_name": "StyleView",
            "description_width": ""
          }
        }
      }
    }
  },
  "nbformat": 4,
  "nbformat_minor": 0
}

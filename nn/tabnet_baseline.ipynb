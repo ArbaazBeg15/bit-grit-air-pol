{
  "cells": [
    {
      "cell_type": "code",
      "execution_count": null,
      "metadata": {
        "colab": {
          "base_uri": "https://localhost:8080/"
        },
        "id": "FLS3RkozCqly",
        "outputId": "3ecc799d-bc70-4b37-957e-0305be06e07a"
      },
      "outputs": [],
      "source": [
        "!pip install -q jupyter_contrib_nbextensions\n",
        "!jupyter contrib nbextension install --user\n",
        "!jupyter nbextension enable hinterland/hinterland"
      ]
    },
    {
      "cell_type": "code",
      "execution_count": null,
      "metadata": {
        "colab": {
          "base_uri": "https://localhost:8080/",
          "height": 83,
          "referenced_widgets": [
            "d1c27921fa3542149d44f4dd60ee8d9a",
            "078547a9924348b99f581176091fcb92",
            "01abb5378d9245c1ac795fbd06921b30",
            "382c560166da441cbb46702f0dd9ba85",
            "15d4174eeb224d8b8821f9922fc94aeb",
            "bf74cefdf6b0418e81b747ad0a5596d5",
            "11aa2d00474747e7a5978371bc4a5ae3",
            "34c44f51b03249958ec5655cd52136b7",
            "2436ce83586e438fafa1cf86b98b1935",
            "04b983a1ec9545b1bfb9e2797df08f0e",
            "b5010def162348309f5528ccbc1638cc",
            "99211a16a32c4826a4754a19a8f1ecff",
            "fa4102cbeaef408a99796001c12bde8f",
            "b2edece489ff44ad9b20e13661ea09c4",
            "8eff405c7d2749ab85e31f156d7fdd95",
            "8b4e00bbdbf046c893b4f8b9d52dfe43",
            "662208306ed24327aed296cf6fbc6b9c",
            "7b78548bb93c4b5084cdc54933467123",
            "2d2b01babc4c4a07bdd2d8c841334cb9",
            "0e579a5b4f404e46be6580ad33563f03",
            "29fe75374abb4fd9bb36a72a7d37b402",
            "ddeac9eacd7140d58a4661afa44a7fd0",
            "13c13312acb445d595f9eb8a92f28a9e"
          ]
        },
        "id": "WaHyXLdgATqk",
        "outputId": "f4b95f30-76af-4c63-87e9-53804694c1f1"
      },
      "outputs": [],
      "source": [
        "# IMPORTANT: SOME KAGGLE DATA SOURCES ARE PRIVATE\n",
        "# RUN THIS CELL IN ORDER TO IMPORT YOUR KAGGLE DATA SOURCES.\n",
        "import kagglehub\n",
        "kagglehub.login()"
      ]
    },
    {
      "cell_type": "code",
      "execution_count": 1,
      "metadata": {},
      "outputs": [
        {
          "name": "stdout",
          "output_type": "stream",
          "text": [
            "\u001b[2K     \u001b[90m━━━━━━━━━━━━━━━━━━━━━━━━━━━━━━━━━━━━━━━━\u001b[0m \u001b[32m63.9/63.9 kB\u001b[0m \u001b[31m2.3 MB/s\u001b[0m eta \u001b[36m0:00:00\u001b[0m\n",
            "\u001b[?25h  Preparing metadata (setup.py) ... \u001b[?25l\u001b[?25hdone\n",
            "\u001b[2K   \u001b[90m━━━━━━━━━━━━━━━━━━━━━━━━━━━━━━━━━━━━━━━━\u001b[0m \u001b[32m44.5/44.5 kB\u001b[0m \u001b[31m2.8 MB/s\u001b[0m eta \u001b[36m0:00:00\u001b[0m\n",
            "\u001b[2K   \u001b[90m━━━━━━━━━━━━━━━━━━━━━━━━━━━━━━━━━━━━━━━━\u001b[0m \u001b[32m9.7/9.7 MB\u001b[0m \u001b[31m65.6 MB/s\u001b[0m eta \u001b[36m0:00:00\u001b[0m:00:01\u001b[0m0:01\u001b[0m\n",
            "\u001b[2K   \u001b[90m━━━━━━━━━━━━━━━━━━━━━━━━━━━━━━━━━━━━━━━━\u001b[0m \u001b[32m487.9/487.9 kB\u001b[0m \u001b[31m28.5 MB/s\u001b[0m eta \u001b[36m0:00:00\u001b[0m\n",
            "\u001b[2K   \u001b[90m━━━━━━━━━━━━━━━━━━━━━━━━━━━━━━━━━━━━━━━━\u001b[0m \u001b[32m363.4/363.4 MB\u001b[0m \u001b[31m4.4 MB/s\u001b[0m eta \u001b[36m0:00:00\u001b[0m:00:01\u001b[0m00:01\u001b[0m\n",
            "\u001b[2K   \u001b[90m━━━━━━━━━━━━━━━━━━━━━━━━━━━━━━━━━━━━━━━━\u001b[0m \u001b[32m13.8/13.8 MB\u001b[0m \u001b[31m80.3 MB/s\u001b[0m eta \u001b[36m0:00:00\u001b[0m:00:01\u001b[0m0:01\u001b[0m\n",
            "\u001b[2K   \u001b[90m━━━━━━━━━━━━━━━━━━━━━━━━━━━━━━━━━━━━━━━━\u001b[0m \u001b[32m24.6/24.6 MB\u001b[0m \u001b[31m59.3 MB/s\u001b[0m eta \u001b[36m0:00:00\u001b[0m:00:01\u001b[0m00:01\u001b[0m\n",
            "\u001b[2K   \u001b[90m━━━━━━━━━━━━━━━━━━━━━━━━━━━━━━━━━━━━━━━━\u001b[0m \u001b[32m883.7/883.7 kB\u001b[0m \u001b[31m37.5 MB/s\u001b[0m eta \u001b[36m0:00:00\u001b[0m\n",
            "\u001b[2K   \u001b[90m━━━━━━━━━━━━━━━━━━━━━━━━━━━━━━━━━━━━━━━━\u001b[0m \u001b[32m664.8/664.8 MB\u001b[0m \u001b[31m2.4 MB/s\u001b[0m eta \u001b[36m0:00:00\u001b[0m:00:01\u001b[0m00:01\u001b[0m\n",
            "\u001b[2K   \u001b[90m━━━━━━━━━━━━━━━━━━━━━━━━━━━━━━━━━━━━━━━━\u001b[0m \u001b[32m211.5/211.5 MB\u001b[0m \u001b[31m5.1 MB/s\u001b[0m eta \u001b[36m0:00:00\u001b[0m:00:01\u001b[0m00:01\u001b[0m\n",
            "\u001b[2K   \u001b[90m━━━━━━━━━━━━━━━━━━━━━━━━━━━━━━━━━━━━━━━━\u001b[0m \u001b[32m56.3/56.3 MB\u001b[0m \u001b[31m28.6 MB/s\u001b[0m eta \u001b[36m0:00:00\u001b[0m:00:01\u001b[0m00:01\u001b[0m\n",
            "\u001b[2K   \u001b[90m━━━━━━━━━━━━━━━━━━━━━━━━━━━━━━━━━━━━━━━━\u001b[0m \u001b[32m127.9/127.9 MB\u001b[0m \u001b[31m10.2 MB/s\u001b[0m eta \u001b[36m0:00:00\u001b[0m00:01\u001b[0m00:01\u001b[0m\n",
            "\u001b[2K   \u001b[90m━━━━━━━━━━━━━━━━━━━━━━━━━━━━━━━━━━━━━━━━\u001b[0m \u001b[32m207.5/207.5 MB\u001b[0m \u001b[31m2.3 MB/s\u001b[0m eta \u001b[36m0:00:00\u001b[0m:00:01\u001b[0m00:01\u001b[0m\n",
            "\u001b[2K   \u001b[90m━━━━━━━━━━━━━━━━━━━━━━━━━━━━━━━━━━━━━━━━\u001b[0m \u001b[32m21.1/21.1 MB\u001b[0m \u001b[31m65.2 MB/s\u001b[0m eta \u001b[36m0:00:00\u001b[0m:00:01\u001b[0m00:01\u001b[0m\n",
            "\u001b[?25h  Building wheel for bravado-core (setup.py) ... \u001b[?25l\u001b[?25hdone\n",
            "\u001b[31mERROR: pip's dependency resolver does not currently take into account all the packages that are installed. This behaviour is the source of the following dependency conflicts.\n",
            "category-encoders 2.7.0 requires scikit-learn<1.6.0,>=1.0.0, but you have scikit-learn 1.7.1 which is incompatible.\n",
            "cesium 0.12.4 requires numpy<3.0,>=2.0, but you have numpy 1.26.4 which is incompatible.\n",
            "sklearn-compat 0.1.3 requires scikit-learn<1.7,>=1.2, but you have scikit-learn 1.7.1 which is incompatible.\u001b[0m\u001b[31m\n",
            "\u001b[0mNote: you may need to restart the kernel to use updated packages.\n"
          ]
        }
      ],
      "source": [
        "pip install -qU pytorch-tabnet scikit-learn neptune"
      ]
    },
    {
      "cell_type": "code",
      "execution_count": 1,
      "metadata": {},
      "outputs": [
        {
          "name": "stdout",
          "output_type": "stream",
          "text": [
            "Fri Aug  1 12:46:59 2025       \n",
            "+-----------------------------------------------------------------------------------------+\n",
            "| NVIDIA-SMI 560.35.03              Driver Version: 560.35.03      CUDA Version: 12.6     |\n",
            "|-----------------------------------------+------------------------+----------------------+\n",
            "| GPU  Name                 Persistence-M | Bus-Id          Disp.A | Volatile Uncorr. ECC |\n",
            "| Fan  Temp   Perf          Pwr:Usage/Cap |           Memory-Usage | GPU-Util  Compute M. |\n",
            "|                                         |                        |               MIG M. |\n",
            "|=========================================+========================+======================|\n",
            "|   0  Tesla T4                       Off |   00000000:00:04.0 Off |                    0 |\n",
            "| N/A   58C    P8             11W /   70W |       1MiB /  15360MiB |      0%      Default |\n",
            "|                                         |                        |                  N/A |\n",
            "+-----------------------------------------+------------------------+----------------------+\n",
            "|   1  Tesla T4                       Off |   00000000:00:05.0 Off |                    0 |\n",
            "| N/A   37C    P8              9W /   70W |       1MiB /  15360MiB |      0%      Default |\n",
            "|                                         |                        |                  N/A |\n",
            "+-----------------------------------------+------------------------+----------------------+\n",
            "                                                                                         \n",
            "+-----------------------------------------------------------------------------------------+\n",
            "| Processes:                                                                              |\n",
            "|  GPU   GI   CI        PID   Type   Process name                              GPU Memory |\n",
            "|        ID   ID                                                               Usage      |\n",
            "|=========================================================================================|\n",
            "|  No running processes found                                                             |\n",
            "+-----------------------------------------------------------------------------------------+\n"
          ]
        }
      ],
      "source": [
        "!nvidia-smi"
      ]
    },
    {
      "cell_type": "code",
      "execution_count": 2,
      "metadata": {
        "colab": {
          "base_uri": "https://localhost:8080/"
        },
        "id": "uIRC5lQ7ATqo",
        "outputId": "9c148d05-f75a-4eca-93e7-e4d83f659538"
      },
      "outputs": [
        {
          "name": "stdout",
          "output_type": "stream",
          "text": [
            "Data source import complete.\n"
          ]
        }
      ],
      "source": [
        "# IMPORTANT: RUN THIS CELL IN ORDER TO IMPORT YOUR KAGGLE DATA SOURCES,\n",
        "# THEN FEEL FREE TO DELETE THIS CELL.\n",
        "# NOTE: THIS NOTEBOOK ENVIRONMENT DIFFERS FROM KAGGLE'S PYTHON\n",
        "# ENVIRONMENT SO THERE MAY BE MISSING LIBRARIES USED BY YOUR\n",
        "# NOTEBOOK.\n",
        "import kagglehub\n",
        "\n",
        "\n",
        "arbaazbeg_bitgrit_air_pollution_path = kagglehub.dataset_download('arbaazbeg/bitgrit-air-pollution')\n",
        "print('Data source import complete.')"
      ]
    },
    {
      "cell_type": "code",
      "execution_count": 3,
      "metadata": {
        "execution": {
          "iopub.execute_input": "2025-07-29T16:16:17.330571Z",
          "iopub.status.busy": "2025-07-29T16:16:17.330204Z",
          "iopub.status.idle": "2025-07-29T16:16:17.349444Z",
          "shell.execute_reply": "2025-07-29T16:16:17.348454Z",
          "shell.execute_reply.started": "2025-07-29T16:16:17.330534Z"
        },
        "id": "0G0ez0UGATqp",
        "trusted": true
      },
      "outputs": [],
      "source": [
        "import torch\n",
        "\n",
        "\n",
        "def print_config(config):\n",
        "    attrs = {}\n",
        "    attrs.update(config.__dict__)\n",
        "\n",
        "    for key, value in config.__class__.__dict__.items():\n",
        "        if not key.startswith('__') and key not in attrs:\n",
        "            attrs[key] = value\n",
        "\n",
        "    for key, value in attrs.items():\n",
        "        print(f\"{key}: {value}\")\n",
        "\n",
        "\n",
        "class Config:\n",
        "    # Model\n",
        "    model_name = \"tabnet.month1.only.repro\"\n",
        "    input_dim = 6\n",
        "    target_dim = 1\n",
        "\n",
        "    # Device & reproducibility\n",
        "    device = \"cuda\" if torch.cuda.is_available() else \"cpu\"\n",
        "    seed = 5274\n",
        "\n",
        "    # Optimization\n",
        "    optimizer_name = \"AdamW\"\n",
        "    lr = 1e-4\n",
        "    weight_decay = 1e-3\n",
        "\n",
        "    grad_accum = False\n",
        "    grad_accum_steps = 1\n",
        "    batch_size = 32  # // grad_accum_steps\n",
        "\n",
        "    # Training schedule\n",
        "    num_epochs = 150\n",
        "    scheduler_name = \"default\"\n",
        "\n",
        "    # Regularization\n",
        "    dropout = 0.0\n",
        "    drop_path_rate = 0.0\n",
        "    label_smoothing = 0.0\n",
        "\n",
        "    # Experiment tracking\n",
        "    neptune_token = \"eyJhcGlfYWRkcmVzcyI6Imh0dHBzOi8vYXBwLm5lcHR1bmUuYWkiLCJhcGlfdXJsIjoiaHR0cHM6Ly9hcHAubmVwdHVuZS5haSIsImFwaV9rZXkiOiJlOGE2YjNiZS1mZGUyLTRjYjItYTg5Yy1mZWJkZTIzNzE1NmIifQ==\"\n",
        "    with_id = \"\"\n",
        "    resume = False\n",
        "\n",
        "config = Config()"
      ]
    },
    {
      "cell_type": "code",
      "execution_count": 4,
      "metadata": {},
      "outputs": [],
      "source": [
        "import random\n",
        "import numpy as np\n",
        "import torch\n",
        "\n",
        "def setup_reproducibility(config):\n",
        "    random.seed(config.seed)\n",
        "    np.random.seed(config.seed)\n",
        "    torch.manual_seed(config.seed)\n",
        "    if torch.cuda.is_available():\n",
        "        torch.cuda.manual_seed_all(config.seed)\n",
        "    torch.backends.cudnn.deterministic = True\n",
        "    torch.backends.cudnn.benchmark = False\n",
        "    torch.use_deterministic_algorithms(False, warn_only=True)\n",
        "    torch.set_float32_matmul_precision(\"high\")\n",
        "\n",
        "setup_reproducibility(config)"
      ]
    },
    {
      "cell_type": "code",
      "execution_count": 5,
      "metadata": {},
      "outputs": [
        {
          "data": {
            "text/plain": [
              "(32.116894, 71.55909, 267, (267, 1))"
            ]
          },
          "execution_count": 5,
          "metadata": {},
          "output_type": "execute_result"
        }
      ],
      "source": [
        "import pandas as pd\n",
        "from sklearn.preprocessing import StandardScaler\n",
        "from sklearn.model_selection import train_test_split\n",
        "\n",
        "\n",
        "def load_and_scale_data(path, SEED):\n",
        "    data = pd.read_csv(path).drop(columns=['id'])\n",
        "    data.dropna(inplace=True)\n",
        "    data = data[data[\"month\"] == 1]\n",
        "    data = data.to_numpy()#.astype(np.float32)\n",
        "    \n",
        "    inputs = data[:, :-1]\n",
        "    targets = data[:, -1].reshape(-1, 1)\n",
        "    \n",
        "    scaler = StandardScaler()\n",
        "    inputs = scaler.fit_transform(inputs)\n",
        "    \n",
        "    train_inputs, eval_inputs, train_targets, eval_targets = train_test_split(\n",
        "        inputs, \n",
        "        targets, \n",
        "        train_size=0.8, \n",
        "        random_state=SEED, \n",
        "        shuffle=False\n",
        "    )\n",
        "\n",
        "    return (\n",
        "        train_inputs.astype(np.float32),\n",
        "        train_targets.astype(np.float32),\n",
        "        eval_inputs.astype(np.float32),\n",
        "        eval_targets.astype(np.float32)\n",
        "    )\n",
        "\n",
        "path = arbaazbeg_bitgrit_air_pollution_path+\"/train.csv\"\n",
        "data = load_and_scale_data(path, config.seed)\n",
        "mean = data[1].mean()\n",
        "std = data[1].std()\n",
        "mean, std, len(data[0]), data[1].shape"
      ]
    },
    {
      "cell_type": "code",
      "execution_count": 6,
      "metadata": {},
      "outputs": [],
      "source": [
        "from torch.utils.data import Dataset\n",
        "\n",
        "\n",
        "class TabularDataset(Dataset):\n",
        "    def __init__(self, inputs, targets):\n",
        "        self.inputs = inputs\n",
        "        self.targets = targets\n",
        "        assert len(self.inputs) == len(self.targets), \"len not eq\"\n",
        "\n",
        "    def __len__(self):\n",
        "        return len(self.inputs)\n",
        "\n",
        "    def __getitem__(self, index):\n",
        "        return self.inputs[index], self.targets[index]\n",
        "\n",
        "train_ds = TabularDataset(data[0], data[1])\n",
        "eval_ds = TabularDataset(data[2], data[3])    "
      ]
    },
    {
      "cell_type": "code",
      "execution_count": 7,
      "metadata": {},
      "outputs": [],
      "source": [
        "from torch.utils.data import DataLoader\n",
        "\n",
        "\n",
        "def build_loader(\n",
        "    SEED,\n",
        "    ds,\n",
        "    train=True,\n",
        "    batch_size=16,\n",
        "    shuffle=False,\n",
        "    num_workers=4,\n",
        "    drop_last=True,\n",
        "    pin_memory=True,\n",
        "    persistent_workers=False,\n",
        "):\n",
        "    def seed_worker(worker_id):\n",
        "        worker_seed = torch.initial_seed() % 2**32\n",
        "        np.random.seed(worker_seed)\n",
        "        random.seed(worker_seed)\n",
        "\n",
        "    generator = torch.Generator()\n",
        "    generator.manual_seed(SEED if train else SEED+1)\n",
        "\n",
        "    return DataLoader(\n",
        "        ds,\n",
        "        batch_size=batch_size,\n",
        "        shuffle=shuffle,\n",
        "        num_workers=num_workers,\n",
        "        pin_memory=pin_memory,\n",
        "        drop_last=drop_last,\n",
        "        persistent_workers=persistent_workers,\n",
        "        worker_init_fn=seed_worker,\n",
        "        generator=generator,\n",
        "        #sampler=DistributedSampler(\n",
        "        #    train_ds,\n",
        "        #    shuffle=True,\n",
        "        #    drop_last=True,\n",
        "        #    seed=config.seed\n",
        "        #)\n",
        "    )\n",
        "    \n",
        "    \n",
        "train_dl = build_loader(\n",
        "    config.seed,\n",
        "    train_ds,\n",
        "    train=True,\n",
        "    batch_size=config.batch_size,\n",
        "    shuffle=True,\n",
        "    num_workers=0,\n",
        "    drop_last=True,\n",
        "    pin_memory=True,\n",
        "    persistent_workers=False,\n",
        ")\n",
        "\n",
        "eval_dl = build_loader(\n",
        "    config.seed,\n",
        "    eval_ds,\n",
        "    train=False,\n",
        "    batch_size=config.batch_size,\n",
        "    shuffle=False,\n",
        "    num_workers=0,\n",
        "    drop_last=True,\n",
        "    pin_memory=True,\n",
        "    persistent_workers=False,\n",
        ")"
      ]
    },
    {
      "cell_type": "code",
      "execution_count": 8,
      "metadata": {},
      "outputs": [],
      "source": [
        "import torch.nn as nn\n",
        "from pytorch_tabnet.tab_network import TabNet\n",
        "from pytorch_tabnet.utils import create_group_matrix\n",
        "\n",
        "\n",
        "class Model(nn.Module):\n",
        "    def __init__(self, mean, std):\n",
        "        super().__init__()\n",
        "        \n",
        "        grp_list = [[i] for i in range(6)]\n",
        "        group_matrix = create_group_matrix(\n",
        "            grp_list,\n",
        "            config.input_dim,\n",
        "        ).to(config.device)\n",
        "\n",
        "        self.backbone = TabNet(\n",
        "            input_dim=config.input_dim,\n",
        "            output_dim=config.target_dim,\n",
        "            group_attention_matrix=group_matrix\n",
        "        ).to(config.device)\n",
        "\n",
        "        self.register_buffer('mean', torch.tensor(mean))\n",
        "        self.register_buffer('std',  torch.tensor(std))\n",
        "\n",
        "    def forward(self, x):\n",
        "        x = self.backbone(x)[0]\n",
        "        return (x * self.std) + self.mean\n",
        "        \n",
        "model = Model(mean, std).to(config.device)       \n",
        "        \n",
        "optimizer = torch.optim.AdamW(\n",
        "    model.parameters(),\n",
        "    lr=config.lr,\n",
        "    weight_decay=config.weight_decay,\n",
        "    fused=True\n",
        ")"
      ]
    },
    {
      "cell_type": "code",
      "execution_count": 9,
      "metadata": {},
      "outputs": [],
      "source": [
        "from transformers import get_cosine_schedule_with_warmup\n",
        "\n",
        "\n",
        "total_training_steps = (len(train_dl)) * config.num_epochs\n",
        "warmup_steps = int(total_training_steps * 0.05)\n",
        "\n",
        "scheduler = get_cosine_schedule_with_warmup(\n",
        "    optimizer=optimizer,\n",
        "    num_warmup_steps=warmup_steps,\n",
        "    num_training_steps=total_training_steps\n",
        ")"
      ]
    },
    {
      "cell_type": "code",
      "execution_count": 10,
      "metadata": {},
      "outputs": [],
      "source": [
        "from collections import OrderedDict\n",
        "\n",
        "\n",
        "def remove_orig_mod(state_dict):\n",
        "    new_state_dict = OrderedDict()\n",
        "    prefix = \"_orig_mod.\"\n",
        "    for key, value in state_dict.items():\n",
        "        if key.startswith(prefix):\n",
        "            new_key = key[len(prefix):]\n",
        "        else:\n",
        "            new_key = key\n",
        "        new_state_dict[new_key] = value\n",
        "    return new_state_dict"
      ]
    },
    {
      "cell_type": "code",
      "execution_count": 11,
      "metadata": {},
      "outputs": [
        {
          "name": "stderr",
          "output_type": "stream",
          "text": [
            "[neptune] [warning] NeptuneWarning: By default, these monitoring options are disabled in interactive sessions: 'capture_stdout', 'capture_stderr', 'capture_traceback', 'capture_hardware_metrics'. You can set them to 'True' when initializing the run and the monitoring will continue until you call run.stop() or the kernel stops. NOTE: To track the source files, pass their paths to the 'source_code' argument. For help, see: https://docs-legacy.neptune.ai/logging/source_code/\n"
          ]
        },
        {
          "name": "stdout",
          "output_type": "stream",
          "text": [
            "[neptune] [info   ] Neptune initialized. Open in the app: https://app.neptune.ai/arbaaz/bitgrit-air-pollution-1/e/BIT-28\n"
          ]
        }
      ],
      "source": [
        "import neptune\n",
        "\n",
        "def setup_neptune(config):\n",
        "    if not config.resume:\n",
        "        neptune_run = neptune.init_run(\n",
        "            project=\"arbaaz/bitgrit-air-pollution-1\",\n",
        "            name=config.model_name,\n",
        "            api_token=config.neptune_token\n",
        "        )\n",
        "\n",
        "        neptune_run[\"h_parameters\"] = {\n",
        "            \"model_name\": config.model_name,\n",
        "            \"optimizer_name\": config.optimizer_name,\n",
        "            \"learning_rate\": config.lr,\n",
        "            \"scheduler_name\": config.scheduler_name,\n",
        "            \"weight_decay\": config.weight_decay,\n",
        "            \"dropout\": config.dropout,\n",
        "            \"label_smoothing\": config.label_smoothing,\n",
        "            \"num_epochs\": config.num_epochs,\n",
        "            \"batch_size\": config.batch_size,\n",
        "            \"grad_accum_steps\": config.grad_accum_steps,\n",
        "        }\n",
        "    else:\n",
        "        neptune_run = neptune.init_run(\n",
        "            project=\"arbaaz/onward-speed-and-structure\",\n",
        "            with_id=config.with_id,\n",
        "            api_token=config.neptune_token\n",
        "        )\n",
        "\n",
        "    return neptune_run\n",
        "\n",
        "neptune_run = setup_neptune(config)    "
      ]
    },
    {
      "cell_type": "code",
      "execution_count": 12,
      "metadata": {},
      "outputs": [],
      "source": [
        "import os\n",
        "import torch.nn.functional as F\n",
        "from sklearn.metrics import root_mean_squared_error\n",
        "    \n",
        "\n",
        "def loss_fn(preds, targets):\n",
        "    return F.mse_loss(preds, targets)\n",
        "\n",
        "\n",
        "def metric_fn(preds, targets):\n",
        "    mse = F.mse_loss(preds, targets)\n",
        "    rmse = -(torch.sqrt(mse) / 100)\n",
        "    return torch.exp(rmse)\n",
        "\n",
        "\n",
        "def metric_fn_np(preds, targets):\n",
        "    rmse = root_mean_squared_error(preds, targets)\n",
        "    rmse = -(rmse / 100)\n",
        "    return np.exp(rmse)"
      ]
    },
    {
      "cell_type": "code",
      "execution_count": 13,
      "metadata": {},
      "outputs": [],
      "source": [
        "from tqdm.auto import tqdm\n",
        "            \n",
        "\n",
        "def return_logits(model, inputs):\n",
        "    return  model(inputs)\n",
        "\n",
        "\n",
        "def train_step(model, inputs, targets):\n",
        "    with torch.autocast(device_type=config.device, dtype=torch.float16, cache_enabled=True):\n",
        "        logits = return_logits(model, inputs)\n",
        "        mse = loss_fn(logits, targets)\n",
        "        rmse = metric_fn(logits, targets)\n",
        "    return mse, rmse\n",
        "\n",
        "\n",
        "def eval_step(model, inputs, targets):\n",
        "    with torch.inference_mode():\n",
        "        with torch.autocast(device_type=config.device, dtype=torch.float16, cache_enabled=True):\n",
        "            logits = return_logits(model, inputs)\n",
        "            mse = loss_fn(logits, targets)\n",
        "            rmse = metric_fn(logits, targets)\n",
        "    return mse, rmse\n",
        "\n",
        "\n",
        "def inference_step(model, inputs):\n",
        "    model.eval() # FIX THIS \n",
        "    with torch.inference_mode():\n",
        "        with torch.autocast(device_type=config.device, dtype=torch.float16, cache_enabled=True):\n",
        "            logits = return_logits(model, inputs)\n",
        "    return logits\n",
        "    \n",
        "\n",
        "def backward_step(loss, optimizer, scaler, scheduler):\n",
        "    scaler.scale(loss).backward()\n",
        "    scaler.step(optimizer)\n",
        "    scaler.update()\n",
        "    optimizer.zero_grad()\n",
        "    scheduler.step()\n",
        "          \n",
        "    \n",
        "def reduce_outputs(outputs):\n",
        "    data = {}\n",
        "    for key in outputs[0].keys():\n",
        "        if outputs[0][key].dim() == 0:\n",
        "            value = torch.stack([x[key] for x in outputs]).mean().item()\n",
        "            data[key] = value\n",
        "    return data\n",
        "\n",
        "\n",
        "def save_ckpt(model, metadata, ckpt_path):\n",
        "    data = {\"state_dict\": model.state_dict()}\n",
        "    for k, v in metadata.items():\n",
        "        data[k] = v\n",
        "    torch.save(data, ckpt_path)\n",
        "\n",
        "\n",
        "def log_and_print(neptune_run, data, log=True, print=True):\n",
        "    if log:\n",
        "        for key, value in data.items():\n",
        "            neptune_run[key].append(value)\n",
        "        \n",
        "    if print:\n",
        "        tqdm.write((\n",
        "            f\"Epoch: {data['epoch']}, \"\n",
        "            f\"train/mse: {data['train/mse']:.4f}, \"\n",
        "            f\"eval/mse: {data['eval/mse']:.4f}, \"\n",
        "            f\"train/rmse: {data['train/rmse']:.4f}, \"\n",
        "            f\"eval/rmse: {data['eval/rmse']:.4f}, \"\n",
        "        ))"
      ]
    },
    {
      "cell_type": "code",
      "execution_count": 14,
      "metadata": {},
      "outputs": [],
      "source": [
        "def train_one_epoch(\n",
        "    model, \n",
        "    optimizer,\n",
        "    scaler,  \n",
        "    scheduler,\n",
        "    train_dl,\n",
        "    epoch,\n",
        "    num_epochs,\n",
        "    resume_epoch,\n",
        "    resume, \n",
        "    log_lr_on_step,\n",
        "    neptune_run\n",
        "):\n",
        "    model.train()\n",
        "    pbar = tqdm(\n",
        "        train_dl,\n",
        "        desc=f\"Epoch: {epoch}/{num_epochs}\",\n",
        "        leave=False,\n",
        "        dynamic_ncols=True,\n",
        "        colour=\"red\",\n",
        "        position=1,\n",
        "    )\n",
        "    outputs = []\n",
        "\n",
        "    for index, (inputs, targets) in enumerate(pbar):\n",
        "        if resume and epoch < resume_epoch:\n",
        "            continue\n",
        "        \n",
        "        inputs = inputs.to(config.device, non_blocking=True)\n",
        "        targets = targets.to(config.device, non_blocking=True)\n",
        "    \n",
        "        mse, rmse = train_step(model, inputs, targets)\n",
        "        backward_step(mse, optimizer, scaler, scheduler)\n",
        "\n",
        "        outputs.append({\n",
        "            \"train/mse\": mse.detach().cpu(),\n",
        "            \"train/rmse\": rmse.detach().cpu(),\n",
        "        })\n",
        "\n",
        "        if log_lr_on_step:\n",
        "            log_and_print(\n",
        "                neptune_run,\n",
        "                data={\"STEP/lr\": scheduler.get_last_lr()[0]}, \n",
        "                log=True, \n",
        "                print=False\n",
        "            )\n",
        "            \n",
        "    return outputs\n",
        "            \n",
        "            \n",
        "def evaluate(model, eval_dl):\n",
        "    model.eval()\n",
        "    pbar = tqdm(\n",
        "        eval_dl,\n",
        "        desc=f\"Evaluating\",\n",
        "        leave=False,\n",
        "        dynamic_ncols=True,\n",
        "        colour=\"blue\",\n",
        "        position=1,\n",
        "    )\n",
        "    outputs = []\n",
        "    \n",
        "    for inputs, targets in pbar:\n",
        "        inputs = inputs.to(config.device, non_blocking=True)\n",
        "        targets = targets.to(config.device, non_blocking=True)\n",
        "        mse, rmse = eval_step(model, inputs, targets)\n",
        "        \n",
        "        outputs.append({\n",
        "            \"eval/mse\": mse.detach().cpu(),\n",
        "            \"eval/rmse\": rmse.detach().cpu(),\n",
        "        })\n",
        "        \n",
        "    return outputs"
      ]
    },
    {
      "cell_type": "code",
      "execution_count": 15,
      "metadata": {},
      "outputs": [
        {
          "data": {
            "application/vnd.jupyter.widget-view+json": {
              "model_id": "16e5278c7e134fb09079368a4ff66690",
              "version_major": 2,
              "version_minor": 0
            },
            "text/plain": [
              "  0%|          | 0/150 [00:00<?, ?it/s]"
            ]
          },
          "metadata": {},
          "output_type": "display_data"
        },
        {
          "data": {
            "application/vnd.jupyter.widget-view+json": {
              "model_id": "aa885cd6b65e456a9417fc6cad3491c4",
              "version_major": 2,
              "version_minor": 0
            },
            "text/plain": [
              "Epoch: 0/150:   0%|          | 0/8 [00:00<?, ?it/s]"
            ]
          },
          "metadata": {},
          "output_type": "display_data"
        },
        {
          "data": {
            "application/vnd.jupyter.widget-view+json": {
              "model_id": "5cdcda3c80ed4c84b2a1937777eb7f79",
              "version_major": 2,
              "version_minor": 0
            },
            "text/plain": [
              "Evaluating:   0%|          | 0/2 [00:00<?, ?it/s]"
            ]
          },
          "metadata": {},
          "output_type": "display_data"
        },
        {
          "name": "stdout",
          "output_type": "stream",
          "text": [
            "Epoch: 0, train/mse: 7489.2988, eval/mse: 2801.8059, train/rmse: 0.5008, eval/rmse: 0.6068, \n"
          ]
        },
        {
          "data": {
            "application/vnd.jupyter.widget-view+json": {
              "model_id": "41ff9e79da874144a276ff522fa2db55",
              "version_major": 2,
              "version_minor": 0
            },
            "text/plain": [
              "Epoch: 1/150:   0%|          | 0/8 [00:00<?, ?it/s]"
            ]
          },
          "metadata": {},
          "output_type": "display_data"
        },
        {
          "data": {
            "application/vnd.jupyter.widget-view+json": {
              "model_id": "b64904de47ee48f1a0b821faba9f55a6",
              "version_major": 2,
              "version_minor": 0
            },
            "text/plain": [
              "Evaluating:   0%|          | 0/2 [00:00<?, ?it/s]"
            ]
          },
          "metadata": {},
          "output_type": "display_data"
        },
        {
          "name": "stdout",
          "output_type": "stream",
          "text": [
            "Epoch: 1, train/mse: 7052.1484, eval/mse: 2376.4436, train/rmse: 0.5062, eval/rmse: 0.6286, \n"
          ]
        },
        {
          "data": {
            "application/vnd.jupyter.widget-view+json": {
              "model_id": "271723f057be49db9a9d7af7686fab57",
              "version_major": 2,
              "version_minor": 0
            },
            "text/plain": [
              "Epoch: 2/150:   0%|          | 0/8 [00:00<?, ?it/s]"
            ]
          },
          "metadata": {},
          "output_type": "display_data"
        },
        {
          "data": {
            "application/vnd.jupyter.widget-view+json": {
              "model_id": "5062e21046f342acb5c50fee20342c68",
              "version_major": 2,
              "version_minor": 0
            },
            "text/plain": [
              "Evaluating:   0%|          | 0/2 [00:00<?, ?it/s]"
            ]
          },
          "metadata": {},
          "output_type": "display_data"
        },
        {
          "name": "stdout",
          "output_type": "stream",
          "text": [
            "Epoch: 2, train/mse: 7682.0107, eval/mse: 1980.3339, train/rmse: 0.4936, eval/rmse: 0.6574, \n"
          ]
        },
        {
          "data": {
            "application/vnd.jupyter.widget-view+json": {
              "model_id": "8007d849a70f4178bfeda95068eaefe2",
              "version_major": 2,
              "version_minor": 0
            },
            "text/plain": [
              "Epoch: 3/150:   0%|          | 0/8 [00:00<?, ?it/s]"
            ]
          },
          "metadata": {},
          "output_type": "display_data"
        },
        {
          "data": {
            "application/vnd.jupyter.widget-view+json": {
              "model_id": "5d995695b38643e7b1ab9806a834dc5a",
              "version_major": 2,
              "version_minor": 0
            },
            "text/plain": [
              "Evaluating:   0%|          | 0/2 [00:00<?, ?it/s]"
            ]
          },
          "metadata": {},
          "output_type": "display_data"
        },
        {
          "name": "stdout",
          "output_type": "stream",
          "text": [
            "Epoch: 3, train/mse: 7041.0894, eval/mse: 2080.5430, train/rmse: 0.5137, eval/rmse: 0.6572, \n"
          ]
        },
        {
          "data": {
            "application/vnd.jupyter.widget-view+json": {
              "model_id": "3909cdded3654f4393dde09a707e1c91",
              "version_major": 2,
              "version_minor": 0
            },
            "text/plain": [
              "Epoch: 4/150:   0%|          | 0/8 [00:00<?, ?it/s]"
            ]
          },
          "metadata": {},
          "output_type": "display_data"
        },
        {
          "data": {
            "application/vnd.jupyter.widget-view+json": {
              "model_id": "be62611be8c24b278116eddcc715353d",
              "version_major": 2,
              "version_minor": 0
            },
            "text/plain": [
              "Evaluating:   0%|          | 0/2 [00:00<?, ?it/s]"
            ]
          },
          "metadata": {},
          "output_type": "display_data"
        },
        {
          "name": "stdout",
          "output_type": "stream",
          "text": [
            "Epoch: 4, train/mse: 7078.0991, eval/mse: 2546.1287, train/rmse: 0.5223, eval/rmse: 0.6424, \n"
          ]
        },
        {
          "data": {
            "application/vnd.jupyter.widget-view+json": {
              "model_id": "6031c0d1d50745e99021f534ab09950e",
              "version_major": 2,
              "version_minor": 0
            },
            "text/plain": [
              "Epoch: 5/150:   0%|          | 0/8 [00:00<?, ?it/s]"
            ]
          },
          "metadata": {},
          "output_type": "display_data"
        },
        {
          "data": {
            "application/vnd.jupyter.widget-view+json": {
              "model_id": "35fdad8aeb1a4c32ac947ca7d420c003",
              "version_major": 2,
              "version_minor": 0
            },
            "text/plain": [
              "Evaluating:   0%|          | 0/2 [00:00<?, ?it/s]"
            ]
          },
          "metadata": {},
          "output_type": "display_data"
        },
        {
          "name": "stdout",
          "output_type": "stream",
          "text": [
            "Epoch: 5, train/mse: 2811.2139, eval/mse: 2907.0054, train/rmse: 0.5925, eval/rmse: 0.6333, \n"
          ]
        },
        {
          "data": {
            "application/vnd.jupyter.widget-view+json": {
              "model_id": "601b089ec3f443d897351f29e3b052a6",
              "version_major": 2,
              "version_minor": 0
            },
            "text/plain": [
              "Epoch: 6/150:   0%|          | 0/8 [00:00<?, ?it/s]"
            ]
          },
          "metadata": {},
          "output_type": "display_data"
        },
        {
          "data": {
            "application/vnd.jupyter.widget-view+json": {
              "model_id": "a02e9068be8f4183b6d40c3d336dc2c4",
              "version_major": 2,
              "version_minor": 0
            },
            "text/plain": [
              "Evaluating:   0%|          | 0/2 [00:00<?, ?it/s]"
            ]
          },
          "metadata": {},
          "output_type": "display_data"
        },
        {
          "name": "stdout",
          "output_type": "stream",
          "text": [
            "Epoch: 6, train/mse: 7359.8247, eval/mse: 3083.3989, train/rmse: 0.5187, eval/rmse: 0.6301, \n"
          ]
        },
        {
          "data": {
            "application/vnd.jupyter.widget-view+json": {
              "model_id": "b5366268f57d4dfb97ceef104cd2d6a1",
              "version_major": 2,
              "version_minor": 0
            },
            "text/plain": [
              "Epoch: 7/150:   0%|          | 0/8 [00:00<?, ?it/s]"
            ]
          },
          "metadata": {},
          "output_type": "display_data"
        },
        {
          "data": {
            "application/vnd.jupyter.widget-view+json": {
              "model_id": "e327fb059d324eaa81f54049093630fd",
              "version_major": 2,
              "version_minor": 0
            },
            "text/plain": [
              "Evaluating:   0%|          | 0/2 [00:00<?, ?it/s]"
            ]
          },
          "metadata": {},
          "output_type": "display_data"
        },
        {
          "name": "stdout",
          "output_type": "stream",
          "text": [
            "Epoch: 7, train/mse: 6065.4360, eval/mse: 2404.2510, train/rmse: 0.5015, eval/rmse: 0.6556, \n"
          ]
        },
        {
          "data": {
            "application/vnd.jupyter.widget-view+json": {
              "model_id": "b3557dc3a1214bf89aba9030398b4792",
              "version_major": 2,
              "version_minor": 0
            },
            "text/plain": [
              "Epoch: 8/150:   0%|          | 0/8 [00:00<?, ?it/s]"
            ]
          },
          "metadata": {},
          "output_type": "display_data"
        },
        {
          "data": {
            "application/vnd.jupyter.widget-view+json": {
              "model_id": "4d4c5c68f65246d78cc1f39362b57980",
              "version_major": 2,
              "version_minor": 0
            },
            "text/plain": [
              "Evaluating:   0%|          | 0/2 [00:00<?, ?it/s]"
            ]
          },
          "metadata": {},
          "output_type": "display_data"
        },
        {
          "name": "stdout",
          "output_type": "stream",
          "text": [
            "Epoch: 8, train/mse: 5366.5723, eval/mse: 2191.6992, train/rmse: 0.5601, eval/rmse: 0.6658, \n"
          ]
        },
        {
          "data": {
            "application/vnd.jupyter.widget-view+json": {
              "model_id": "1f7424fb7fe14e46961fd57605d2d8a5",
              "version_major": 2,
              "version_minor": 0
            },
            "text/plain": [
              "Epoch: 9/150:   0%|          | 0/8 [00:00<?, ?it/s]"
            ]
          },
          "metadata": {},
          "output_type": "display_data"
        },
        {
          "data": {
            "application/vnd.jupyter.widget-view+json": {
              "model_id": "3426ce864f3047a6a53f7f890fe75989",
              "version_major": 2,
              "version_minor": 0
            },
            "text/plain": [
              "Evaluating:   0%|          | 0/2 [00:00<?, ?it/s]"
            ]
          },
          "metadata": {},
          "output_type": "display_data"
        },
        {
          "name": "stdout",
          "output_type": "stream",
          "text": [
            "Epoch: 9, train/mse: 6615.0874, eval/mse: 2043.8434, train/rmse: 0.5312, eval/rmse: 0.6726, \n"
          ]
        },
        {
          "data": {
            "application/vnd.jupyter.widget-view+json": {
              "model_id": "ed316fe3b91347fb8d6f14b535199553",
              "version_major": 2,
              "version_minor": 0
            },
            "text/plain": [
              "Epoch: 10/150:   0%|          | 0/8 [00:00<?, ?it/s]"
            ]
          },
          "metadata": {},
          "output_type": "display_data"
        },
        {
          "data": {
            "application/vnd.jupyter.widget-view+json": {
              "model_id": "d5888e7aa1d44d099476fb748647b6b1",
              "version_major": 2,
              "version_minor": 0
            },
            "text/plain": [
              "Evaluating:   0%|          | 0/2 [00:00<?, ?it/s]"
            ]
          },
          "metadata": {},
          "output_type": "display_data"
        },
        {
          "name": "stdout",
          "output_type": "stream",
          "text": [
            "Epoch: 10, train/mse: 6734.0645, eval/mse: 1610.2095, train/rmse: 0.5514, eval/rmse: 0.6963, \n"
          ]
        },
        {
          "data": {
            "application/vnd.jupyter.widget-view+json": {
              "model_id": "c047996784904bb3801a9f26932eed86",
              "version_major": 2,
              "version_minor": 0
            },
            "text/plain": [
              "Epoch: 11/150:   0%|          | 0/8 [00:00<?, ?it/s]"
            ]
          },
          "metadata": {},
          "output_type": "display_data"
        },
        {
          "data": {
            "application/vnd.jupyter.widget-view+json": {
              "model_id": "61073f98b07d47ee944946d69e372603",
              "version_major": 2,
              "version_minor": 0
            },
            "text/plain": [
              "Evaluating:   0%|          | 0/2 [00:00<?, ?it/s]"
            ]
          },
          "metadata": {},
          "output_type": "display_data"
        },
        {
          "name": "stdout",
          "output_type": "stream",
          "text": [
            "Epoch: 11, train/mse: 6446.0620, eval/mse: 1536.5737, train/rmse: 0.5424, eval/rmse: 0.7010, \n"
          ]
        },
        {
          "data": {
            "application/vnd.jupyter.widget-view+json": {
              "model_id": "d2d9c723f67b46c9b1b8ad78f8c133bf",
              "version_major": 2,
              "version_minor": 0
            },
            "text/plain": [
              "Epoch: 12/150:   0%|          | 0/8 [00:00<?, ?it/s]"
            ]
          },
          "metadata": {},
          "output_type": "display_data"
        },
        {
          "data": {
            "application/vnd.jupyter.widget-view+json": {
              "model_id": "84ae7e3cc08644b596be5260dc810ff0",
              "version_major": 2,
              "version_minor": 0
            },
            "text/plain": [
              "Evaluating:   0%|          | 0/2 [00:00<?, ?it/s]"
            ]
          },
          "metadata": {},
          "output_type": "display_data"
        },
        {
          "name": "stdout",
          "output_type": "stream",
          "text": [
            "Epoch: 12, train/mse: 7331.2617, eval/mse: 1699.7633, train/rmse: 0.5213, eval/rmse: 0.6915, \n"
          ]
        },
        {
          "data": {
            "application/vnd.jupyter.widget-view+json": {
              "model_id": "1aab28ade3e64aeeb67084822740d36a",
              "version_major": 2,
              "version_minor": 0
            },
            "text/plain": [
              "Epoch: 13/150:   0%|          | 0/8 [00:00<?, ?it/s]"
            ]
          },
          "metadata": {},
          "output_type": "display_data"
        },
        {
          "data": {
            "application/vnd.jupyter.widget-view+json": {
              "model_id": "0d8e59e7e0244e409d982ebeace67011",
              "version_major": 2,
              "version_minor": 0
            },
            "text/plain": [
              "Evaluating:   0%|          | 0/2 [00:00<?, ?it/s]"
            ]
          },
          "metadata": {},
          "output_type": "display_data"
        },
        {
          "name": "stdout",
          "output_type": "stream",
          "text": [
            "Epoch: 13, train/mse: 6573.5234, eval/mse: 1554.9249, train/rmse: 0.5298, eval/rmse: 0.7005, \n"
          ]
        },
        {
          "data": {
            "application/vnd.jupyter.widget-view+json": {
              "model_id": "7aea4c1d2a6f436cb81751b8cb8970eb",
              "version_major": 2,
              "version_minor": 0
            },
            "text/plain": [
              "Epoch: 14/150:   0%|          | 0/8 [00:00<?, ?it/s]"
            ]
          },
          "metadata": {},
          "output_type": "display_data"
        },
        {
          "data": {
            "application/vnd.jupyter.widget-view+json": {
              "model_id": "3e35a3b6ee014db597bc70c3e07c78e6",
              "version_major": 2,
              "version_minor": 0
            },
            "text/plain": [
              "Evaluating:   0%|          | 0/2 [00:00<?, ?it/s]"
            ]
          },
          "metadata": {},
          "output_type": "display_data"
        },
        {
          "name": "stdout",
          "output_type": "stream",
          "text": [
            "Epoch: 14, train/mse: 6742.3560, eval/mse: 1475.7900, train/rmse: 0.5560, eval/rmse: 0.7058, \n"
          ]
        },
        {
          "data": {
            "application/vnd.jupyter.widget-view+json": {
              "model_id": "00b211cd58974b16b697b45799f3cabf",
              "version_major": 2,
              "version_minor": 0
            },
            "text/plain": [
              "Epoch: 15/150:   0%|          | 0/8 [00:00<?, ?it/s]"
            ]
          },
          "metadata": {},
          "output_type": "display_data"
        },
        {
          "data": {
            "application/vnd.jupyter.widget-view+json": {
              "model_id": "0220f6e48bb042268c3388c1e0ecd9c4",
              "version_major": 2,
              "version_minor": 0
            },
            "text/plain": [
              "Evaluating:   0%|          | 0/2 [00:00<?, ?it/s]"
            ]
          },
          "metadata": {},
          "output_type": "display_data"
        },
        {
          "name": "stdout",
          "output_type": "stream",
          "text": [
            "Epoch: 15, train/mse: 6476.6670, eval/mse: 1475.2684, train/rmse: 0.5526, eval/rmse: 0.7069, \n"
          ]
        },
        {
          "data": {
            "application/vnd.jupyter.widget-view+json": {
              "model_id": "470664121e89425ca4ad995e1aaa3de8",
              "version_major": 2,
              "version_minor": 0
            },
            "text/plain": [
              "Epoch: 16/150:   0%|          | 0/8 [00:00<?, ?it/s]"
            ]
          },
          "metadata": {},
          "output_type": "display_data"
        },
        {
          "data": {
            "application/vnd.jupyter.widget-view+json": {
              "model_id": "70f961b294c74fe38063b9a11e207442",
              "version_major": 2,
              "version_minor": 0
            },
            "text/plain": [
              "Evaluating:   0%|          | 0/2 [00:00<?, ?it/s]"
            ]
          },
          "metadata": {},
          "output_type": "display_data"
        },
        {
          "name": "stdout",
          "output_type": "stream",
          "text": [
            "Epoch: 16, train/mse: 6585.3784, eval/mse: 1928.9313, train/rmse: 0.5305, eval/rmse: 0.6807, \n"
          ]
        },
        {
          "data": {
            "application/vnd.jupyter.widget-view+json": {
              "model_id": "d9a1318eeec346c0bb8ceb460ce77f25",
              "version_major": 2,
              "version_minor": 0
            },
            "text/plain": [
              "Epoch: 17/150:   0%|          | 0/8 [00:00<?, ?it/s]"
            ]
          },
          "metadata": {},
          "output_type": "display_data"
        },
        {
          "data": {
            "application/vnd.jupyter.widget-view+json": {
              "model_id": "57d372d6276d4fa28cdbda3b7fd030a4",
              "version_major": 2,
              "version_minor": 0
            },
            "text/plain": [
              "Evaluating:   0%|          | 0/2 [00:00<?, ?it/s]"
            ]
          },
          "metadata": {},
          "output_type": "display_data"
        },
        {
          "name": "stdout",
          "output_type": "stream",
          "text": [
            "Epoch: 17, train/mse: 6895.9805, eval/mse: 1596.1393, train/rmse: 0.5291, eval/rmse: 0.6984, \n"
          ]
        },
        {
          "data": {
            "application/vnd.jupyter.widget-view+json": {
              "model_id": "aafc96c99b4648229dd2599b368979df",
              "version_major": 2,
              "version_minor": 0
            },
            "text/plain": [
              "Epoch: 18/150:   0%|          | 0/8 [00:00<?, ?it/s]"
            ]
          },
          "metadata": {},
          "output_type": "display_data"
        },
        {
          "data": {
            "application/vnd.jupyter.widget-view+json": {
              "model_id": "2ef1ca754a7b4c11aaa0026015620615",
              "version_major": 2,
              "version_minor": 0
            },
            "text/plain": [
              "Evaluating:   0%|          | 0/2 [00:00<?, ?it/s]"
            ]
          },
          "metadata": {},
          "output_type": "display_data"
        },
        {
          "name": "stdout",
          "output_type": "stream",
          "text": [
            "Epoch: 18, train/mse: 7091.2217, eval/mse: 1894.5769, train/rmse: 0.5306, eval/rmse: 0.6823, \n"
          ]
        },
        {
          "data": {
            "application/vnd.jupyter.widget-view+json": {
              "model_id": "93d99eb08f9a4fea8459a533c98409ee",
              "version_major": 2,
              "version_minor": 0
            },
            "text/plain": [
              "Epoch: 19/150:   0%|          | 0/8 [00:00<?, ?it/s]"
            ]
          },
          "metadata": {},
          "output_type": "display_data"
        },
        {
          "data": {
            "application/vnd.jupyter.widget-view+json": {
              "model_id": "08dc3cb21c7245a6904a9f5e70e0046e",
              "version_major": 2,
              "version_minor": 0
            },
            "text/plain": [
              "Evaluating:   0%|          | 0/2 [00:00<?, ?it/s]"
            ]
          },
          "metadata": {},
          "output_type": "display_data"
        },
        {
          "name": "stdout",
          "output_type": "stream",
          "text": [
            "Epoch: 19, train/mse: 6647.0977, eval/mse: 2152.4346, train/rmse: 0.5505, eval/rmse: 0.6709, \n"
          ]
        },
        {
          "data": {
            "application/vnd.jupyter.widget-view+json": {
              "model_id": "65c4e2c8ec9449ecaaf6d0344d8f9fac",
              "version_major": 2,
              "version_minor": 0
            },
            "text/plain": [
              "Epoch: 20/150:   0%|          | 0/8 [00:00<?, ?it/s]"
            ]
          },
          "metadata": {},
          "output_type": "display_data"
        },
        {
          "data": {
            "application/vnd.jupyter.widget-view+json": {
              "model_id": "6563daeb9a0f47faba9fcc1407e7a025",
              "version_major": 2,
              "version_minor": 0
            },
            "text/plain": [
              "Evaluating:   0%|          | 0/2 [00:00<?, ?it/s]"
            ]
          },
          "metadata": {},
          "output_type": "display_data"
        },
        {
          "name": "stdout",
          "output_type": "stream",
          "text": [
            "Epoch: 20, train/mse: 6066.3203, eval/mse: 2287.4482, train/rmse: 0.5635, eval/rmse: 0.6640, \n"
          ]
        },
        {
          "data": {
            "application/vnd.jupyter.widget-view+json": {
              "model_id": "9dd03452c834418889408bb60f67995b",
              "version_major": 2,
              "version_minor": 0
            },
            "text/plain": [
              "Epoch: 21/150:   0%|          | 0/8 [00:00<?, ?it/s]"
            ]
          },
          "metadata": {},
          "output_type": "display_data"
        },
        {
          "data": {
            "application/vnd.jupyter.widget-view+json": {
              "model_id": "57311de5d3bd4c0e88b5b5803446a3e1",
              "version_major": 2,
              "version_minor": 0
            },
            "text/plain": [
              "Evaluating:   0%|          | 0/2 [00:00<?, ?it/s]"
            ]
          },
          "metadata": {},
          "output_type": "display_data"
        },
        {
          "name": "stdout",
          "output_type": "stream",
          "text": [
            "Epoch: 21, train/mse: 6397.7188, eval/mse: 2171.5986, train/rmse: 0.5297, eval/rmse: 0.6682, \n"
          ]
        },
        {
          "data": {
            "application/vnd.jupyter.widget-view+json": {
              "model_id": "72c74e232bee47e3ba33ad41aa92cc45",
              "version_major": 2,
              "version_minor": 0
            },
            "text/plain": [
              "Epoch: 22/150:   0%|          | 0/8 [00:00<?, ?it/s]"
            ]
          },
          "metadata": {},
          "output_type": "display_data"
        },
        {
          "data": {
            "application/vnd.jupyter.widget-view+json": {
              "model_id": "ea28bf9840014dc7807920a16d5fb600",
              "version_major": 2,
              "version_minor": 0
            },
            "text/plain": [
              "Evaluating:   0%|          | 0/2 [00:00<?, ?it/s]"
            ]
          },
          "metadata": {},
          "output_type": "display_data"
        },
        {
          "name": "stdout",
          "output_type": "stream",
          "text": [
            "Epoch: 22, train/mse: 5387.0000, eval/mse: 2620.2954, train/rmse: 0.5643, eval/rmse: 0.6505, \n"
          ]
        },
        {
          "data": {
            "application/vnd.jupyter.widget-view+json": {
              "model_id": "51ba7c989e9146ddade33e56b93c7ec1",
              "version_major": 2,
              "version_minor": 0
            },
            "text/plain": [
              "Epoch: 23/150:   0%|          | 0/8 [00:00<?, ?it/s]"
            ]
          },
          "metadata": {},
          "output_type": "display_data"
        },
        {
          "data": {
            "application/vnd.jupyter.widget-view+json": {
              "model_id": "d23a5cd4bf2b4f87ba90ba9f90a28284",
              "version_major": 2,
              "version_minor": 0
            },
            "text/plain": [
              "Evaluating:   0%|          | 0/2 [00:00<?, ?it/s]"
            ]
          },
          "metadata": {},
          "output_type": "display_data"
        },
        {
          "name": "stdout",
          "output_type": "stream",
          "text": [
            "Epoch: 23, train/mse: 6442.7422, eval/mse: 2587.3721, train/rmse: 0.5471, eval/rmse: 0.6514, \n"
          ]
        },
        {
          "data": {
            "application/vnd.jupyter.widget-view+json": {
              "model_id": "b56c8d65285249cdad20cde6beeefd0b",
              "version_major": 2,
              "version_minor": 0
            },
            "text/plain": [
              "Epoch: 24/150:   0%|          | 0/8 [00:00<?, ?it/s]"
            ]
          },
          "metadata": {},
          "output_type": "display_data"
        },
        {
          "data": {
            "application/vnd.jupyter.widget-view+json": {
              "model_id": "745eee3c358f43a7ac6d8f52218d4ad5",
              "version_major": 2,
              "version_minor": 0
            },
            "text/plain": [
              "Evaluating:   0%|          | 0/2 [00:00<?, ?it/s]"
            ]
          },
          "metadata": {},
          "output_type": "display_data"
        },
        {
          "name": "stdout",
          "output_type": "stream",
          "text": [
            "Epoch: 24, train/mse: 5901.8804, eval/mse: 2508.6816, train/rmse: 0.5536, eval/rmse: 0.6543, \n"
          ]
        },
        {
          "data": {
            "application/vnd.jupyter.widget-view+json": {
              "model_id": "9a2a8a90294e47acb7f212b422fda94d",
              "version_major": 2,
              "version_minor": 0
            },
            "text/plain": [
              "Epoch: 25/150:   0%|          | 0/8 [00:00<?, ?it/s]"
            ]
          },
          "metadata": {},
          "output_type": "display_data"
        },
        {
          "data": {
            "application/vnd.jupyter.widget-view+json": {
              "model_id": "de86e618c42e422e90ec6bc0ee41cc47",
              "version_major": 2,
              "version_minor": 0
            },
            "text/plain": [
              "Evaluating:   0%|          | 0/2 [00:00<?, ?it/s]"
            ]
          },
          "metadata": {},
          "output_type": "display_data"
        },
        {
          "name": "stdout",
          "output_type": "stream",
          "text": [
            "Epoch: 25, train/mse: 6963.4404, eval/mse: 2255.4343, train/rmse: 0.5472, eval/rmse: 0.6641, \n"
          ]
        },
        {
          "data": {
            "application/vnd.jupyter.widget-view+json": {
              "model_id": "3d0d59a345d2449488c5e4bb94d273e2",
              "version_major": 2,
              "version_minor": 0
            },
            "text/plain": [
              "Epoch: 26/150:   0%|          | 0/8 [00:00<?, ?it/s]"
            ]
          },
          "metadata": {},
          "output_type": "display_data"
        },
        {
          "data": {
            "application/vnd.jupyter.widget-view+json": {
              "model_id": "128192ec7f884fd9baefdbccda7df71e",
              "version_major": 2,
              "version_minor": 0
            },
            "text/plain": [
              "Evaluating:   0%|          | 0/2 [00:00<?, ?it/s]"
            ]
          },
          "metadata": {},
          "output_type": "display_data"
        },
        {
          "name": "stdout",
          "output_type": "stream",
          "text": [
            "Epoch: 26, train/mse: 5880.0522, eval/mse: 2101.2412, train/rmse: 0.5463, eval/rmse: 0.6709, \n"
          ]
        },
        {
          "data": {
            "application/vnd.jupyter.widget-view+json": {
              "model_id": "ae8d436cf77d4e499b351cc2c451046f",
              "version_major": 2,
              "version_minor": 0
            },
            "text/plain": [
              "Epoch: 27/150:   0%|          | 0/8 [00:00<?, ?it/s]"
            ]
          },
          "metadata": {},
          "output_type": "display_data"
        },
        {
          "data": {
            "application/vnd.jupyter.widget-view+json": {
              "model_id": "7fa642677c75460b847fbd80c7951755",
              "version_major": 2,
              "version_minor": 0
            },
            "text/plain": [
              "Evaluating:   0%|          | 0/2 [00:00<?, ?it/s]"
            ]
          },
          "metadata": {},
          "output_type": "display_data"
        },
        {
          "name": "stdout",
          "output_type": "stream",
          "text": [
            "Epoch: 27, train/mse: 6655.8081, eval/mse: 2222.6951, train/rmse: 0.5498, eval/rmse: 0.6633, \n"
          ]
        },
        {
          "data": {
            "application/vnd.jupyter.widget-view+json": {
              "model_id": "aeed860ee8304025b62d8cbd814c0571",
              "version_major": 2,
              "version_minor": 0
            },
            "text/plain": [
              "Epoch: 28/150:   0%|          | 0/8 [00:00<?, ?it/s]"
            ]
          },
          "metadata": {},
          "output_type": "display_data"
        },
        {
          "data": {
            "application/vnd.jupyter.widget-view+json": {
              "model_id": "eeb4d2675b164c91a6c08a60ca33ac37",
              "version_major": 2,
              "version_minor": 0
            },
            "text/plain": [
              "Evaluating:   0%|          | 0/2 [00:00<?, ?it/s]"
            ]
          },
          "metadata": {},
          "output_type": "display_data"
        },
        {
          "name": "stdout",
          "output_type": "stream",
          "text": [
            "Epoch: 28, train/mse: 6321.5430, eval/mse: 1867.4730, train/rmse: 0.5501, eval/rmse: 0.6785, \n"
          ]
        },
        {
          "data": {
            "application/vnd.jupyter.widget-view+json": {
              "model_id": "85b17672b7ac49dea622aa587b2c2903",
              "version_major": 2,
              "version_minor": 0
            },
            "text/plain": [
              "Epoch: 29/150:   0%|          | 0/8 [00:00<?, ?it/s]"
            ]
          },
          "metadata": {},
          "output_type": "display_data"
        },
        {
          "data": {
            "application/vnd.jupyter.widget-view+json": {
              "model_id": "006e11347da946f19cb196a0eee2c033",
              "version_major": 2,
              "version_minor": 0
            },
            "text/plain": [
              "Evaluating:   0%|          | 0/2 [00:00<?, ?it/s]"
            ]
          },
          "metadata": {},
          "output_type": "display_data"
        },
        {
          "name": "stdout",
          "output_type": "stream",
          "text": [
            "Epoch: 29, train/mse: 7046.8740, eval/mse: 1885.4507, train/rmse: 0.5217, eval/rmse: 0.6787, \n"
          ]
        },
        {
          "data": {
            "application/vnd.jupyter.widget-view+json": {
              "model_id": "79d55384ac804a09b9607fbadbd6d450",
              "version_major": 2,
              "version_minor": 0
            },
            "text/plain": [
              "Epoch: 30/150:   0%|          | 0/8 [00:00<?, ?it/s]"
            ]
          },
          "metadata": {},
          "output_type": "display_data"
        },
        {
          "data": {
            "application/vnd.jupyter.widget-view+json": {
              "model_id": "2111fec19fa7416f93dd86a2f5cba66b",
              "version_major": 2,
              "version_minor": 0
            },
            "text/plain": [
              "Evaluating:   0%|          | 0/2 [00:00<?, ?it/s]"
            ]
          },
          "metadata": {},
          "output_type": "display_data"
        },
        {
          "name": "stdout",
          "output_type": "stream",
          "text": [
            "Epoch: 30, train/mse: 6350.8672, eval/mse: 1981.2516, train/rmse: 0.5646, eval/rmse: 0.6742, \n"
          ]
        },
        {
          "data": {
            "application/vnd.jupyter.widget-view+json": {
              "model_id": "c960d7b1b0854d808d31836f3c06a1b7",
              "version_major": 2,
              "version_minor": 0
            },
            "text/plain": [
              "Epoch: 31/150:   0%|          | 0/8 [00:00<?, ?it/s]"
            ]
          },
          "metadata": {},
          "output_type": "display_data"
        },
        {
          "data": {
            "application/vnd.jupyter.widget-view+json": {
              "model_id": "a81fd9311d524c03a4d39f8d1b6e3150",
              "version_major": 2,
              "version_minor": 0
            },
            "text/plain": [
              "Evaluating:   0%|          | 0/2 [00:00<?, ?it/s]"
            ]
          },
          "metadata": {},
          "output_type": "display_data"
        },
        {
          "name": "stdout",
          "output_type": "stream",
          "text": [
            "Epoch: 31, train/mse: 5217.0474, eval/mse: 1772.3589, train/rmse: 0.5779, eval/rmse: 0.6859, \n"
          ]
        },
        {
          "data": {
            "application/vnd.jupyter.widget-view+json": {
              "model_id": "4597934343d74b2fbbc014077848df82",
              "version_major": 2,
              "version_minor": 0
            },
            "text/plain": [
              "Epoch: 32/150:   0%|          | 0/8 [00:00<?, ?it/s]"
            ]
          },
          "metadata": {},
          "output_type": "display_data"
        },
        {
          "data": {
            "application/vnd.jupyter.widget-view+json": {
              "model_id": "488d97c4963847e7a1e41b4d8f800708",
              "version_major": 2,
              "version_minor": 0
            },
            "text/plain": [
              "Evaluating:   0%|          | 0/2 [00:00<?, ?it/s]"
            ]
          },
          "metadata": {},
          "output_type": "display_data"
        },
        {
          "name": "stdout",
          "output_type": "stream",
          "text": [
            "Epoch: 32, train/mse: 6647.9688, eval/mse: 2014.4719, train/rmse: 0.5528, eval/rmse: 0.6750, \n"
          ]
        },
        {
          "data": {
            "application/vnd.jupyter.widget-view+json": {
              "model_id": "9cd04615146d4220bd17188f1cb90205",
              "version_major": 2,
              "version_minor": 0
            },
            "text/plain": [
              "Epoch: 33/150:   0%|          | 0/8 [00:00<?, ?it/s]"
            ]
          },
          "metadata": {},
          "output_type": "display_data"
        },
        {
          "data": {
            "application/vnd.jupyter.widget-view+json": {
              "model_id": "444d0a1de72944348af0b7d13ef08218",
              "version_major": 2,
              "version_minor": 0
            },
            "text/plain": [
              "Evaluating:   0%|          | 0/2 [00:00<?, ?it/s]"
            ]
          },
          "metadata": {},
          "output_type": "display_data"
        },
        {
          "name": "stdout",
          "output_type": "stream",
          "text": [
            "Epoch: 33, train/mse: 6498.3457, eval/mse: 2463.3794, train/rmse: 0.5501, eval/rmse: 0.6558, \n"
          ]
        },
        {
          "data": {
            "application/vnd.jupyter.widget-view+json": {
              "model_id": "e1c9a7ef424849be97660653f8616c79",
              "version_major": 2,
              "version_minor": 0
            },
            "text/plain": [
              "Epoch: 34/150:   0%|          | 0/8 [00:00<?, ?it/s]"
            ]
          },
          "metadata": {},
          "output_type": "display_data"
        },
        {
          "data": {
            "application/vnd.jupyter.widget-view+json": {
              "model_id": "49537911a019419d9e4ead21191c4f14",
              "version_major": 2,
              "version_minor": 0
            },
            "text/plain": [
              "Evaluating:   0%|          | 0/2 [00:00<?, ?it/s]"
            ]
          },
          "metadata": {},
          "output_type": "display_data"
        },
        {
          "name": "stdout",
          "output_type": "stream",
          "text": [
            "Epoch: 34, train/mse: 6886.4995, eval/mse: 2312.6060, train/rmse: 0.5532, eval/rmse: 0.6612, \n"
          ]
        },
        {
          "data": {
            "application/vnd.jupyter.widget-view+json": {
              "model_id": "bf8e313aed5e4bd68b1eff6e60911927",
              "version_major": 2,
              "version_minor": 0
            },
            "text/plain": [
              "Epoch: 35/150:   0%|          | 0/8 [00:00<?, ?it/s]"
            ]
          },
          "metadata": {},
          "output_type": "display_data"
        },
        {
          "data": {
            "application/vnd.jupyter.widget-view+json": {
              "model_id": "19c6654f404b4c2d8a54ed9c8ef3e494",
              "version_major": 2,
              "version_minor": 0
            },
            "text/plain": [
              "Evaluating:   0%|          | 0/2 [00:00<?, ?it/s]"
            ]
          },
          "metadata": {},
          "output_type": "display_data"
        },
        {
          "name": "stdout",
          "output_type": "stream",
          "text": [
            "Epoch: 35, train/mse: 6145.6455, eval/mse: 2360.1064, train/rmse: 0.5698, eval/rmse: 0.6596, \n"
          ]
        },
        {
          "data": {
            "application/vnd.jupyter.widget-view+json": {
              "model_id": "5d1e99aada85469186872cc81f2cba0f",
              "version_major": 2,
              "version_minor": 0
            },
            "text/plain": [
              "Epoch: 36/150:   0%|          | 0/8 [00:00<?, ?it/s]"
            ]
          },
          "metadata": {},
          "output_type": "display_data"
        },
        {
          "data": {
            "application/vnd.jupyter.widget-view+json": {
              "model_id": "7a3fe2cb6f184616b671186da8fdba76",
              "version_major": 2,
              "version_minor": 0
            },
            "text/plain": [
              "Evaluating:   0%|          | 0/2 [00:00<?, ?it/s]"
            ]
          },
          "metadata": {},
          "output_type": "display_data"
        },
        {
          "name": "stdout",
          "output_type": "stream",
          "text": [
            "Epoch: 36, train/mse: 5316.5322, eval/mse: 2168.4629, train/rmse: 0.5699, eval/rmse: 0.6678, \n"
          ]
        },
        {
          "data": {
            "application/vnd.jupyter.widget-view+json": {
              "model_id": "561f306e66b341e68fd0426d3902a67f",
              "version_major": 2,
              "version_minor": 0
            },
            "text/plain": [
              "Epoch: 37/150:   0%|          | 0/8 [00:00<?, ?it/s]"
            ]
          },
          "metadata": {},
          "output_type": "display_data"
        },
        {
          "data": {
            "application/vnd.jupyter.widget-view+json": {
              "model_id": "6c95c590c15643a5892cfb883821bed9",
              "version_major": 2,
              "version_minor": 0
            },
            "text/plain": [
              "Evaluating:   0%|          | 0/2 [00:00<?, ?it/s]"
            ]
          },
          "metadata": {},
          "output_type": "display_data"
        },
        {
          "name": "stdout",
          "output_type": "stream",
          "text": [
            "Epoch: 37, train/mse: 4883.7822, eval/mse: 1307.5762, train/rmse: 0.5728, eval/rmse: 0.7156, \n"
          ]
        },
        {
          "data": {
            "application/vnd.jupyter.widget-view+json": {
              "model_id": "35a0e705fc9f44168d06d85db9b1ea9f",
              "version_major": 2,
              "version_minor": 0
            },
            "text/plain": [
              "Epoch: 38/150:   0%|          | 0/8 [00:00<?, ?it/s]"
            ]
          },
          "metadata": {},
          "output_type": "display_data"
        },
        {
          "data": {
            "application/vnd.jupyter.widget-view+json": {
              "model_id": "dca2a6a63c7e4cb79a8b60db50075649",
              "version_major": 2,
              "version_minor": 0
            },
            "text/plain": [
              "Evaluating:   0%|          | 0/2 [00:00<?, ?it/s]"
            ]
          },
          "metadata": {},
          "output_type": "display_data"
        },
        {
          "name": "stdout",
          "output_type": "stream",
          "text": [
            "Epoch: 38, train/mse: 5479.7930, eval/mse: 1304.0255, train/rmse: 0.5313, eval/rmse: 0.7159, \n"
          ]
        },
        {
          "data": {
            "application/vnd.jupyter.widget-view+json": {
              "model_id": "d1a1834923b74f28b6fdb6909f20cebc",
              "version_major": 2,
              "version_minor": 0
            },
            "text/plain": [
              "Epoch: 39/150:   0%|          | 0/8 [00:00<?, ?it/s]"
            ]
          },
          "metadata": {},
          "output_type": "display_data"
        },
        {
          "data": {
            "application/vnd.jupyter.widget-view+json": {
              "model_id": "c296d97f783346d387449432bc182773",
              "version_major": 2,
              "version_minor": 0
            },
            "text/plain": [
              "Evaluating:   0%|          | 0/2 [00:00<?, ?it/s]"
            ]
          },
          "metadata": {},
          "output_type": "display_data"
        },
        {
          "name": "stdout",
          "output_type": "stream",
          "text": [
            "Epoch: 39, train/mse: 6127.4951, eval/mse: 1747.0681, train/rmse: 0.5539, eval/rmse: 0.6897, \n"
          ]
        },
        {
          "data": {
            "application/vnd.jupyter.widget-view+json": {
              "model_id": "0aff8f4beca6482ba0db5811750bff02",
              "version_major": 2,
              "version_minor": 0
            },
            "text/plain": [
              "Epoch: 40/150:   0%|          | 0/8 [00:00<?, ?it/s]"
            ]
          },
          "metadata": {},
          "output_type": "display_data"
        },
        {
          "data": {
            "application/vnd.jupyter.widget-view+json": {
              "model_id": "e2b933356fe4451db249554d9bd8d9a6",
              "version_major": 2,
              "version_minor": 0
            },
            "text/plain": [
              "Evaluating:   0%|          | 0/2 [00:00<?, ?it/s]"
            ]
          },
          "metadata": {},
          "output_type": "display_data"
        },
        {
          "name": "stdout",
          "output_type": "stream",
          "text": [
            "Epoch: 40, train/mse: 6664.7173, eval/mse: 1247.9336, train/rmse: 0.5613, eval/rmse: 0.7193, \n"
          ]
        },
        {
          "data": {
            "application/vnd.jupyter.widget-view+json": {
              "model_id": "e9683af0c115437fab6d756ae39680ce",
              "version_major": 2,
              "version_minor": 0
            },
            "text/plain": [
              "Epoch: 41/150:   0%|          | 0/8 [00:00<?, ?it/s]"
            ]
          },
          "metadata": {},
          "output_type": "display_data"
        },
        {
          "data": {
            "application/vnd.jupyter.widget-view+json": {
              "model_id": "b6cf3a7fb11d4c02b587dd8ae469b48a",
              "version_major": 2,
              "version_minor": 0
            },
            "text/plain": [
              "Evaluating:   0%|          | 0/2 [00:00<?, ?it/s]"
            ]
          },
          "metadata": {},
          "output_type": "display_data"
        },
        {
          "name": "stdout",
          "output_type": "stream",
          "text": [
            "Epoch: 41, train/mse: 6782.2764, eval/mse: 1271.8833, train/rmse: 0.5709, eval/rmse: 0.7183, \n"
          ]
        },
        {
          "data": {
            "application/vnd.jupyter.widget-view+json": {
              "model_id": "a10e26bca42d47eca393d793bd7ab5a9",
              "version_major": 2,
              "version_minor": 0
            },
            "text/plain": [
              "Epoch: 42/150:   0%|          | 0/8 [00:00<?, ?it/s]"
            ]
          },
          "metadata": {},
          "output_type": "display_data"
        },
        {
          "data": {
            "application/vnd.jupyter.widget-view+json": {
              "model_id": "6ff300206013436c97600eae1ddc52fe",
              "version_major": 2,
              "version_minor": 0
            },
            "text/plain": [
              "Evaluating:   0%|          | 0/2 [00:00<?, ?it/s]"
            ]
          },
          "metadata": {},
          "output_type": "display_data"
        },
        {
          "name": "stdout",
          "output_type": "stream",
          "text": [
            "Epoch: 42, train/mse: 5774.0610, eval/mse: 1586.2388, train/rmse: 0.5868, eval/rmse: 0.6990, \n"
          ]
        },
        {
          "data": {
            "application/vnd.jupyter.widget-view+json": {
              "model_id": "1b2cad9db7664a79b5fc6654c69791e7",
              "version_major": 2,
              "version_minor": 0
            },
            "text/plain": [
              "Epoch: 43/150:   0%|          | 0/8 [00:00<?, ?it/s]"
            ]
          },
          "metadata": {},
          "output_type": "display_data"
        },
        {
          "data": {
            "application/vnd.jupyter.widget-view+json": {
              "model_id": "96ab832324824885a999ebd712488944",
              "version_major": 2,
              "version_minor": 0
            },
            "text/plain": [
              "Evaluating:   0%|          | 0/2 [00:00<?, ?it/s]"
            ]
          },
          "metadata": {},
          "output_type": "display_data"
        },
        {
          "name": "stdout",
          "output_type": "stream",
          "text": [
            "Epoch: 43, train/mse: 5621.8066, eval/mse: 2399.8057, train/rmse: 0.5703, eval/rmse: 0.6604, \n"
          ]
        },
        {
          "data": {
            "application/vnd.jupyter.widget-view+json": {
              "model_id": "1158b05fbd6845a8b45062e7476c58a5",
              "version_major": 2,
              "version_minor": 0
            },
            "text/plain": [
              "Epoch: 44/150:   0%|          | 0/8 [00:00<?, ?it/s]"
            ]
          },
          "metadata": {},
          "output_type": "display_data"
        },
        {
          "data": {
            "application/vnd.jupyter.widget-view+json": {
              "model_id": "008cf331095e4da9b27b34055c9dc3fc",
              "version_major": 2,
              "version_minor": 0
            },
            "text/plain": [
              "Evaluating:   0%|          | 0/2 [00:00<?, ?it/s]"
            ]
          },
          "metadata": {},
          "output_type": "display_data"
        },
        {
          "name": "stdout",
          "output_type": "stream",
          "text": [
            "Epoch: 44, train/mse: 5361.1709, eval/mse: 2328.7966, train/rmse: 0.5516, eval/rmse: 0.6626, \n"
          ]
        },
        {
          "data": {
            "application/vnd.jupyter.widget-view+json": {
              "model_id": "ca577bd687df497c90f7d5480616e84d",
              "version_major": 2,
              "version_minor": 0
            },
            "text/plain": [
              "Epoch: 45/150:   0%|          | 0/8 [00:00<?, ?it/s]"
            ]
          },
          "metadata": {},
          "output_type": "display_data"
        },
        {
          "data": {
            "application/vnd.jupyter.widget-view+json": {
              "model_id": "11741039dd45470ab4ec3d99b44a1b3c",
              "version_major": 2,
              "version_minor": 0
            },
            "text/plain": [
              "Evaluating:   0%|          | 0/2 [00:00<?, ?it/s]"
            ]
          },
          "metadata": {},
          "output_type": "display_data"
        },
        {
          "name": "stdout",
          "output_type": "stream",
          "text": [
            "Epoch: 45, train/mse: 6725.1396, eval/mse: 2363.6572, train/rmse: 0.5464, eval/rmse: 0.6612, \n"
          ]
        },
        {
          "data": {
            "application/vnd.jupyter.widget-view+json": {
              "model_id": "193f5f04a4a646f58e353361e992b85a",
              "version_major": 2,
              "version_minor": 0
            },
            "text/plain": [
              "Epoch: 46/150:   0%|          | 0/8 [00:00<?, ?it/s]"
            ]
          },
          "metadata": {},
          "output_type": "display_data"
        },
        {
          "data": {
            "application/vnd.jupyter.widget-view+json": {
              "model_id": "ea0f19bb04b94d5fa8e937a9f8f228e8",
              "version_major": 2,
              "version_minor": 0
            },
            "text/plain": [
              "Evaluating:   0%|          | 0/2 [00:00<?, ?it/s]"
            ]
          },
          "metadata": {},
          "output_type": "display_data"
        },
        {
          "name": "stdout",
          "output_type": "stream",
          "text": [
            "Epoch: 46, train/mse: 6405.2378, eval/mse: 2393.9617, train/rmse: 0.5487, eval/rmse: 0.6585, \n"
          ]
        },
        {
          "data": {
            "application/vnd.jupyter.widget-view+json": {
              "model_id": "fba218a9b55e42a9ab0ba9999e4a4ff4",
              "version_major": 2,
              "version_minor": 0
            },
            "text/plain": [
              "Epoch: 47/150:   0%|          | 0/8 [00:00<?, ?it/s]"
            ]
          },
          "metadata": {},
          "output_type": "display_data"
        },
        {
          "data": {
            "application/vnd.jupyter.widget-view+json": {
              "model_id": "76118800cc9247b7b5f8c721c0b8a97e",
              "version_major": 2,
              "version_minor": 0
            },
            "text/plain": [
              "Evaluating:   0%|          | 0/2 [00:00<?, ?it/s]"
            ]
          },
          "metadata": {},
          "output_type": "display_data"
        },
        {
          "name": "stdout",
          "output_type": "stream",
          "text": [
            "Epoch: 47, train/mse: 6073.6616, eval/mse: 2495.7144, train/rmse: 0.5795, eval/rmse: 0.6543, \n"
          ]
        },
        {
          "data": {
            "application/vnd.jupyter.widget-view+json": {
              "model_id": "b9bbbb69c3d74600ab5d3a8878abf611",
              "version_major": 2,
              "version_minor": 0
            },
            "text/plain": [
              "Epoch: 48/150:   0%|          | 0/8 [00:00<?, ?it/s]"
            ]
          },
          "metadata": {},
          "output_type": "display_data"
        },
        {
          "data": {
            "application/vnd.jupyter.widget-view+json": {
              "model_id": "1f29f9e7c8b249138b41f5040176587b",
              "version_major": 2,
              "version_minor": 0
            },
            "text/plain": [
              "Evaluating:   0%|          | 0/2 [00:00<?, ?it/s]"
            ]
          },
          "metadata": {},
          "output_type": "display_data"
        },
        {
          "name": "stdout",
          "output_type": "stream",
          "text": [
            "Epoch: 48, train/mse: 6193.4746, eval/mse: 2533.1111, train/rmse: 0.5590, eval/rmse: 0.6528, \n"
          ]
        },
        {
          "data": {
            "application/vnd.jupyter.widget-view+json": {
              "model_id": "077a40e2052d4c22a763d16dd83ec87b",
              "version_major": 2,
              "version_minor": 0
            },
            "text/plain": [
              "Epoch: 49/150:   0%|          | 0/8 [00:00<?, ?it/s]"
            ]
          },
          "metadata": {},
          "output_type": "display_data"
        },
        {
          "data": {
            "application/vnd.jupyter.widget-view+json": {
              "model_id": "7efd2e88f4cb444e8502f34ca80a635e",
              "version_major": 2,
              "version_minor": 0
            },
            "text/plain": [
              "Evaluating:   0%|          | 0/2 [00:00<?, ?it/s]"
            ]
          },
          "metadata": {},
          "output_type": "display_data"
        },
        {
          "name": "stdout",
          "output_type": "stream",
          "text": [
            "Epoch: 49, train/mse: 6172.5415, eval/mse: 2550.2227, train/rmse: 0.5761, eval/rmse: 0.6517, \n"
          ]
        },
        {
          "data": {
            "application/vnd.jupyter.widget-view+json": {
              "model_id": "f4a9bf1d3164481baa245ea109b22480",
              "version_major": 2,
              "version_minor": 0
            },
            "text/plain": [
              "Epoch: 50/150:   0%|          | 0/8 [00:00<?, ?it/s]"
            ]
          },
          "metadata": {},
          "output_type": "display_data"
        },
        {
          "data": {
            "application/vnd.jupyter.widget-view+json": {
              "model_id": "d3c2a0f1baeb432a85cfbf062f30eb94",
              "version_major": 2,
              "version_minor": 0
            },
            "text/plain": [
              "Evaluating:   0%|          | 0/2 [00:00<?, ?it/s]"
            ]
          },
          "metadata": {},
          "output_type": "display_data"
        },
        {
          "name": "stdout",
          "output_type": "stream",
          "text": [
            "Epoch: 50, train/mse: 5128.2476, eval/mse: 2306.8931, train/rmse: 0.5734, eval/rmse: 0.6622, \n"
          ]
        },
        {
          "data": {
            "application/vnd.jupyter.widget-view+json": {
              "model_id": "667441b079aa494f80c1721991d49826",
              "version_major": 2,
              "version_minor": 0
            },
            "text/plain": [
              "Epoch: 51/150:   0%|          | 0/8 [00:00<?, ?it/s]"
            ]
          },
          "metadata": {},
          "output_type": "display_data"
        },
        {
          "data": {
            "application/vnd.jupyter.widget-view+json": {
              "model_id": "0149ae1d463745be8204b3b45762ef90",
              "version_major": 2,
              "version_minor": 0
            },
            "text/plain": [
              "Evaluating:   0%|          | 0/2 [00:00<?, ?it/s]"
            ]
          },
          "metadata": {},
          "output_type": "display_data"
        },
        {
          "name": "stdout",
          "output_type": "stream",
          "text": [
            "Epoch: 51, train/mse: 5890.7598, eval/mse: 2277.6682, train/rmse: 0.5897, eval/rmse: 0.6654, \n"
          ]
        },
        {
          "data": {
            "application/vnd.jupyter.widget-view+json": {
              "model_id": "e5c80df26cda4e4f959fa25a83af3966",
              "version_major": 2,
              "version_minor": 0
            },
            "text/plain": [
              "Epoch: 52/150:   0%|          | 0/8 [00:00<?, ?it/s]"
            ]
          },
          "metadata": {},
          "output_type": "display_data"
        },
        {
          "data": {
            "application/vnd.jupyter.widget-view+json": {
              "model_id": "6993f5b4182b4ae9b49ef33ad6a5c3cb",
              "version_major": 2,
              "version_minor": 0
            },
            "text/plain": [
              "Evaluating:   0%|          | 0/2 [00:00<?, ?it/s]"
            ]
          },
          "metadata": {},
          "output_type": "display_data"
        },
        {
          "name": "stdout",
          "output_type": "stream",
          "text": [
            "Epoch: 52, train/mse: 4009.2305, eval/mse: 2152.0146, train/rmse: 0.5926, eval/rmse: 0.6726, \n"
          ]
        },
        {
          "data": {
            "application/vnd.jupyter.widget-view+json": {
              "model_id": "7cd9d49fb1a5447596d7171e6087bd97",
              "version_major": 2,
              "version_minor": 0
            },
            "text/plain": [
              "Epoch: 53/150:   0%|          | 0/8 [00:00<?, ?it/s]"
            ]
          },
          "metadata": {},
          "output_type": "display_data"
        },
        {
          "data": {
            "application/vnd.jupyter.widget-view+json": {
              "model_id": "b73f564e1fc54135a51bcdbc808beda1",
              "version_major": 2,
              "version_minor": 0
            },
            "text/plain": [
              "Evaluating:   0%|          | 0/2 [00:00<?, ?it/s]"
            ]
          },
          "metadata": {},
          "output_type": "display_data"
        },
        {
          "name": "stdout",
          "output_type": "stream",
          "text": [
            "Epoch: 53, train/mse: 5376.1553, eval/mse: 2161.3525, train/rmse: 0.5662, eval/rmse: 0.6715, \n"
          ]
        },
        {
          "data": {
            "application/vnd.jupyter.widget-view+json": {
              "model_id": "188d8c5ad4df414ca5b1511d62566d69",
              "version_major": 2,
              "version_minor": 0
            },
            "text/plain": [
              "Epoch: 54/150:   0%|          | 0/8 [00:00<?, ?it/s]"
            ]
          },
          "metadata": {},
          "output_type": "display_data"
        },
        {
          "data": {
            "application/vnd.jupyter.widget-view+json": {
              "model_id": "779a8af53aec4bc28b1bfd66fab8a029",
              "version_major": 2,
              "version_minor": 0
            },
            "text/plain": [
              "Evaluating:   0%|          | 0/2 [00:00<?, ?it/s]"
            ]
          },
          "metadata": {},
          "output_type": "display_data"
        },
        {
          "name": "stdout",
          "output_type": "stream",
          "text": [
            "Epoch: 54, train/mse: 5908.5317, eval/mse: 2026.3479, train/rmse: 0.5856, eval/rmse: 0.6779, \n"
          ]
        },
        {
          "data": {
            "application/vnd.jupyter.widget-view+json": {
              "model_id": "4077e2545a5e41d28e636e337e4e2e7e",
              "version_major": 2,
              "version_minor": 0
            },
            "text/plain": [
              "Epoch: 55/150:   0%|          | 0/8 [00:00<?, ?it/s]"
            ]
          },
          "metadata": {},
          "output_type": "display_data"
        },
        {
          "data": {
            "application/vnd.jupyter.widget-view+json": {
              "model_id": "b0f5cb0d1569406fab2c64b57de7f286",
              "version_major": 2,
              "version_minor": 0
            },
            "text/plain": [
              "Evaluating:   0%|          | 0/2 [00:00<?, ?it/s]"
            ]
          },
          "metadata": {},
          "output_type": "display_data"
        },
        {
          "name": "stdout",
          "output_type": "stream",
          "text": [
            "Epoch: 55, train/mse: 5836.8735, eval/mse: 2241.0581, train/rmse: 0.5877, eval/rmse: 0.6685, \n"
          ]
        },
        {
          "data": {
            "application/vnd.jupyter.widget-view+json": {
              "model_id": "71ae2644cdc346628e003ef2567c2b57",
              "version_major": 2,
              "version_minor": 0
            },
            "text/plain": [
              "Epoch: 56/150:   0%|          | 0/8 [00:00<?, ?it/s]"
            ]
          },
          "metadata": {},
          "output_type": "display_data"
        },
        {
          "data": {
            "application/vnd.jupyter.widget-view+json": {
              "model_id": "8cc3be92c83147a997ecca538c416cf5",
              "version_major": 2,
              "version_minor": 0
            },
            "text/plain": [
              "Evaluating:   0%|          | 0/2 [00:00<?, ?it/s]"
            ]
          },
          "metadata": {},
          "output_type": "display_data"
        },
        {
          "name": "stdout",
          "output_type": "stream",
          "text": [
            "Epoch: 56, train/mse: 6379.9634, eval/mse: 2079.8801, train/rmse: 0.5331, eval/rmse: 0.6757, \n"
          ]
        },
        {
          "data": {
            "application/vnd.jupyter.widget-view+json": {
              "model_id": "74dba52bf82348d49f407a47f2f1c7c1",
              "version_major": 2,
              "version_minor": 0
            },
            "text/plain": [
              "Epoch: 57/150:   0%|          | 0/8 [00:00<?, ?it/s]"
            ]
          },
          "metadata": {},
          "output_type": "display_data"
        },
        {
          "data": {
            "application/vnd.jupyter.widget-view+json": {
              "model_id": "874c7f3b30d04fd094ca935503bec27e",
              "version_major": 2,
              "version_minor": 0
            },
            "text/plain": [
              "Evaluating:   0%|          | 0/2 [00:00<?, ?it/s]"
            ]
          },
          "metadata": {},
          "output_type": "display_data"
        },
        {
          "name": "stdout",
          "output_type": "stream",
          "text": [
            "Epoch: 57, train/mse: 5828.2075, eval/mse: 1993.9082, train/rmse: 0.5767, eval/rmse: 0.6800, \n"
          ]
        },
        {
          "data": {
            "application/vnd.jupyter.widget-view+json": {
              "model_id": "255868b4e75d4b1ea8c2e2019687ea5f",
              "version_major": 2,
              "version_minor": 0
            },
            "text/plain": [
              "Epoch: 58/150:   0%|          | 0/8 [00:00<?, ?it/s]"
            ]
          },
          "metadata": {},
          "output_type": "display_data"
        },
        {
          "data": {
            "application/vnd.jupyter.widget-view+json": {
              "model_id": "35462dbdab994791a2d177a690d2c20c",
              "version_major": 2,
              "version_minor": 0
            },
            "text/plain": [
              "Evaluating:   0%|          | 0/2 [00:00<?, ?it/s]"
            ]
          },
          "metadata": {},
          "output_type": "display_data"
        },
        {
          "name": "stdout",
          "output_type": "stream",
          "text": [
            "Epoch: 58, train/mse: 6155.4692, eval/mse: 1925.0415, train/rmse: 0.5616, eval/rmse: 0.6828, \n"
          ]
        },
        {
          "data": {
            "application/vnd.jupyter.widget-view+json": {
              "model_id": "6223a974c559498d96d424c3d92e65a8",
              "version_major": 2,
              "version_minor": 0
            },
            "text/plain": [
              "Epoch: 59/150:   0%|          | 0/8 [00:00<?, ?it/s]"
            ]
          },
          "metadata": {},
          "output_type": "display_data"
        },
        {
          "data": {
            "application/vnd.jupyter.widget-view+json": {
              "model_id": "5c03684681c34f4bbc80f422a5da1ee6",
              "version_major": 2,
              "version_minor": 0
            },
            "text/plain": [
              "Evaluating:   0%|          | 0/2 [00:00<?, ?it/s]"
            ]
          },
          "metadata": {},
          "output_type": "display_data"
        },
        {
          "name": "stdout",
          "output_type": "stream",
          "text": [
            "Epoch: 59, train/mse: 5241.9976, eval/mse: 1996.6597, train/rmse: 0.5853, eval/rmse: 0.6813, \n"
          ]
        },
        {
          "data": {
            "application/vnd.jupyter.widget-view+json": {
              "model_id": "d6c12bc89dd1435aa7cdb2639117f03a",
              "version_major": 2,
              "version_minor": 0
            },
            "text/plain": [
              "Epoch: 60/150:   0%|          | 0/8 [00:00<?, ?it/s]"
            ]
          },
          "metadata": {},
          "output_type": "display_data"
        },
        {
          "data": {
            "application/vnd.jupyter.widget-view+json": {
              "model_id": "f8ea189126b44f99a0fbad90479bc7a2",
              "version_major": 2,
              "version_minor": 0
            },
            "text/plain": [
              "Evaluating:   0%|          | 0/2 [00:00<?, ?it/s]"
            ]
          },
          "metadata": {},
          "output_type": "display_data"
        },
        {
          "name": "stdout",
          "output_type": "stream",
          "text": [
            "Epoch: 60, train/mse: 5297.6460, eval/mse: 1989.9055, train/rmse: 0.5569, eval/rmse: 0.6826, \n"
          ]
        },
        {
          "data": {
            "application/vnd.jupyter.widget-view+json": {
              "model_id": "af34743172d04b7582f2a152a4bc45b3",
              "version_major": 2,
              "version_minor": 0
            },
            "text/plain": [
              "Epoch: 61/150:   0%|          | 0/8 [00:00<?, ?it/s]"
            ]
          },
          "metadata": {},
          "output_type": "display_data"
        },
        {
          "data": {
            "application/vnd.jupyter.widget-view+json": {
              "model_id": "3fe72018209c4fabb080632c344d40e7",
              "version_major": 2,
              "version_minor": 0
            },
            "text/plain": [
              "Evaluating:   0%|          | 0/2 [00:00<?, ?it/s]"
            ]
          },
          "metadata": {},
          "output_type": "display_data"
        },
        {
          "name": "stdout",
          "output_type": "stream",
          "text": [
            "Epoch: 61, train/mse: 6356.9956, eval/mse: 2078.7737, train/rmse: 0.5502, eval/rmse: 0.6792, \n"
          ]
        },
        {
          "data": {
            "application/vnd.jupyter.widget-view+json": {
              "model_id": "04bb1749d9d34da4a34461ad9b63522c",
              "version_major": 2,
              "version_minor": 0
            },
            "text/plain": [
              "Epoch: 62/150:   0%|          | 0/8 [00:00<?, ?it/s]"
            ]
          },
          "metadata": {},
          "output_type": "display_data"
        },
        {
          "data": {
            "application/vnd.jupyter.widget-view+json": {
              "model_id": "991ea4798edc4e1481fccad90b6bf690",
              "version_major": 2,
              "version_minor": 0
            },
            "text/plain": [
              "Evaluating:   0%|          | 0/2 [00:00<?, ?it/s]"
            ]
          },
          "metadata": {},
          "output_type": "display_data"
        },
        {
          "name": "stdout",
          "output_type": "stream",
          "text": [
            "Epoch: 62, train/mse: 4831.8735, eval/mse: 2299.9495, train/rmse: 0.5919, eval/rmse: 0.6694, \n"
          ]
        },
        {
          "data": {
            "application/vnd.jupyter.widget-view+json": {
              "model_id": "f26afae78d0f465a99029ee49443853d",
              "version_major": 2,
              "version_minor": 0
            },
            "text/plain": [
              "Epoch: 63/150:   0%|          | 0/8 [00:00<?, ?it/s]"
            ]
          },
          "metadata": {},
          "output_type": "display_data"
        },
        {
          "data": {
            "application/vnd.jupyter.widget-view+json": {
              "model_id": "3f789e5fa4914eb2b27aba29bec9afe6",
              "version_major": 2,
              "version_minor": 0
            },
            "text/plain": [
              "Evaluating:   0%|          | 0/2 [00:00<?, ?it/s]"
            ]
          },
          "metadata": {},
          "output_type": "display_data"
        },
        {
          "name": "stdout",
          "output_type": "stream",
          "text": [
            "Epoch: 63, train/mse: 6197.5874, eval/mse: 2228.9404, train/rmse: 0.5581, eval/rmse: 0.6734, \n"
          ]
        },
        {
          "data": {
            "application/vnd.jupyter.widget-view+json": {
              "model_id": "4e93c462c89d410c970ed4b4c3d6a433",
              "version_major": 2,
              "version_minor": 0
            },
            "text/plain": [
              "Epoch: 64/150:   0%|          | 0/8 [00:00<?, ?it/s]"
            ]
          },
          "metadata": {},
          "output_type": "display_data"
        },
        {
          "data": {
            "application/vnd.jupyter.widget-view+json": {
              "model_id": "6a9eb10bc63140edb6780ca5d8f52ddb",
              "version_major": 2,
              "version_minor": 0
            },
            "text/plain": [
              "Evaluating:   0%|          | 0/2 [00:00<?, ?it/s]"
            ]
          },
          "metadata": {},
          "output_type": "display_data"
        },
        {
          "name": "stdout",
          "output_type": "stream",
          "text": [
            "Epoch: 64, train/mse: 6247.9614, eval/mse: 2399.6699, train/rmse: 0.5635, eval/rmse: 0.6655, \n"
          ]
        },
        {
          "data": {
            "application/vnd.jupyter.widget-view+json": {
              "model_id": "cd192ab2b44940d28daaba9b1b3e9d07",
              "version_major": 2,
              "version_minor": 0
            },
            "text/plain": [
              "Epoch: 65/150:   0%|          | 0/8 [00:00<?, ?it/s]"
            ]
          },
          "metadata": {},
          "output_type": "display_data"
        },
        {
          "data": {
            "application/vnd.jupyter.widget-view+json": {
              "model_id": "4114867dde60470e9874e6c11a8e29df",
              "version_major": 2,
              "version_minor": 0
            },
            "text/plain": [
              "Evaluating:   0%|          | 0/2 [00:00<?, ?it/s]"
            ]
          },
          "metadata": {},
          "output_type": "display_data"
        },
        {
          "name": "stdout",
          "output_type": "stream",
          "text": [
            "Epoch: 65, train/mse: 5716.6978, eval/mse: 2159.2993, train/rmse: 0.5843, eval/rmse: 0.6751, \n"
          ]
        },
        {
          "data": {
            "application/vnd.jupyter.widget-view+json": {
              "model_id": "7f2c73bd4e534299b70a3e1037bc1f99",
              "version_major": 2,
              "version_minor": 0
            },
            "text/plain": [
              "Epoch: 66/150:   0%|          | 0/8 [00:00<?, ?it/s]"
            ]
          },
          "metadata": {},
          "output_type": "display_data"
        },
        {
          "data": {
            "application/vnd.jupyter.widget-view+json": {
              "model_id": "03f27279b7da4309b26a712bc7770c1c",
              "version_major": 2,
              "version_minor": 0
            },
            "text/plain": [
              "Evaluating:   0%|          | 0/2 [00:00<?, ?it/s]"
            ]
          },
          "metadata": {},
          "output_type": "display_data"
        },
        {
          "name": "stdout",
          "output_type": "stream",
          "text": [
            "Epoch: 66, train/mse: 6162.4238, eval/mse: 2261.9929, train/rmse: 0.5738, eval/rmse: 0.6694, \n"
          ]
        },
        {
          "data": {
            "application/vnd.jupyter.widget-view+json": {
              "model_id": "5271446edcd54e06994c4245a114f778",
              "version_major": 2,
              "version_minor": 0
            },
            "text/plain": [
              "Epoch: 67/150:   0%|          | 0/8 [00:00<?, ?it/s]"
            ]
          },
          "metadata": {},
          "output_type": "display_data"
        },
        {
          "data": {
            "application/vnd.jupyter.widget-view+json": {
              "model_id": "2949c5c6654b439f9cb779a4791c1a0a",
              "version_major": 2,
              "version_minor": 0
            },
            "text/plain": [
              "Evaluating:   0%|          | 0/2 [00:00<?, ?it/s]"
            ]
          },
          "metadata": {},
          "output_type": "display_data"
        },
        {
          "name": "stdout",
          "output_type": "stream",
          "text": [
            "Epoch: 67, train/mse: 5361.6729, eval/mse: 2216.0002, train/rmse: 0.5695, eval/rmse: 0.6716, \n"
          ]
        },
        {
          "data": {
            "application/vnd.jupyter.widget-view+json": {
              "model_id": "9039df9055154eabbc0c32b9c99cbb4c",
              "version_major": 2,
              "version_minor": 0
            },
            "text/plain": [
              "Epoch: 68/150:   0%|          | 0/8 [00:00<?, ?it/s]"
            ]
          },
          "metadata": {},
          "output_type": "display_data"
        },
        {
          "data": {
            "application/vnd.jupyter.widget-view+json": {
              "model_id": "27e74717654748f894a7e028f09e9a90",
              "version_major": 2,
              "version_minor": 0
            },
            "text/plain": [
              "Evaluating:   0%|          | 0/2 [00:00<?, ?it/s]"
            ]
          },
          "metadata": {},
          "output_type": "display_data"
        },
        {
          "name": "stdout",
          "output_type": "stream",
          "text": [
            "Epoch: 68, train/mse: 5881.1802, eval/mse: 2320.5559, train/rmse: 0.5815, eval/rmse: 0.6685, \n"
          ]
        },
        {
          "data": {
            "application/vnd.jupyter.widget-view+json": {
              "model_id": "467beef2f4e04967bcf3ccc608e14929",
              "version_major": 2,
              "version_minor": 0
            },
            "text/plain": [
              "Epoch: 69/150:   0%|          | 0/8 [00:00<?, ?it/s]"
            ]
          },
          "metadata": {},
          "output_type": "display_data"
        },
        {
          "data": {
            "application/vnd.jupyter.widget-view+json": {
              "model_id": "5d3aa54055e94439a382f6a9398ac83d",
              "version_major": 2,
              "version_minor": 0
            },
            "text/plain": [
              "Evaluating:   0%|          | 0/2 [00:00<?, ?it/s]"
            ]
          },
          "metadata": {},
          "output_type": "display_data"
        },
        {
          "name": "stdout",
          "output_type": "stream",
          "text": [
            "Epoch: 69, train/mse: 5939.5518, eval/mse: 2238.8928, train/rmse: 0.5679, eval/rmse: 0.6715, \n"
          ]
        },
        {
          "data": {
            "application/vnd.jupyter.widget-view+json": {
              "model_id": "83d045a27a6041aaa0f34fab901a6d8c",
              "version_major": 2,
              "version_minor": 0
            },
            "text/plain": [
              "Epoch: 70/150:   0%|          | 0/8 [00:00<?, ?it/s]"
            ]
          },
          "metadata": {},
          "output_type": "display_data"
        },
        {
          "data": {
            "application/vnd.jupyter.widget-view+json": {
              "model_id": "7aebe7bfb96b42fc9a4aeeea98046faf",
              "version_major": 2,
              "version_minor": 0
            },
            "text/plain": [
              "Evaluating:   0%|          | 0/2 [00:00<?, ?it/s]"
            ]
          },
          "metadata": {},
          "output_type": "display_data"
        },
        {
          "name": "stdout",
          "output_type": "stream",
          "text": [
            "Epoch: 70, train/mse: 4986.6479, eval/mse: 2261.5400, train/rmse: 0.5778, eval/rmse: 0.6705, \n"
          ]
        },
        {
          "data": {
            "application/vnd.jupyter.widget-view+json": {
              "model_id": "cab3b1a822b34685818a5991b19af1b9",
              "version_major": 2,
              "version_minor": 0
            },
            "text/plain": [
              "Epoch: 71/150:   0%|          | 0/8 [00:00<?, ?it/s]"
            ]
          },
          "metadata": {},
          "output_type": "display_data"
        },
        {
          "data": {
            "application/vnd.jupyter.widget-view+json": {
              "model_id": "79da97ff167249dea313895aabc26310",
              "version_major": 2,
              "version_minor": 0
            },
            "text/plain": [
              "Evaluating:   0%|          | 0/2 [00:00<?, ?it/s]"
            ]
          },
          "metadata": {},
          "output_type": "display_data"
        },
        {
          "name": "stdout",
          "output_type": "stream",
          "text": [
            "Epoch: 71, train/mse: 6037.8579, eval/mse: 2297.0723, train/rmse: 0.5581, eval/rmse: 0.6695, \n"
          ]
        },
        {
          "data": {
            "application/vnd.jupyter.widget-view+json": {
              "model_id": "9efdd5a1caa448cc8a985c4eb9b8d00c",
              "version_major": 2,
              "version_minor": 0
            },
            "text/plain": [
              "Epoch: 72/150:   0%|          | 0/8 [00:00<?, ?it/s]"
            ]
          },
          "metadata": {},
          "output_type": "display_data"
        },
        {
          "data": {
            "application/vnd.jupyter.widget-view+json": {
              "model_id": "670b53c1a1e34dd9937df19f1f07272b",
              "version_major": 2,
              "version_minor": 0
            },
            "text/plain": [
              "Evaluating:   0%|          | 0/2 [00:00<?, ?it/s]"
            ]
          },
          "metadata": {},
          "output_type": "display_data"
        },
        {
          "name": "stdout",
          "output_type": "stream",
          "text": [
            "Epoch: 72, train/mse: 5666.7715, eval/mse: 2210.7744, train/rmse: 0.5785, eval/rmse: 0.6716, \n"
          ]
        },
        {
          "data": {
            "application/vnd.jupyter.widget-view+json": {
              "model_id": "d32046fdff6d44109649922e17d3e266",
              "version_major": 2,
              "version_minor": 0
            },
            "text/plain": [
              "Epoch: 73/150:   0%|          | 0/8 [00:00<?, ?it/s]"
            ]
          },
          "metadata": {},
          "output_type": "display_data"
        },
        {
          "data": {
            "application/vnd.jupyter.widget-view+json": {
              "model_id": "a3f12861776f4794a4e9963e2b84694f",
              "version_major": 2,
              "version_minor": 0
            },
            "text/plain": [
              "Evaluating:   0%|          | 0/2 [00:00<?, ?it/s]"
            ]
          },
          "metadata": {},
          "output_type": "display_data"
        },
        {
          "name": "stdout",
          "output_type": "stream",
          "text": [
            "Epoch: 73, train/mse: 5809.3213, eval/mse: 2151.0964, train/rmse: 0.6033, eval/rmse: 0.6741, \n"
          ]
        },
        {
          "data": {
            "application/vnd.jupyter.widget-view+json": {
              "model_id": "2b7b1ba545344e578de327588094c043",
              "version_major": 2,
              "version_minor": 0
            },
            "text/plain": [
              "Epoch: 74/150:   0%|          | 0/8 [00:00<?, ?it/s]"
            ]
          },
          "metadata": {},
          "output_type": "display_data"
        },
        {
          "data": {
            "application/vnd.jupyter.widget-view+json": {
              "model_id": "e29ad981fc184d148b6b79a21278b077",
              "version_major": 2,
              "version_minor": 0
            },
            "text/plain": [
              "Evaluating:   0%|          | 0/2 [00:00<?, ?it/s]"
            ]
          },
          "metadata": {},
          "output_type": "display_data"
        },
        {
          "name": "stdout",
          "output_type": "stream",
          "text": [
            "Epoch: 74, train/mse: 5469.9360, eval/mse: 2002.5225, train/rmse: 0.5699, eval/rmse: 0.6822, \n"
          ]
        },
        {
          "data": {
            "application/vnd.jupyter.widget-view+json": {
              "model_id": "36cb8129cf4f4871a3f6b5af10d64d1f",
              "version_major": 2,
              "version_minor": 0
            },
            "text/plain": [
              "Epoch: 75/150:   0%|          | 0/8 [00:00<?, ?it/s]"
            ]
          },
          "metadata": {},
          "output_type": "display_data"
        },
        {
          "data": {
            "application/vnd.jupyter.widget-view+json": {
              "model_id": "19916a36ac38462a8a5d77f4ec75604d",
              "version_major": 2,
              "version_minor": 0
            },
            "text/plain": [
              "Evaluating:   0%|          | 0/2 [00:00<?, ?it/s]"
            ]
          },
          "metadata": {},
          "output_type": "display_data"
        },
        {
          "name": "stdout",
          "output_type": "stream",
          "text": [
            "Epoch: 75, train/mse: 6217.3525, eval/mse: 2139.6721, train/rmse: 0.5665, eval/rmse: 0.6751, \n"
          ]
        },
        {
          "data": {
            "application/vnd.jupyter.widget-view+json": {
              "model_id": "5afa8a788bb94d61aaf4afa700d79c80",
              "version_major": 2,
              "version_minor": 0
            },
            "text/plain": [
              "Epoch: 76/150:   0%|          | 0/8 [00:00<?, ?it/s]"
            ]
          },
          "metadata": {},
          "output_type": "display_data"
        },
        {
          "data": {
            "application/vnd.jupyter.widget-view+json": {
              "model_id": "0accaf843d444e7999e13dea5a7c848a",
              "version_major": 2,
              "version_minor": 0
            },
            "text/plain": [
              "Evaluating:   0%|          | 0/2 [00:00<?, ?it/s]"
            ]
          },
          "metadata": {},
          "output_type": "display_data"
        },
        {
          "name": "stdout",
          "output_type": "stream",
          "text": [
            "Epoch: 76, train/mse: 2269.5391, eval/mse: 2264.5215, train/rmse: 0.6348, eval/rmse: 0.6700, \n"
          ]
        },
        {
          "data": {
            "application/vnd.jupyter.widget-view+json": {
              "model_id": "5a5fc60d8158407f92c9f1d094f47abb",
              "version_major": 2,
              "version_minor": 0
            },
            "text/plain": [
              "Epoch: 77/150:   0%|          | 0/8 [00:00<?, ?it/s]"
            ]
          },
          "metadata": {},
          "output_type": "display_data"
        },
        {
          "data": {
            "application/vnd.jupyter.widget-view+json": {
              "model_id": "baee0eb5abb24f9aaa47f07d0aedbc4a",
              "version_major": 2,
              "version_minor": 0
            },
            "text/plain": [
              "Evaluating:   0%|          | 0/2 [00:00<?, ?it/s]"
            ]
          },
          "metadata": {},
          "output_type": "display_data"
        },
        {
          "name": "stdout",
          "output_type": "stream",
          "text": [
            "Epoch: 77, train/mse: 5700.2197, eval/mse: 2164.0054, train/rmse: 0.5888, eval/rmse: 0.6739, \n"
          ]
        },
        {
          "data": {
            "application/vnd.jupyter.widget-view+json": {
              "model_id": "a487bb8b6a5249a291152600a784f293",
              "version_major": 2,
              "version_minor": 0
            },
            "text/plain": [
              "Epoch: 78/150:   0%|          | 0/8 [00:00<?, ?it/s]"
            ]
          },
          "metadata": {},
          "output_type": "display_data"
        },
        {
          "data": {
            "application/vnd.jupyter.widget-view+json": {
              "model_id": "ed6857972148482a81db44acd42d599e",
              "version_major": 2,
              "version_minor": 0
            },
            "text/plain": [
              "Evaluating:   0%|          | 0/2 [00:00<?, ?it/s]"
            ]
          },
          "metadata": {},
          "output_type": "display_data"
        },
        {
          "name": "stdout",
          "output_type": "stream",
          "text": [
            "Epoch: 78, train/mse: 4437.3804, eval/mse: 2016.0747, train/rmse: 0.5902, eval/rmse: 0.6814, \n"
          ]
        },
        {
          "data": {
            "application/vnd.jupyter.widget-view+json": {
              "model_id": "9af2442bcef645499df257de63e295da",
              "version_major": 2,
              "version_minor": 0
            },
            "text/plain": [
              "Epoch: 79/150:   0%|          | 0/8 [00:00<?, ?it/s]"
            ]
          },
          "metadata": {},
          "output_type": "display_data"
        },
        {
          "data": {
            "application/vnd.jupyter.widget-view+json": {
              "model_id": "4176619ddcb14d04b7f06d450a63c238",
              "version_major": 2,
              "version_minor": 0
            },
            "text/plain": [
              "Evaluating:   0%|          | 0/2 [00:00<?, ?it/s]"
            ]
          },
          "metadata": {},
          "output_type": "display_data"
        },
        {
          "name": "stdout",
          "output_type": "stream",
          "text": [
            "Epoch: 79, train/mse: 6126.7515, eval/mse: 2206.0815, train/rmse: 0.5670, eval/rmse: 0.6732, \n"
          ]
        },
        {
          "data": {
            "application/vnd.jupyter.widget-view+json": {
              "model_id": "485657172d744f628796d293de207ee4",
              "version_major": 2,
              "version_minor": 0
            },
            "text/plain": [
              "Epoch: 80/150:   0%|          | 0/8 [00:00<?, ?it/s]"
            ]
          },
          "metadata": {},
          "output_type": "display_data"
        },
        {
          "data": {
            "application/vnd.jupyter.widget-view+json": {
              "model_id": "af0290be680a40818160fbbc842f38c1",
              "version_major": 2,
              "version_minor": 0
            },
            "text/plain": [
              "Evaluating:   0%|          | 0/2 [00:00<?, ?it/s]"
            ]
          },
          "metadata": {},
          "output_type": "display_data"
        },
        {
          "name": "stdout",
          "output_type": "stream",
          "text": [
            "Epoch: 80, train/mse: 6177.5479, eval/mse: 2358.2061, train/rmse: 0.5937, eval/rmse: 0.6663, \n"
          ]
        },
        {
          "data": {
            "application/vnd.jupyter.widget-view+json": {
              "model_id": "1b161a88abee48a08f13733da091e38b",
              "version_major": 2,
              "version_minor": 0
            },
            "text/plain": [
              "Epoch: 81/150:   0%|          | 0/8 [00:00<?, ?it/s]"
            ]
          },
          "metadata": {},
          "output_type": "display_data"
        },
        {
          "data": {
            "application/vnd.jupyter.widget-view+json": {
              "model_id": "1f0089d1fe984dc28360eca51583b726",
              "version_major": 2,
              "version_minor": 0
            },
            "text/plain": [
              "Evaluating:   0%|          | 0/2 [00:00<?, ?it/s]"
            ]
          },
          "metadata": {},
          "output_type": "display_data"
        },
        {
          "name": "stdout",
          "output_type": "stream",
          "text": [
            "Epoch: 81, train/mse: 4890.2642, eval/mse: 2257.1304, train/rmse: 0.5784, eval/rmse: 0.6709, \n"
          ]
        },
        {
          "data": {
            "application/vnd.jupyter.widget-view+json": {
              "model_id": "76a4e63d56d3408ca0b9893c7a38d250",
              "version_major": 2,
              "version_minor": 0
            },
            "text/plain": [
              "Epoch: 82/150:   0%|          | 0/8 [00:00<?, ?it/s]"
            ]
          },
          "metadata": {},
          "output_type": "display_data"
        },
        {
          "data": {
            "application/vnd.jupyter.widget-view+json": {
              "model_id": "d52cdea1500a47beaeeb0e9ab1f5d772",
              "version_major": 2,
              "version_minor": 0
            },
            "text/plain": [
              "Evaluating:   0%|          | 0/2 [00:00<?, ?it/s]"
            ]
          },
          "metadata": {},
          "output_type": "display_data"
        },
        {
          "name": "stdout",
          "output_type": "stream",
          "text": [
            "Epoch: 82, train/mse: 5833.3755, eval/mse: 2237.2742, train/rmse: 0.5602, eval/rmse: 0.6722, \n"
          ]
        },
        {
          "data": {
            "application/vnd.jupyter.widget-view+json": {
              "model_id": "4cf49a5008294e23bd92dab9ccce996b",
              "version_major": 2,
              "version_minor": 0
            },
            "text/plain": [
              "Epoch: 83/150:   0%|          | 0/8 [00:00<?, ?it/s]"
            ]
          },
          "metadata": {},
          "output_type": "display_data"
        },
        {
          "data": {
            "application/vnd.jupyter.widget-view+json": {
              "model_id": "47783f3cdb204b7da83f46f37de9a4f0",
              "version_major": 2,
              "version_minor": 0
            },
            "text/plain": [
              "Evaluating:   0%|          | 0/2 [00:00<?, ?it/s]"
            ]
          },
          "metadata": {},
          "output_type": "display_data"
        },
        {
          "name": "stdout",
          "output_type": "stream",
          "text": [
            "Epoch: 83, train/mse: 6285.0190, eval/mse: 2064.0671, train/rmse: 0.5721, eval/rmse: 0.6795, \n"
          ]
        },
        {
          "data": {
            "application/vnd.jupyter.widget-view+json": {
              "model_id": "56b161112c82441c9318354f6686af31",
              "version_major": 2,
              "version_minor": 0
            },
            "text/plain": [
              "Epoch: 84/150:   0%|          | 0/8 [00:00<?, ?it/s]"
            ]
          },
          "metadata": {},
          "output_type": "display_data"
        },
        {
          "data": {
            "application/vnd.jupyter.widget-view+json": {
              "model_id": "58c657b5a3bb42d092ed16f1e63b5315",
              "version_major": 2,
              "version_minor": 0
            },
            "text/plain": [
              "Evaluating:   0%|          | 0/2 [00:00<?, ?it/s]"
            ]
          },
          "metadata": {},
          "output_type": "display_data"
        },
        {
          "name": "stdout",
          "output_type": "stream",
          "text": [
            "Epoch: 84, train/mse: 5480.0933, eval/mse: 2421.0425, train/rmse: 0.5778, eval/rmse: 0.6388, \n"
          ]
        },
        {
          "data": {
            "application/vnd.jupyter.widget-view+json": {
              "model_id": "7a3ede262a8b42f196cad55b5abe9c0d",
              "version_major": 2,
              "version_minor": 0
            },
            "text/plain": [
              "Epoch: 85/150:   0%|          | 0/8 [00:00<?, ?it/s]"
            ]
          },
          "metadata": {},
          "output_type": "display_data"
        },
        {
          "data": {
            "application/vnd.jupyter.widget-view+json": {
              "model_id": "d105adce7fd84befab20c01376222a3f",
              "version_major": 2,
              "version_minor": 0
            },
            "text/plain": [
              "Evaluating:   0%|          | 0/2 [00:00<?, ?it/s]"
            ]
          },
          "metadata": {},
          "output_type": "display_data"
        },
        {
          "name": "stdout",
          "output_type": "stream",
          "text": [
            "Epoch: 85, train/mse: 4934.9927, eval/mse: 1991.4415, train/rmse: 0.5979, eval/rmse: 0.6837, \n"
          ]
        },
        {
          "data": {
            "application/vnd.jupyter.widget-view+json": {
              "model_id": "a2991f7a78bf49dda2c892648cdeaef8",
              "version_major": 2,
              "version_minor": 0
            },
            "text/plain": [
              "Epoch: 86/150:   0%|          | 0/8 [00:00<?, ?it/s]"
            ]
          },
          "metadata": {},
          "output_type": "display_data"
        },
        {
          "data": {
            "application/vnd.jupyter.widget-view+json": {
              "model_id": "56922d433ba84bb39af98978bb3d20e1",
              "version_major": 2,
              "version_minor": 0
            },
            "text/plain": [
              "Evaluating:   0%|          | 0/2 [00:00<?, ?it/s]"
            ]
          },
          "metadata": {},
          "output_type": "display_data"
        },
        {
          "name": "stdout",
          "output_type": "stream",
          "text": [
            "Epoch: 86, train/mse: 6025.5508, eval/mse: 2343.4685, train/rmse: 0.5562, eval/rmse: 0.6683, \n"
          ]
        },
        {
          "data": {
            "application/vnd.jupyter.widget-view+json": {
              "model_id": "f36ddc4f2278477fae633699429d0711",
              "version_major": 2,
              "version_minor": 0
            },
            "text/plain": [
              "Epoch: 87/150:   0%|          | 0/8 [00:00<?, ?it/s]"
            ]
          },
          "metadata": {},
          "output_type": "display_data"
        },
        {
          "data": {
            "application/vnd.jupyter.widget-view+json": {
              "model_id": "4d752cddad2a4fab992a3725cd63f343",
              "version_major": 2,
              "version_minor": 0
            },
            "text/plain": [
              "Evaluating:   0%|          | 0/2 [00:00<?, ?it/s]"
            ]
          },
          "metadata": {},
          "output_type": "display_data"
        },
        {
          "name": "stdout",
          "output_type": "stream",
          "text": [
            "Epoch: 87, train/mse: 5080.9902, eval/mse: 2232.9187, train/rmse: 0.5654, eval/rmse: 0.6729, \n"
          ]
        },
        {
          "data": {
            "application/vnd.jupyter.widget-view+json": {
              "model_id": "0dfe0b1dc7894dc99e6028f4d655a78c",
              "version_major": 2,
              "version_minor": 0
            },
            "text/plain": [
              "Epoch: 88/150:   0%|          | 0/8 [00:00<?, ?it/s]"
            ]
          },
          "metadata": {},
          "output_type": "display_data"
        },
        {
          "data": {
            "application/vnd.jupyter.widget-view+json": {
              "model_id": "cd3e9d19b1484973bc5c323c0a11a8d9",
              "version_major": 2,
              "version_minor": 0
            },
            "text/plain": [
              "Evaluating:   0%|          | 0/2 [00:00<?, ?it/s]"
            ]
          },
          "metadata": {},
          "output_type": "display_data"
        },
        {
          "name": "stdout",
          "output_type": "stream",
          "text": [
            "Epoch: 88, train/mse: 5670.3291, eval/mse: 1963.0840, train/rmse: 0.5806, eval/rmse: 0.6844, \n"
          ]
        },
        {
          "data": {
            "application/vnd.jupyter.widget-view+json": {
              "model_id": "02692e9e786849cf94db104a6e11f8e4",
              "version_major": 2,
              "version_minor": 0
            },
            "text/plain": [
              "Epoch: 89/150:   0%|          | 0/8 [00:00<?, ?it/s]"
            ]
          },
          "metadata": {},
          "output_type": "display_data"
        },
        {
          "data": {
            "application/vnd.jupyter.widget-view+json": {
              "model_id": "c1a55caec00949f980d1359a4b0f76d5",
              "version_major": 2,
              "version_minor": 0
            },
            "text/plain": [
              "Evaluating:   0%|          | 0/2 [00:00<?, ?it/s]"
            ]
          },
          "metadata": {},
          "output_type": "display_data"
        },
        {
          "name": "stdout",
          "output_type": "stream",
          "text": [
            "Epoch: 89, train/mse: 5647.0171, eval/mse: 1898.1047, train/rmse: 0.5699, eval/rmse: 0.6890, \n"
          ]
        },
        {
          "data": {
            "application/vnd.jupyter.widget-view+json": {
              "model_id": "fd0100a8ab2347308c963b0e50934681",
              "version_major": 2,
              "version_minor": 0
            },
            "text/plain": [
              "Epoch: 90/150:   0%|          | 0/8 [00:00<?, ?it/s]"
            ]
          },
          "metadata": {},
          "output_type": "display_data"
        },
        {
          "data": {
            "application/vnd.jupyter.widget-view+json": {
              "model_id": "f55e589bb6ad4702aeb4763866ffc496",
              "version_major": 2,
              "version_minor": 0
            },
            "text/plain": [
              "Evaluating:   0%|          | 0/2 [00:00<?, ?it/s]"
            ]
          },
          "metadata": {},
          "output_type": "display_data"
        },
        {
          "name": "stdout",
          "output_type": "stream",
          "text": [
            "Epoch: 90, train/mse: 5286.8354, eval/mse: 1884.0249, train/rmse: 0.5815, eval/rmse: 0.6890, \n"
          ]
        },
        {
          "data": {
            "application/vnd.jupyter.widget-view+json": {
              "model_id": "65c5afbd3c20412da9dbb243482c80da",
              "version_major": 2,
              "version_minor": 0
            },
            "text/plain": [
              "Epoch: 91/150:   0%|          | 0/8 [00:00<?, ?it/s]"
            ]
          },
          "metadata": {},
          "output_type": "display_data"
        },
        {
          "data": {
            "application/vnd.jupyter.widget-view+json": {
              "model_id": "64e3dc82fe8f4c458d4debdeff7599f0",
              "version_major": 2,
              "version_minor": 0
            },
            "text/plain": [
              "Evaluating:   0%|          | 0/2 [00:00<?, ?it/s]"
            ]
          },
          "metadata": {},
          "output_type": "display_data"
        },
        {
          "name": "stdout",
          "output_type": "stream",
          "text": [
            "Epoch: 91, train/mse: 5983.3574, eval/mse: 1507.7213, train/rmse: 0.5491, eval/rmse: 0.7091, \n"
          ]
        },
        {
          "data": {
            "application/vnd.jupyter.widget-view+json": {
              "model_id": "d6a7775e1ef54b59bcf665fd1bf570c9",
              "version_major": 2,
              "version_minor": 0
            },
            "text/plain": [
              "Epoch: 92/150:   0%|          | 0/8 [00:00<?, ?it/s]"
            ]
          },
          "metadata": {},
          "output_type": "display_data"
        },
        {
          "data": {
            "application/vnd.jupyter.widget-view+json": {
              "model_id": "cf75008af53c4109b2483dcabb1608b9",
              "version_major": 2,
              "version_minor": 0
            },
            "text/plain": [
              "Evaluating:   0%|          | 0/2 [00:00<?, ?it/s]"
            ]
          },
          "metadata": {},
          "output_type": "display_data"
        },
        {
          "name": "stdout",
          "output_type": "stream",
          "text": [
            "Epoch: 92, train/mse: 5819.1001, eval/mse: 1942.1300, train/rmse: 0.5639, eval/rmse: 0.6862, \n"
          ]
        },
        {
          "data": {
            "application/vnd.jupyter.widget-view+json": {
              "model_id": "154639ecdc644e25aee73ee81af0ac58",
              "version_major": 2,
              "version_minor": 0
            },
            "text/plain": [
              "Epoch: 93/150:   0%|          | 0/8 [00:00<?, ?it/s]"
            ]
          },
          "metadata": {},
          "output_type": "display_data"
        },
        {
          "data": {
            "application/vnd.jupyter.widget-view+json": {
              "model_id": "0689e84b4bf746898dcf4a65dca1e2c3",
              "version_major": 2,
              "version_minor": 0
            },
            "text/plain": [
              "Evaluating:   0%|          | 0/2 [00:00<?, ?it/s]"
            ]
          },
          "metadata": {},
          "output_type": "display_data"
        },
        {
          "name": "stdout",
          "output_type": "stream",
          "text": [
            "Epoch: 93, train/mse: 3867.5227, eval/mse: 2071.8198, train/rmse: 0.6229, eval/rmse: 0.6805, \n"
          ]
        },
        {
          "data": {
            "application/vnd.jupyter.widget-view+json": {
              "model_id": "d078250cc1384255b34a6ad8e77e2765",
              "version_major": 2,
              "version_minor": 0
            },
            "text/plain": [
              "Epoch: 94/150:   0%|          | 0/8 [00:00<?, ?it/s]"
            ]
          },
          "metadata": {},
          "output_type": "display_data"
        },
        {
          "data": {
            "application/vnd.jupyter.widget-view+json": {
              "model_id": "31ed18e285bb42738f5908dfe90a6e92",
              "version_major": 2,
              "version_minor": 0
            },
            "text/plain": [
              "Evaluating:   0%|          | 0/2 [00:00<?, ?it/s]"
            ]
          },
          "metadata": {},
          "output_type": "display_data"
        },
        {
          "name": "stdout",
          "output_type": "stream",
          "text": [
            "Epoch: 94, train/mse: 5892.9722, eval/mse: 1934.9512, train/rmse: 0.5694, eval/rmse: 0.6872, \n"
          ]
        },
        {
          "data": {
            "application/vnd.jupyter.widget-view+json": {
              "model_id": "b3bf3094134b43caa0c49bfa7ef3f4ca",
              "version_major": 2,
              "version_minor": 0
            },
            "text/plain": [
              "Epoch: 95/150:   0%|          | 0/8 [00:00<?, ?it/s]"
            ]
          },
          "metadata": {},
          "output_type": "display_data"
        },
        {
          "data": {
            "application/vnd.jupyter.widget-view+json": {
              "model_id": "b4234f47f35b465594763f8ff3853972",
              "version_major": 2,
              "version_minor": 0
            },
            "text/plain": [
              "Evaluating:   0%|          | 0/2 [00:00<?, ?it/s]"
            ]
          },
          "metadata": {},
          "output_type": "display_data"
        },
        {
          "name": "stdout",
          "output_type": "stream",
          "text": [
            "Epoch: 95, train/mse: 4536.3999, eval/mse: 2020.7256, train/rmse: 0.5871, eval/rmse: 0.6832, \n"
          ]
        },
        {
          "data": {
            "application/vnd.jupyter.widget-view+json": {
              "model_id": "600889ab1cb640dda637a029a08488d6",
              "version_major": 2,
              "version_minor": 0
            },
            "text/plain": [
              "Epoch: 96/150:   0%|          | 0/8 [00:00<?, ?it/s]"
            ]
          },
          "metadata": {},
          "output_type": "display_data"
        },
        {
          "data": {
            "application/vnd.jupyter.widget-view+json": {
              "model_id": "7c5dfcd71e91406f85ce5cd0d4c7da29",
              "version_major": 2,
              "version_minor": 0
            },
            "text/plain": [
              "Evaluating:   0%|          | 0/2 [00:00<?, ?it/s]"
            ]
          },
          "metadata": {},
          "output_type": "display_data"
        },
        {
          "name": "stdout",
          "output_type": "stream",
          "text": [
            "Epoch: 96, train/mse: 4523.2852, eval/mse: 2060.5107, train/rmse: 0.5785, eval/rmse: 0.6813, \n"
          ]
        },
        {
          "data": {
            "application/vnd.jupyter.widget-view+json": {
              "model_id": "d471bb88d64444a4ab67bdc0accc936a",
              "version_major": 2,
              "version_minor": 0
            },
            "text/plain": [
              "Epoch: 97/150:   0%|          | 0/8 [00:00<?, ?it/s]"
            ]
          },
          "metadata": {},
          "output_type": "display_data"
        },
        {
          "data": {
            "application/vnd.jupyter.widget-view+json": {
              "model_id": "86bec081af3747a7824214fa94d7e1fd",
              "version_major": 2,
              "version_minor": 0
            },
            "text/plain": [
              "Evaluating:   0%|          | 0/2 [00:00<?, ?it/s]"
            ]
          },
          "metadata": {},
          "output_type": "display_data"
        },
        {
          "name": "stdout",
          "output_type": "stream",
          "text": [
            "Epoch: 97, train/mse: 4525.6016, eval/mse: 2070.4507, train/rmse: 0.5892, eval/rmse: 0.6804, \n"
          ]
        },
        {
          "data": {
            "application/vnd.jupyter.widget-view+json": {
              "model_id": "53793fb886724686ad353bf3d78d5fc0",
              "version_major": 2,
              "version_minor": 0
            },
            "text/plain": [
              "Epoch: 98/150:   0%|          | 0/8 [00:00<?, ?it/s]"
            ]
          },
          "metadata": {},
          "output_type": "display_data"
        },
        {
          "data": {
            "application/vnd.jupyter.widget-view+json": {
              "model_id": "7269783a6d1147eba2c4ac167cf049db",
              "version_major": 2,
              "version_minor": 0
            },
            "text/plain": [
              "Evaluating:   0%|          | 0/2 [00:00<?, ?it/s]"
            ]
          },
          "metadata": {},
          "output_type": "display_data"
        },
        {
          "name": "stdout",
          "output_type": "stream",
          "text": [
            "Epoch: 98, train/mse: 5644.4272, eval/mse: 1925.9932, train/rmse: 0.5902, eval/rmse: 0.6873, \n"
          ]
        },
        {
          "data": {
            "application/vnd.jupyter.widget-view+json": {
              "model_id": "2bf37ba004ec4efaa3282b2fc874ba1b",
              "version_major": 2,
              "version_minor": 0
            },
            "text/plain": [
              "Epoch: 99/150:   0%|          | 0/8 [00:00<?, ?it/s]"
            ]
          },
          "metadata": {},
          "output_type": "display_data"
        },
        {
          "data": {
            "application/vnd.jupyter.widget-view+json": {
              "model_id": "f4d3c64f06544f1ca1249858a2746e7a",
              "version_major": 2,
              "version_minor": 0
            },
            "text/plain": [
              "Evaluating:   0%|          | 0/2 [00:00<?, ?it/s]"
            ]
          },
          "metadata": {},
          "output_type": "display_data"
        },
        {
          "name": "stdout",
          "output_type": "stream",
          "text": [
            "Epoch: 99, train/mse: 6293.5098, eval/mse: 1933.3376, train/rmse: 0.5649, eval/rmse: 0.6855, \n"
          ]
        },
        {
          "data": {
            "application/vnd.jupyter.widget-view+json": {
              "model_id": "aad0d7c938234a5180bbce36e3feb80f",
              "version_major": 2,
              "version_minor": 0
            },
            "text/plain": [
              "Epoch: 100/150:   0%|          | 0/8 [00:00<?, ?it/s]"
            ]
          },
          "metadata": {},
          "output_type": "display_data"
        },
        {
          "data": {
            "application/vnd.jupyter.widget-view+json": {
              "model_id": "ac158c03ca374e789e1b27e2efe0a607",
              "version_major": 2,
              "version_minor": 0
            },
            "text/plain": [
              "Evaluating:   0%|          | 0/2 [00:00<?, ?it/s]"
            ]
          },
          "metadata": {},
          "output_type": "display_data"
        },
        {
          "name": "stdout",
          "output_type": "stream",
          "text": [
            "Epoch: 100, train/mse: 6352.3604, eval/mse: 2048.7917, train/rmse: 0.5504, eval/rmse: 0.6807, \n"
          ]
        },
        {
          "data": {
            "application/vnd.jupyter.widget-view+json": {
              "model_id": "0ef799ae4d4e46bfae58b382c190e8ab",
              "version_major": 2,
              "version_minor": 0
            },
            "text/plain": [
              "Epoch: 101/150:   0%|          | 0/8 [00:00<?, ?it/s]"
            ]
          },
          "metadata": {},
          "output_type": "display_data"
        },
        {
          "data": {
            "application/vnd.jupyter.widget-view+json": {
              "model_id": "3fd3d7796e954fae85ba5b6331a72c43",
              "version_major": 2,
              "version_minor": 0
            },
            "text/plain": [
              "Evaluating:   0%|          | 0/2 [00:00<?, ?it/s]"
            ]
          },
          "metadata": {},
          "output_type": "display_data"
        },
        {
          "name": "stdout",
          "output_type": "stream",
          "text": [
            "Epoch: 101, train/mse: 5815.8945, eval/mse: 1987.3276, train/rmse: 0.5832, eval/rmse: 0.6837, \n"
          ]
        },
        {
          "data": {
            "application/vnd.jupyter.widget-view+json": {
              "model_id": "48183ab7c0364282a7e13a6579e123fd",
              "version_major": 2,
              "version_minor": 0
            },
            "text/plain": [
              "Epoch: 102/150:   0%|          | 0/8 [00:00<?, ?it/s]"
            ]
          },
          "metadata": {},
          "output_type": "display_data"
        },
        {
          "data": {
            "application/vnd.jupyter.widget-view+json": {
              "model_id": "0c28a1448cc94d88a4993f185d225e03",
              "version_major": 2,
              "version_minor": 0
            },
            "text/plain": [
              "Evaluating:   0%|          | 0/2 [00:00<?, ?it/s]"
            ]
          },
          "metadata": {},
          "output_type": "display_data"
        },
        {
          "name": "stdout",
          "output_type": "stream",
          "text": [
            "Epoch: 102, train/mse: 5454.0405, eval/mse: 2128.6843, train/rmse: 0.5895, eval/rmse: 0.6780, \n"
          ]
        },
        {
          "data": {
            "application/vnd.jupyter.widget-view+json": {
              "model_id": "44f3394345914aaebec4e4fa4974a126",
              "version_major": 2,
              "version_minor": 0
            },
            "text/plain": [
              "Epoch: 103/150:   0%|          | 0/8 [00:00<?, ?it/s]"
            ]
          },
          "metadata": {},
          "output_type": "display_data"
        },
        {
          "data": {
            "application/vnd.jupyter.widget-view+json": {
              "model_id": "d9a7482ffdbf4a3392c752b25673d054",
              "version_major": 2,
              "version_minor": 0
            },
            "text/plain": [
              "Evaluating:   0%|          | 0/2 [00:00<?, ?it/s]"
            ]
          },
          "metadata": {},
          "output_type": "display_data"
        },
        {
          "name": "stdout",
          "output_type": "stream",
          "text": [
            "Epoch: 103, train/mse: 6254.3359, eval/mse: 2202.7036, train/rmse: 0.5414, eval/rmse: 0.6728, \n"
          ]
        },
        {
          "data": {
            "application/vnd.jupyter.widget-view+json": {
              "model_id": "97ea011a03da4d07af1b80017f169c9b",
              "version_major": 2,
              "version_minor": 0
            },
            "text/plain": [
              "Epoch: 104/150:   0%|          | 0/8 [00:00<?, ?it/s]"
            ]
          },
          "metadata": {},
          "output_type": "display_data"
        },
        {
          "data": {
            "application/vnd.jupyter.widget-view+json": {
              "model_id": "9672b8d4ac2c4739a6fc2e015bf3cd3a",
              "version_major": 2,
              "version_minor": 0
            },
            "text/plain": [
              "Evaluating:   0%|          | 0/2 [00:00<?, ?it/s]"
            ]
          },
          "metadata": {},
          "output_type": "display_data"
        },
        {
          "name": "stdout",
          "output_type": "stream",
          "text": [
            "Epoch: 104, train/mse: 5598.2231, eval/mse: 1904.1964, train/rmse: 0.6058, eval/rmse: 0.6870, \n"
          ]
        },
        {
          "data": {
            "application/vnd.jupyter.widget-view+json": {
              "model_id": "3e704d215bfe423db5f51ae706c7cf65",
              "version_major": 2,
              "version_minor": 0
            },
            "text/plain": [
              "Epoch: 105/150:   0%|          | 0/8 [00:00<?, ?it/s]"
            ]
          },
          "metadata": {},
          "output_type": "display_data"
        },
        {
          "data": {
            "application/vnd.jupyter.widget-view+json": {
              "model_id": "554b526c0ccf42709b9b95bd3235e714",
              "version_major": 2,
              "version_minor": 0
            },
            "text/plain": [
              "Evaluating:   0%|          | 0/2 [00:00<?, ?it/s]"
            ]
          },
          "metadata": {},
          "output_type": "display_data"
        },
        {
          "name": "stdout",
          "output_type": "stream",
          "text": [
            "Epoch: 105, train/mse: 5759.0630, eval/mse: 1976.5981, train/rmse: 0.5706, eval/rmse: 0.6837, \n"
          ]
        },
        {
          "data": {
            "application/vnd.jupyter.widget-view+json": {
              "model_id": "af1d3d6e39ff496d80909dec0015d0a2",
              "version_major": 2,
              "version_minor": 0
            },
            "text/plain": [
              "Epoch: 106/150:   0%|          | 0/8 [00:00<?, ?it/s]"
            ]
          },
          "metadata": {},
          "output_type": "display_data"
        },
        {
          "data": {
            "application/vnd.jupyter.widget-view+json": {
              "model_id": "0b9f5656490046eea987387114aaefe0",
              "version_major": 2,
              "version_minor": 0
            },
            "text/plain": [
              "Evaluating:   0%|          | 0/2 [00:00<?, ?it/s]"
            ]
          },
          "metadata": {},
          "output_type": "display_data"
        },
        {
          "name": "stdout",
          "output_type": "stream",
          "text": [
            "Epoch: 106, train/mse: 5351.6133, eval/mse: 1988.6282, train/rmse: 0.5954, eval/rmse: 0.6839, \n"
          ]
        },
        {
          "data": {
            "application/vnd.jupyter.widget-view+json": {
              "model_id": "a363fd9ebd2d474a8eff837f5af94cdd",
              "version_major": 2,
              "version_minor": 0
            },
            "text/plain": [
              "Epoch: 107/150:   0%|          | 0/8 [00:00<?, ?it/s]"
            ]
          },
          "metadata": {},
          "output_type": "display_data"
        },
        {
          "data": {
            "application/vnd.jupyter.widget-view+json": {
              "model_id": "1b555c9cef284617a756d833f07ab78e",
              "version_major": 2,
              "version_minor": 0
            },
            "text/plain": [
              "Evaluating:   0%|          | 0/2 [00:00<?, ?it/s]"
            ]
          },
          "metadata": {},
          "output_type": "display_data"
        },
        {
          "name": "stdout",
          "output_type": "stream",
          "text": [
            "Epoch: 107, train/mse: 4614.1543, eval/mse: 1756.4718, train/rmse: 0.5706, eval/rmse: 0.6936, \n"
          ]
        },
        {
          "data": {
            "application/vnd.jupyter.widget-view+json": {
              "model_id": "44b0292f3aea41f6837507ac57685338",
              "version_major": 2,
              "version_minor": 0
            },
            "text/plain": [
              "Epoch: 108/150:   0%|          | 0/8 [00:00<?, ?it/s]"
            ]
          },
          "metadata": {},
          "output_type": "display_data"
        },
        {
          "data": {
            "application/vnd.jupyter.widget-view+json": {
              "model_id": "c92143e79093467e811e8eedab2cd86d",
              "version_major": 2,
              "version_minor": 0
            },
            "text/plain": [
              "Evaluating:   0%|          | 0/2 [00:00<?, ?it/s]"
            ]
          },
          "metadata": {},
          "output_type": "display_data"
        },
        {
          "name": "stdout",
          "output_type": "stream",
          "text": [
            "Epoch: 108, train/mse: 4630.7227, eval/mse: 1724.0178, train/rmse: 0.6076, eval/rmse: 0.6988, \n"
          ]
        },
        {
          "data": {
            "application/vnd.jupyter.widget-view+json": {
              "model_id": "9acdfb1c56a94d44a720906a01d9cb4e",
              "version_major": 2,
              "version_minor": 0
            },
            "text/plain": [
              "Epoch: 109/150:   0%|          | 0/8 [00:00<?, ?it/s]"
            ]
          },
          "metadata": {},
          "output_type": "display_data"
        },
        {
          "data": {
            "application/vnd.jupyter.widget-view+json": {
              "model_id": "16706e9b6670402099349a0511444ae2",
              "version_major": 2,
              "version_minor": 0
            },
            "text/plain": [
              "Evaluating:   0%|          | 0/2 [00:00<?, ?it/s]"
            ]
          },
          "metadata": {},
          "output_type": "display_data"
        },
        {
          "name": "stdout",
          "output_type": "stream",
          "text": [
            "Epoch: 109, train/mse: 5346.4590, eval/mse: 1742.8829, train/rmse: 0.5705, eval/rmse: 0.6929, \n"
          ]
        },
        {
          "data": {
            "application/vnd.jupyter.widget-view+json": {
              "model_id": "e8129c9fa1924028983e4238e8bd2f63",
              "version_major": 2,
              "version_minor": 0
            },
            "text/plain": [
              "Epoch: 110/150:   0%|          | 0/8 [00:00<?, ?it/s]"
            ]
          },
          "metadata": {},
          "output_type": "display_data"
        },
        {
          "data": {
            "application/vnd.jupyter.widget-view+json": {
              "model_id": "2db0d78fe3bf41af91095b11ec04a0fc",
              "version_major": 2,
              "version_minor": 0
            },
            "text/plain": [
              "Evaluating:   0%|          | 0/2 [00:00<?, ?it/s]"
            ]
          },
          "metadata": {},
          "output_type": "display_data"
        },
        {
          "name": "stdout",
          "output_type": "stream",
          "text": [
            "Epoch: 110, train/mse: 4930.2466, eval/mse: 1957.3441, train/rmse: 0.5768, eval/rmse: 0.6639, \n"
          ]
        },
        {
          "data": {
            "application/vnd.jupyter.widget-view+json": {
              "model_id": "11f16dd8b97947b4a33d4edbf5a14820",
              "version_major": 2,
              "version_minor": 0
            },
            "text/plain": [
              "Epoch: 111/150:   0%|          | 0/8 [00:00<?, ?it/s]"
            ]
          },
          "metadata": {},
          "output_type": "display_data"
        },
        {
          "data": {
            "application/vnd.jupyter.widget-view+json": {
              "model_id": "8c92f35e81594e7c885d587b77c6114f",
              "version_major": 2,
              "version_minor": 0
            },
            "text/plain": [
              "Evaluating:   0%|          | 0/2 [00:00<?, ?it/s]"
            ]
          },
          "metadata": {},
          "output_type": "display_data"
        },
        {
          "name": "stdout",
          "output_type": "stream",
          "text": [
            "Epoch: 111, train/mse: 4622.7881, eval/mse: 2183.7822, train/rmse: 0.5934, eval/rmse: 0.6410, \n"
          ]
        },
        {
          "data": {
            "application/vnd.jupyter.widget-view+json": {
              "model_id": "eb384e3bec884eac8f1b89f1589e4b91",
              "version_major": 2,
              "version_minor": 0
            },
            "text/plain": [
              "Epoch: 112/150:   0%|          | 0/8 [00:00<?, ?it/s]"
            ]
          },
          "metadata": {},
          "output_type": "display_data"
        },
        {
          "data": {
            "application/vnd.jupyter.widget-view+json": {
              "model_id": "2d187962abf74744a8565cebe2df33ac",
              "version_major": 2,
              "version_minor": 0
            },
            "text/plain": [
              "Evaluating:   0%|          | 0/2 [00:00<?, ?it/s]"
            ]
          },
          "metadata": {},
          "output_type": "display_data"
        },
        {
          "name": "stdout",
          "output_type": "stream",
          "text": [
            "Epoch: 112, train/mse: 5971.7417, eval/mse: 2105.3196, train/rmse: 0.5626, eval/rmse: 0.6617, \n"
          ]
        },
        {
          "data": {
            "application/vnd.jupyter.widget-view+json": {
              "model_id": "f2f93c1681344b0a830ac9530e8bea97",
              "version_major": 2,
              "version_minor": 0
            },
            "text/plain": [
              "Epoch: 113/150:   0%|          | 0/8 [00:00<?, ?it/s]"
            ]
          },
          "metadata": {},
          "output_type": "display_data"
        },
        {
          "data": {
            "application/vnd.jupyter.widget-view+json": {
              "model_id": "5fc3811d089d41baac6390fb5c188f24",
              "version_major": 2,
              "version_minor": 0
            },
            "text/plain": [
              "Evaluating:   0%|          | 0/2 [00:00<?, ?it/s]"
            ]
          },
          "metadata": {},
          "output_type": "display_data"
        },
        {
          "name": "stdout",
          "output_type": "stream",
          "text": [
            "Epoch: 113, train/mse: 5191.4780, eval/mse: 1865.0581, train/rmse: 0.6142, eval/rmse: 0.6907, \n"
          ]
        },
        {
          "data": {
            "application/vnd.jupyter.widget-view+json": {
              "model_id": "3d135fb018a14a1b815874479f102a83",
              "version_major": 2,
              "version_minor": 0
            },
            "text/plain": [
              "Epoch: 114/150:   0%|          | 0/8 [00:00<?, ?it/s]"
            ]
          },
          "metadata": {},
          "output_type": "display_data"
        },
        {
          "data": {
            "application/vnd.jupyter.widget-view+json": {
              "model_id": "a8ad0997fc0c421981252e6f5b5d0f73",
              "version_major": 2,
              "version_minor": 0
            },
            "text/plain": [
              "Evaluating:   0%|          | 0/2 [00:00<?, ?it/s]"
            ]
          },
          "metadata": {},
          "output_type": "display_data"
        },
        {
          "name": "stdout",
          "output_type": "stream",
          "text": [
            "Epoch: 114, train/mse: 4833.0635, eval/mse: 1670.9927, train/rmse: 0.6024, eval/rmse: 0.7026, \n"
          ]
        },
        {
          "data": {
            "application/vnd.jupyter.widget-view+json": {
              "model_id": "37605e9ae63d4550ada015094535c970",
              "version_major": 2,
              "version_minor": 0
            },
            "text/plain": [
              "Epoch: 115/150:   0%|          | 0/8 [00:00<?, ?it/s]"
            ]
          },
          "metadata": {},
          "output_type": "display_data"
        },
        {
          "data": {
            "application/vnd.jupyter.widget-view+json": {
              "model_id": "df62abb4b5554677932d878f5fbe20d3",
              "version_major": 2,
              "version_minor": 0
            },
            "text/plain": [
              "Evaluating:   0%|          | 0/2 [00:00<?, ?it/s]"
            ]
          },
          "metadata": {},
          "output_type": "display_data"
        },
        {
          "name": "stdout",
          "output_type": "stream",
          "text": [
            "Epoch: 115, train/mse: 4391.7368, eval/mse: 1786.7842, train/rmse: 0.5899, eval/rmse: 0.6963, \n"
          ]
        },
        {
          "data": {
            "application/vnd.jupyter.widget-view+json": {
              "model_id": "dc317815241742e0ab3b8aa088d285f3",
              "version_major": 2,
              "version_minor": 0
            },
            "text/plain": [
              "Epoch: 116/150:   0%|          | 0/8 [00:00<?, ?it/s]"
            ]
          },
          "metadata": {},
          "output_type": "display_data"
        },
        {
          "data": {
            "application/vnd.jupyter.widget-view+json": {
              "model_id": "eef9d9b1147b432c9270abeeb9b59ebf",
              "version_major": 2,
              "version_minor": 0
            },
            "text/plain": [
              "Evaluating:   0%|          | 0/2 [00:00<?, ?it/s]"
            ]
          },
          "metadata": {},
          "output_type": "display_data"
        },
        {
          "name": "stdout",
          "output_type": "stream",
          "text": [
            "Epoch: 116, train/mse: 6015.8081, eval/mse: 1592.2704, train/rmse: 0.5722, eval/rmse: 0.7066, \n"
          ]
        },
        {
          "data": {
            "application/vnd.jupyter.widget-view+json": {
              "model_id": "6f94e7e98a0b429b88271e15635baeea",
              "version_major": 2,
              "version_minor": 0
            },
            "text/plain": [
              "Epoch: 117/150:   0%|          | 0/8 [00:00<?, ?it/s]"
            ]
          },
          "metadata": {},
          "output_type": "display_data"
        },
        {
          "data": {
            "application/vnd.jupyter.widget-view+json": {
              "model_id": "330c3d75bb664b6eb7342124ad29484d",
              "version_major": 2,
              "version_minor": 0
            },
            "text/plain": [
              "Evaluating:   0%|          | 0/2 [00:00<?, ?it/s]"
            ]
          },
          "metadata": {},
          "output_type": "display_data"
        },
        {
          "name": "stdout",
          "output_type": "stream",
          "text": [
            "Epoch: 117, train/mse: 5857.7739, eval/mse: 1795.5045, train/rmse: 0.5841, eval/rmse: 0.6961, \n"
          ]
        },
        {
          "data": {
            "application/vnd.jupyter.widget-view+json": {
              "model_id": "f3c739bdfe8c4f369849e07331ca52bc",
              "version_major": 2,
              "version_minor": 0
            },
            "text/plain": [
              "Epoch: 118/150:   0%|          | 0/8 [00:00<?, ?it/s]"
            ]
          },
          "metadata": {},
          "output_type": "display_data"
        },
        {
          "data": {
            "application/vnd.jupyter.widget-view+json": {
              "model_id": "00e37ae3ab8547f493d5fca35848c8cb",
              "version_major": 2,
              "version_minor": 0
            },
            "text/plain": [
              "Evaluating:   0%|          | 0/2 [00:00<?, ?it/s]"
            ]
          },
          "metadata": {},
          "output_type": "display_data"
        },
        {
          "name": "stdout",
          "output_type": "stream",
          "text": [
            "Epoch: 118, train/mse: 5344.4111, eval/mse: 1745.9058, train/rmse: 0.6017, eval/rmse: 0.6988, \n"
          ]
        },
        {
          "data": {
            "application/vnd.jupyter.widget-view+json": {
              "model_id": "146e140804f24e99b6ed86a4acf0c617",
              "version_major": 2,
              "version_minor": 0
            },
            "text/plain": [
              "Epoch: 119/150:   0%|          | 0/8 [00:00<?, ?it/s]"
            ]
          },
          "metadata": {},
          "output_type": "display_data"
        },
        {
          "data": {
            "application/vnd.jupyter.widget-view+json": {
              "model_id": "859b19671fc54a47be23ee01ed81348a",
              "version_major": 2,
              "version_minor": 0
            },
            "text/plain": [
              "Evaluating:   0%|          | 0/2 [00:00<?, ?it/s]"
            ]
          },
          "metadata": {},
          "output_type": "display_data"
        },
        {
          "name": "stdout",
          "output_type": "stream",
          "text": [
            "Epoch: 119, train/mse: 4890.0796, eval/mse: 1784.3363, train/rmse: 0.6022, eval/rmse: 0.6959, \n"
          ]
        },
        {
          "data": {
            "application/vnd.jupyter.widget-view+json": {
              "model_id": "4df975850b394e6786f36ffacdf99929",
              "version_major": 2,
              "version_minor": 0
            },
            "text/plain": [
              "Epoch: 120/150:   0%|          | 0/8 [00:00<?, ?it/s]"
            ]
          },
          "metadata": {},
          "output_type": "display_data"
        },
        {
          "data": {
            "application/vnd.jupyter.widget-view+json": {
              "model_id": "623b7e2726124970a162c03be05249bd",
              "version_major": 2,
              "version_minor": 0
            },
            "text/plain": [
              "Evaluating:   0%|          | 0/2 [00:00<?, ?it/s]"
            ]
          },
          "metadata": {},
          "output_type": "display_data"
        },
        {
          "name": "stdout",
          "output_type": "stream",
          "text": [
            "Epoch: 120, train/mse: 5849.8813, eval/mse: 1708.1990, train/rmse: 0.5983, eval/rmse: 0.7000, \n"
          ]
        },
        {
          "data": {
            "application/vnd.jupyter.widget-view+json": {
              "model_id": "8ebfde71bd19435bbbbfbad10ee19ce1",
              "version_major": 2,
              "version_minor": 0
            },
            "text/plain": [
              "Epoch: 121/150:   0%|          | 0/8 [00:00<?, ?it/s]"
            ]
          },
          "metadata": {},
          "output_type": "display_data"
        },
        {
          "data": {
            "application/vnd.jupyter.widget-view+json": {
              "model_id": "ea4fea3919ae45b1b1b019d8737f0a91",
              "version_major": 2,
              "version_minor": 0
            },
            "text/plain": [
              "Evaluating:   0%|          | 0/2 [00:00<?, ?it/s]"
            ]
          },
          "metadata": {},
          "output_type": "display_data"
        },
        {
          "name": "stdout",
          "output_type": "stream",
          "text": [
            "Epoch: 121, train/mse: 5907.0132, eval/mse: 1746.4026, train/rmse: 0.5561, eval/rmse: 0.6970, \n"
          ]
        },
        {
          "data": {
            "application/vnd.jupyter.widget-view+json": {
              "model_id": "9876290a02dc4e88bdd1e0dd4b6b6a2e",
              "version_major": 2,
              "version_minor": 0
            },
            "text/plain": [
              "Epoch: 122/150:   0%|          | 0/8 [00:00<?, ?it/s]"
            ]
          },
          "metadata": {},
          "output_type": "display_data"
        },
        {
          "data": {
            "application/vnd.jupyter.widget-view+json": {
              "model_id": "cc92f457d32e4bec8c415255e3a88030",
              "version_major": 2,
              "version_minor": 0
            },
            "text/plain": [
              "Evaluating:   0%|          | 0/2 [00:00<?, ?it/s]"
            ]
          },
          "metadata": {},
          "output_type": "display_data"
        },
        {
          "name": "stdout",
          "output_type": "stream",
          "text": [
            "Epoch: 122, train/mse: 1869.5049, eval/mse: 1773.8790, train/rmse: 0.6617, eval/rmse: 0.6950, \n"
          ]
        },
        {
          "data": {
            "application/vnd.jupyter.widget-view+json": {
              "model_id": "c634c4df96394c388ad03b51246b4e55",
              "version_major": 2,
              "version_minor": 0
            },
            "text/plain": [
              "Epoch: 123/150:   0%|          | 0/8 [00:00<?, ?it/s]"
            ]
          },
          "metadata": {},
          "output_type": "display_data"
        },
        {
          "data": {
            "application/vnd.jupyter.widget-view+json": {
              "model_id": "be04f5c8dd3a46fda1bf126fec401f80",
              "version_major": 2,
              "version_minor": 0
            },
            "text/plain": [
              "Evaluating:   0%|          | 0/2 [00:00<?, ?it/s]"
            ]
          },
          "metadata": {},
          "output_type": "display_data"
        },
        {
          "name": "stdout",
          "output_type": "stream",
          "text": [
            "Epoch: 123, train/mse: 4270.9995, eval/mse: 1642.7080, train/rmse: 0.6073, eval/rmse: 0.7015, \n"
          ]
        },
        {
          "data": {
            "application/vnd.jupyter.widget-view+json": {
              "model_id": "e10ffd5bf0514f92b64853702c6fd3a0",
              "version_major": 2,
              "version_minor": 0
            },
            "text/plain": [
              "Epoch: 124/150:   0%|          | 0/8 [00:00<?, ?it/s]"
            ]
          },
          "metadata": {},
          "output_type": "display_data"
        },
        {
          "data": {
            "application/vnd.jupyter.widget-view+json": {
              "model_id": "6600cc9c77164465a4209cf1b8cc82a8",
              "version_major": 2,
              "version_minor": 0
            },
            "text/plain": [
              "Evaluating:   0%|          | 0/2 [00:00<?, ?it/s]"
            ]
          },
          "metadata": {},
          "output_type": "display_data"
        },
        {
          "name": "stdout",
          "output_type": "stream",
          "text": [
            "Epoch: 124, train/mse: 4432.5635, eval/mse: 1561.8912, train/rmse: 0.6167, eval/rmse: 0.7065, \n"
          ]
        },
        {
          "data": {
            "application/vnd.jupyter.widget-view+json": {
              "model_id": "5d619ab5782640d1ba252b4347027508",
              "version_major": 2,
              "version_minor": 0
            },
            "text/plain": [
              "Epoch: 125/150:   0%|          | 0/8 [00:00<?, ?it/s]"
            ]
          },
          "metadata": {},
          "output_type": "display_data"
        },
        {
          "data": {
            "application/vnd.jupyter.widget-view+json": {
              "model_id": "25030c7017bb4983969c205d7b4297d3",
              "version_major": 2,
              "version_minor": 0
            },
            "text/plain": [
              "Evaluating:   0%|          | 0/2 [00:00<?, ?it/s]"
            ]
          },
          "metadata": {},
          "output_type": "display_data"
        },
        {
          "name": "stdout",
          "output_type": "stream",
          "text": [
            "Epoch: 125, train/mse: 5801.8389, eval/mse: 1576.1460, train/rmse: 0.6059, eval/rmse: 0.7056, \n"
          ]
        },
        {
          "data": {
            "application/vnd.jupyter.widget-view+json": {
              "model_id": "727d495c919f4a498d3315da86b4ef3e",
              "version_major": 2,
              "version_minor": 0
            },
            "text/plain": [
              "Epoch: 126/150:   0%|          | 0/8 [00:00<?, ?it/s]"
            ]
          },
          "metadata": {},
          "output_type": "display_data"
        },
        {
          "data": {
            "application/vnd.jupyter.widget-view+json": {
              "model_id": "cd8cde2d197b4ccdbd674d043fb3a003",
              "version_major": 2,
              "version_minor": 0
            },
            "text/plain": [
              "Evaluating:   0%|          | 0/2 [00:00<?, ?it/s]"
            ]
          },
          "metadata": {},
          "output_type": "display_data"
        },
        {
          "name": "stdout",
          "output_type": "stream",
          "text": [
            "Epoch: 126, train/mse: 5228.0898, eval/mse: 1572.9795, train/rmse: 0.5953, eval/rmse: 0.7056, \n"
          ]
        },
        {
          "data": {
            "application/vnd.jupyter.widget-view+json": {
              "model_id": "df4009be30f84f2380cbe5de7ac3d7d7",
              "version_major": 2,
              "version_minor": 0
            },
            "text/plain": [
              "Epoch: 127/150:   0%|          | 0/8 [00:00<?, ?it/s]"
            ]
          },
          "metadata": {},
          "output_type": "display_data"
        },
        {
          "data": {
            "application/vnd.jupyter.widget-view+json": {
              "model_id": "892eb4ef7f0e4bb892861cda7340d19e",
              "version_major": 2,
              "version_minor": 0
            },
            "text/plain": [
              "Evaluating:   0%|          | 0/2 [00:00<?, ?it/s]"
            ]
          },
          "metadata": {},
          "output_type": "display_data"
        },
        {
          "name": "stdout",
          "output_type": "stream",
          "text": [
            "Epoch: 127, train/mse: 5526.5259, eval/mse: 1631.0712, train/rmse: 0.5930, eval/rmse: 0.7027, \n"
          ]
        },
        {
          "data": {
            "application/vnd.jupyter.widget-view+json": {
              "model_id": "725bb7385a2645faae64734e90a756c7",
              "version_major": 2,
              "version_minor": 0
            },
            "text/plain": [
              "Epoch: 128/150:   0%|          | 0/8 [00:00<?, ?it/s]"
            ]
          },
          "metadata": {},
          "output_type": "display_data"
        },
        {
          "data": {
            "application/vnd.jupyter.widget-view+json": {
              "model_id": "dedef67681d44dd5816f67196e5a44a1",
              "version_major": 2,
              "version_minor": 0
            },
            "text/plain": [
              "Evaluating:   0%|          | 0/2 [00:00<?, ?it/s]"
            ]
          },
          "metadata": {},
          "output_type": "display_data"
        },
        {
          "name": "stdout",
          "output_type": "stream",
          "text": [
            "Epoch: 128, train/mse: 5940.1230, eval/mse: 1625.3612, train/rmse: 0.5859, eval/rmse: 0.7025, \n"
          ]
        },
        {
          "data": {
            "application/vnd.jupyter.widget-view+json": {
              "model_id": "e9dedb6ba67b4a4fb9697198e16a915b",
              "version_major": 2,
              "version_minor": 0
            },
            "text/plain": [
              "Epoch: 129/150:   0%|          | 0/8 [00:00<?, ?it/s]"
            ]
          },
          "metadata": {},
          "output_type": "display_data"
        },
        {
          "data": {
            "application/vnd.jupyter.widget-view+json": {
              "model_id": "1bbfdcf3533840afa55d44aad03e02a7",
              "version_major": 2,
              "version_minor": 0
            },
            "text/plain": [
              "Evaluating:   0%|          | 0/2 [00:00<?, ?it/s]"
            ]
          },
          "metadata": {},
          "output_type": "display_data"
        },
        {
          "name": "stdout",
          "output_type": "stream",
          "text": [
            "Epoch: 129, train/mse: 5203.6738, eval/mse: 1727.8422, train/rmse: 0.5809, eval/rmse: 0.6987, \n"
          ]
        },
        {
          "data": {
            "application/vnd.jupyter.widget-view+json": {
              "model_id": "e7b22acbb1814a4ead4a83e7b76e8087",
              "version_major": 2,
              "version_minor": 0
            },
            "text/plain": [
              "Epoch: 130/150:   0%|          | 0/8 [00:00<?, ?it/s]"
            ]
          },
          "metadata": {},
          "output_type": "display_data"
        },
        {
          "data": {
            "application/vnd.jupyter.widget-view+json": {
              "model_id": "dc12becd360d4b47aef642d99f6c2447",
              "version_major": 2,
              "version_minor": 0
            },
            "text/plain": [
              "Evaluating:   0%|          | 0/2 [00:00<?, ?it/s]"
            ]
          },
          "metadata": {},
          "output_type": "display_data"
        },
        {
          "name": "stdout",
          "output_type": "stream",
          "text": [
            "Epoch: 130, train/mse: 5788.0840, eval/mse: 2210.8218, train/rmse: 0.5796, eval/rmse: 0.6744, \n"
          ]
        },
        {
          "data": {
            "application/vnd.jupyter.widget-view+json": {
              "model_id": "61b6c8b980124183b1390fd7d3f74608",
              "version_major": 2,
              "version_minor": 0
            },
            "text/plain": [
              "Epoch: 131/150:   0%|          | 0/8 [00:00<?, ?it/s]"
            ]
          },
          "metadata": {},
          "output_type": "display_data"
        },
        {
          "data": {
            "application/vnd.jupyter.widget-view+json": {
              "model_id": "52b9695b0b36444e9f1b85ce1366a3f7",
              "version_major": 2,
              "version_minor": 0
            },
            "text/plain": [
              "Evaluating:   0%|          | 0/2 [00:00<?, ?it/s]"
            ]
          },
          "metadata": {},
          "output_type": "display_data"
        },
        {
          "name": "stdout",
          "output_type": "stream",
          "text": [
            "Epoch: 131, train/mse: 5111.9395, eval/mse: 1940.3097, train/rmse: 0.5890, eval/rmse: 0.6863, \n"
          ]
        },
        {
          "data": {
            "application/vnd.jupyter.widget-view+json": {
              "model_id": "a91fce2529b14b148cef4be29b374b98",
              "version_major": 2,
              "version_minor": 0
            },
            "text/plain": [
              "Epoch: 132/150:   0%|          | 0/8 [00:00<?, ?it/s]"
            ]
          },
          "metadata": {},
          "output_type": "display_data"
        },
        {
          "data": {
            "application/vnd.jupyter.widget-view+json": {
              "model_id": "af2e067a75054a2e81fe5ff0dd29d0b6",
              "version_major": 2,
              "version_minor": 0
            },
            "text/plain": [
              "Evaluating:   0%|          | 0/2 [00:00<?, ?it/s]"
            ]
          },
          "metadata": {},
          "output_type": "display_data"
        },
        {
          "name": "stdout",
          "output_type": "stream",
          "text": [
            "Epoch: 132, train/mse: 4192.7495, eval/mse: 1807.8938, train/rmse: 0.5991, eval/rmse: 0.6927, \n"
          ]
        },
        {
          "data": {
            "application/vnd.jupyter.widget-view+json": {
              "model_id": "28644a5ecdf54e1e97f02d8459ce2848",
              "version_major": 2,
              "version_minor": 0
            },
            "text/plain": [
              "Epoch: 133/150:   0%|          | 0/8 [00:00<?, ?it/s]"
            ]
          },
          "metadata": {},
          "output_type": "display_data"
        },
        {
          "data": {
            "application/vnd.jupyter.widget-view+json": {
              "model_id": "415bd85a94ca4ee3aff71b6be216dc78",
              "version_major": 2,
              "version_minor": 0
            },
            "text/plain": [
              "Evaluating:   0%|          | 0/2 [00:00<?, ?it/s]"
            ]
          },
          "metadata": {},
          "output_type": "display_data"
        },
        {
          "name": "stdout",
          "output_type": "stream",
          "text": [
            "Epoch: 133, train/mse: 5544.6968, eval/mse: 1524.6606, train/rmse: 0.5700, eval/rmse: 0.7081, \n"
          ]
        },
        {
          "data": {
            "application/vnd.jupyter.widget-view+json": {
              "model_id": "ebb0d35de98446e69c25ff166664d002",
              "version_major": 2,
              "version_minor": 0
            },
            "text/plain": [
              "Epoch: 134/150:   0%|          | 0/8 [00:00<?, ?it/s]"
            ]
          },
          "metadata": {},
          "output_type": "display_data"
        },
        {
          "data": {
            "application/vnd.jupyter.widget-view+json": {
              "model_id": "d2dad03a424b41818dfb62bec2d88083",
              "version_major": 2,
              "version_minor": 0
            },
            "text/plain": [
              "Evaluating:   0%|          | 0/2 [00:00<?, ?it/s]"
            ]
          },
          "metadata": {},
          "output_type": "display_data"
        },
        {
          "name": "stdout",
          "output_type": "stream",
          "text": [
            "Epoch: 134, train/mse: 4803.4434, eval/mse: 1289.0995, train/rmse: 0.6035, eval/rmse: 0.7237, \n"
          ]
        },
        {
          "data": {
            "application/vnd.jupyter.widget-view+json": {
              "model_id": "613805987dba40be8f1f744a3bff3d8b",
              "version_major": 2,
              "version_minor": 0
            },
            "text/plain": [
              "Epoch: 135/150:   0%|          | 0/8 [00:00<?, ?it/s]"
            ]
          },
          "metadata": {},
          "output_type": "display_data"
        },
        {
          "data": {
            "application/vnd.jupyter.widget-view+json": {
              "model_id": "b4eb616b2ac34702a2373bbd039ffe9c",
              "version_major": 2,
              "version_minor": 0
            },
            "text/plain": [
              "Evaluating:   0%|          | 0/2 [00:00<?, ?it/s]"
            ]
          },
          "metadata": {},
          "output_type": "display_data"
        },
        {
          "name": "stdout",
          "output_type": "stream",
          "text": [
            "Epoch: 135, train/mse: 2119.3762, eval/mse: 1245.1711, train/rmse: 0.6533, eval/rmse: 0.7263, \n"
          ]
        },
        {
          "data": {
            "application/vnd.jupyter.widget-view+json": {
              "model_id": "e22fd2840a8541949ec27c2fbc044e12",
              "version_major": 2,
              "version_minor": 0
            },
            "text/plain": [
              "Epoch: 136/150:   0%|          | 0/8 [00:00<?, ?it/s]"
            ]
          },
          "metadata": {},
          "output_type": "display_data"
        },
        {
          "data": {
            "application/vnd.jupyter.widget-view+json": {
              "model_id": "85eeffc1b6574e1ab02a3e20b78ad6f4",
              "version_major": 2,
              "version_minor": 0
            },
            "text/plain": [
              "Evaluating:   0%|          | 0/2 [00:00<?, ?it/s]"
            ]
          },
          "metadata": {},
          "output_type": "display_data"
        },
        {
          "name": "stdout",
          "output_type": "stream",
          "text": [
            "Epoch: 136, train/mse: 5390.0493, eval/mse: 1340.8090, train/rmse: 0.5844, eval/rmse: 0.7194, \n"
          ]
        },
        {
          "data": {
            "application/vnd.jupyter.widget-view+json": {
              "model_id": "cfdd87cdf52c44e59237e9d8cf161674",
              "version_major": 2,
              "version_minor": 0
            },
            "text/plain": [
              "Epoch: 137/150:   0%|          | 0/8 [00:00<?, ?it/s]"
            ]
          },
          "metadata": {},
          "output_type": "display_data"
        },
        {
          "data": {
            "application/vnd.jupyter.widget-view+json": {
              "model_id": "57abdfed90fa40b59b185a7b57a0b3a7",
              "version_major": 2,
              "version_minor": 0
            },
            "text/plain": [
              "Evaluating:   0%|          | 0/2 [00:00<?, ?it/s]"
            ]
          },
          "metadata": {},
          "output_type": "display_data"
        },
        {
          "name": "stdout",
          "output_type": "stream",
          "text": [
            "Epoch: 137, train/mse: 2018.7223, eval/mse: 1244.3345, train/rmse: 0.6464, eval/rmse: 0.7258, \n"
          ]
        },
        {
          "data": {
            "application/vnd.jupyter.widget-view+json": {
              "model_id": "69fc073867494c99b25e4592fce84193",
              "version_major": 2,
              "version_minor": 0
            },
            "text/plain": [
              "Epoch: 138/150:   0%|          | 0/8 [00:00<?, ?it/s]"
            ]
          },
          "metadata": {},
          "output_type": "display_data"
        },
        {
          "data": {
            "application/vnd.jupyter.widget-view+json": {
              "model_id": "2ed4ad7732c54950a5f927d61bc34a0b",
              "version_major": 2,
              "version_minor": 0
            },
            "text/plain": [
              "Evaluating:   0%|          | 0/2 [00:00<?, ?it/s]"
            ]
          },
          "metadata": {},
          "output_type": "display_data"
        },
        {
          "name": "stdout",
          "output_type": "stream",
          "text": [
            "Epoch: 138, train/mse: 4460.5957, eval/mse: 1172.8361, train/rmse: 0.6140, eval/rmse: 0.7316, \n"
          ]
        },
        {
          "data": {
            "application/vnd.jupyter.widget-view+json": {
              "model_id": "144c48bca0fa4186b73df83218c8c405",
              "version_major": 2,
              "version_minor": 0
            },
            "text/plain": [
              "Epoch: 139/150:   0%|          | 0/8 [00:00<?, ?it/s]"
            ]
          },
          "metadata": {},
          "output_type": "display_data"
        },
        {
          "data": {
            "application/vnd.jupyter.widget-view+json": {
              "model_id": "ff8ffa6c186148fc8a8a052458452879",
              "version_major": 2,
              "version_minor": 0
            },
            "text/plain": [
              "Evaluating:   0%|          | 0/2 [00:00<?, ?it/s]"
            ]
          },
          "metadata": {},
          "output_type": "display_data"
        },
        {
          "name": "stdout",
          "output_type": "stream",
          "text": [
            "Epoch: 139, train/mse: 5649.0425, eval/mse: 1448.4618, train/rmse: 0.5885, eval/rmse: 0.7131, \n"
          ]
        },
        {
          "data": {
            "application/vnd.jupyter.widget-view+json": {
              "model_id": "45dddfa0894f43608f02385157d1b47e",
              "version_major": 2,
              "version_minor": 0
            },
            "text/plain": [
              "Epoch: 140/150:   0%|          | 0/8 [00:00<?, ?it/s]"
            ]
          },
          "metadata": {},
          "output_type": "display_data"
        },
        {
          "data": {
            "application/vnd.jupyter.widget-view+json": {
              "model_id": "3df60934366645f0b9ef161ea3b6b1a4",
              "version_major": 2,
              "version_minor": 0
            },
            "text/plain": [
              "Evaluating:   0%|          | 0/2 [00:00<?, ?it/s]"
            ]
          },
          "metadata": {},
          "output_type": "display_data"
        },
        {
          "name": "stdout",
          "output_type": "stream",
          "text": [
            "Epoch: 140, train/mse: 2159.2688, eval/mse: 1315.5764, train/rmse: 0.6327, eval/rmse: 0.7209, \n"
          ]
        },
        {
          "data": {
            "application/vnd.jupyter.widget-view+json": {
              "model_id": "81564614ae6f44b29a49ee40a1bc5faf",
              "version_major": 2,
              "version_minor": 0
            },
            "text/plain": [
              "Epoch: 141/150:   0%|          | 0/8 [00:00<?, ?it/s]"
            ]
          },
          "metadata": {},
          "output_type": "display_data"
        },
        {
          "data": {
            "application/vnd.jupyter.widget-view+json": {
              "model_id": "04359e0382ba4b389a4fc011335e6c08",
              "version_major": 2,
              "version_minor": 0
            },
            "text/plain": [
              "Evaluating:   0%|          | 0/2 [00:00<?, ?it/s]"
            ]
          },
          "metadata": {},
          "output_type": "display_data"
        },
        {
          "name": "stdout",
          "output_type": "stream",
          "text": [
            "Epoch: 141, train/mse: 2622.6838, eval/mse: 1439.0681, train/rmse: 0.6097, eval/rmse: 0.7125, \n"
          ]
        },
        {
          "data": {
            "application/vnd.jupyter.widget-view+json": {
              "model_id": "47613513ea1a4df08ec516ede6679fce",
              "version_major": 2,
              "version_minor": 0
            },
            "text/plain": [
              "Epoch: 142/150:   0%|          | 0/8 [00:00<?, ?it/s]"
            ]
          },
          "metadata": {},
          "output_type": "display_data"
        },
        {
          "data": {
            "application/vnd.jupyter.widget-view+json": {
              "model_id": "beffa9907429403a9ec1fb60d7060de7",
              "version_major": 2,
              "version_minor": 0
            },
            "text/plain": [
              "Evaluating:   0%|          | 0/2 [00:00<?, ?it/s]"
            ]
          },
          "metadata": {},
          "output_type": "display_data"
        },
        {
          "name": "stdout",
          "output_type": "stream",
          "text": [
            "Epoch: 142, train/mse: 4098.8682, eval/mse: 1471.6351, train/rmse: 0.6131, eval/rmse: 0.7115, \n"
          ]
        },
        {
          "data": {
            "application/vnd.jupyter.widget-view+json": {
              "model_id": "a91d3a2e4ecb4e8c93c0ec6ce35e60b0",
              "version_major": 2,
              "version_minor": 0
            },
            "text/plain": [
              "Epoch: 143/150:   0%|          | 0/8 [00:00<?, ?it/s]"
            ]
          },
          "metadata": {},
          "output_type": "display_data"
        },
        {
          "data": {
            "application/vnd.jupyter.widget-view+json": {
              "model_id": "ab5f298f61ab43759ea52f9785ede2de",
              "version_major": 2,
              "version_minor": 0
            },
            "text/plain": [
              "Evaluating:   0%|          | 0/2 [00:00<?, ?it/s]"
            ]
          },
          "metadata": {},
          "output_type": "display_data"
        },
        {
          "name": "stdout",
          "output_type": "stream",
          "text": [
            "Epoch: 143, train/mse: 4663.8696, eval/mse: 1479.5043, train/rmse: 0.6054, eval/rmse: 0.7126, \n"
          ]
        },
        {
          "data": {
            "application/vnd.jupyter.widget-view+json": {
              "model_id": "c58bb4754e104185a253cfb625bbcaa6",
              "version_major": 2,
              "version_minor": 0
            },
            "text/plain": [
              "Epoch: 144/150:   0%|          | 0/8 [00:00<?, ?it/s]"
            ]
          },
          "metadata": {},
          "output_type": "display_data"
        },
        {
          "data": {
            "application/vnd.jupyter.widget-view+json": {
              "model_id": "41fd55d90de34ce88547f100b7cb837d",
              "version_major": 2,
              "version_minor": 0
            },
            "text/plain": [
              "Evaluating:   0%|          | 0/2 [00:00<?, ?it/s]"
            ]
          },
          "metadata": {},
          "output_type": "display_data"
        },
        {
          "name": "stdout",
          "output_type": "stream",
          "text": [
            "Epoch: 144, train/mse: 5006.5811, eval/mse: 1413.2812, train/rmse: 0.5979, eval/rmse: 0.7152, \n"
          ]
        },
        {
          "data": {
            "application/vnd.jupyter.widget-view+json": {
              "model_id": "b96658b5d14c45a0badec680470cb518",
              "version_major": 2,
              "version_minor": 0
            },
            "text/plain": [
              "Epoch: 145/150:   0%|          | 0/8 [00:00<?, ?it/s]"
            ]
          },
          "metadata": {},
          "output_type": "display_data"
        },
        {
          "data": {
            "application/vnd.jupyter.widget-view+json": {
              "model_id": "5bf0707baf60487abf8b297bb50fcbbb",
              "version_major": 2,
              "version_minor": 0
            },
            "text/plain": [
              "Evaluating:   0%|          | 0/2 [00:00<?, ?it/s]"
            ]
          },
          "metadata": {},
          "output_type": "display_data"
        },
        {
          "name": "stdout",
          "output_type": "stream",
          "text": [
            "Epoch: 145, train/mse: 5188.8760, eval/mse: 1396.5422, train/rmse: 0.6027, eval/rmse: 0.7173, \n"
          ]
        },
        {
          "data": {
            "application/vnd.jupyter.widget-view+json": {
              "model_id": "21ea9bf64bc94bf0a0512d6a8a29bc33",
              "version_major": 2,
              "version_minor": 0
            },
            "text/plain": [
              "Epoch: 146/150:   0%|          | 0/8 [00:00<?, ?it/s]"
            ]
          },
          "metadata": {},
          "output_type": "display_data"
        },
        {
          "data": {
            "application/vnd.jupyter.widget-view+json": {
              "model_id": "486c11221e9248a6b78ccb7bebb31cfe",
              "version_major": 2,
              "version_minor": 0
            },
            "text/plain": [
              "Evaluating:   0%|          | 0/2 [00:00<?, ?it/s]"
            ]
          },
          "metadata": {},
          "output_type": "display_data"
        },
        {
          "name": "stdout",
          "output_type": "stream",
          "text": [
            "Epoch: 146, train/mse: 5391.3774, eval/mse: 1392.4573, train/rmse: 0.5952, eval/rmse: 0.7172, \n"
          ]
        },
        {
          "data": {
            "application/vnd.jupyter.widget-view+json": {
              "model_id": "776b35c1daae485586e0c3017a81106a",
              "version_major": 2,
              "version_minor": 0
            },
            "text/plain": [
              "Epoch: 147/150:   0%|          | 0/8 [00:00<?, ?it/s]"
            ]
          },
          "metadata": {},
          "output_type": "display_data"
        },
        {
          "data": {
            "application/vnd.jupyter.widget-view+json": {
              "model_id": "2c376829b77641b584a45ef41bad029d",
              "version_major": 2,
              "version_minor": 0
            },
            "text/plain": [
              "Evaluating:   0%|          | 0/2 [00:00<?, ?it/s]"
            ]
          },
          "metadata": {},
          "output_type": "display_data"
        },
        {
          "name": "stdout",
          "output_type": "stream",
          "text": [
            "Epoch: 147, train/mse: 4584.9399, eval/mse: 1420.6975, train/rmse: 0.5803, eval/rmse: 0.7169, \n"
          ]
        },
        {
          "data": {
            "application/vnd.jupyter.widget-view+json": {
              "model_id": "4b3f68311fec498c843061ab1064f4a3",
              "version_major": 2,
              "version_minor": 0
            },
            "text/plain": [
              "Epoch: 148/150:   0%|          | 0/8 [00:00<?, ?it/s]"
            ]
          },
          "metadata": {},
          "output_type": "display_data"
        },
        {
          "data": {
            "application/vnd.jupyter.widget-view+json": {
              "model_id": "153ef6e2017047e1b7e55f2a9543e31f",
              "version_major": 2,
              "version_minor": 0
            },
            "text/plain": [
              "Evaluating:   0%|          | 0/2 [00:00<?, ?it/s]"
            ]
          },
          "metadata": {},
          "output_type": "display_data"
        },
        {
          "name": "stdout",
          "output_type": "stream",
          "text": [
            "Epoch: 148, train/mse: 5258.9780, eval/mse: 1511.8906, train/rmse: 0.5948, eval/rmse: 0.7105, \n"
          ]
        },
        {
          "data": {
            "application/vnd.jupyter.widget-view+json": {
              "model_id": "9ed6090c97e840849358b8f5723d2a0f",
              "version_major": 2,
              "version_minor": 0
            },
            "text/plain": [
              "Epoch: 149/150:   0%|          | 0/8 [00:00<?, ?it/s]"
            ]
          },
          "metadata": {},
          "output_type": "display_data"
        },
        {
          "data": {
            "application/vnd.jupyter.widget-view+json": {
              "model_id": "b8c36141dc46447ab3163aad6fb8a2c5",
              "version_major": 2,
              "version_minor": 0
            },
            "text/plain": [
              "Evaluating:   0%|          | 0/2 [00:00<?, ?it/s]"
            ]
          },
          "metadata": {},
          "output_type": "display_data"
        },
        {
          "name": "stdout",
          "output_type": "stream",
          "text": [
            "Epoch: 149, train/mse: 6472.4600, eval/mse: 1524.8649, train/rmse: 0.5718, eval/rmse: 0.7096, \n",
            "[neptune] [info   ] Shutting down background jobs, please wait a moment...\n",
            "[neptune] [info   ] Done!\n",
            "[neptune] [info   ] Waiting for the remaining 247 operations to synchronize with Neptune. Do not kill this process.\n",
            "[neptune] [info   ] All 247 operations synced, thanks for waiting!\n",
            "[neptune] [info   ] Explore the metadata in the Neptune app: https://app.neptune.ai/arbaaz/bitgrit-air-pollution-1/e/BIT-28/metadata\n"
          ]
        }
      ],
      "source": [
        "def train(\n",
        "    model, \n",
        "    optimizer, \n",
        "    scheduler, \n",
        "    train_dl,\n",
        "    eval_dl, \n",
        "    num_epochs, \n",
        "    resume_epoch,\n",
        "    resume,\n",
        "    log_lr_on_step,\n",
        "    neptune_run\n",
        "):\n",
        "    os.makedirs(\"/ckpts\", exist_ok=True)\n",
        "    train_outputs = []\n",
        "    eval_outputs = []\n",
        "    RMSE = float('-inf')\n",
        "    \n",
        "    scaler = torch.GradScaler()\n",
        "    pbar = tqdm(range(0, num_epochs), position=0, colour=\"green\")\n",
        "    \n",
        "    for epoch in pbar:\n",
        "        train_outputs = train_one_epoch(\n",
        "            model,\n",
        "            optimizer, \n",
        "            scaler, \n",
        "            scheduler, \n",
        "            train_dl,\n",
        "            epoch,\n",
        "            num_epochs,\n",
        "            resume_epoch,\n",
        "            resume,\n",
        "            log_lr_on_step,\n",
        "            neptune_run\n",
        "        )\n",
        "        eval_outputs = evaluate(model, eval_dl)\n",
        "        \n",
        "        train_outputs = reduce_outputs(train_outputs)\n",
        "        eval_outputs = reduce_outputs(eval_outputs)\n",
        "        \n",
        "        outputs = train_outputs | eval_outputs\n",
        "        outputs[\"epoch\"] = epoch\n",
        "        log_and_print(neptune_run, outputs)\n",
        "\n",
        "        if outputs[\"eval/rmse\"] > RMSE:\n",
        "            RMSE = outputs[\"eval/rmse\"]\n",
        "            metadata = {\n",
        "                \"train_rmse\": outputs[\"train/rmse\"],\n",
        "                \"eval_rmse\": RMSE,\n",
        "                \"epoch\": epoch\n",
        "            }\n",
        "            save_ckpt(model, metadata, f\"/ckpts/{config.model_name}.pt\")\n",
        "            \n",
        "    neptune_run.stop()\n",
        "   \n",
        "try:\n",
        "    train(\n",
        "        model, \n",
        "        optimizer, \n",
        "        scheduler, \n",
        "        train_dl,\n",
        "        eval_dl, \n",
        "        num_epochs=config.num_epochs, \n",
        "        resume_epoch=0,\n",
        "        resume=config.resume,\n",
        "        log_lr_on_step=True,\n",
        "        neptune_run=neptune_run\n",
        "    )\n",
        "except Exception:\n",
        "    pass  # Silently ignore any errors\n",
        "finally:\n",
        "    neptune_run.stop()"
      ]
    },
    {
      "cell_type": "code",
      "execution_count": 64,
      "metadata": {},
      "outputs": [
        {
          "data": {
            "text/html": [
              "<div>\n",
              "<style scoped>\n",
              "    .dataframe tbody tr th:only-of-type {\n",
              "        vertical-align: middle;\n",
              "    }\n",
              "\n",
              "    .dataframe tbody tr th {\n",
              "        vertical-align: top;\n",
              "    }\n",
              "\n",
              "    .dataframe thead th {\n",
              "        text-align: right;\n",
              "    }\n",
              "</style>\n",
              "<table border=\"1\" class=\"dataframe\">\n",
              "  <thead>\n",
              "    <tr style=\"text-align: right;\">\n",
              "      <th></th>\n",
              "      <th>latitude</th>\n",
              "      <th>longitude</th>\n",
              "      <th>day_of_year</th>\n",
              "      <th>day_of_week</th>\n",
              "      <th>hour</th>\n",
              "      <th>month</th>\n",
              "    </tr>\n",
              "  </thead>\n",
              "  <tbody>\n",
              "    <tr>\n",
              "      <th>0</th>\n",
              "      <td>-42.343</td>\n",
              "      <td>147.372</td>\n",
              "      <td>31</td>\n",
              "      <td>4</td>\n",
              "      <td>15</td>\n",
              "      <td>1</td>\n",
              "    </tr>\n",
              "    <tr>\n",
              "      <th>1</th>\n",
              "      <td>37.053</td>\n",
              "      <td>127.406</td>\n",
              "      <td>28</td>\n",
              "      <td>1</td>\n",
              "      <td>12</td>\n",
              "      <td>1</td>\n",
              "    </tr>\n",
              "    <tr>\n",
              "      <th>2</th>\n",
              "      <td>49.105</td>\n",
              "      <td>-123.189</td>\n",
              "      <td>14</td>\n",
              "      <td>1</td>\n",
              "      <td>2</td>\n",
              "      <td>1</td>\n",
              "    </tr>\n",
              "    <tr>\n",
              "      <th>3</th>\n",
              "      <td>42.014</td>\n",
              "      <td>12.774</td>\n",
              "      <td>10</td>\n",
              "      <td>4</td>\n",
              "      <td>3</td>\n",
              "      <td>1</td>\n",
              "    </tr>\n",
              "    <tr>\n",
              "      <th>4</th>\n",
              "      <td>47.778</td>\n",
              "      <td>13.002</td>\n",
              "      <td>31</td>\n",
              "      <td>4</td>\n",
              "      <td>11</td>\n",
              "      <td>1</td>\n",
              "    </tr>\n",
              "    <tr>\n",
              "      <th>...</th>\n",
              "      <td>...</td>\n",
              "      <td>...</td>\n",
              "      <td>...</td>\n",
              "      <td>...</td>\n",
              "      <td>...</td>\n",
              "      <td>...</td>\n",
              "    </tr>\n",
              "    <tr>\n",
              "      <th>2734</th>\n",
              "      <td>37.216</td>\n",
              "      <td>126.748</td>\n",
              "      <td>28</td>\n",
              "      <td>1</td>\n",
              "      <td>12</td>\n",
              "      <td>1</td>\n",
              "    </tr>\n",
              "    <tr>\n",
              "      <th>2735</th>\n",
              "      <td>48.368</td>\n",
              "      <td>14.338</td>\n",
              "      <td>31</td>\n",
              "      <td>4</td>\n",
              "      <td>11</td>\n",
              "      <td>1</td>\n",
              "    </tr>\n",
              "    <tr>\n",
              "      <th>2736</th>\n",
              "      <td>48.139</td>\n",
              "      <td>16.940</td>\n",
              "      <td>31</td>\n",
              "      <td>4</td>\n",
              "      <td>11</td>\n",
              "      <td>1</td>\n",
              "    </tr>\n",
              "    <tr>\n",
              "      <th>2737</th>\n",
              "      <td>-27.357</td>\n",
              "      <td>153.083</td>\n",
              "      <td>31</td>\n",
              "      <td>4</td>\n",
              "      <td>12</td>\n",
              "      <td>1</td>\n",
              "    </tr>\n",
              "    <tr>\n",
              "      <th>2738</th>\n",
              "      <td>37.195</td>\n",
              "      <td>127.030</td>\n",
              "      <td>28</td>\n",
              "      <td>1</td>\n",
              "      <td>12</td>\n",
              "      <td>1</td>\n",
              "    </tr>\n",
              "  </tbody>\n",
              "</table>\n",
              "<p>2739 rows × 6 columns</p>\n",
              "</div>"
            ],
            "text/plain": [
              "      latitude  longitude  day_of_year  day_of_week  hour  month\n",
              "0      -42.343    147.372           31            4    15      1\n",
              "1       37.053    127.406           28            1    12      1\n",
              "2       49.105   -123.189           14            1     2      1\n",
              "3       42.014     12.774           10            4     3      1\n",
              "4       47.778     13.002           31            4    11      1\n",
              "...        ...        ...          ...          ...   ...    ...\n",
              "2734    37.216    126.748           28            1    12      1\n",
              "2735    48.368     14.338           31            4    11      1\n",
              "2736    48.139     16.940           31            4    11      1\n",
              "2737   -27.357    153.083           31            4    12      1\n",
              "2738    37.195    127.030           28            1    12      1\n",
              "\n",
              "[2739 rows x 6 columns]"
            ]
          },
          "execution_count": 64,
          "metadata": {},
          "output_type": "execute_result"
        }
      ],
      "source": [
        "import pandas as pd\n",
        "\n",
        "path_test = arbaazbeg_bitgrit_air_pollution_path+\"/test.csv\"\n",
        "test = pd.read_csv(path_test)\n",
        "ids = test[\"id\"]\n",
        "test = test.drop(columns=['id'])\n",
        "test"
      ]
    },
    {
      "cell_type": "code",
      "execution_count": null,
      "metadata": {},
      "outputs": [],
      "source": [
        "def load_and_scale_data(path, SEED):\n",
        "    data = pd.read_csv(path).drop(columns=['id'])\n",
        "    data.dropna(inplace=True)\n",
        "    data = data[data[\"month\"] == 1]\n",
        "    data = data.to_numpy()#.astype(np.float32)\n",
        "    \n",
        "    inputs = data[:, :-1]\n",
        "    targets = data[:, -1].reshape(-1, 1)\n",
        "    \n",
        "    scaler = StandardScaler()\n",
        "    inputs = scaler.fit_transform(inputs)"
      ]
    },
    {
      "cell_type": "code",
      "execution_count": 65,
      "metadata": {},
      "outputs": [],
      "source": [
        "from sklearn.preprocessing import StandardScaler\n",
        "\n",
        "scaler = StandardScaler()\n",
        "\n",
        "train_df = pd.read_csv(path).drop(columns=['id'])\n",
        "train_df.dropna(inplace=True)\n",
        "train_df = train_df[train_df[\"month\"] == 1]\n",
        "\n",
        "train_df = train_df.to_numpy()\n",
        "train_inputs = train_df[:, :-1]\n",
        "train_inputs = scaler.fit_transform(train_inputs)\n"
      ]
    },
    {
      "cell_type": "code",
      "execution_count": 66,
      "metadata": {},
      "outputs": [
        {
          "data": {
            "text/plain": [
              "torch.Size([2739, 6])"
            ]
          },
          "execution_count": 66,
          "metadata": {},
          "output_type": "execute_result"
        }
      ],
      "source": [
        "from sklearn.preprocessing import StandardScaler\n",
        "\n",
        "scaler_test = StandardScaler()\n",
        "test = test.to_numpy()\n",
        "test = scaler.transform(test)\n",
        "test = torch.tensor(test).float()\n",
        "test.shape"
      ]
    },
    {
      "cell_type": "code",
      "execution_count": 67,
      "metadata": {},
      "outputs": [
        {
          "data": {
            "text/plain": [
              "tensor([[-4.5653,  2.5152,  1.0443,  1.4761, -0.1017,  0.0000],\n",
              "        [-0.1742,  2.1847,  0.7734, -0.1858, -0.5244,  0.0000],\n",
              "        [ 0.4923, -1.9634, -0.4907, -0.1858, -1.9336,  0.0000],\n",
              "        ...,\n",
              "        [ 0.4389,  0.3562,  1.0443,  1.4761, -0.6654,  0.0000],\n",
              "        [-3.7365,  2.6098,  1.0443,  1.4761, -0.5244,  0.0000],\n",
              "        [-0.1664,  2.1785,  0.7734, -0.1858, -0.5244,  0.0000]])"
            ]
          },
          "execution_count": 67,
          "metadata": {},
          "output_type": "execute_result"
        }
      ],
      "source": [
        "test"
      ]
    },
    {
      "cell_type": "code",
      "execution_count": 46,
      "metadata": {},
      "outputs": [
        {
          "data": {
            "text/plain": [
              "tensor([[-3.3579,  1.6801,  0.4517,  0.5812,  1.2741, -0.0191],\n",
              "        [ 0.0119,  1.4056, -0.0724, -1.6075,  0.3369, -0.0191],\n",
              "        [ 0.5235, -2.0393, -2.5181, -1.6075, -2.7869, -0.0191],\n",
              "        ...,\n",
              "        [ 0.4825, -0.1129,  0.4517,  0.5812,  0.0245, -0.0191],\n",
              "        [-2.7219,  1.7586,  0.4517,  0.5812,  0.3369, -0.0191],\n",
              "        [ 0.0180,  1.4004, -0.0724, -1.6075,  0.3369, -0.0191]],\n",
              "       device='cuda:0')"
            ]
          },
          "execution_count": 46,
          "metadata": {},
          "output_type": "execute_result"
        }
      ],
      "source": [
        "test"
      ]
    },
    {
      "cell_type": "code",
      "execution_count": 68,
      "metadata": {},
      "outputs": [
        {
          "data": {
            "text/plain": [
              "['tabnet.month1.only.pt']"
            ]
          },
          "execution_count": 68,
          "metadata": {},
          "output_type": "execute_result"
        }
      ],
      "source": [
        "import os\n",
        "\n",
        "os.listdir(\"/ckpts/\")"
      ]
    },
    {
      "cell_type": "code",
      "execution_count": 69,
      "metadata": {},
      "outputs": [
        {
          "data": {
            "text/plain": [
              "(0.61403489112854, 0.731635332107544, 138)"
            ]
          },
          "execution_count": 69,
          "metadata": {},
          "output_type": "execute_result"
        }
      ],
      "source": [
        "ckpt_path = f\"/ckpts/{config.model_name}.pt\"\n",
        "ckpt = torch.load(ckpt_path)\n",
        "ckpt[\"train_rmse\"], ckpt[\"eval_rmse\"], ckpt[\"epoch\"]"
      ]
    },
    {
      "cell_type": "code",
      "execution_count": 70,
      "metadata": {},
      "outputs": [
        {
          "data": {
            "text/plain": [
              "<All keys matched successfully>"
            ]
          },
          "execution_count": 70,
          "metadata": {},
          "output_type": "execute_result"
        }
      ],
      "source": [
        "model.load_state_dict(ckpt[\"state_dict\"])\n",
        "#[param.device for param in model.parameters()]"
      ]
    },
    {
      "cell_type": "code",
      "execution_count": 71,
      "metadata": {},
      "outputs": [
        {
          "data": {
            "text/plain": [
              "torch.Size([2739, 1])"
            ]
          },
          "execution_count": 71,
          "metadata": {},
          "output_type": "execute_result"
        }
      ],
      "source": [
        "test = test.cuda()\n",
        "logits = inference_step(model, inputs=test)\n",
        "logits.shape"
      ]
    },
    {
      "cell_type": "code",
      "execution_count": 72,
      "metadata": {},
      "outputs": [
        {
          "data": {
            "text/plain": [
              "(2739, 1)"
            ]
          },
          "execution_count": 72,
          "metadata": {},
          "output_type": "execute_result"
        }
      ],
      "source": [
        "logits_ = logits.cpu().detach().double().numpy()\n",
        "logits_.shape"
      ]
    },
    {
      "cell_type": "code",
      "execution_count": 73,
      "metadata": {},
      "outputs": [],
      "source": [
        "if np.isnan(logits_).any():\n",
        "    print(np.isnan(logits_.sum()))\n",
        "    logits_ = np.nan_to_num(logits_, nan=0.0)"
      ]
    },
    {
      "cell_type": "code",
      "execution_count": 74,
      "metadata": {},
      "outputs": [
        {
          "data": {
            "text/plain": [
              "(True, 30)"
            ]
          },
          "execution_count": 74,
          "metadata": {},
          "output_type": "execute_result"
        }
      ],
      "source": [
        "(logits_ < 0).any(), (logits_ < 0).sum()"
      ]
    },
    {
      "cell_type": "code",
      "execution_count": 75,
      "metadata": {},
      "outputs": [
        {
          "data": {
            "text/plain": [
              "(73.18010108616284, 425.13476653587054)"
            ]
          },
          "execution_count": 75,
          "metadata": {},
          "output_type": "execute_result"
        }
      ],
      "source": [
        "logits_.mean(), logits_.std()"
      ]
    },
    {
      "cell_type": "code",
      "execution_count": 76,
      "metadata": {},
      "outputs": [
        {
          "data": {
            "text/html": [
              "<div>\n",
              "<style scoped>\n",
              "    .dataframe tbody tr th:only-of-type {\n",
              "        vertical-align: middle;\n",
              "    }\n",
              "\n",
              "    .dataframe tbody tr th {\n",
              "        vertical-align: top;\n",
              "    }\n",
              "\n",
              "    .dataframe thead th {\n",
              "        text-align: right;\n",
              "    }\n",
              "</style>\n",
              "<table border=\"1\" class=\"dataframe\">\n",
              "  <thead>\n",
              "    <tr style=\"text-align: right;\">\n",
              "      <th></th>\n",
              "      <th>id</th>\n",
              "    </tr>\n",
              "  </thead>\n",
              "  <tbody>\n",
              "    <tr>\n",
              "      <th>0</th>\n",
              "      <td>0</td>\n",
              "    </tr>\n",
              "    <tr>\n",
              "      <th>1</th>\n",
              "      <td>1</td>\n",
              "    </tr>\n",
              "    <tr>\n",
              "      <th>2</th>\n",
              "      <td>2</td>\n",
              "    </tr>\n",
              "    <tr>\n",
              "      <th>3</th>\n",
              "      <td>3</td>\n",
              "    </tr>\n",
              "    <tr>\n",
              "      <th>4</th>\n",
              "      <td>4</td>\n",
              "    </tr>\n",
              "    <tr>\n",
              "      <th>...</th>\n",
              "      <td>...</td>\n",
              "    </tr>\n",
              "    <tr>\n",
              "      <th>2734</th>\n",
              "      <td>2734</td>\n",
              "    </tr>\n",
              "    <tr>\n",
              "      <th>2735</th>\n",
              "      <td>2735</td>\n",
              "    </tr>\n",
              "    <tr>\n",
              "      <th>2736</th>\n",
              "      <td>2736</td>\n",
              "    </tr>\n",
              "    <tr>\n",
              "      <th>2737</th>\n",
              "      <td>2737</td>\n",
              "    </tr>\n",
              "    <tr>\n",
              "      <th>2738</th>\n",
              "      <td>2738</td>\n",
              "    </tr>\n",
              "  </tbody>\n",
              "</table>\n",
              "<p>2739 rows × 1 columns</p>\n",
              "</div>"
            ],
            "text/plain": [
              "        id\n",
              "0        0\n",
              "1        1\n",
              "2        2\n",
              "3        3\n",
              "4        4\n",
              "...    ...\n",
              "2734  2734\n",
              "2735  2735\n",
              "2736  2736\n",
              "2737  2737\n",
              "2738  2738\n",
              "\n",
              "[2739 rows x 1 columns]"
            ]
          },
          "execution_count": 76,
          "metadata": {},
          "output_type": "execute_result"
        }
      ],
      "source": [
        "df_pred = pd.DataFrame(ids)\n",
        "df_pred"
      ]
    },
    {
      "cell_type": "code",
      "execution_count": 77,
      "metadata": {},
      "outputs": [
        {
          "data": {
            "text/html": [
              "<div>\n",
              "<style scoped>\n",
              "    .dataframe tbody tr th:only-of-type {\n",
              "        vertical-align: middle;\n",
              "    }\n",
              "\n",
              "    .dataframe tbody tr th {\n",
              "        vertical-align: top;\n",
              "    }\n",
              "\n",
              "    .dataframe thead th {\n",
              "        text-align: right;\n",
              "    }\n",
              "</style>\n",
              "<table border=\"1\" class=\"dataframe\">\n",
              "  <thead>\n",
              "    <tr style=\"text-align: right;\">\n",
              "      <th></th>\n",
              "      <th>id</th>\n",
              "      <th>pollution_value</th>\n",
              "    </tr>\n",
              "  </thead>\n",
              "  <tbody>\n",
              "    <tr>\n",
              "      <th>0</th>\n",
              "      <td>0</td>\n",
              "      <td>168.875000</td>\n",
              "    </tr>\n",
              "    <tr>\n",
              "      <th>1</th>\n",
              "      <td>1</td>\n",
              "      <td>24.328125</td>\n",
              "    </tr>\n",
              "    <tr>\n",
              "      <th>2</th>\n",
              "      <td>2</td>\n",
              "      <td>-7.406250</td>\n",
              "    </tr>\n",
              "    <tr>\n",
              "      <th>3</th>\n",
              "      <td>3</td>\n",
              "      <td>62.343750</td>\n",
              "    </tr>\n",
              "    <tr>\n",
              "      <th>4</th>\n",
              "      <td>4</td>\n",
              "      <td>102.125000</td>\n",
              "    </tr>\n",
              "    <tr>\n",
              "      <th>...</th>\n",
              "      <td>...</td>\n",
              "      <td>...</td>\n",
              "    </tr>\n",
              "    <tr>\n",
              "      <th>2734</th>\n",
              "      <td>2734</td>\n",
              "      <td>23.781250</td>\n",
              "    </tr>\n",
              "    <tr>\n",
              "      <th>2735</th>\n",
              "      <td>2735</td>\n",
              "      <td>94.562500</td>\n",
              "    </tr>\n",
              "    <tr>\n",
              "      <th>2736</th>\n",
              "      <td>2736</td>\n",
              "      <td>76.875000</td>\n",
              "    </tr>\n",
              "    <tr>\n",
              "      <th>2737</th>\n",
              "      <td>2737</td>\n",
              "      <td>103.562500</td>\n",
              "    </tr>\n",
              "    <tr>\n",
              "      <th>2738</th>\n",
              "      <td>2738</td>\n",
              "      <td>23.812500</td>\n",
              "    </tr>\n",
              "  </tbody>\n",
              "</table>\n",
              "<p>2739 rows × 2 columns</p>\n",
              "</div>"
            ],
            "text/plain": [
              "        id  pollution_value\n",
              "0        0       168.875000\n",
              "1        1        24.328125\n",
              "2        2        -7.406250\n",
              "3        3        62.343750\n",
              "4        4       102.125000\n",
              "...    ...              ...\n",
              "2734  2734        23.781250\n",
              "2735  2735        94.562500\n",
              "2736  2736        76.875000\n",
              "2737  2737       103.562500\n",
              "2738  2738        23.812500\n",
              "\n",
              "[2739 rows x 2 columns]"
            ]
          },
          "execution_count": 77,
          "metadata": {},
          "output_type": "execute_result"
        }
      ],
      "source": [
        "df_pred[\"pollution_value\"] = logits_\n",
        "df_pred"
      ]
    },
    {
      "cell_type": "code",
      "execution_count": 78,
      "metadata": {},
      "outputs": [
        {
          "data": {
            "text/plain": [
              "'tabnet.month1.only'"
            ]
          },
          "execution_count": 78,
          "metadata": {},
          "output_type": "execute_result"
        }
      ],
      "source": [
        "#config.model_name = \"tabnet.100ep.wd.1e3.150ep.relu.fixed\"\n",
        "config.model_name"
      ]
    },
    {
      "cell_type": "code",
      "execution_count": 79,
      "metadata": {},
      "outputs": [],
      "source": [
        "df_pred.to_csv(f\"{config.model_name}.csv\", index=False)"
      ]
    },
    {
      "cell_type": "code",
      "execution_count": null,
      "metadata": {},
      "outputs": [],
      "source": []
    }
  ],
  "metadata": {
    "colab": {
      "name": "air-pol-nn-0",
      "provenance": []
    },
    "kaggle": {
      "accelerator": "none",
      "dataSources": [
        {
          "datasetId": 7955958,
          "sourceId": 12596385,
          "sourceType": "datasetVersion"
        }
      ],
      "dockerImageVersionId": 31089,
      "isGpuEnabled": false,
      "isInternetEnabled": true,
      "language": "python",
      "sourceType": "notebook"
    },
    "kernelspec": {
      "display_name": "Python 3 (ipykernel)",
      "language": "python",
      "name": "python3"
    },
    "language_info": {
      "codemirror_mode": {
        "name": "ipython",
        "version": 3
      },
      "file_extension": ".py",
      "mimetype": "text/x-python",
      "name": "python",
      "nbconvert_exporter": "python",
      "pygments_lexer": "ipython3",
      "version": "3.11.13"
    },
    "widgets": {
      "application/vnd.jupyter.widget-state+json": {
        "01abb5378d9245c1ac795fbd06921b30": {
          "model_module": "@jupyter-widgets/controls",
          "model_module_version": "1.5.0",
          "model_name": "TextModel",
          "state": {
            "_dom_classes": [],
            "_model_module": "@jupyter-widgets/controls",
            "_model_module_version": "1.5.0",
            "_model_name": "TextModel",
            "_view_count": null,
            "_view_module": "@jupyter-widgets/controls",
            "_view_module_version": "1.5.0",
            "_view_name": "TextView",
            "continuous_update": true,
            "description": "Username:",
            "description_tooltip": null,
            "disabled": false,
            "layout": "IPY_MODEL_04b983a1ec9545b1bfb9e2797df08f0e",
            "placeholder": "​",
            "style": "IPY_MODEL_b5010def162348309f5528ccbc1638cc",
            "value": "arbaazbeg"
          }
        },
        "04b983a1ec9545b1bfb9e2797df08f0e": {
          "model_module": "@jupyter-widgets/base",
          "model_module_version": "1.2.0",
          "model_name": "LayoutModel",
          "state": {
            "_model_module": "@jupyter-widgets/base",
            "_model_module_version": "1.2.0",
            "_model_name": "LayoutModel",
            "_view_count": null,
            "_view_module": "@jupyter-widgets/base",
            "_view_module_version": "1.2.0",
            "_view_name": "LayoutView",
            "align_content": null,
            "align_items": null,
            "align_self": null,
            "border": null,
            "bottom": null,
            "display": null,
            "flex": null,
            "flex_flow": null,
            "grid_area": null,
            "grid_auto_columns": null,
            "grid_auto_flow": null,
            "grid_auto_rows": null,
            "grid_column": null,
            "grid_gap": null,
            "grid_row": null,
            "grid_template_areas": null,
            "grid_template_columns": null,
            "grid_template_rows": null,
            "height": null,
            "justify_content": null,
            "justify_items": null,
            "left": null,
            "margin": null,
            "max_height": null,
            "max_width": null,
            "min_height": null,
            "min_width": null,
            "object_fit": null,
            "object_position": null,
            "order": null,
            "overflow": null,
            "overflow_x": null,
            "overflow_y": null,
            "padding": null,
            "right": null,
            "top": null,
            "visibility": null,
            "width": null
          }
        },
        "078547a9924348b99f581176091fcb92": {
          "model_module": "@jupyter-widgets/controls",
          "model_module_version": "1.5.0",
          "model_name": "HTMLModel",
          "state": {
            "_dom_classes": [],
            "_model_module": "@jupyter-widgets/controls",
            "_model_module_version": "1.5.0",
            "_model_name": "HTMLModel",
            "_view_count": null,
            "_view_module": "@jupyter-widgets/controls",
            "_view_module_version": "1.5.0",
            "_view_name": "HTMLView",
            "description": "",
            "description_tooltip": null,
            "layout": "IPY_MODEL_34c44f51b03249958ec5655cd52136b7",
            "placeholder": "​",
            "style": "IPY_MODEL_2436ce83586e438fafa1cf86b98b1935",
            "value": "<center> <img\nsrc=https://www.kaggle.com/static/images/site-logo.png\nalt='Kaggle'> <br> Create an API token from <a\nhref=\"https://www.kaggle.com/settings/account\" target=\"_blank\">your Kaggle\nsettings page</a> and paste it below along with your Kaggle username. <br> </center>"
          }
        },
        "0e579a5b4f404e46be6580ad33563f03": {
          "model_module": "@jupyter-widgets/controls",
          "model_module_version": "1.5.0",
          "model_name": "DescriptionStyleModel",
          "state": {
            "_model_module": "@jupyter-widgets/controls",
            "_model_module_version": "1.5.0",
            "_model_name": "DescriptionStyleModel",
            "_view_count": null,
            "_view_module": "@jupyter-widgets/base",
            "_view_module_version": "1.2.0",
            "_view_name": "StyleView",
            "description_width": ""
          }
        },
        "11aa2d00474747e7a5978371bc4a5ae3": {
          "model_module": "@jupyter-widgets/base",
          "model_module_version": "1.2.0",
          "model_name": "LayoutModel",
          "state": {
            "_model_module": "@jupyter-widgets/base",
            "_model_module_version": "1.2.0",
            "_model_name": "LayoutModel",
            "_view_count": null,
            "_view_module": "@jupyter-widgets/base",
            "_view_module_version": "1.2.0",
            "_view_name": "LayoutView",
            "align_content": null,
            "align_items": "center",
            "align_self": null,
            "border": null,
            "bottom": null,
            "display": "flex",
            "flex": null,
            "flex_flow": "column",
            "grid_area": null,
            "grid_auto_columns": null,
            "grid_auto_flow": null,
            "grid_auto_rows": null,
            "grid_column": null,
            "grid_gap": null,
            "grid_row": null,
            "grid_template_areas": null,
            "grid_template_columns": null,
            "grid_template_rows": null,
            "height": null,
            "justify_content": null,
            "justify_items": null,
            "left": null,
            "margin": null,
            "max_height": null,
            "max_width": null,
            "min_height": null,
            "min_width": null,
            "object_fit": null,
            "object_position": null,
            "order": null,
            "overflow": null,
            "overflow_x": null,
            "overflow_y": null,
            "padding": null,
            "right": null,
            "top": null,
            "visibility": null,
            "width": "50%"
          }
        },
        "13c13312acb445d595f9eb8a92f28a9e": {
          "model_module": "@jupyter-widgets/controls",
          "model_module_version": "1.5.0",
          "model_name": "DescriptionStyleModel",
          "state": {
            "_model_module": "@jupyter-widgets/controls",
            "_model_module_version": "1.5.0",
            "_model_name": "DescriptionStyleModel",
            "_view_count": null,
            "_view_module": "@jupyter-widgets/base",
            "_view_module_version": "1.2.0",
            "_view_name": "StyleView",
            "description_width": ""
          }
        },
        "15d4174eeb224d8b8821f9922fc94aeb": {
          "model_module": "@jupyter-widgets/controls",
          "model_module_version": "1.5.0",
          "model_name": "ButtonModel",
          "state": {
            "_dom_classes": [],
            "_model_module": "@jupyter-widgets/controls",
            "_model_module_version": "1.5.0",
            "_model_name": "ButtonModel",
            "_view_count": null,
            "_view_module": "@jupyter-widgets/controls",
            "_view_module_version": "1.5.0",
            "_view_name": "ButtonView",
            "button_style": "",
            "description": "Login",
            "disabled": false,
            "icon": "",
            "layout": "IPY_MODEL_b2edece489ff44ad9b20e13661ea09c4",
            "style": "IPY_MODEL_8eff405c7d2749ab85e31f156d7fdd95",
            "tooltip": ""
          }
        },
        "2436ce83586e438fafa1cf86b98b1935": {
          "model_module": "@jupyter-widgets/controls",
          "model_module_version": "1.5.0",
          "model_name": "DescriptionStyleModel",
          "state": {
            "_model_module": "@jupyter-widgets/controls",
            "_model_module_version": "1.5.0",
            "_model_name": "DescriptionStyleModel",
            "_view_count": null,
            "_view_module": "@jupyter-widgets/base",
            "_view_module_version": "1.2.0",
            "_view_name": "StyleView",
            "description_width": ""
          }
        },
        "29fe75374abb4fd9bb36a72a7d37b402": {
          "model_module": "@jupyter-widgets/controls",
          "model_module_version": "1.5.0",
          "model_name": "LabelModel",
          "state": {
            "_dom_classes": [],
            "_model_module": "@jupyter-widgets/controls",
            "_model_module_version": "1.5.0",
            "_model_name": "LabelModel",
            "_view_count": null,
            "_view_module": "@jupyter-widgets/controls",
            "_view_module_version": "1.5.0",
            "_view_name": "LabelView",
            "description": "",
            "description_tooltip": null,
            "layout": "IPY_MODEL_ddeac9eacd7140d58a4661afa44a7fd0",
            "placeholder": "​",
            "style": "IPY_MODEL_13c13312acb445d595f9eb8a92f28a9e",
            "value": "Kaggle credentials successfully validated."
          }
        },
        "2d2b01babc4c4a07bdd2d8c841334cb9": {
          "model_module": "@jupyter-widgets/base",
          "model_module_version": "1.2.0",
          "model_name": "LayoutModel",
          "state": {
            "_model_module": "@jupyter-widgets/base",
            "_model_module_version": "1.2.0",
            "_model_name": "LayoutModel",
            "_view_count": null,
            "_view_module": "@jupyter-widgets/base",
            "_view_module_version": "1.2.0",
            "_view_name": "LayoutView",
            "align_content": null,
            "align_items": null,
            "align_self": null,
            "border": null,
            "bottom": null,
            "display": null,
            "flex": null,
            "flex_flow": null,
            "grid_area": null,
            "grid_auto_columns": null,
            "grid_auto_flow": null,
            "grid_auto_rows": null,
            "grid_column": null,
            "grid_gap": null,
            "grid_row": null,
            "grid_template_areas": null,
            "grid_template_columns": null,
            "grid_template_rows": null,
            "height": null,
            "justify_content": null,
            "justify_items": null,
            "left": null,
            "margin": null,
            "max_height": null,
            "max_width": null,
            "min_height": null,
            "min_width": null,
            "object_fit": null,
            "object_position": null,
            "order": null,
            "overflow": null,
            "overflow_x": null,
            "overflow_y": null,
            "padding": null,
            "right": null,
            "top": null,
            "visibility": null,
            "width": null
          }
        },
        "34c44f51b03249958ec5655cd52136b7": {
          "model_module": "@jupyter-widgets/base",
          "model_module_version": "1.2.0",
          "model_name": "LayoutModel",
          "state": {
            "_model_module": "@jupyter-widgets/base",
            "_model_module_version": "1.2.0",
            "_model_name": "LayoutModel",
            "_view_count": null,
            "_view_module": "@jupyter-widgets/base",
            "_view_module_version": "1.2.0",
            "_view_name": "LayoutView",
            "align_content": null,
            "align_items": null,
            "align_self": null,
            "border": null,
            "bottom": null,
            "display": null,
            "flex": null,
            "flex_flow": null,
            "grid_area": null,
            "grid_auto_columns": null,
            "grid_auto_flow": null,
            "grid_auto_rows": null,
            "grid_column": null,
            "grid_gap": null,
            "grid_row": null,
            "grid_template_areas": null,
            "grid_template_columns": null,
            "grid_template_rows": null,
            "height": null,
            "justify_content": null,
            "justify_items": null,
            "left": null,
            "margin": null,
            "max_height": null,
            "max_width": null,
            "min_height": null,
            "min_width": null,
            "object_fit": null,
            "object_position": null,
            "order": null,
            "overflow": null,
            "overflow_x": null,
            "overflow_y": null,
            "padding": null,
            "right": null,
            "top": null,
            "visibility": null,
            "width": null
          }
        },
        "382c560166da441cbb46702f0dd9ba85": {
          "model_module": "@jupyter-widgets/controls",
          "model_module_version": "1.5.0",
          "model_name": "PasswordModel",
          "state": {
            "_dom_classes": [],
            "_model_module": "@jupyter-widgets/controls",
            "_model_module_version": "1.5.0",
            "_model_name": "PasswordModel",
            "_view_count": null,
            "_view_module": "@jupyter-widgets/controls",
            "_view_module_version": "1.5.0",
            "_view_name": "PasswordView",
            "continuous_update": true,
            "description": "Token:",
            "description_tooltip": null,
            "disabled": false,
            "layout": "IPY_MODEL_99211a16a32c4826a4754a19a8f1ecff",
            "placeholder": "​",
            "style": "IPY_MODEL_fa4102cbeaef408a99796001c12bde8f",
            "value": ""
          }
        },
        "662208306ed24327aed296cf6fbc6b9c": {
          "model_module": "@jupyter-widgets/controls",
          "model_module_version": "1.5.0",
          "model_name": "DescriptionStyleModel",
          "state": {
            "_model_module": "@jupyter-widgets/controls",
            "_model_module_version": "1.5.0",
            "_model_name": "DescriptionStyleModel",
            "_view_count": null,
            "_view_module": "@jupyter-widgets/base",
            "_view_module_version": "1.2.0",
            "_view_name": "StyleView",
            "description_width": ""
          }
        },
        "7b78548bb93c4b5084cdc54933467123": {
          "model_module": "@jupyter-widgets/controls",
          "model_module_version": "1.5.0",
          "model_name": "LabelModel",
          "state": {
            "_dom_classes": [],
            "_model_module": "@jupyter-widgets/controls",
            "_model_module_version": "1.5.0",
            "_model_name": "LabelModel",
            "_view_count": null,
            "_view_module": "@jupyter-widgets/controls",
            "_view_module_version": "1.5.0",
            "_view_name": "LabelView",
            "description": "",
            "description_tooltip": null,
            "layout": "IPY_MODEL_2d2b01babc4c4a07bdd2d8c841334cb9",
            "placeholder": "​",
            "style": "IPY_MODEL_0e579a5b4f404e46be6580ad33563f03",
            "value": "Connecting..."
          }
        },
        "8b4e00bbdbf046c893b4f8b9d52dfe43": {
          "model_module": "@jupyter-widgets/base",
          "model_module_version": "1.2.0",
          "model_name": "LayoutModel",
          "state": {
            "_model_module": "@jupyter-widgets/base",
            "_model_module_version": "1.2.0",
            "_model_name": "LayoutModel",
            "_view_count": null,
            "_view_module": "@jupyter-widgets/base",
            "_view_module_version": "1.2.0",
            "_view_name": "LayoutView",
            "align_content": null,
            "align_items": null,
            "align_self": null,
            "border": null,
            "bottom": null,
            "display": null,
            "flex": null,
            "flex_flow": null,
            "grid_area": null,
            "grid_auto_columns": null,
            "grid_auto_flow": null,
            "grid_auto_rows": null,
            "grid_column": null,
            "grid_gap": null,
            "grid_row": null,
            "grid_template_areas": null,
            "grid_template_columns": null,
            "grid_template_rows": null,
            "height": null,
            "justify_content": null,
            "justify_items": null,
            "left": null,
            "margin": null,
            "max_height": null,
            "max_width": null,
            "min_height": null,
            "min_width": null,
            "object_fit": null,
            "object_position": null,
            "order": null,
            "overflow": null,
            "overflow_x": null,
            "overflow_y": null,
            "padding": null,
            "right": null,
            "top": null,
            "visibility": null,
            "width": null
          }
        },
        "8eff405c7d2749ab85e31f156d7fdd95": {
          "model_module": "@jupyter-widgets/controls",
          "model_module_version": "1.5.0",
          "model_name": "ButtonStyleModel",
          "state": {
            "_model_module": "@jupyter-widgets/controls",
            "_model_module_version": "1.5.0",
            "_model_name": "ButtonStyleModel",
            "_view_count": null,
            "_view_module": "@jupyter-widgets/base",
            "_view_module_version": "1.2.0",
            "_view_name": "StyleView",
            "button_color": null,
            "font_weight": ""
          }
        },
        "99211a16a32c4826a4754a19a8f1ecff": {
          "model_module": "@jupyter-widgets/base",
          "model_module_version": "1.2.0",
          "model_name": "LayoutModel",
          "state": {
            "_model_module": "@jupyter-widgets/base",
            "_model_module_version": "1.2.0",
            "_model_name": "LayoutModel",
            "_view_count": null,
            "_view_module": "@jupyter-widgets/base",
            "_view_module_version": "1.2.0",
            "_view_name": "LayoutView",
            "align_content": null,
            "align_items": null,
            "align_self": null,
            "border": null,
            "bottom": null,
            "display": null,
            "flex": null,
            "flex_flow": null,
            "grid_area": null,
            "grid_auto_columns": null,
            "grid_auto_flow": null,
            "grid_auto_rows": null,
            "grid_column": null,
            "grid_gap": null,
            "grid_row": null,
            "grid_template_areas": null,
            "grid_template_columns": null,
            "grid_template_rows": null,
            "height": null,
            "justify_content": null,
            "justify_items": null,
            "left": null,
            "margin": null,
            "max_height": null,
            "max_width": null,
            "min_height": null,
            "min_width": null,
            "object_fit": null,
            "object_position": null,
            "order": null,
            "overflow": null,
            "overflow_x": null,
            "overflow_y": null,
            "padding": null,
            "right": null,
            "top": null,
            "visibility": null,
            "width": null
          }
        },
        "b2edece489ff44ad9b20e13661ea09c4": {
          "model_module": "@jupyter-widgets/base",
          "model_module_version": "1.2.0",
          "model_name": "LayoutModel",
          "state": {
            "_model_module": "@jupyter-widgets/base",
            "_model_module_version": "1.2.0",
            "_model_name": "LayoutModel",
            "_view_count": null,
            "_view_module": "@jupyter-widgets/base",
            "_view_module_version": "1.2.0",
            "_view_name": "LayoutView",
            "align_content": null,
            "align_items": null,
            "align_self": null,
            "border": null,
            "bottom": null,
            "display": null,
            "flex": null,
            "flex_flow": null,
            "grid_area": null,
            "grid_auto_columns": null,
            "grid_auto_flow": null,
            "grid_auto_rows": null,
            "grid_column": null,
            "grid_gap": null,
            "grid_row": null,
            "grid_template_areas": null,
            "grid_template_columns": null,
            "grid_template_rows": null,
            "height": null,
            "justify_content": null,
            "justify_items": null,
            "left": null,
            "margin": null,
            "max_height": null,
            "max_width": null,
            "min_height": null,
            "min_width": null,
            "object_fit": null,
            "object_position": null,
            "order": null,
            "overflow": null,
            "overflow_x": null,
            "overflow_y": null,
            "padding": null,
            "right": null,
            "top": null,
            "visibility": null,
            "width": null
          }
        },
        "b5010def162348309f5528ccbc1638cc": {
          "model_module": "@jupyter-widgets/controls",
          "model_module_version": "1.5.0",
          "model_name": "DescriptionStyleModel",
          "state": {
            "_model_module": "@jupyter-widgets/controls",
            "_model_module_version": "1.5.0",
            "_model_name": "DescriptionStyleModel",
            "_view_count": null,
            "_view_module": "@jupyter-widgets/base",
            "_view_module_version": "1.2.0",
            "_view_name": "StyleView",
            "description_width": ""
          }
        },
        "bf74cefdf6b0418e81b747ad0a5596d5": {
          "model_module": "@jupyter-widgets/controls",
          "model_module_version": "1.5.0",
          "model_name": "HTMLModel",
          "state": {
            "_dom_classes": [],
            "_model_module": "@jupyter-widgets/controls",
            "_model_module_version": "1.5.0",
            "_model_name": "HTMLModel",
            "_view_count": null,
            "_view_module": "@jupyter-widgets/controls",
            "_view_module_version": "1.5.0",
            "_view_name": "HTMLView",
            "description": "",
            "description_tooltip": null,
            "layout": "IPY_MODEL_8b4e00bbdbf046c893b4f8b9d52dfe43",
            "placeholder": "​",
            "style": "IPY_MODEL_662208306ed24327aed296cf6fbc6b9c",
            "value": "\n<b>Thank You</b></center>"
          }
        },
        "d1c27921fa3542149d44f4dd60ee8d9a": {
          "model_module": "@jupyter-widgets/controls",
          "model_module_version": "1.5.0",
          "model_name": "VBoxModel",
          "state": {
            "_dom_classes": [],
            "_model_module": "@jupyter-widgets/controls",
            "_model_module_version": "1.5.0",
            "_model_name": "VBoxModel",
            "_view_count": null,
            "_view_module": "@jupyter-widgets/controls",
            "_view_module_version": "1.5.0",
            "_view_name": "VBoxView",
            "box_style": "",
            "children": [
              "IPY_MODEL_29fe75374abb4fd9bb36a72a7d37b402"
            ],
            "layout": "IPY_MODEL_11aa2d00474747e7a5978371bc4a5ae3"
          }
        },
        "ddeac9eacd7140d58a4661afa44a7fd0": {
          "model_module": "@jupyter-widgets/base",
          "model_module_version": "1.2.0",
          "model_name": "LayoutModel",
          "state": {
            "_model_module": "@jupyter-widgets/base",
            "_model_module_version": "1.2.0",
            "_model_name": "LayoutModel",
            "_view_count": null,
            "_view_module": "@jupyter-widgets/base",
            "_view_module_version": "1.2.0",
            "_view_name": "LayoutView",
            "align_content": null,
            "align_items": null,
            "align_self": null,
            "border": null,
            "bottom": null,
            "display": null,
            "flex": null,
            "flex_flow": null,
            "grid_area": null,
            "grid_auto_columns": null,
            "grid_auto_flow": null,
            "grid_auto_rows": null,
            "grid_column": null,
            "grid_gap": null,
            "grid_row": null,
            "grid_template_areas": null,
            "grid_template_columns": null,
            "grid_template_rows": null,
            "height": null,
            "justify_content": null,
            "justify_items": null,
            "left": null,
            "margin": null,
            "max_height": null,
            "max_width": null,
            "min_height": null,
            "min_width": null,
            "object_fit": null,
            "object_position": null,
            "order": null,
            "overflow": null,
            "overflow_x": null,
            "overflow_y": null,
            "padding": null,
            "right": null,
            "top": null,
            "visibility": null,
            "width": null
          }
        },
        "fa4102cbeaef408a99796001c12bde8f": {
          "model_module": "@jupyter-widgets/controls",
          "model_module_version": "1.5.0",
          "model_name": "DescriptionStyleModel",
          "state": {
            "_model_module": "@jupyter-widgets/controls",
            "_model_module_version": "1.5.0",
            "_model_name": "DescriptionStyleModel",
            "_view_count": null,
            "_view_module": "@jupyter-widgets/base",
            "_view_module_version": "1.2.0",
            "_view_name": "StyleView",
            "description_width": ""
          }
        }
      }
    }
  },
  "nbformat": 4,
  "nbformat_minor": 0
}
